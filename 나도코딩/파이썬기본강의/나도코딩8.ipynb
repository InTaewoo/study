{
  "nbformat": 4,
  "nbformat_minor": 0,
  "metadata": {
    "colab": {
      "name": "나도코딩7.ipynb",
      "provenance": []
    },
    "kernelspec": {
      "name": "python3",
      "display_name": "Python 3"
    },
    "language_info": {
      "name": "python"
    }
  },
  "cells": [
    {
      "cell_type": "code",
      "metadata": {
        "colab": {
          "base_uri": "https://localhost:8080/"
        },
        "id": "5nEscHTT6OAG",
        "outputId": "db2725bb-7f37-4283-d59a-902bce855560"
      },
      "source": [
        "class Unit:      #메소드\n",
        "  def __init__(self,name,hp,damage):\n",
        "    self.name=name\n",
        "    self.hp=hp\n",
        "    self.damage=damage\n",
        "    print('{0}유닛이 생성되었습니다'.format(self.name))\n",
        "    print('체력{0}, 공격력{1}'.format(self.hp,self.damage)) "
      ],
      "execution_count": 1,
      "outputs": [
        {
          "output_type": "stream",
          "text": [
            "마린유닛이 생성되었습니다\n",
            "체력40, 공격력5\n"
          ],
          "name": "stdout"
        }
      ]
    },
    {
      "cell_type": "code",
      "metadata": {
        "colab": {
          "base_uri": "https://localhost:8080/",
          "height": 567
        },
        "id": "lDGC8P5y6PML",
        "outputId": "2a166057-ad29-46fd-88d2-92ebe9467a26"
      },
      "source": [
        "#공격 유닛\n",
        "class AttackUnit:\n",
        "  def __init__(self,name,hp,damage):\n",
        "    self.name=name\n",
        "    self.hp=hp\n",
        "    self.damage=damage\n",
        "    print('{0}유닛이 생성되었습니다'.format(self.name))\n",
        "    print('체력{0}, 공격력{1}'.format(self.hp,self.damage))\n",
        "  \n",
        "  def attack(self,location):\n",
        "    print('{0} : {1}방향으로 적군을 공격합니다. [공격력]:{2}\\\n",
        "    '.format(self.name,location,self.damage))\n",
        "\n",
        "  def damaged(self,damage):\n",
        "    print('{0} : {1} 데미지를 입었습니다.'.format(self.name,damage))\n",
        "    self.hp-=damage\n",
        "    print('{0} : 현재체력은 {1}입니다.'.format(self.name,self.hp))\n",
        "    if self.hp<=0:\n",
        "      print('{0} : 파괴되었습니다'.format(self.name))\n",
        "#메딕\n",
        "\n",
        "#파이어뱃 공격,유닛, 화염방사기\n",
        "firebat1 = AttackUnit('파이엇뱃',50,16)\n",
        "firebat1.attack('5시')\n",
        "#공격을 2번받음\n",
        "firebat1.damaged(25)\n",
        "firebat1.damaged(25)\n",
        "\n",
        "#날수있는 기능을가진 클래시\n",
        "class Flyable:\n",
        "  def __init__(self,flying_speed):\n",
        "    self.flyingspeed=flying_speed\n",
        "\n",
        "  def fly(self,name,location):\n",
        "    print('{0} : {1} 방향으로 날아갑니다. [속도 : {2}]'\\\n",
        "          .format(name,location,flying_speed))\n",
        "  #공중 공격 유닛 class\n",
        "  class FlyableAttackUnit(AttackUnit,Flyable) :\n",
        "    def __init__(self,name,hp,damage,flying_speed):\n",
        "      AttackUnit.__init__(self,name,hp,damage)\n",
        "      Flyable.__init__(self,flying_speed) \n",
        "  #발키리 \n",
        "  valkyrie=FlyableAttackUnit ('발키리',200,6,5)\n",
        "  valkyrie.fly(valkyrie.name,'3시')"
      ],
      "execution_count": 11,
      "outputs": [
        {
          "output_type": "stream",
          "text": [
            "파이엇뱃유닛이 생성되었습니다\n",
            "체력50, 공격력16\n",
            "파이엇뱃 : 5시방향으로 적군을 공격합니다. [공격력]:16    \n",
            "파이엇뱃 : 25 데미지를 입었습니다.\n",
            "파이엇뱃 : 현재체력은 25입니다.\n",
            "파이엇뱃 : 25 데미지를 입었습니다.\n",
            "파이엇뱃 : 현재체력은 0입니다.\n",
            "파이엇뱃 : 파괴되었습니다\n",
            "발키리유닛이 생성되었습니다\n",
            "체력200, 공격력6\n"
          ],
          "name": "stdout"
        },
        {
          "output_type": "error",
          "ename": "NameError",
          "evalue": "ignored",
          "traceback": [
            "\u001b[0;31m---------------------------------------------------------------------------\u001b[0m",
            "\u001b[0;31mNameError\u001b[0m                                 Traceback (most recent call last)",
            "\u001b[0;32m<ipython-input-11-d4c47b4375ee>\u001b[0m in \u001b[0;36m<module>\u001b[0;34m()\u001b[0m\n\u001b[1;32m     27\u001b[0m \u001b[0;34m\u001b[0m\u001b[0m\n\u001b[1;32m     28\u001b[0m \u001b[0;31m#날수있는 기능을가진 클래시\u001b[0m\u001b[0;34m\u001b[0m\u001b[0;34m\u001b[0m\u001b[0;34m\u001b[0m\u001b[0m\n\u001b[0;32m---> 29\u001b[0;31m \u001b[0;32mclass\u001b[0m \u001b[0mFlyable\u001b[0m\u001b[0;34m:\u001b[0m\u001b[0;34m\u001b[0m\u001b[0;34m\u001b[0m\u001b[0m\n\u001b[0m\u001b[1;32m     30\u001b[0m   \u001b[0;32mdef\u001b[0m \u001b[0m__init__\u001b[0m\u001b[0;34m(\u001b[0m\u001b[0mself\u001b[0m\u001b[0;34m,\u001b[0m\u001b[0mflying_speed\u001b[0m\u001b[0;34m)\u001b[0m\u001b[0;34m:\u001b[0m\u001b[0;34m\u001b[0m\u001b[0;34m\u001b[0m\u001b[0m\n\u001b[1;32m     31\u001b[0m     \u001b[0mself\u001b[0m\u001b[0;34m.\u001b[0m\u001b[0mflyingspeed\u001b[0m\u001b[0;34m=\u001b[0m\u001b[0mflying_speed\u001b[0m\u001b[0;34m\u001b[0m\u001b[0;34m\u001b[0m\u001b[0m\n",
            "\u001b[0;32m<ipython-input-11-d4c47b4375ee>\u001b[0m in \u001b[0;36mFlyable\u001b[0;34m()\u001b[0m\n\u001b[1;32m     40\u001b[0m   \u001b[0;31m#발키리\u001b[0m\u001b[0;34m\u001b[0m\u001b[0;34m\u001b[0m\u001b[0;34m\u001b[0m\u001b[0m\n\u001b[1;32m     41\u001b[0m   \u001b[0mvalkyrie\u001b[0m\u001b[0;34m=\u001b[0m\u001b[0mFlyableAttackUnit\u001b[0m \u001b[0;34m(\u001b[0m\u001b[0;34m'발키리'\u001b[0m\u001b[0;34m,\u001b[0m\u001b[0;36m200\u001b[0m\u001b[0;34m,\u001b[0m\u001b[0;36m6\u001b[0m\u001b[0;34m,\u001b[0m\u001b[0;36m5\u001b[0m\u001b[0;34m)\u001b[0m\u001b[0;34m\u001b[0m\u001b[0;34m\u001b[0m\u001b[0m\n\u001b[0;32m---> 42\u001b[0;31m   \u001b[0mvalkyrie\u001b[0m\u001b[0;34m.\u001b[0m\u001b[0mfly\u001b[0m\u001b[0;34m(\u001b[0m\u001b[0mvalkyrie\u001b[0m\u001b[0;34m.\u001b[0m\u001b[0mname\u001b[0m\u001b[0;34m,\u001b[0m\u001b[0;34m'3시'\u001b[0m\u001b[0;34m)\u001b[0m\u001b[0;34m\u001b[0m\u001b[0;34m\u001b[0m\u001b[0m\n\u001b[0m",
            "\u001b[0;32m<ipython-input-7-f759589ea701>\u001b[0m in \u001b[0;36mfly\u001b[0;34m(self, name, location)\u001b[0m\n\u001b[1;32m     32\u001b[0m \u001b[0;34m\u001b[0m\u001b[0m\n\u001b[1;32m     33\u001b[0m   \u001b[0;32mdef\u001b[0m \u001b[0mfly\u001b[0m\u001b[0;34m(\u001b[0m\u001b[0mself\u001b[0m\u001b[0;34m,\u001b[0m\u001b[0mname\u001b[0m\u001b[0;34m,\u001b[0m\u001b[0mlocation\u001b[0m\u001b[0;34m)\u001b[0m\u001b[0;34m:\u001b[0m\u001b[0;34m\u001b[0m\u001b[0;34m\u001b[0m\u001b[0m\n\u001b[0;32m---> 34\u001b[0;31m     \u001b[0mprint\u001b[0m\u001b[0;34m(\u001b[0m\u001b[0;34m'{0} : {1} 방향으로 날아갑니다. [속도 : {2}]'\u001b[0m          \u001b[0;34m.\u001b[0m\u001b[0mformat\u001b[0m\u001b[0;34m(\u001b[0m\u001b[0mname\u001b[0m\u001b[0;34m,\u001b[0m\u001b[0mlocation\u001b[0m\u001b[0;34m,\u001b[0m\u001b[0mflying_speed\u001b[0m\u001b[0;34m)\u001b[0m\u001b[0;34m)\u001b[0m\u001b[0;34m\u001b[0m\u001b[0;34m\u001b[0m\u001b[0m\n\u001b[0m\u001b[1;32m     35\u001b[0m \u001b[0;34m\u001b[0m\u001b[0m\n",
            "\u001b[0;31mNameError\u001b[0m: name 'flying_speed' is not defined"
          ]
        }
      ]
    },
    {
      "cell_type": "code",
      "metadata": {
        "id": "wSNedi6XBGac"
      },
      "source": [
        " "
      ],
      "execution_count": null,
      "outputs": []
    },
    {
      "cell_type": "code",
      "metadata": {
        "id": "KejKwdH2AmHy"
      },
      "source": [
        "#드랍쉽 : 공중유닛, 수송기"
      ],
      "execution_count": null,
      "outputs": []
    }
  ]
}
