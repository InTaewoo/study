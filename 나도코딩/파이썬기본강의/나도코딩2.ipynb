{
  "nbformat": 4,
  "nbformat_minor": 0,
  "metadata": {
    "colab": {
      "name": "나도코딩2.ipynb",
      "provenance": [],
      "collapsed_sections": []
    },
    "kernelspec": {
      "name": "python3",
      "display_name": "Python 3"
    },
    "language_info": {
      "name": "python"
    }
  },
  "cells": [
    {
      "cell_type": "code",
      "metadata": {
        "colab": {
          "base_uri": "https://localhost:8080/"
        },
        "id": "i59xMBHhniaR",
        "outputId": "938a925c-fa66-48f9-a21f-8eb45edfa721"
      },
      "source": [
        "print(abs(-5))\n",
        "print(pow(4,2)) #4^2=16\n",
        "print(max(5,12)) #5와 12중 큰값을 출력\n",
        "print(min(5,12))\n",
        "print(round(3.14)) #반올림\n",
        "print(round(4.99)) \n",
        "\n",
        "from math import *\n",
        "print(floor(4.99)) #내림\n",
        "print(ceil(3.14)) #올림\n",
        "print(sqrt(16))#제곱근\n"
      ],
      "execution_count": 8,
      "outputs": [
        {
          "output_type": "stream",
          "text": [
            "5\n",
            "16.0\n",
            "12\n",
            "5\n",
            "3\n",
            "5\n",
            "4\n",
            "4\n",
            "4.0\n"
          ],
          "name": "stdout"
        }
      ]
    },
    {
      "cell_type": "code",
      "metadata": {
        "colab": {
          "base_uri": "https://localhost:8080/"
        },
        "id": "Dj_BHKVWnmhI",
        "outputId": "53c42ccd-56ac-43f1-9e32-55e4412aefd6"
      },
      "source": [
        "#랜덤함수\n",
        "from random import *\n",
        "print(random()) #0.0~ 1.0 미만의 임의의값을 생성\n",
        "print(random()*10) #0.0 ~ 10.0 미만의 임의의값\n",
        "print(int(random()*10)) #0~10미만의 정수\n",
        "print(randrange(1,46)) #1부터 45까지 임의의값\n",
        "print(randint(1,45))"
      ],
      "execution_count": 20,
      "outputs": [
        {
          "output_type": "stream",
          "text": [
            "0.26701306532923796\n",
            "9.576544500771602\n",
            "0\n",
            "12\n",
            "3\n"
          ],
          "name": "stdout"
        }
      ]
    },
    {
      "cell_type": "code",
      "metadata": {
        "colab": {
          "base_uri": "https://localhost:8080/"
        },
        "id": "QvUTa8HZoJZN",
        "outputId": "cacd580c-a2c2-4ca4-9d73-97e1916dc6c3"
      },
      "source": [
        "from random import *\n",
        "date=randint(4,28)\n",
        "print('오프라인 스터디 모임 날짜는 '+str(date)+'일로 선정되었습니다')"
      ],
      "execution_count": 33,
      "outputs": [
        {
          "output_type": "stream",
          "text": [
            "오프라인 스터디 모임 날짜는 19일로 선정되었습니다\n"
          ], 
          "name": "stdout"
        }
      ]
    },
    {
      "cell_type": "code",
      "metadata": {
        "colab": {
          "base_uri": "https://localhost:8080/"
        },
        "id": "SuGHKftiptnE",
        "outputId": "c6cd794f-e6a6-4a45-b84d-f5ac594f1357"
      },
      "source": [
        "sentence='나는 소년입니다'\n",
        "print(sentence)\n",
        "sentence2=\"파이썬은 쉬워요\"\n",
        "print(sentence2)"
      ],
      "execution_count": 36,
      "outputs": [
        {
          "output_type": "stream",
          "text": [
            "나는 소년입니다\n",
            "파이썬은 쉬워요\n"
          ],
          "name": "stdout"
        }
      ]
    },
    {
      "cell_type": "code",
      "metadata": {
        "colab": {
          "base_uri": "https://localhost:8080/"
        },
        "id": "Oh-fi4luqt7v",
        "outputId": "6421c11c-c3ee-405a-c35d-4dbe1ee9f847"
      },
      "source": [
        "jumin='990120-1234567' #필요한 정보만 가져오기\n",
        "\n",
        "print('성별 : '+jumin[7])\n",
        "print('연 : '+jumin[0:2])\n",
        "print('월 : '+jumin[2:4])\n",
        "print('일 : '+jumin[4:6])\n",
        "print('생년월일 : '+jumin[:6]) #처음부터 6전까지\n",
        "print('뒤7자리 : '+jumin[7:]) #7부터 끝까지\n",
        "\n",
        "\n"
      ],
      "execution_count": 47,
      "outputs": [
        {
          "output_type": "stream",
          "text": [
            "성별 : 1\n",
            "연 : 99\n",
            "월 : 01\n",
            "일 : 20\n",
            "생년월일 : 990120\n",
            "뒤7자리 : 1234567\n"
          ],
          "name": "stdout"
        }
      ]
    },
    {
      "cell_type": "code",
      "metadata": {
        "colab": {
          "base_uri": "https://localhost:8080/",
          "height": 365
        },
        "id": "tfSTFiDyrKEB",
        "outputId": "0fd7f5d4-c291-4800-8c05-08ea6ea967fd"
      },
      "source": [
        "\n",
        "python='Python is Amazing'\n",
        "print(python.lower()) # 소문자\n",
        "print(python.upper()) #대문자\n",
        "print(python[0].isupper()) #[]번째 자리가 대문자인가?\n",
        "print(len(python))\n",
        "print(python.replace(\"Python\",'Java')) #파이썬을 자바로 바꾸기\n",
        "index=python.index('n') #n이 몇번째 위치해있는지\n",
        "print(index)\n",
        "index=python.index('n',index+1) #n이 다음꺼엔 어느위치에 있늦\n",
        "print(index)\n",
        "print(python.find('java')) #없을 경우 -1\n",
        "print(python.index('Java')) #없을경우 오류뜸\n",
        "print(python.count('n')) #n이몇번나오는지\n"
      ],
      "execution_count": 59,
      "outputs": [
        {
          "output_type": "stream",
          "text": [
            "python is amazing\n",
            "PYTHON IS AMAZING\n",
            "True\n",
            "17\n",
            "Java is Amazing\n",
            "5\n",
            "15\n",
            "-1\n"
          ],
          "name": "stdout"
        },
        {
          "output_type": "error",
          "ename": "ValueError",
          "evalue": "ignored",
          "traceback": [
            "\u001b[0;31m---------------------------------------------------------------------------\u001b[0m",
            "\u001b[0;31mValueError\u001b[0m                                Traceback (most recent call last)",
            "\u001b[0;32m<ipython-input-59-82ae266be3ce>\u001b[0m in \u001b[0;36m<module>\u001b[0;34m()\u001b[0m\n\u001b[1;32m     11\u001b[0m \u001b[0mprint\u001b[0m\u001b[0;34m(\u001b[0m\u001b[0mindex\u001b[0m\u001b[0;34m)\u001b[0m\u001b[0;34m\u001b[0m\u001b[0;34m\u001b[0m\u001b[0m\n\u001b[1;32m     12\u001b[0m \u001b[0mprint\u001b[0m\u001b[0;34m(\u001b[0m\u001b[0mpython\u001b[0m\u001b[0;34m.\u001b[0m\u001b[0mfind\u001b[0m\u001b[0;34m(\u001b[0m\u001b[0;34m'java'\u001b[0m\u001b[0;34m)\u001b[0m\u001b[0;34m)\u001b[0m \u001b[0;31m#없을 경우 -1\u001b[0m\u001b[0;34m\u001b[0m\u001b[0;34m\u001b[0m\u001b[0m\n\u001b[0;32m---> 13\u001b[0;31m \u001b[0mprint\u001b[0m\u001b[0;34m(\u001b[0m\u001b[0mpython\u001b[0m\u001b[0;34m.\u001b[0m\u001b[0mindex\u001b[0m\u001b[0;34m(\u001b[0m\u001b[0;34m'Java'\u001b[0m\u001b[0;34m)\u001b[0m\u001b[0;34m)\u001b[0m \u001b[0;31m#없을경우 오류뜸\u001b[0m\u001b[0;34m\u001b[0m\u001b[0;34m\u001b[0m\u001b[0m\n\u001b[0m\u001b[1;32m     14\u001b[0m \u001b[0mprint\u001b[0m\u001b[0;34m(\u001b[0m\u001b[0mpython\u001b[0m\u001b[0;34m.\u001b[0m\u001b[0mcount\u001b[0m\u001b[0;34m(\u001b[0m\u001b[0;34m'n'\u001b[0m\u001b[0;34m)\u001b[0m\u001b[0;34m)\u001b[0m\u001b[0;34m\u001b[0m\u001b[0;34m\u001b[0m\u001b[0m\n",
            "\u001b[0;31mValueError\u001b[0m: substring not found"
          ]
        }
      ]
    },
    {
      "cell_type": "code",
      "metadata": {
        "colab": {
          "base_uri": "https://localhost:8080/"
        },
        "id": "QGq0Cm_kuZBx",
        "outputId": "b26d73ed-784c-41ae-d556-85b8cb798ae8"
      },
      "source": [
        "print('a'+'b')"
      ],
      "execution_count": 60,
      "outputs": [
        {
          "output_type": "stream",
          "text": [
            "ab\n"
          ],
          "name": "stdout"
        }
      ]
    },
    {
      "cell_type": "code",
      "metadata": {
        "colab": {
          "base_uri": "https://localhost:8080/"
        },
        "id": "Fs29v1Mwsjpo",
        "outputId": "4a04b389-a2fd-4be9-fcee-52d0765b4cfe"
      },
      "source": [
        "#방법1\n",
        "print('나는 %d살입니다.'%20) #d는정수\n",
        "print('나는 %s을 좋아해요'%'파이썬') #문자열\n",
        "print('Apple은 %c로 시작해요.'%'A') \n",
        "print('나는 %s살입니다.'%20) #s가만능 써라\n",
        "print('나는 %s색과 %s색을 좋아해요'%('파란','빨간'))\n"
      ],
      "execution_count": 67,
      "outputs": [
        {
          "output_type": "stream",
          "text": [
            "나는 20살입니다.\n",
            "나는 파이썬을 좋아해요\n",
            "Apple은 A로 시작해요.\n",
            "나는 20살입니다.\n",
            "나는 파란색과 빨간색을 좋아해요\n"
          ],
          "name": "stdout"
        }
      ]
    },
    {
      "cell_type": "code",
      "metadata": {
        "colab": {
          "base_uri": "https://localhost:8080/"
        },
        "id": "WC-kHD8ouiE2",
        "outputId": "c0ac0b83-b0f2-46ef-a470-af45a9fdea9d"
      },
      "source": [
        " #방법2 중괄호는 순서에 맞게 출력가능\n",
        " print('나는 {}살 입니다.'.format(20))\n",
        " print('나는 {}색과 {}색을 좋아해요.'.format('파란','빨간'))\n",
        " print('나는 {}색과 {}색을 좋아해요.'.format('파란','빨간'))\n",
        " print('나는 {1}색과 {0}색을 좋아해요.'.format('파란','빨간'))"
      ],
      "execution_count": 71,
      "outputs": [
        {
          "output_type": "stream",
          "text": [
            "나는 20살 입니다.\n",
            "나는 파란색과 빨간색을 좋아해요.\n",
            "나는 파란색과 빨간색을 좋아해요.\n",
            "나는 빨간색과 파란색을 좋아해요.\n"
          ],
          "name": "stdout"
        }
      ]
    },
    {
      "cell_type": "code",
      "metadata": {
        "colab": {
          "base_uri": "https://localhost:8080/"
        },
        "id": "2_K2Btr0vf_K",
        "outputId": "cb16ebd1-c5f6-4bb4-ab9f-7ba9f1b58ed9"
      },
      "source": [
        "#방법3\n",
        "print('나는 {age}살이며, {color}색을 좋아해요'.format(age=20,color='빨간'))\n",
        "print('나는 {age}살이며, {color}색을 좋아해요'.format(color='빨간',age=20))"
      ],
      "execution_count": 73,
      "outputs": [
        {
          "output_type": "stream",
          "text": [
            "나는 20살이며, 빨간색을 좋아해요\n",
            "나는 20살이며, 빨간색을 좋아해요\n"
          ],
          "name": "stdout"
        }
      ]
    },
    {
      "cell_type": "code",
      "metadata": {
        "colab": {
          "base_uri": "https://localhost:8080/"
        },
        "id": "hUXu5sEbwAjG",
        "outputId": "8f921a22-474f-4845-dee1-3969cd511bfe"
      },
      "source": [
        "#방법4 실제 변수의 값을 사용해도 같은결과 출력\n",
        "age=20\n",
        "color='빨간'\n",
        "print(f'나는 {age}살이며, {color}색을 좋아해요')"
      ],
      "execution_count": 74,
      "outputs": [
        {
          "output_type": "stream",
          "text": [
            "나는 20살이며, 빨간색을 좋아해요\n"
          ],
          "name": "stdout"
        }
      ]
    },
    {
      "cell_type": "code",
      "metadata": {
        "id": "W6RnPHpcwdE1"
      },
      "source": [
        ""
      ],
      "execution_count": null,
      "outputs": []
    },
    {
      "cell_type": "code",
      "metadata": {
        "id": "3lMGAphawZeh"
      },
      "source": [
        ""
      ],
      "execution_count": null,
      "outputs": []
    }
  ]
}
