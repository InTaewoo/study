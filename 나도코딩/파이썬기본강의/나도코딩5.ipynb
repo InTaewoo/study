{
  "nbformat": 4,
  "nbformat_minor": 0,
  "metadata": {
    "colab": {
      "name": "나도코딩5.ipynb",
      "provenance": [],
      "collapsed_sections": []
    },
    "kernelspec": {
      "name": "python3",
      "display_name": "Python 3"
    },
    "language_info": {
      "name": "python"
    }
  },
  "cells": [
    {
      "cell_type": "code",
      "metadata": {
        "colab": {
          "base_uri": "https://localhost:8080/"
        },
        "id": "paGPKZtQHznm",
        "outputId": "331b3052-0231-46f4-d8ad-f9255dee6009"
      },
      "source": [
        "#함수\n",
        "def open_account():\n",
        "  print('새로운 계좌가 생성되었습니다')\n",
        "open_account()"
      ],
      "execution_count": 1,
      "outputs": [
        {
          "output_type": "stream",
          "text": [
            "새로운 계좌가 생성되었습니다\n"
          ],
          "name": "stdout"
        }
      ]
    },
    {
      "cell_type": "code",
      "metadata": {
        "colab": {
          "base_uri": "https://localhost:8080/"
        },
        "id": "JRKnCN2VI-Rk",
        "outputId": "ab0eb75e-253c-483c-9e12-63e29f56d25c"
      },
      "source": [
        "def deposit(balance,money): #입금\n",
        "  print('입금이 완료되었습니다.잔액은 {0}원입니다.'.format(balance+money))\n",
        "  return balance + money\n",
        "\n",
        "def withdraw(balance,money):#출금\n",
        "  if balance>=money:\n",
        "    print('출금이 완료되었습니다. 잔액은{0}원 입니다'.format(balance-money))\n",
        "    return balance-money\n",
        "  else:\n",
        "    print('출금이 완료되지 않았습니다. 잔액은{0}원입니다.'.format(balance))\n",
        "    return balance\n",
        "balance=0\n",
        "balance=deposit(balance,1000)\n",
        "balance=withdraw(balance,500)\n"
      ],
      "execution_count": 7,
      "outputs": [
        {
          "output_type": "stream",
          "text": [
            "입금이 완료되었습니다.잔액은 1000원입니다.\n",
            "출금이 완료되었습니다. 잔액은500원 입니다\n"
          ],
          "name": "stdout"
        }
      ]
    },
    {
      "cell_type": "code",
      "metadata": {
        "colab": {
          "base_uri": "https://localhost:8080/"
        },
        "id": "ZbJDTCmLJHfq",
        "outputId": "d1d87316-70c5-41bd-aff0-7ed90bc4efa3"
      },
      "source": [
        "#기본값\n",
        "def profile(name,age,main_lang):\n",
        "  print('이름 : {0}\\t나이:{1}\\t주 사용언어:{2}'\\\n",
        "        .format(name,age,main_lang))\n",
        "profile('유재석',20,'파이썬')\n",
        "profile('김태호',25,'자바')"
      ],
      "execution_count": 12,
      "outputs": [
        {
          "output_type": "stream",
          "text": [
            "이름 : 유재석\t나이:20\t주 사용언어:파이썬\n",
            "이름 : 김태호\t나이:25\t주 사용언어:자바\n"
          ],
          "name": "stdout"
        }
      ]
    },
    {
      "cell_type": "code",
      "metadata": {
        "colab": {
          "base_uri": "https://localhost:8080/"
        },
        "id": "6ViqbWx0XGLv",
        "outputId": "48860d7b-0a69-4916-880e-1dc61ffa5ffc"
      },
      "source": [
        "def profile(name,age=17,main_lang='파이썬'): #기본값\n",
        "  print('이름 : {0}\\t나이:{1}\\t주 사용언어:{2}'\\\n",
        "        .format(name,age,main_lang))\n",
        "profile('유재석')\n",
        "profile('김태호')"
      ],
      "execution_count": 15,
      "outputs": [
        {
          "output_type": "stream",
          "text": [
            "이름 : 유재석\t나이:17\t주 사용언어:파이썬\n",
            "이름 : 김태호\t나이:17\t주 사용언어:파이썬\n"
          ],
          "name": "stdout"
        }
      ]
    },
    {
      "cell_type": "code",
      "metadata": {
        "colab": {
          "base_uri": "https://localhost:8080/"
        },
        "id": "VkBop8igXtmw",
        "outputId": "3c90bf2d-ba99-4246-e851-fa2126fe8218"
      },
      "source": [
        "def profile(name,age,main_lang):\n",
        "  print(name,age,main_lang)\n",
        "profile(name='유재석',main_lang='파이썬',age=20)"
      ],
      "execution_count": 16,
      "outputs": [
        {
          "output_type": "stream",
          "text": [
            "유재석 20 파이썬\n"
          ],
          "name": "stdout"
        }
      ]
    },
    {
      "cell_type": "code",
      "metadata": {
        "colab": {
          "base_uri": "https://localhost:8080/"
        },
        "id": "UcICJpxiYK6N",
        "outputId": "8cc94c0e-8957-497a-912c-2592ee9fa11f"
      },
      "source": [
        "def profile(name,age,lang1,lang2,lang3,lang4,lang5):\n",
        "  print('이름 : {0}\\t 나이 : {1}\\t'.format(name,age),end=\"\")\n",
        "  print(lang1,lang2,lang3,lang4,lang5)\n",
        "profile('유재석',20,'python','java','c','c++','c#')"
      ],
      "execution_count": 19,
      "outputs": [
        {
          "output_type": "stream",
          "text": [
            "이름 : 유재석\t 나이 : 20\tpython java c c++ c#\n"
          ],
          "name": "stdout"
        }
      ]
    },
    {
      "cell_type": "code",
      "metadata": {
        "id": "93VFUIZ3YwSH"
      },
      "source": [
        ""
      ],
      "execution_count": null,
      "outputs": []
    }
  ]
}
