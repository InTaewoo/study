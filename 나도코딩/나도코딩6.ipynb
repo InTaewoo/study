{
  "nbformat": 4,
  "nbformat_minor": 0,
  "metadata": {
    "colab": {
      "name": "나도코딩6.ipynb",
      "provenance": [],
      "collapsed_sections": []
    },
    "kernelspec": {
      "name": "python3",
      "display_name": "Python 3"
    },
    "language_info": {
      "name": "python"
    }
  },
  "cells": [
    {
      "cell_type": "code",
      "metadata": {
        "colab": {
          "base_uri": "https://localhost:8080/"
        },
        "id": "oREw9JJFZYAu",
        "outputId": "2795a922-4eb8-4499-b46d-831ee597f1b7"
      },
      "source": [
        "#지역변수, 전역변수\n",
        "gun = 10\n",
        "def checkpoint(soldiers): #경계근무\n",
        "    global gun #전역공간에 있는 gun을 사용\n",
        "    gun= gun - soldiers\n",
        "    print('[함수 내]남은총 : {0}'.format(gun))\n",
        "\n",
        "\n",
        "print('전체 총 : {0}'.format(gun))\n",
        "checkpoint(2)\n",
        "print('남은 총 : {0}'.format(gun))"
      ],
      "execution_count": 12,
      "outputs": [
        {
          "output_type": "stream",
          "text": [
            "전체 총 : 10\n",
            "[함수 내]남은총 : 8\n",
            "남은 총 : 8\n"
          ],
          "name": "stdout"
        }
      ]
    },
    {
      "cell_type": "code",
      "metadata": {
        "colab": {
          "base_uri": "https://localhost:8080/"
        },
        "id": "CDlpieOzZ7mF",
        "outputId": "8d659ab9-4938-4512-a3ee-8178180152c9"
      },
      "source": [
        "def std_weight(height,gender):#키는 m단위(실수),성별 남자/여자\n",
        "    if gender=='남자': \n",
        "      return height*height*22\n",
        "    else :\n",
        "      return height*height*21\n",
        "height=175 # cm단위\n",
        "gender='남자'\n",
        "weight=round(std_weight(height/100,gender),2)\n",
        "print('키 {0}cm {1}의 표준 체중은 {2}kg 입니다'.format(height,gender,weight))\n"
      ],
      "execution_count": 15,
      "outputs": [
        {
          "output_type": "stream",
          "text": [
            "키 175cm 남자의 표준 체중은 67.38kg 입니다\n"
          ],
          "name": "stdout"
        }
      ]
    },
    {
      "cell_type": "code",
      "metadata": {
        "colab": {
          "base_uri": "https://localhost:8080/"
        },
        "id": "MHR-HpxSc0OH",
        "outputId": "1fc462c5-4a6b-452b-838f-b6d654bcd68c"
      },
      "source": [
        "#표준입출력\n",
        "print('Python','Java','JavaScript',sep=' vs ',end=' ? ') #end= 문자의 끝부분을 ?로 끝내라\n",
        "print('무엇이 더 재밌을까요?')"
      ],
      "execution_count": 28,
      "outputs": [
        {
          "output_type": "stream",
          "text": [
            "Python vs Java vs JavaScript ? 무엇이 더 재밌을까요?\n"
          ],
          "name": "stdout"
        }
      ]
    },
    {
      "cell_type": "code",
      "metadata": {
        "colab": {
          "base_uri": "https://localhost:8080/"
        },
        "id": "gC1yY0nRd0l-",
        "outputId": "1c45330f-3ac9-4bb1-88ce-f9318b82367d"
      },
      "source": [
        "scores={\"수학\":0,\"영어\":50,\"코딩\":100}\n",
        "for subject, score in scores.items():\n",
        "  print(subject.ljust(8),str(score).rjust(4),sep=':') #과목부분은 총8자리를 포함한 왼쪽정렬, 점수부분은 총 4자리를 포함한 오른쪽정렬"
      ],
      "execution_count": 38,
      "outputs": [
        {
          "output_type": "stream",
          "text": [
            "수학      :   0\n",
            "영어      :  50\n",
            "코딩      : 100\n"
          ],
          "name": "stdout"
        }
      ]
    },
    {
      "cell_type": "code",
      "metadata": {
        "colab": {
          "base_uri": "https://localhost:8080/"
        },
        "id": "uNdeX7NDfAiT",
        "outputId": "d81faab7-750c-49c3-9a8c-672111654f55"
      },
      "source": [
        "#은행 대기순번표\n",
        "#001,002,003,..\n",
        "for number in range(1,21):\n",
        "  print('대기번호 : '+str(number).zfill(3)) #3자리로 만드는데 값이 없는곳엔 0을 채운다"
      ],
      "execution_count": 42,
      "outputs": [
        {
          "output_type": "stream",
          "text": [
            "대기번호 : 001\n",
            "대기번호 : 002\n",
            "대기번호 : 003\n",
            "대기번호 : 004\n",
            "대기번호 : 005\n",
            "대기번호 : 006\n",
            "대기번호 : 007\n",
            "대기번호 : 008\n",
            "대기번호 : 009\n",
            "대기번호 : 010\n",
            "대기번호 : 011\n",
            "대기번호 : 012\n",
            "대기번호 : 013\n",
            "대기번호 : 014\n",
            "대기번호 : 015\n",
            "대기번호 : 016\n",
            "대기번호 : 017\n",
            "대기번호 : 018\n",
            "대기번호 : 019\n",
            "대기번호 : 020\n"
          ],
          "name": "stdout"
        }
      ]
    },
    {
      "cell_type": "code",
      "metadata": {
        "colab": {
          "base_uri": "https://localhost:8080/"
        },
        "id": "SzXzx9QXf0Te",
        "outputId": "1f1ec6df-0705-491f-ac76-10cef89df17f"
      },
      "source": [
        "answer=input('아무 값이나 입력하세요 : ')\n",
        "print('입력하신 값은 '+ answer +'입니다.')"
      ],
      "execution_count": 46,
      "outputs": [
        {
          "output_type": "stream",
          "text": [
            "아무 값이나 입력하세요 : 10\n",
            "입력하신 값은 10입니다.\n"
          ],
          "name": "stdout"
        }
      ]
    },
    {
      "cell_type": "code",
      "metadata": {
        "colab": {
          "base_uri": "https://localhost:8080/"
        },
        "id": "KpnoLIQlgIZ_",
        "outputId": "f9618656-e222-4c00-dd80-04781a0d7190"
      },
      "source": [
        "# 빈자리는 빈공간으로 두고 오른쪽 정렬을 하되, 총 10자리 공간을 확보\n",
        "print('{0: >10}'.format(500))\n",
        "#양수일때는 +표시, 음수일땐 - 표시\n",
        "print('{0: >+10}'.format(500))\n",
        "print('{0: >+10}'.format(-500))\n",
        "#왼쪽 정렬 하고, 빈칸으로 _ 채움\n",
        "print('{0:_<+10}'.format(500))\n",
        "#3자리 마다 콤마를 찍어주기\n",
        "print('{0:,}'.format(1000000000))\n",
        "#3자리 마다 콤마를 찍어주고 부호도\n",
        "print('{0:+,}'.format(1000000000))\n",
        "print('{0:-,}'.format(1000000000))\n"
      ],
      "execution_count": 55,
      "outputs": [
        {
          "output_type": "stream",
          "text": [
            "       500\n",
            "      +500\n",
            "      -500\n",
            "+500______\n",
            "1,000,000,000\n",
            "+1,000,000,000\n",
            "1,000,000,000\n"
          ],
          "name": "stdout"
        }
      ]
    },
    {
      "cell_type": "code",
      "metadata": {
        "colab": {
          "base_uri": "https://localhost:8080/"
        },
        "id": "NIetXsN2g1OO",
        "outputId": "df276184-1041-40ee-9a1c-17133711adee"
      },
      "source": [
        "#소수점출력\n",
        "print('{0:f}'.format(5/3))\n",
        "#소수점 특정자리수(소수셋째자리에서 반올림)\n",
        "print('{0:.2f}'.format(5/3))"
      ],
      "execution_count": 57,
      "outputs": [
        {
          "output_type": "stream",
          "text": [
            "1.666667\n",
            "1.67\n"
          ],
          "name": "stdout"
        }
      ]
    },
    {
      "cell_type": "code",
      "metadata": {
        "colab": {
          "base_uri": "https://localhost:8080/",
          "height": 244
        },
        "id": "Sr7q4oD6iYCc",
        "outputId": "ed56489b-3295-49da-80ea-58222db630cf"
      },
      "source": [
        "score_file=open('score.txt','w',econding='utf8')\n",
        "print('수학:0',file=score_file)\n",
        "score_file=open('score.txt','w',econding='utf8')\n",
        "lines=score_file.readlines() #리스트 형태로 저장\n",
        "for line in lines:\n",
        "  print(line,end='')\n",
        "score_file=close()\n"
      ],
      "execution_count": 61,
      "outputs": [
        {
          "output_type": "error",
          "ename": "TypeError",
          "evalue": "ignored",
          "traceback": [
            "\u001b[0;31m---------------------------------------------------------------------------\u001b[0m",
            "\u001b[0;31mTypeError\u001b[0m                                 Traceback (most recent call last)",
            "\u001b[0;32m<ipython-input-61-6eb558d1c797>\u001b[0m in \u001b[0;36m<module>\u001b[0;34m()\u001b[0m\n\u001b[0;32m----> 1\u001b[0;31m \u001b[0mscore_file\u001b[0m\u001b[0;34m=\u001b[0m\u001b[0mopen\u001b[0m\u001b[0;34m(\u001b[0m\u001b[0;34m'score.txt'\u001b[0m\u001b[0;34m,\u001b[0m\u001b[0;34m'w'\u001b[0m\u001b[0;34m,\u001b[0m\u001b[0meconding\u001b[0m\u001b[0;34m=\u001b[0m\u001b[0;34m'utf8'\u001b[0m\u001b[0;34m)\u001b[0m\u001b[0;34m\u001b[0m\u001b[0;34m\u001b[0m\u001b[0m\n\u001b[0m\u001b[1;32m      2\u001b[0m \u001b[0mprint\u001b[0m\u001b[0;34m(\u001b[0m\u001b[0;34m'수학:0'\u001b[0m\u001b[0;34m,\u001b[0m\u001b[0mfile\u001b[0m\u001b[0;34m=\u001b[0m\u001b[0mscore_file\u001b[0m\u001b[0;34m)\u001b[0m\u001b[0;34m\u001b[0m\u001b[0;34m\u001b[0m\u001b[0m\n\u001b[1;32m      3\u001b[0m \u001b[0mscore_file\u001b[0m\u001b[0;34m=\u001b[0m\u001b[0mopen\u001b[0m\u001b[0;34m(\u001b[0m\u001b[0;34m'score.txt'\u001b[0m\u001b[0;34m,\u001b[0m\u001b[0;34m'w'\u001b[0m\u001b[0;34m,\u001b[0m\u001b[0meconding\u001b[0m\u001b[0;34m=\u001b[0m\u001b[0;34m'utf8'\u001b[0m\u001b[0;34m)\u001b[0m\u001b[0;34m\u001b[0m\u001b[0;34m\u001b[0m\u001b[0m\n\u001b[1;32m      4\u001b[0m \u001b[0mlines\u001b[0m\u001b[0;34m=\u001b[0m\u001b[0mscore_file\u001b[0m\u001b[0;34m.\u001b[0m\u001b[0mreadlines\u001b[0m\u001b[0;34m(\u001b[0m\u001b[0;34m)\u001b[0m \u001b[0;31m#리스트 형태로 저장\u001b[0m\u001b[0;34m\u001b[0m\u001b[0;34m\u001b[0m\u001b[0m\n\u001b[1;32m      5\u001b[0m \u001b[0;32mfor\u001b[0m \u001b[0mline\u001b[0m \u001b[0;32min\u001b[0m \u001b[0mlines\u001b[0m\u001b[0;34m:\u001b[0m\u001b[0;34m\u001b[0m\u001b[0;34m\u001b[0m\u001b[0m\n",
            "\u001b[0;31mTypeError\u001b[0m: 'econding' is an invalid keyword argument for open()"
          ]
        }
      ]
    },
    {
      "cell_type": "code",
      "metadata": {
        "id": "-NIsh4BOi2DC"
      },
      "source": [
        ""
      ],
      "execution_count": null,
      "outputs": []
    }
  ]
}
