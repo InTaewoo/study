{
  "nbformat": 4,
  "nbformat_minor": 0,
  "metadata": {
    "colab": {
      "name": "python study.ipynb",
      "provenance": [],
      "authorship_tag": "ABX9TyO/0rZvht7xdtrhbOlxy3MN",
      "include_colab_link": true
    },
    "kernelspec": {
      "name": "python3",
      "display_name": "Python 3"
    },
    "language_info": {
      "name": "python"
    }
  },
  "cells": [
    {
      "cell_type": "markdown",
      "metadata": {
        "id": "view-in-github",
        "colab_type": "text"
      },
      "source": [
        "<a href=\"https://colab.research.google.com/github/InTaewoo/study/blob/main/python_study.ipynb\" target=\"_parent\"><img src=\"https://colab.research.google.com/assets/colab-badge.svg\" alt=\"Open In Colab\"/></a>"
      ]
    },
    {
      "cell_type": "code",
      "metadata": {
        "id": "dzy7jPSPFKQD"
      },
      "source": [
        "if not 2>1 :\n",
        "  print('hello')"
      ],
      "execution_count": 2,
      "outputs": []
    },
    {
      "cell_type": "code",
      "metadata": {
        "id": "wkEU4Bw7FYQi"
      },
      "source": [
        "def chat():\n",
        "  print('엘리스: 안녕? 넌 몇살이니')"
      ],
      "execution_count": 3,
      "outputs": []
    },
    {
      "cell_type": "code",
      "metadata": {
        "colab": {
          "base_uri": "https://localhost:8080/"
        },
        "id": "BVgZNNzDGa-w",
        "outputId": "11dae355-ce35-490e-ca7d-b3bd7eae8e41"
      },
      "source": [
        "chat()"
      ],
      "execution_count": 4,
      "outputs": [
        {
          "output_type": "stream",
          "text": [
            "엘리스: 안녕? 넌 몇살이니\n"
          ],
          "name": "stdout"
        }
      ]
    },
    {
      "cell_type": "code",
      "metadata": {
        "colab": {
          "base_uri": "https://localhost:8080/"
        },
        "id": "5E6I9MjnGb4L",
        "outputId": "20ddd0c2-173a-472c-c26b-dd349c645cad"
      },
      "source": [
        "def dsum(a,b):\n",
        "  result=a+b\n",
        "  return result\n",
        "print(1,2)"
      ],
      "execution_count": 6,
      "outputs": [
        {
          "output_type": "stream",
          "text": [
            "1 2\n"
          ],
          "name": "stdout"
        }
      ]
    },
    {
      "cell_type": "code",
      "metadata": {
        "colab": {
          "base_uri": "https://localhost:8080/"
        },
        "id": "h5hCc4CuJM1m",
        "outputId": "01f0c780-fda7-4f84-d8d5-1ca605d67f8f"
      },
      "source": [
        "def sayhello(name,age):\n",
        "  if age < 18 :\n",
        "    print('안녕')\n",
        "  elif age <= 20 and age>=10:\n",
        "    print('안녕하세요')\n",
        "  else : \n",
        "    print('안녕하십니까')\n",
        "\n",
        "sayhello('인태우',26)"
      ],
      "execution_count": 23,
      "outputs": [
        {
          "output_type": "stream",
          "text": [
            "안녕하십니까\n"
          ],
          "name": "stdout"
        }
      ]
    },
    {
      "cell_type": "code",
      "metadata": {
        "colab": {
          "base_uri": "https://localhost:8080/"
        },
        "id": "-ByGy9blJrDo",
        "outputId": "d1e60679-20ca-43e5-e0b9-f7107d1fefe7"
      },
      "source": [
        "a=int(input('키를 입력하시오 : '))\n",
        "if a > 150 :\n",
        "  print(True)\n",
        "else :\n",
        "  print(False)"
      ],
      "execution_count": 24,
      "outputs": [
        {
          "output_type": "stream",
          "text": [
            "키를 입력하시오 : 150\n",
            "False\n"
          ],
          "name": "stdout"
        }
      ]
    },
    {
      "cell_type": "code",
      "metadata": {
        "colab": {
          "base_uri": "https://localhost:8080/"
        },
        "id": "2CC0zALDTmNS",
        "outputId": "7a2d418b-8f13-43bc-d764-ce70c53234c5"
      },
      "source": [
        "number=int(input('숫자를 입력하시오 : '))\n",
        "if number%3 ==0:\n",
        "  print('짝')\n",
        "else:\n",
        "  print(number)"
      ],
      "execution_count": 26,
      "outputs": [
        {
          "output_type": "stream",
          "text": [
            "숫자를 입력하시오 : 33\n",
            "짝\n"
          ],
          "name": "stdout"
        }
      ]
    },
    {
      "cell_type": "code",
      "metadata": {
        "colab": {
          "base_uri": "https://localhost:8080/"
        },
        "id": "lNQIaZ_rUNhB",
        "outputId": "f2887ee4-f1d4-4e61-da87-34402474fb7a"
      },
      "source": [
        "i= int(input('숫자를 입력하시오 : '))\n",
        "if i % 6==0:\n",
        "  print('True')\n",
        "else : \n",
        "  print('False')"
      ],
      "execution_count": 27,
      "outputs": [
        {
          "output_type": "stream",
          "text": [
            "숫자를 입력하시오 : 8\n",
            "False\n"
          ],
          "name": "stdout"
        }
      ]
    },
    {
      "cell_type": "code",
      "metadata": {
        "colab": {
          "base_uri": "https://localhost:8080/"
        },
        "id": "U2WqKJuBUv7O",
        "outputId": "46e9ed27-de42-4d94-cfc8-c40516bf3001"
      },
      "source": [
        "a=[2,4,1,9,100,29,40,10]\n",
        "sorted(a)"
      ],
      "execution_count": 28,
      "outputs": [
        {
          "output_type": "execute_result",
          "data": {
            "text/plain": [
              "[1, 2, 4, 9, 10, 29, 40, 100]"
            ]
          },
          "metadata": {
            "tags": []
          },
          "execution_count": 28
        }
      ]
    },
    {
      "cell_type": "code",
      "metadata": {
        "colab": {
          "base_uri": "https://localhost:8080/"
        },
        "id": "T_KbCaxrV9lo",
        "outputId": "e8de9877-65c5-436c-f94a-4da4c159c076"
      },
      "source": [
        "sorted(a,reverse=True)"
      ],
      "execution_count": 29,
      "outputs": [
        {
          "output_type": "execute_result",
          "data": {
            "text/plain": [
              "[100, 40, 29, 10, 9, 4, 2, 1]"
            ]
          },
          "metadata": {
            "tags": []
          },
          "execution_count": 29
        }
      ]
    },
    {
      "cell_type": "code",
      "metadata": {
        "id": "TffBqWp-WL4Q"
      },
      "source": [
        "d = dict()\n",
        "d['a'] = 66\n",
        "d['i'] = 20\n",
        "d['e'] = 30\n",
        "d['d'] = 33\n",
        "d['f'] = 50\n",
        "d['g'] = 60\n",
        "d['c'] = 22\n",
        "d['h'] = 80\n",
        "d['b'] = 11"
      ],
      "execution_count": 30,
      "outputs": []
    },
    {
      "cell_type": "code",
      "metadata": {
        "colab": {
          "base_uri": "https://localhost:8080/"
        },
        "id": "ZbGlBsTYWSXe",
        "outputId": "ac0c5d93-fdac-4fc8-e477-5c592456e81d"
      },
      "source": [
        "print(d.values())"
      ],
      "execution_count": 37,
      "outputs": [
        {
          "output_type": "stream",
          "text": [
            "dict_values([66, 20, 30, 33, 50, 60, 22, 80, 11])\n"
          ],
          "name": "stdout"
        }
      ]
    },
    {
      "cell_type": "code",
      "metadata": {
        "colab": {
          "base_uri": "https://localhost:8080/"
        },
        "id": "pyUBHwwjWTJp",
        "outputId": "8858e3fe-0226-4f89-c282-7d07e4950015"
      },
      "source": [
        "d = {'blockdmask': 400, 'equal': 300, 'apple': 200, 'dish': 100, 'cook': 500}\n",
        "print(d.keys())\n",
        "g=sorted(d.items(),key=lambda x : x[1])\n",
        "print(g)"
      ],
      "execution_count": 46,
      "outputs": [
        {
          "output_type": "stream",
          "text": [
            "dict_keys(['blockdmask', 'equal', 'apple', 'dish', 'cook'])\n",
            "[('dish', 100), ('apple', 200), ('equal', 300), ('blockdmask', 400), ('cook', 500)]\n"
          ],
          "name": "stdout"
        }
      ]
    },
    {
      "cell_type": "code",
      "metadata": {
        "colab": {
          "base_uri": "https://localhost:8080/"
        },
        "id": "QBalG-QdXlGN",
        "outputId": "1e0c255c-ab1c-4a19-fb24-eeba4a4d15f8"
      },
      "source": [
        "a = [[], (), \"\", \" \", \"BlockDMask\", {}, 1, 0, True, False]\n",
        "for i in a:\n",
        "  if i == True:\n",
        "    print('{0} 가 Ture 입니다.'.format(i))\n",
        "  else :\n",
        "    print('{0} 가 False 입니다.'.format(i))\n",
        "    "
      ],
      "execution_count": 47,
      "outputs": [
        {
          "output_type": "stream",
          "text": [
            "[] 가 False 입니다.\n",
            "() 가 False 입니다.\n",
            " 가 False 입니다.\n",
            "  가 False 입니다.\n",
            "BlockDMask 가 False 입니다.\n",
            "{} 가 False 입니다.\n",
            "1 가 Ture 입니다.\n",
            "0 가 False 입니다.\n",
            "True 가 Ture 입니다.\n",
            "False 가 False 입니다.\n"
          ],
          "name": "stdout"
        }
      ]
    },
    {
      "cell_type": "code",
      "metadata": {
        "colab": {
          "base_uri": "https://localhost:8080/"
        },
        "id": "uR6O6ll8boT5",
        "outputId": "93b96aff-426f-425f-d547-b47682b37b3c"
      },
      "source": [
        "#split 문자열 쪼개기\n",
        "s = \"a b c d e f g\"\n",
        "print(s.split(sep=' '))\n",
        "print(s.split(' '))\n",
        "print(s.split())"
      ],
      "execution_count": 59,
      "outputs": [
        {
          "output_type": "stream",
          "text": [
            "['a', 'b', 'c', 'd', 'e', 'f', 'g']\n",
            "['a', 'b', 'c', 'd', 'e', 'f', 'g']\n",
            "['a', 'b', 'c', 'd', 'e', 'f', 'g']\n"
          ],
          "name": "stdout"
        }
      ]
    },
    {
      "cell_type": "code",
      "metadata": {
        "colab": {
          "base_uri": "https://localhost:8080/"
        },
        "id": "FOYMW4ttcsDv",
        "outputId": "573e33a5-266e-43d0-a24e-a260618beb0a"
      },
      "source": [
        "b= \"aa.bb.cc.BlockDMask.ee.ff.gg.python.example\"\n",
        "print(b.split('.'))\n",
        "print(b.split(sep='.'))"
      ],
      "execution_count": 68,
      "outputs": [
        {
          "output_type": "stream",
          "text": [
            "['aa', 'bb', 'cc', 'BlockDMask', 'ee', 'ff', 'gg', 'python', 'example']\n",
            "['aa', 'bb', 'cc', 'BlockDMask', 'ee', 'ff', 'gg', 'python', 'example']\n"
          ],
          "name": "stdout"
        }
      ]
    },
    {
      "cell_type": "code",
      "metadata": {
        "colab": {
          "base_uri": "https://localhost:8080/"
        },
        "id": "DOBT4pmVeIlo",
        "outputId": "08deae11-4711-4284-938d-618ed07735e7"
      },
      "source": [
        "#join 문자열 합치기\n",
        "a = ['a', 'b', 'c', 'd', '1', '2', '3']\n",
        "print('-'.join(a))\n",
        "b = ['BlockDMask', 'python', 'join', 'example']\n",
        "print(' - '.join(b))\n",
        "print('\\n'.join(b))\n"
      ],
      "execution_count": 77,
      "outputs": [
        {
          "output_type": "stream",
          "text": [
            "a-b-c-d-1-2-3\n",
            "BlockDMask - python - join - example\n",
            "BlockDMask\n",
            "python\n",
            "join\n",
            "example\n"
          ],
          "name": "stdout"
        }
      ]
    },
    {
      "cell_type": "code",
      "metadata": {
        "colab": {
          "base_uri": "https://localhost:8080/"
        },
        "id": "gYD7_wojfBI3",
        "outputId": "07c2faef-bea1-4ba2-fb46-681aed0a4e99"
      },
      "source": [
        "print('Block Mask',end='\\n\\n')\n",
        "print('python',end='\\n\\n')"
      ],
      "execution_count": 93,
      "outputs": [
        {
          "output_type": "stream",
          "text": [
            "Block Mask\n",
            "\n",
            "python\n",
            "\n"
          ],
          "name": "stdout"
        }
      ]
    },
    {
      "cell_type": "code",
      "metadata": {
        "colab": {
          "base_uri": "https://localhost:8080/"
        },
        "id": "C1dxH7fWgmjT",
        "outputId": "6b4a7c19-e086-4dcb-f1db-e396e5e2d2f1"
      },
      "source": [
        "print(\"a\", \"b\", \"c\", \"d\")\n",
        "print(\"a\", \"b\", \"c\", \"d\", sep=\"*\")\n",
        "print(\"a\", \"b\", \"c\", \"d\", sep=\"_\")\n",
        "print(\"a\", \"b\", \"c\", \"d\", sep=\"____\")"
      ],
      "execution_count": 94,
      "outputs": [
        {
          "output_type": "stream",
          "text": [
            "a b c d\n",
            "a*b*c*d\n",
            "a_b_c_d\n",
            "a____b____c____d\n"
          ],
          "name": "stdout"
        }
      ]
    },
    {
      "cell_type": "code",
      "metadata": {
        "colab": {
          "base_uri": "https://localhost:8080/"
        },
        "id": "Esx0bakuhrRN",
        "outputId": "bc841bd4-d876-49c9-808c-21955be612c3"
      },
      "source": [
        "i=0\n",
        "result=0\n",
        "while i < 5:\n",
        "  a=input('성적 입력 : ')\n",
        "  result=result+int(a)\n",
        "  i+=1\n",
        "print(f'평균 : {result/5}')"
      ],
      "execution_count": 97,
      "outputs": [
        {
          "output_type": "stream",
          "text": [
            "성적 입력 : 10\n",
            "성적 입력 : 30\n",
            "성적 입력 : 50\n",
            "성적 입력 : 70\n",
            "성적 입력 : 100\n",
            "평균 : 52.0\n"
          ],
          "name": "stdout"
        }
      ]
    },
    {
      "cell_type": "code",
      "metadata": {
        "colab": {
          "base_uri": "https://localhost:8080/"
        },
        "id": "dJ8dhHu8q8Md",
        "outputId": "584b46a8-78b4-41b8-d36c-dbb33322eab8"
      },
      "source": [
        "s = \"blockdmask\"\n",
        " \n",
        "r1 = s.count('k')\n",
        "print(f\"s.count('k') : {r1}\")\n",
        " \n",
        "r2 = s.count('z')\n",
        "print(f\"s.count('z') : {r2}\")\n",
        " \n",
        "# s[6]은 'm' 입니다.\n",
        "r3 = s.count('k', 6)\n",
        "print(f\"s.count('k', 6) : {r3}\")\n",
        " \n",
        "# s[3]은 'c' 입니다.\n",
        "r4 = s.count('k', 3, 6)\n",
        "print(f\"s.count('k', 3, 6) : {r4}\")"
      ],
      "execution_count": 103,
      "outputs": [
        {
          "output_type": "stream",
          "text": [
            "s.count('k') : 2\n",
            "s.count('z') : 0\n",
            "s.count('k', 6) : 1\n",
            "s.count('k', 3, 6) : 1\n"
          ],
          "name": "stdout"
        }
      ]
    },
    {
      "cell_type": "code",
      "metadata": {
        "colab": {
          "base_uri": "https://localhost:8080/"
        },
        "id": "5wJio7VIsLfu",
        "outputId": "0aab393f-c666-48bf-ec4c-8f1553678329"
      },
      "source": [
        "a = 'blockmask'\n",
        "r1=s.find('k',6)\n",
        "print(r1)\n",
        "\n",
        "print(a.upper())\n"
      ],
      "execution_count": 108,
      "outputs": [
        {
          "output_type": "stream",
          "text": [
            "9\n",
            "BLOCKMASK\n",
            "Blockmask\n",
            "Blockmask\n"
          ],
          "name": "stdout"
        }
      ]
    },
    {
      "cell_type": "code",
      "metadata": {
        "colab": {
          "base_uri": "https://localhost:8080/"
        },
        "id": "ScAVltQvuEv0",
        "outputId": "191ada87-9109-4389-a877-45f8c75343da"
      },
      "source": [
        "aa=\"abc de\"\n",
        "print(aa.capitalize()) #첫글자만 대문자 띄어쓰기는 소문자\n",
        "print(aa.title()) # 각 단어의 앞문자를 대문자"
      ],
      "execution_count": 111,
      "outputs": [
        {
          "output_type": "stream",
          "text": [
            "Abc de\n",
            "Abc De\n"
          ],
          "name": "stdout"
        }
      ]
    },
    {
      "cell_type": "code",
      "metadata": {
        "id": "OICNCepZu8ty"
      },
      "source": [
        ""
      ],
      "execution_count": null,
      "outputs": []
    }
  ]
}