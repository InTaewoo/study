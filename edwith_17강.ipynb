{
  "nbformat": 4,
  "nbformat_minor": 0,
  "metadata": {
    "colab": {
      "name": "edwith_17강.ipynb",
      "provenance": [],
      "authorship_tag": "ABX9TyMSIX1e5a8Q4YzkelVYv7Va",
      "include_colab_link": true
    },
    "kernelspec": {
      "name": "python3",
      "display_name": "Python 3"
    },
    "language_info": {
      "name": "python"
    }
  },
  "cells": [
    {
      "cell_type": "markdown",
      "metadata": {
        "id": "view-in-github",
        "colab_type": "text"
      },
      "source": [
        "<a href=\"https://colab.research.google.com/github/InTaewoo/study/blob/main/edwith_17%EA%B0%95.ipynb\" target=\"_parent\"><img src=\"https://colab.research.google.com/assets/colab-badge.svg\" alt=\"Open In Colab\"/></a>"
      ]
    },
    {
      "cell_type": "code",
      "metadata": {
        "colab": {
          "base_uri": "https://localhost:8080/"
        },
        "id": "Wx6p_Hq12tIY",
        "outputId": "35c6697e-7794-4c77-e4ce-944cab077220"
      },
      "source": [
        "# 실습 1\n",
        "\n",
        "def week_salary(hour,pay):\n",
        "  total_pay=hour*pay\n",
        "  if hour > 12 :\n",
        "    additional_pay=(hour-12)*pay*0.3\n",
        "    total_pay+=additional_pay\n",
        "  return total_pay\n",
        "#main\n",
        "working_hour=int(input('근무시간을 입력하시오.:'))\n",
        "pay_per_hour=int(input('시간당 수당을 입력하시오.'))\n",
        "answer=week_salary(working_hour,pay_per_hour)\n",
        "\n",
        "print()\n",
        "print('총 급여는',int(answer),'원입니다.')"
      ],
      "execution_count": null,
      "outputs": [
        {
          "output_type": "stream",
          "text": [
            "근무시간을 입력하시오.:15\n",
            "시간당 수당을 입력하시오.45000\n",
            "\n",
            "총 급여는 715500 원입니다.\n"
          ],
          "name": "stdout"
        }
      ]
    },
    {
      "cell_type": "code",
      "metadata": {
        "colab": {
          "base_uri": "https://localhost:8080/"
        },
        "id": "u5KlqpSj4dWH",
        "outputId": "11748e0e-e707-40a9-a405-43d5eedf28ea"
      },
      "source": [
        "# 실습2\n",
        "\n",
        "def CtoF(temp):\n",
        "  result=temp*9/5+32\n",
        "  return result\n",
        "#main\n",
        "start_temp=int(input('시작 온도를 입력하시오.:'))\n",
        "end_temp=int(input('끝 온도를 입력하시오.'))\n",
        "print()\n",
        "for i in range(start_temp,end_temp+1):\n",
        "  r=CtoF(i)\n",
        "  print('섭씨 %.2f도는 화씨 %.2f도입니다'%(i,r))"
      ],
      "execution_count": null,
      "outputs": [
        {
          "output_type": "stream",
          "text": [
            "시작 온도를 입력하시오.:10\n",
            "끝 온도를 입력하시오.20\n",
            "\n",
            "섭씨 10.00도는 화씨 50.00도입니다\n",
            "섭씨 11.00도는 화씨 51.80도입니다\n",
            "섭씨 12.00도는 화씨 53.60도입니다\n",
            "섭씨 13.00도는 화씨 55.40도입니다\n",
            "섭씨 14.00도는 화씨 57.20도입니다\n",
            "섭씨 15.00도는 화씨 59.00도입니다\n",
            "섭씨 16.00도는 화씨 60.80도입니다\n",
            "섭씨 17.00도는 화씨 62.60도입니다\n",
            "섭씨 18.00도는 화씨 64.40도입니다\n",
            "섭씨 19.00도는 화씨 66.20도입니다\n",
            "섭씨 20.00도는 화씨 68.00도입니다\n"
          ],
          "name": "stdout"
        }
      ]
    },
    {
      "cell_type": "code",
      "metadata": {
        "colab": {
          "base_uri": "https://localhost:8080/",
          "height": 478
        },
        "id": "QjKLFVL96N7q",
        "outputId": "9e26e6e3-63fc-4c4f-9af4-b335e6c290d1"
      },
      "source": [
        "#실습 3\n",
        "import random\n",
        "number=random.randint(1,100) #1부터 100까지 자동으로 한개 선택\n",
        "guess = int(input('숫자를 맞춰보세요(1~100):'))\n",
        "count=1\n",
        "while number != guess :\n",
        "  if number < guess:\n",
        "    print('더 작운 수를 입력하세요')\n",
        "  else :\n",
        "    print('더 큰수를 입력하세요')\n",
        "  guess=int(input('숫자를 맞춰보세요(1~100) :'))\n",
        "  count+=1\n",
        "print('빙고~~',count,'번 만에 맞췄습니다. 입력한 숫자는',number,'입니다')\n",
        "input('프로그램을 마치시려면 엔터를 누르세요')"
      ],
      "execution_count": null,
      "outputs": [
        {
          "output_type": "stream",
          "text": [
            "숫자를 맞춰보세요(1~100):50\n",
            "더 작운 수를 입력하세요\n",
            "숫자를 맞춰보세요(1~100) :75\n",
            "더 작운 수를 입력하세요\n",
            "숫자를 맞춰보세요(1~100) :87\n",
            "더 작운 수를 입력하세요\n",
            "숫자를 맞춰보세요(1~100) :80\n",
            "더 작운 수를 입력하세요\n",
            "숫자를 맞춰보세요(1~100) :77\n",
            "더 작운 수를 입력하세요\n",
            "숫자를 맞춰보세요(1~100) :78\n",
            "더 작운 수를 입력하세요\n",
            "숫자를 맞춰보세요(1~100) :70\n",
            "더 작운 수를 입력하세요\n",
            "숫자를 맞춰보세요(1~100) :25\n",
            "더 작운 수를 입력하세요\n",
            "숫자를 맞춰보세요(1~100) :10\n",
            "더 작운 수를 입력하세요\n",
            "숫자를 맞춰보세요(1~100) :5\n",
            "더 작운 수를 입력하세요\n",
            "숫자를 맞춰보세요(1~100) :1\n",
            "더 큰수를 입력하세요\n",
            "숫자를 맞춰보세요(1~100) :2\n",
            "빙고~~ 12 번 만에 맞췄습니다. 입력한 숫자는 2 입니다\n",
            "프로그램을 마치시려면 엔터를 누르세요\n"
          ],
          "name": "stdout"
        },
        {
          "output_type": "execute_result",
          "data": {
            "application/vnd.google.colaboratory.intrinsic+json": {
              "type": "string"
            },
            "text/plain": [
              "''"
            ]
          },
          "metadata": {
            "tags": []
          },
          "execution_count": 10
        }
      ]
    },
    {
      "cell_type": "code",
      "metadata": {
        "id": "JkMjEzhP_Kmy"
      },
      "source": [
        ""
      ],
      "execution_count": null,
      "outputs": []
    }
  ]
}