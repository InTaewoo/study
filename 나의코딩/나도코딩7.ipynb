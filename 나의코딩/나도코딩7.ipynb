{
  "nbformat": 4,
  "nbformat_minor": 0,
  "metadata": {
    "colab": {
      "name": "나도코딩7.ipynb",
      "provenance": [],
      "collapsed_sections": []
    },
    "kernelspec": {
      "name": "python3",
      "display_name": "Python 3"
    },
    "language_info": {
      "name": "python"
    }
  },
  "cells": [
    {
      "cell_type": "code",
      "metadata": {
        "colab": {
          "base_uri": "https://localhost:8080/",
          "height": 223
        },
        "id": "6Sv-syPEBVy0",
        "outputId": "67d9f3a2-2f2a-470b-bb7f-23b2b79828db"
      },
      "source": [
        "import pickle\n",
        "profile_file=open('profile.pickle','w','wb')\n",
        "profile={'이름':'박명수','나이':30,'취미':['축구','골프','코딩']}\n",
        "print(profile)"
      ],
      "execution_count": 2,
      "outputs": [
        {
          "output_type": "error",
          "ename": "TypeError",
          "evalue": "ignored",
          "traceback": [
            "\u001b[0;31m---------------------------------------------------------------------------\u001b[0m",
            "\u001b[0;31mTypeError\u001b[0m                                 Traceback (most recent call last)",
            "\u001b[0;32m<ipython-input-2-cbb623fc8a6a>\u001b[0m in \u001b[0;36m<module>\u001b[0;34m()\u001b[0m\n\u001b[1;32m      1\u001b[0m \u001b[0;32mimport\u001b[0m \u001b[0mpickle\u001b[0m\u001b[0;34m\u001b[0m\u001b[0;34m\u001b[0m\u001b[0m\n\u001b[0;32m----> 2\u001b[0;31m \u001b[0mprofile_file\u001b[0m\u001b[0;34m=\u001b[0m\u001b[0mopen\u001b[0m\u001b[0;34m(\u001b[0m\u001b[0;34m'profile.pickle'\u001b[0m\u001b[0;34m,\u001b[0m\u001b[0;34m'w'\u001b[0m\u001b[0;34m,\u001b[0m\u001b[0;34m'wb'\u001b[0m\u001b[0;34m)\u001b[0m\u001b[0;34m\u001b[0m\u001b[0;34m\u001b[0m\u001b[0m\n\u001b[0m\u001b[1;32m      3\u001b[0m \u001b[0mprofile\u001b[0m\u001b[0;34m=\u001b[0m\u001b[0;34m{\u001b[0m\u001b[0;34m'이름'\u001b[0m\u001b[0;34m:\u001b[0m\u001b[0;34m'박명수'\u001b[0m\u001b[0;34m,\u001b[0m\u001b[0;34m'나이'\u001b[0m\u001b[0;34m:\u001b[0m\u001b[0;36m30\u001b[0m\u001b[0;34m,\u001b[0m\u001b[0;34m'취미'\u001b[0m\u001b[0;34m:\u001b[0m\u001b[0;34m[\u001b[0m\u001b[0;34m'축구'\u001b[0m\u001b[0;34m,\u001b[0m\u001b[0;34m'골프'\u001b[0m\u001b[0;34m,\u001b[0m\u001b[0;34m'코딩'\u001b[0m\u001b[0;34m]\u001b[0m\u001b[0;34m}\u001b[0m\u001b[0;34m\u001b[0m\u001b[0;34m\u001b[0m\u001b[0m\n\u001b[1;32m      4\u001b[0m \u001b[0mprint\u001b[0m\u001b[0;34m(\u001b[0m\u001b[0mprofile\u001b[0m\u001b[0;34m)\u001b[0m\u001b[0;34m\u001b[0m\u001b[0;34m\u001b[0m\u001b[0m\n",
            "\u001b[0;31mTypeError\u001b[0m: an integer is required (got type str)"
          ]
        }
      ]
    },
    {
      "cell_type": "code",
      "metadata": {
        "colab": {
          "base_uri": "https://localhost:8080/",
          "height": 223
        },
        "id": "4dwMSNmZBjom",
        "outputId": "8d7a93ee-2b8d-4b2a-de30-44daaba92011"
      },
      "source": [
        "#with\n",
        "import pickle\n",
        "with open('profile.pickle','rb') as profile_file:\n",
        "  print(pickle.load(profile_file))"
      ],
      "execution_count": 4,
      "outputs": [
        {
          "output_type": "error",
          "ename": "FileNotFoundError",
          "evalue": "ignored",
          "traceback": [
            "\u001b[0;31m---------------------------------------------------------------------------\u001b[0m",
            "\u001b[0;31mFileNotFoundError\u001b[0m                         Traceback (most recent call last)",
            "\u001b[0;32m<ipython-input-4-006c13765223>\u001b[0m in \u001b[0;36m<module>\u001b[0;34m()\u001b[0m\n\u001b[1;32m      1\u001b[0m \u001b[0;31m#with\u001b[0m\u001b[0;34m\u001b[0m\u001b[0;34m\u001b[0m\u001b[0;34m\u001b[0m\u001b[0m\n\u001b[1;32m      2\u001b[0m \u001b[0;32mimport\u001b[0m \u001b[0mpickle\u001b[0m\u001b[0;34m\u001b[0m\u001b[0;34m\u001b[0m\u001b[0m\n\u001b[0;32m----> 3\u001b[0;31m \u001b[0;32mwith\u001b[0m \u001b[0mopen\u001b[0m\u001b[0;34m(\u001b[0m\u001b[0;34m'profile.pickle'\u001b[0m\u001b[0;34m,\u001b[0m\u001b[0;34m'rb'\u001b[0m\u001b[0;34m)\u001b[0m \u001b[0;32mas\u001b[0m \u001b[0mprofile_file\u001b[0m\u001b[0;34m:\u001b[0m\u001b[0;34m\u001b[0m\u001b[0;34m\u001b[0m\u001b[0m\n\u001b[0m\u001b[1;32m      4\u001b[0m   \u001b[0mprint\u001b[0m\u001b[0;34m(\u001b[0m\u001b[0mpickle\u001b[0m\u001b[0;34m.\u001b[0m\u001b[0mload\u001b[0m\u001b[0;34m(\u001b[0m\u001b[0mprofile_file\u001b[0m\u001b[0;34m)\u001b[0m\u001b[0;34m)\u001b[0m\u001b[0;34m\u001b[0m\u001b[0;34m\u001b[0m\u001b[0m\n",
            "\u001b[0;31mFileNotFoundError\u001b[0m: [Errno 2] No such file or directory: 'profile.pickle'"
          ]
        }
      ]
    },
    {
      "cell_type": "code",
      "metadata": {
        "id": "nLXNnUMwCfbW"
      },
      "source": [
        "#보고서 만드는 프로그램\n",
        "for i in range(1,51):\n",
        "  with open(str(1) + '주차.txt','w',encoding='utf8')as report_file:\n",
        "    report_file.write('-{0} 주차 주간보고-'.format(i))\n",
        "    report_file.write('\\n부서 :')\n",
        "    report_file.write('\\n이름 :')\n",
        "    report_file.write('\\n업무 요약 : ')"
      ],
      "execution_count": 7,
      "outputs": []
    },
    {
      "cell_type": "code",
      "metadata": {
        "colab": {
          "base_uri": "https://localhost:8080/"
        },
        "id": "OLqL0cojDtbS",
        "outputId": "9690e2e1-122a-45d5-87bf-052e2a9b9366"
      },
      "source": [
        "#class 하나의 틀에 찍어냄\n",
        "#마린 \n",
        "name='마린'\n",
        "hp=40\n",
        "damage=5\n",
        "print('{0}유닛이 생성되었습니다'.format(name))\n",
        "print('체력은{0}, 공격력{1}'.format(hp,damage))\n",
        "print()\n",
        "tank_name='탱크'\n",
        "tank_hp =150\n",
        "tank_damage=35\n",
        "print('{0}유닛이 생성되었습니다'.format(tank_name))\n",
        "print('체력은{0}, 공격력{1}'.format(tank_hp,tank_damage))\n",
        "print()\n",
        "def attack(name,location,damage):\n",
        "  print('{0} : {1} 방향으로 적군을 공격합니다. 공격력{2}'.format(\\\n",
        "    name,location,damage))\n",
        "  \n",
        "attack(name,'1시',damage)\n",
        "attack(tank_name,'1시',damage)"
      ],
      "execution_count": 21,
      "outputs": [
        {
          "output_type": "stream",
          "text": [
            "마린유닛이 생성되었습니다\n",
            "체력은40, 공격력5\n",
            "\n",
            "탱크유닛이 생성되었습니다\n",
            "체력은150, 공격력35\n",
            "\n",
            "마린 : 1시 방향으로 적군을 공격합니다. 공격력5\n",
            "탱크 : 1시 방향으로 적군을 공격합니다. 공격력5\n"
          ],
          "name": "stdout"
        }
      ]
    },
    {
      "cell_type": "code",
      "metadata": {
        "colab": {
          "base_uri": "https://localhost:8080/"
        },
        "id": "jLlu6M0-Ey21",
        "outputId": "5ec238f6-abc5-4ada-fef5-2c75032d3155"
      },
      "source": [
        "class Unit:\n",
        "  def __init__(self,name,hp,damage):\n",
        "    self.name=name\n",
        "    self.hp=hp\n",
        "    self.damage=damage\n",
        "    print('{0}유닛이 생성되었습니다'.format(self.name))\n",
        "    print('체력{0}, 공격력{1}'.format(self.hp,self.damage))\n",
        "marin1=Unit('마린',40,5)\n",
        "marin2=Unit('마린',40,5)\n",
        "tank=Unit('탱크',150,35)"
      ],
      "execution_count": 24,
      "outputs": [
        {
          "output_type": "stream",
          "text": [
            "마린유닛이 생성되었습니다\n",
            "체력40, 공격력5\n",
            "마린유닛이 생성되었습니다\n",
            "체력40, 공격력5\n",
            "탱크유닛이 생성되었습니다\n",
            "체력150, 공격력35\n"
          ],
          "name": "stdout"
        }
      ]
    },
    {
      "cell_type": "code",
      "metadata": {
        "id": "HgDPfnKrHBlF"
      },
      "source": [
        ""
      ],
      "execution_count": null,
      "outputs": []
    }
  ]
}