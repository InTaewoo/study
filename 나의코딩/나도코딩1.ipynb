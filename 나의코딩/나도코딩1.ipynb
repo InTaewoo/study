{
  "nbformat": 4,
  "nbformat_minor": 0,
  "metadata": {
    "colab": {
      "name": "나도코딩1.ipynb",
      "provenance": [],
      "collapsed_sections": []
    },
    "kernelspec": {
      "name": "python3",
      "display_name": "Python 3"
    },
    "language_info": {
      "name": "python"
    }
  },
  "cells": [
    {
      "cell_type": "code",
      "metadata": {
        "colab": {
          "base_uri": "https://localhost:8080/"
        },
        "id": "yxD0ebxQfUzt",
        "outputId": "57e29691-2df3-4ad9-c21a-46b548b8f9a8"
      },
      "source": [
        "print(5)\n",
        "print(-10)\n",
        "print(3.14)\n",
        "print(1000)\n",
        "print(3*(3+1))"
      ],
      "execution_count": 1,
      "outputs": [
        {
          "output_type": "stream",
          "text": [
            "5\n",
            "-10\n",
            "3.14\n",
            "1000\n",
            "12\n"
          ],
          "name": "stdout"
        }
      ]
    },
    {
      "cell_type": "code",
      "metadata": {
        "colab": {
          "base_uri": "https://localhost:8080/"
        },
        "id": "A7UE2zrhgfzj",
        "outputId": "bac39ba0-dcbf-47e4-9764-edb89bca6e0b"
      },
      "source": [
        "print('풍선')"
      ],
      "execution_count": 2,
      "outputs": [
        {
          "output_type": "stream",
          "text": [
            "풍선\n"
          ],
          "name": "stdout"
        }
      ]
    },
    {
      "cell_type": "code",
      "metadata": {
        "colab": {
          "base_uri": "https://localhost:8080/"
        },
        "id": "yX4oiPNdgno5",
        "outputId": "5ad2e17d-66a4-4c2a-f786-09900581aeae"
      },
      "source": [
        "print(5>10)"
      ],
      "execution_count": 3,
      "outputs": [
        {
          "output_type": "stream",
          "text": [
            "False\n"
          ],
          "name": "stdout"
        }
      ]
    },
    {
      "cell_type": "code",
      "metadata": {
        "colab": {
          "base_uri": "https://localhost:8080/"
        },
        "id": "uQHgivpZg4p8",
        "outputId": "3e108713-6f9c-405c-a486-c9b4b6d5c945"
      },
      "source": [
        "print(5<10)"
      ],
      "execution_count": 4,
      "outputs": [
        {
          "output_type": "stream",
          "text": [
            "True\n"
          ],
          "name": "stdout"
        }
      ]
    },
    {
      "cell_type": "code",
      "metadata": {
        "colab": {
          "base_uri": "https://localhost:8080/"
        },
        "id": "9vChOK4Vg7_8",
        "outputId": "43b8db9a-f320-4bec-d55c-1eccb3fd8a0c"
      },
      "source": [
        "print(not True)"
      ],
      "execution_count": 5,
      "outputs": [
        {
          "output_type": "stream",
          "text": [
            "False\n"
          ],
          "name": "stdout"
        }
      ]
    },
    {
      "cell_type": "code",
      "metadata": {
        "colab": {
          "base_uri": "https://localhost:8080/"
        },
        "id": "_Ich352ShFhc",
        "outputId": "676854de-d64b-4718-93ae-946b286ca157"
      },
      "source": [
        "animal='강아지'\n",
        "name='연탄이'\n",
        "age=4\n",
        "hobby='낮잠'\n",
        "is_adult=age>=3\n",
        "print('우리집 '+ animal+'의 이름은 연탄이에요')\n",
        "print(name +'는 '+ str(age)+ '살이며, '+ hobby+'를 아주 좋아해요')\n",
        "print(name+'는 어른일까요?'+str(is_adult))\n"
      ],
      "execution_count": 23,
      "outputs": [
        {
          "output_type": "stream",
          "text": [
            "우리집 강아지의 이름은 연탄이에요\n",
            "연탄이는 4살이며, 낮잠를 아주 좋아해요\n",
            "연탄이는 어른일까요?True\n"
          ],
          "name": "stdout"
        }
      ]
    },
    {
      "cell_type": "code",
      "metadata": {
        "colab": {
          "base_uri": "https://localhost:8080/"
        },
        "id": "-d5pEtSeh5g3",
        "outputId": "e21b787e-e0c5-4e97-9f37-3bfb16582817"
      },
      "source": [
        "station='사당'\n",
        "print(station+'행 열차가 들어오고 있습니다.')"
      ],
      "execution_count": 30,
      "outputs": [
        {
          "output_type": "stream",
          "text": [
            "사당행 열차가 들어오고 있습니다.\n"
          ],
          "name": "stdout"
        }
      ]
    },
    {
      "cell_type": "code",
      "metadata": {
        "colab": {
          "base_uri": "https://localhost:8080/"
        },
        "id": "ZXvWRi2sklRQ",
        "outputId": "a8414239-6b35-4eb3-ecd1-b4f3a89968bf"
      },
      "source": [
        "print(1+1)"
      ],
      "execution_count": 31,
      "outputs": [
        {
          "output_type": "stream",
          "text": [
            "2\n"
          ],
          "name": "stdout"
        }
      ]
    },
    {
      "cell_type": "code",
      "metadata": {
        "colab": {
          "base_uri": "https://localhost:8080/"
        },
        "id": "TgXOJTJyk9PB",
        "outputId": "9a6d8a07-12c3-4737-a754-c61067ec2a54"
      },
      "source": [
        "print(2**3) #2^3=8\n",
        "print(5%3) #5나누기3= 2\n",
        "print(5//2)#몫\n",
        "\n",
        "print(10>3)#True\n",
        "print(4>=7)#False\n",
        "print(3==3) #True\n",
        "print(4==2)\n",
        "print(1!=3) #앞뒤가 같지않다\n",
        "print(not(1!=3))\n",
        "\n",
        "print((3>0)and(3<5)) #그리고 둘다만족해야 True\n",
        "print((3>0)&(3<5))\n",
        "print((3>0)or(3>5)) #둘중 하나만 만족해도 True"
      ],
      "execution_count": 41,
      "outputs": [
        {
          "output_type": "stream",
          "text": [
            "8\n",
            "2\n",
            "2\n",
            "True\n",
            "False\n",
            "True\n",
            "False\n",
            "True\n",
            "False\n",
            "True\n",
            "True\n",
            "True\n"
          ],
          "name": "stdout"
        }
      ]
    },
    {
      "cell_type": "code",
      "metadata": {
        "colab": {
          "base_uri": "https://localhost:8080/"
        },
        "id": "uOayRCBelRPj",
        "outputId": "a266bb0d-6717-4d7d-dc4f-a75b6cc10c4d"
      },
      "source": [
        "number=2+3*4\n",
        "print(number)"
      ],
      "execution_count": 45,
      "outputs": [
        {
          "output_type": "stream",
          "text": [
            "14\n"
          ],
          "name": "stdout"
        }
      ]
    },
    {
      "cell_type": "code",
      "metadata": {
        "colab": {
          "base_uri": "https://localhost:8080/"
        },
        "id": "4cQV4tuIm-oY",
        "outputId": "96db01c8-55a1-4d27-b6d0-7d5fc7f58680"
      },
      "source": [
        "number=number+2\n",
        "print(number)\n",
        "number+=2\n",
        "print(number)"
      ],
      "execution_count": 48,
      "outputs": [
        {
          "output_type": "stream",
          "text": [
            "20\n",
            "22\n"
          ],
          "name": "stdout"
        }
      ]
    },
    {
      "cell_type": "code",
      "metadata": {
        "id": "NIstb9UwnJp8"
      },
      "source": [
        ""
      ],
      "execution_count": null,
      "outputs": []
    }
  ]
}