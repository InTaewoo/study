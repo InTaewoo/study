{
  "nbformat": 4,
  "nbformat_minor": 0,
  "metadata": {
    "colab": {
      "name": "나도코딩4.ipynb",
      "provenance": [],
      "collapsed_sections": []
    },
    "kernelspec": {
      "name": "python3",
      "display_name": "Python 3"
    },
    "language_info": {
      "name": "python"
    }
  },
  "cells": [
    {
      "cell_type": "code",
      "metadata": {
        "colab": {
          "base_uri": "https://localhost:8080/"
        },
        "id": "G-zF9mxG2-rA",
        "outputId": "13573b5d-e303-4bba-85d4-89b57844cae1"
      },
      "source": [
        "#자료구조의 변경\n",
        "#커피숍\n",
        "menu={'커피','우유','주스'}\n",
        "print(menu,type(menu))"
      ],
      "execution_count": 2,
      "outputs": [
        {
          "output_type": "stream",
          "text": [
            "{'커피', '우유', '주스'} <class 'set'>\n"
          ],
          "name": "stdout"
        }
      ]
    },
    {
      "cell_type": "code",
      "metadata": {
        "colab": {
          "base_uri": "https://localhost:8080/"
        },
        "id": "74C3dXJD3iF9",
        "outputId": "b75fba0b-133e-49f4-9314-430f0058a98e"
      },
      "source": [
        "from random import *\n",
        "lst=[1,2,3,4,5]\n",
        "print(lst)"
      ],
      "execution_count": 3,
      "outputs": [
        {
          "output_type": "stream",
          "text": [
            "[1, 2, 3, 4, 5]\n"
          ],
          "name": "stdout"
        }
      ]
    },
    {
      "cell_type": "code",
      "metadata": {
        "id": "DtTX8dJO4ODg"
      },
      "source": [
        "shuffle(lst)"
      ],
      "execution_count": 4,
      "outputs": []
    },
    {
      "cell_type": "code",
      "metadata": {
        "colab": {
          "base_uri": "https://localhost:8080/"
        },
        "id": "u2sYJ0pr4QAU",
        "outputId": "93ce0959-1ab2-4138-87dc-9c050dc0d220"
      },
      "source": [
        "print(lst)"
      ],
      "execution_count": 5,
      "outputs": [
        {
          "output_type": "stream",
          "text": [
            "[5, 4, 3, 1, 2]\n"
          ],
          "name": "stdout"
        }
      ]
    },
    {
      "cell_type": "code",
      "metadata": {
        "colab": {
          "base_uri": "https://localhost:8080/"
        },
        "id": "gL_YU2Kc4SKH",
        "outputId": "90b63ba8-0650-4ee7-d130-e6d43f5b1642"
      },
      "source": [
        "print(sample(lst,1)) #리스트에서 1개를무작위로 뽑음"
      ],
      "execution_count": 7,
      "outputs": [
        {
          "output_type": "stream",
          "text": [
            "[2]\n"
          ],
          "name": "stdout"
        }
      ]
    },
    {
      "cell_type": "code",
      "metadata": {
        "colab": {
          "base_uri": "https://localhost:8080/"
        },
        "id": "7--N0GRC4ZTS",
        "outputId": "aaa226d6-3758-4a50-fcac-408db6d1f81a"
      },
      "source": [
        "from random import *\n",
        "users=range(1,21) #1부터 20까지 숫자\n",
        "#print(users)\n",
        "users=list(users)\n",
        "#print(users)\n",
        "shuffle(users)\n",
        "#print(users)\n",
        "winners=sample(users,4)#4명중 한명은 치킨 3명은 커피\n",
        "print('--당첨자 발표--')\n",
        "print('치킨당첨자 : {0}'.format(winners[0]))\n",
        "print('커피당첨자 : {0}'.format(winners[1:]))\n",
        "print()\n",
        "print('--축하합니다--')\n"
      ],
      "execution_count": 21,
      "outputs": [
        {
          "output_type": "stream",
          "text": [
            "--당첨자 발표--\n",
            "치킨당첨자 : 14\n",
            "커피당첨자 : [15, 16, 13]\n",
            "\n",
            "--축하합니다--\n"
          ],
          "name": "stdout"
        }
      ]
    },
    {
      "cell_type": "code",
      "metadata": {
        "colab": {
          "base_uri": "https://localhost:8080/"
        },
        "id": "uxF3OuYf402V",
        "outputId": "ecc1f468-81e1-4f48-a862-e7f26301b8fb"
      },
      "source": [
        "weather=input('오늘 날씨는 어때요?')\n",
        "if weather=='비'or weather=='눈':\n",
        "  print('우산을 챙기세요')\n",
        "elif weather=='미세먼지':\n",
        "  print('마스크를 챙기세요')\n",
        "else:\n",
        "  print('준비물 필요 없어요')"
      ],
      "execution_count": 33,
      "outputs": [
        {
          "output_type": "stream",
          "text": [
            "오늘 날씨는 어때요?눈\n",
            "우산을 챙기세요\n",
            "오늘 날씨는 어때요?준비물 필요 없어요\n",
            "준비물 필요 없어요\n"
          ],
          "name": "stdout"
        }
      ]
    },
    {
      "cell_type": "code",
      "metadata": {
        "colab": {
          "base_uri": "https://localhost:8080/"
        },
        "id": "FDz5dHqG6qqo",
        "outputId": "5d11f66a-c136-4545-e479-03f1d2bb651f"
      },
      "source": [
        "temp=int(input('기온은 어때요?'))\n",
        "if 30<=temp:\n",
        "  print('너무 더워요. 나가지 마세요')\n",
        "elif 10<=temp and temp<30:\n",
        "  print('괜찮은 날씨에요')\n",
        "elif 0<=temp and temp<10:\n",
        "  print('외투를 챙기세요')\n",
        "else :\n",
        "  print('너무추워요 나가지마세요')"
      ],
      "execution_count": 39,
      "outputs": [
        {
          "output_type": "stream",
          "text": [
            "기온은 어때요?-29\n",
            "너무추워요 나가지마세요\n"
          ],
          "name": "stdout"
        }
      ]
    },
    {
      "cell_type": "code",
      "metadata": {
        "colab": {
          "base_uri": "https://localhost:8080/"
        },
        "id": "8anu0iVD7pLk",
        "outputId": "934519ab-c757-4f23-d684-b884bc1ac9c4"
      },
      "source": [
        "#for 반복문\n",
        "#print(\"대기번호 : 1\")\n",
        "#print(\"대기번호 : 2\")\n",
        "\n",
        "for waiting_nu in range(1,6):\n",
        "  print('대기번호 : {0}'.format(waiting_nu))"
      ],
      "execution_count": 43,
      "outputs": [
        {
          "output_type": "stream",
          "text": [
            "대기번호 : 1\n",
            "대기번호 : 2\n",
            "대기번호 : 3\n",
            "대기번호 : 4\n",
            "대기번호 : 5\n"
          ],
          "name": "stdout"
        }
      ]
    },
    {
      "cell_type": "code",
      "metadata": {
        "colab": {
          "base_uri": "https://localhost:8080/"
        },
        "id": "fY0gx4HY9S-4",
        "outputId": "6b881690-a1f1-49a0-ab52-662c9ce9062a"
      },
      "source": [
        "starbucks=['아이언맨','토르','그루트']\n",
        "for customer in starbucks:\n",
        "  print('{0},커피가 준비되었습니다'.format(customer))"
      ],
      "execution_count": 45,
      "outputs": [
        {
          "output_type": "stream",
          "text": [
            "아이언맨,커피가 준비되었습니다\n",
            "토르,커피가 준비되었습니다\n",
            "그루트,커피가 준비되었습니다\n"
          ],
          "name": "stdout"
        }
      ]
    },
    {
      "cell_type": "code",
      "metadata": {
        "colab": {
          "base_uri": "https://localhost:8080/"
        },
        "id": "m5UtEd9t94Ug",
        "outputId": "800e25ed-b61b-4362-e289-aae000bc2efe"
      },
      "source": [
        "#while\n",
        "customer='토르'\n",
        "index=5\n",
        "while index >=1:\n",
        "  print('{},커피가 준비되었습니다.{}번 남았어요.'.format(customer,index))\n",
        "  index-=1\n",
        "  if index==0:\n",
        "    print('커피는 폐기처분 되었습니다')\n"
      ],
      "execution_count": 47,
      "outputs": [
        {
          "output_type": "stream",
          "text": [
            "토르,커피가 준비되었습니다.5번 남았어요.\n",
            "토르,커피가 준비되었습니다.4번 남았어요.\n",
            "토르,커피가 준비되었습니다.3번 남았어요.\n",
            "토르,커피가 준비되었습니다.2번 남았어요.\n",
            "토르,커피가 준비되었습니다.1번 남았어요.\n",
            "커피는 폐기처분 되었습니다\n"
          ],
          "name": "stdout"
        }
      ]
    },
    {
      "cell_type": "code",
      "metadata": {
        "colab": {
          "base_uri": "https://localhost:8080/"
        },
        "id": "mGMOdXve_iWA",
        "outputId": "36e8db3b-0283-4f5f-c98e-b01f205133e5"
      },
      "source": [
        "customer='토르'\n",
        "person='unknown'\n",
        "while person != customer:  #이 조건이 만족할때까지 무한루프\n",
        "  print(\"{0},커피가 준비 되었습니다.\".format(customer))\n",
        "  person=input('이름이 어떻게되세요?')\n",
        "\n"
      ],
      "execution_count": 50,
      "outputs": [
        {
          "output_type": "stream",
          "text": [
            "토르,커피가 준비 되었습니다.\n",
            "이름이 어떻게되세요?아이언맨\n",
            "토르,커피가 준비 되었습니다.\n",
            "이름이 어떻게되세요?토르\n"
          ],
          "name": "stdout"
        }
      ]
    },
    {
      "cell_type": "code",
      "metadata": {
        "colab": {
          "base_uri": "https://localhost:8080/"
        },
        "id": "h122bv6dAgaF",
        "outputId": "894b6c7b-85fe-41a8-857d-f82b28eaa412"
      },
      "source": [
        "#continue 와 break\n",
        "absent=[2,5]#결석\n",
        "no_book=[7] #책이 없음\n",
        "for student in range(1,11):\n",
        "  if student in absent:\n",
        "    continue # 스킵하고 계속 실행해라\n",
        "  elif student in no_book:\n",
        "    print('오늘 수업 여기까지. {}야 교무실로 와라'.format(student))\n",
        "    break #바로 반복문 종료\n",
        "  print(\"{}야, 책을 읽어봐\".format(student))"
      ],
      "execution_count": 53,
      "outputs": [
        {
          "output_type": "stream",
          "text": [
            "1야, 책을 읽어봐\n",
            "3야, 책을 읽어봐\n",
            "4야, 책을 읽어봐\n",
            "6야, 책을 읽어봐\n",
            "오늘 수업 여기까지. 7야 교무실로 와라\n"
          ],
          "name": "stdout"
        }
      ]
    },
    {
      "cell_type": "code",
      "metadata": {
        "colab": {
          "base_uri": "https://localhost:8080/"
        },
        "id": "CQoe3eY5BI7a",
        "outputId": "25e88154-5005-4bac-aa01-f1f0c7e7b604"
      },
      "source": [
        "#출석번호가 1,2,3,4 앞에 100을 붙이기로함 =>101,102,103,104\n",
        "students=[1,2,3,4,5]\n",
        "print(students)\n",
        "students=[i+100 for i in students]\n",
        "print(students)"
      ],
      "execution_count": 56,
      "outputs": [
        {
          "output_type": "stream",
          "text": [
            "[1, 2, 3, 4, 5]\n",
            "[101, 102, 103, 104, 105]\n"
          ],
          "name": "stdout"
        }
      ]
    },
    {
      "cell_type": "code",
      "metadata": {
        "colab": {
          "base_uri": "https://localhost:8080/"
        },
        "id": "cw0B1JfvB-IW",
        "outputId": "69ec7a65-cb26-472c-d822-605f9be8771a"
      },
      "source": [
        "#학생 이름을 길이로 변환\n",
        "students=['iron man','thor','i am groot']\n",
        "students=[len(i) for i in students]\n",
        "print(students)"
      ],
      "execution_count": 57,
      "outputs": [
        {
          "output_type": "stream",
          "text": [
            "[8, 4, 10]\n"
          ],
          "name": "stdout"
        }
      ]
    },
    {
      "cell_type": "code",
      "metadata": {
        "colab": {
          "base_uri": "https://localhost:8080/"
        },
        "id": "YFGwnFAPCWeT",
        "outputId": "188ab8d5-b85d-48ee-a268-5cd91c452853"
      },
      "source": [
        "#학생 이름을 대문자로 변환\n",
        "students=['iron man','thor','i am groot']\n",
        "students=[i.upper() for i in students]\n",
        "print(students)"
      ],
      "execution_count": 60,
      "outputs": [
        {
          "output_type": "stream",
          "text": [
            "['IRON MAN', 'THOR', 'I AM GROOT']\n"
          ],
          "name": "stdout"
        }
      ]
    },
    {
      "cell_type": "code",
      "metadata": {
        "colab": {
          "base_uri": "https://localhost:8080/"
        },
        "id": "A_IuJ5q3CnRd",
        "outputId": "bd3fb0fa-203a-46d7-f104-4f83aaf04e16"
      },
      "source": [
        "from random import *\n",
        "count=0 #총 탑승 승객\n",
        "for i in range(1,51): #1~50 승객\n",
        "  time=randrange(5,51) #5분~50분 소요시간\n",
        "  if 5 <= time<=15: #5분 ~15분 이내의 손님\n",
        "    print(\"[0] {0}번째 손님 (소요시간 : {1}분)\".format(i,time))\n",
        "    count+=1\n",
        "else : #매칭 실패한경우\n",
        "  print('[ ]{0}번째 손님 (소요시간 : {1}분)'.format(i,time))\n",
        "print('총 탑승 승객 : {0}'.format(count))"
      ],
      "execution_count": 74,
      "outputs": [
        {
          "output_type": "stream",
          "text": [
            "[0] 2번째 손님 (소요시간 : 10분)\n",
            "[0] 16번째 손님 (소요시간 : 5분)\n",
            "[0] 18번째 손님 (소요시간 : 5분)\n",
            "[0] 19번째 손님 (소요시간 : 14분)\n",
            "[0] 30번째 손님 (소요시간 : 6분)\n",
            "[0] 32번째 손님 (소요시간 : 13분)\n",
            "[0] 36번째 손님 (소요시간 : 6분)\n",
            "[0] 38번째 손님 (소요시간 : 8분)\n",
            "[0] 39번째 손님 (소요시간 : 5분)\n",
            "[0] 42번째 손님 (소요시간 : 13분)\n",
            "[0] 45번째 손님 (소요시간 : 13분)\n",
            "[ ]50번째 손님 (소요시간 : 48분)\n",
            "총 탑승 승객 : 11\n"
          ],
          "name": "stdout"
        }
      ]
    },
    {
      "cell_type": "code",
      "metadata": {
        "id": "10t-_V2zDfp8"
      },
      "source": [
        " "
      ],
      "execution_count": 73,
      "outputs": []
    },
    {
      "cell_type": "code",
      "metadata": {
        "id": "QLZqOztKHoL_"
      },
      "source": [
        ""
      ],
      "execution_count": null,
      "outputs": []
    }
  ]
}