{
  "nbformat": 4,
  "nbformat_minor": 0,
  "metadata": {
    "colab": {
      "name": "나도코딩3.ipynb",
      "provenance": []
    },
    "kernelspec": {
      "name": "python3",
      "display_name": "Python 3"
    },
    "language_info": {
      "name": "python"
    }
  },
  "cells": [
    {
      "cell_type": "code",
      "metadata": {
        "colab": {
          "base_uri": "https://localhost:8080/"
        },
        "id": "F0vPgComw5ol",
        "outputId": "46d0a65e-cc4c-43ca-b412-ece4beccc87d"
      },
      "source": [
        "#탈출문자 \\n = 줄바꿈\n",
        "print('백문이 불여일견\\n백견이 불여일타')"
      ],
      "execution_count": 1,
      "outputs": [
        {
          "output_type": "stream",
          "text": [
            "백문이 불여일견\n",
            "백견이 불여일타\n"
          ],
          "name": "stdout"
        }
      ]
    },
    {
      "cell_type": "code",
      "metadata": {
        "colab": {
          "base_uri": "https://localhost:8080/"
        },
        "id": "h-9GwAhRxFDV",
        "outputId": "a7ba72ab-e95b-4ee2-d621-9a2e142ecf06"
      },
      "source": [
        "print(\"저는 '나도코딩'입니다.\")  #\\\"\\\" \n",
        "print('저는 \\\"나도코딩\\\"입니다.') "
      ],
      "execution_count": 4,
      "outputs": [
        {
          "output_type": "stream",
          "text": [
            "저는 '나도코딩'입니다.\n",
            "저는 \"나도코딩\"입니다.\n"
          ],
          "name": "stdout"
        }
      ]
    },
    {
      "cell_type": "code",
      "metadata": {
        "colab": {
          "base_uri": "https://localhost:8080/"
        },
        "id": "QxFV9xNexMeD",
        "outputId": "059d37f2-6250-4e54-a8a8-c25c8b2734b9"
      },
      "source": [
        "#문장 내에선 \\\\\n",
        "# \\r : 커서를 맨 앞으로\n",
        "print('Red Apple\\rPine')\n",
        "#\\b: 백스페이스(한글자 삭제)\n",
        "print('Redd\\bApple')"
      ],
      "execution_count": 7,
      "outputs": [
        {
          "output_type": "stream",
          "text": [
            "Red Apple\rPine\n",
            "Redd\bApple\n"
          ],
          "name": "stdout"
        }
      ]
    },
    {
      "cell_type": "code",
      "metadata": {
        "colab": {
          "base_uri": "https://localhost:8080/"
        },
        "id": "sGYeWZecx_0N",
        "outputId": "ade8805c-e6a8-4391-b097-045c5b2b2d89"
      },
      "source": [
        "#\\t : 탭\n",
        "print('red\\tApple')"
      ],
      "execution_count": 8,
      "outputs": [
        {
          "output_type": "stream",
          "text": [
            "red\tApple\n"
          ],
          "name": "stdout"
        }
      ]
    },
    {
      "cell_type": "code",
      "metadata": {
        "colab": {
          "base_uri": "https://localhost:8080/"
        },
        "id": "m-sN19SgyU_r",
        "outputId": "d60ea83a-0576-410b-fef2-da93fb456201"
      },
      "source": [
        "site='http://naver.com'\n",
        "my_site=site.replace('http://','') \n",
        "#print(my_site)\n",
        "my_site=my_site[:my_site.index('.')] #my str[0:5] 0~5직전까지, . 직전까지\n",
        "print(my_site)\n",
        "password=my_site[:3]+str(len(my_site))+str(my_site.count('e'))+'!'"
      ],
      "execution_count": 18,
      "outputs": [
        {
          "output_type": "stream",
          "text": [
            "naver\n"
          ],
          "name": "stdout"
        }
      ]
    },
    {
      "cell_type": "code",
      "metadata": {
        "colab": {
          "base_uri": "https://localhost:8080/"
        },
        "id": "xZYAnkeczCYR",
        "outputId": "3edbe673-18b9-4d28-db3e-1358631bd150"
      },
      "source": [
        "print('{}의 비밀번호는 {}입니다.'.format(site,password))"
      ],
      "execution_count": 22,
      "outputs": [
        {
          "output_type": "stream",
          "text": [
            "http://naver.com의 비밀번호는 nav51!입니다.\n"
          ],
          "name": "stdout"
        }
      ]
    },
    {
      "cell_type": "code",
      "metadata": {
        "id": "eNCThZbq1l8k"
      },
      "source": [
        "#리스트\n",
        "subway1=10\n",
        "subway2=20\n",
        "subway3=30\n",
        "subway=[10,20,30]"
      ],
      "execution_count": 23,
      "outputs": []
    },
    {
      "cell_type": "code",
      "metadata": {
        "colab": {
          "base_uri": "https://localhost:8080/"
        },
        "id": "l_ST8x5U4Au1",
        "outputId": "a672f94d-8d41-49c0-b966-bc0eabcfbab3"
      },
      "source": [
        "print(subway)"
      ],
      "execution_count": 24,
      "outputs": [
        {
          "output_type": "stream",
          "text": [
            "[10, 20, 30]\n"
          ],
          "name": "stdout"
        }
      ]
    },
    {
      "cell_type": "code",
      "metadata": {
        "colab": {
          "base_uri": "https://localhost:8080/"
        },
        "id": "YnbvamFy4C8l",
        "outputId": "a6d15d56-243d-49d2-9d32-088f2f329ae3"
      },
      "source": [
        "subway.append(40)\n",
        "print(subway)"
      ],
      "execution_count": 27,
      "outputs": [
        {
          "output_type": "stream",
          "text": [
            "[10, 20, 30, '40', 40, 40]\n"
          ],
          "name": "stdout"
        }
      ]
    },
    {
      "cell_type": "code",
      "metadata": {
        "colab": {
          "base_uri": "https://localhost:8080/"
        },
        "id": "0VyLdbOQ8XUN",
        "outputId": "9da19148-7c43-4a02-9f2f-cfe2d14b1cd0"
      },
      "source": [
        "num_list=[5,2,4,3,1] #정렬\n",
        "num_list.sort()\n",
        "print(num_list)"
      ],
      "execution_count": 29,
      "outputs": [
        {
          "output_type": "stream",
          "text": [
            "[1, 2, 3, 4, 5]\n"
          ],
          "name": "stdout"
        }
      ]
    },
    {
      "cell_type": "code",
      "metadata": {
        "colab": {
          "base_uri": "https://localhost:8080/"
        },
        "id": "iQ4xoS0GBSOx",
        "outputId": "625a7a6f-e3f6-4ddd-d703-11f47ab3eb46"
      },
      "source": [
        "#사전\n",
        "cabinet={3:'유재석',100:'김태호'}\n",
        "print(cabinet[3])\n",
        "print(cabinet[100])\n",
        "print(cabinet.get(3))\n",
        "print(cabinet.get(5,'사용가능'))\n",
        "print(3 in cabinet)\n",
        "print(5 in cabinet)"
      ],
      "execution_count": 44,
      "outputs": [
        {
          "output_type": "stream",
          "text": [
            "유재석\n",
            "김태호\n",
            "유재석\n",
            "사용가능\n",
            "True\n",
            "False\n"
          ],
          "name": "stdout"
        }
      ]
    },
    {
      "cell_type": "code",
      "metadata": {
        "colab": {
          "base_uri": "https://localhost:8080/"
        },
        "id": "dl-hCiGiCLS3",
        "outputId": "b26f3c90-76d3-4710-928b-eb7eea53ebf5"
      },
      "source": [
        "#키들만 출력\n",
        "print(cabinet.keys())"
      ],
      "execution_count": 45,
      "outputs": [
        {
          "output_type": "stream",
          "text": [
            "dict_keys([3, 100])\n"
          ],
          "name": "stdout"
        }
      ]
    },
    {
      "cell_type": "code",
      "metadata": {
        "colab": {
          "base_uri": "https://localhost:8080/"
        },
        "id": "VZP8sKh9DmbC",
        "outputId": "b67d4434-56f0-4a40-e1d0-d7d0599c7028"
      },
      "source": [
        "#값들만 출력\n",
        "print(cabinet.values())\n"
      ],
      "execution_count": 46,
      "outputs": [
        {
          "output_type": "stream",
          "text": [
            "dict_values(['유재석', '김태호'])\n"
          ],
          "name": "stdout"
        }
      ]
    },
    {
      "cell_type": "code",
      "metadata": {
        "colab": {
          "base_uri": "https://localhost:8080/"
        },
        "id": "U7ArnEEyDsiQ",
        "outputId": "079d2bfd-df11-423b-a097-029e8162bc45"
      },
      "source": [
        "#쌍으로 출력\n",
        "print(cabinet.items())\n"
      ],
      "execution_count": 47,
      "outputs": [
        {
          "output_type": "stream",
          "text": [
            "dict_items([(3, '유재석'), (100, '김태호')])\n"
          ],
          "name": "stdout"
        }
      ]
    },
    {
      "cell_type": "code",
      "metadata": {
        "colab": {
          "base_uri": "https://localhost:8080/"
        },
        "id": "lTovF4muDxK7",
        "outputId": "e9af89e3-4ce3-442e-bce9-d45bb2900757"
      },
      "source": [
        "#튜플 값 추가 변경 불가능\n",
        "menu=('돈까스','치즈까스')\n",
        "print(menu[0])\n",
        "print(menu[1])"
      ],
      "execution_count": 50,
      "outputs": [
        {
          "output_type": "stream",
          "text": [
            "돈까스\n",
            "치즈까스\n"
          ],
          "name": "stdout"
        }
      ]
    },
    {
      "cell_type": "code",
      "metadata": {
        "colab": {
          "base_uri": "https://localhost:8080/"
        },
        "id": "iaHF3fojEDvp",
        "outputId": "c2307bae-0d7d-40ae-96ca-62b08e407b45"
      },
      "source": [
        "name='김종국'\n",
        "age=20\n",
        "hobby='코딩'\n",
        "print(name,age,hobby)\n",
        "(name,age,hobby)=('김종국',20,'코딩')\n",
        "print(name,age,hobby)"
      ],
      "execution_count": 53,
      "outputs": [
        {
          "output_type": "stream",
          "text": [
            "김종국 20 코딩\n",
            "김종국 20 코딩\n"
          ],
          "name": "stdout"
        }
      ]
    },
    {
      "cell_type": "code",
      "metadata": {
        "colab": {
          "base_uri": "https://localhost:8080/"
        },
        "id": "U6CgLjbyEaDy",
        "outputId": "14b331b0-bca4-42f3-98d1-f8e35ed540e6"
      },
      "source": [
        "#집합(set) 중복x 순서없음\n",
        "my_set={1,2,3,3,3}\n",
        "print(my_set)"
      ],
      "execution_count": 55,
      "outputs": [
        {
          "output_type": "stream",
          "text": [
            "{1, 2, 3}\n"
          ],
          "name": "stdout"
        }
      ]
    },
    {
      "cell_type": "code",
      "metadata": {
        "id": "tr0ipHM8EkeE"
      },
      "source": [
        "java={'유재석',\"김태호\",\"양세형\"}\n",
        "python=set(['유재석','박명수'])"
      ],
      "execution_count": 57,
      "outputs": []
    },
    {
      "cell_type": "code",
      "metadata": {
        "colab": {
          "base_uri": "https://localhost:8080/"
        },
        "id": "UHcshtiMEu7o",
        "outputId": "eaa0af3f-b837-476b-f58d-22da483c7f17"
      },
      "source": [
        "#교집합 자바와 파이썬 모두가능\n",
        "print(java&python)"
      ],
      "execution_count": 58,
      "outputs": [
        {
          "output_type": "stream",
          "text": [
            "{'유재석'}\n"
          ],
          "name": "stdout"
        }
      ]
    },
    {
      "cell_type": "code",
      "metadata": {
        "colab": {
          "base_uri": "https://localhost:8080/"
        },
        "id": "cjjEt9glE2kY",
        "outputId": "8de78e4a-a2b3-4335-c3cf-162dac0c243b"
      },
      "source": [
        "print(java.intersection(python)) #교집합"
      ],
      "execution_count": 59,
      "outputs": [
        {
          "output_type": "stream",
          "text": [
            "{'유재석'}\n"
          ],
          "name": "stdout"
        }
      ]
    },
    {
      "cell_type": "code",
      "metadata": {
        "colab": {
          "base_uri": "https://localhost:8080/"
        },
        "id": "X0T7VeLQE6E8",
        "outputId": "89353adc-0d5f-4bf7-cbce-7eca55df8a28"
      },
      "source": [
        "#합집합 java python 둘중 한개\n",
        "print(java | python)\n",
        "print(java.union(python))"
      ],
      "execution_count": 60,
      "outputs": [
        {
          "output_type": "stream",
          "text": [
            "{'양세형', '유재석', '김태호', '박명수'}\n",
            "{'양세형', '유재석', '김태호', '박명수'}\n"
          ],
          "name": "stdout"
        }
      ]
    },
    {
      "cell_type": "code",
      "metadata": {
        "colab": {
          "base_uri": "https://localhost:8080/"
        },
        "id": "BqX7uRJvFHsl",
        "outputId": "dc0e01ca-d595-4b47-d9a5-8fe600697d3c"
      },
      "source": [
        "#차집합 java는 가능 python은x\n",
        "print(java - python)\n",
        "print(java.difference(python))\n",
        "\n"
      ],
      "execution_count": 61,
      "outputs": [
        {
          "output_type": "stream",
          "text": [
            "{'김태호', '양세형'}\n",
            "{'김태호', '양세형'}\n"
          ],
          "name": "stdout"
        }
      ]
    },
    {
      "cell_type": "code",
      "metadata": {
        "colab": {
          "base_uri": "https://localhost:8080/"
        },
        "id": "xjPzTh-4FYYG",
        "outputId": "9ac8461b-d266-49cf-c536-ad7d5a79508d"
      },
      "source": [
        "#python 추가\n",
        "python.add('김태호')\n",
        "print(python)"
      ],
      "execution_count": 62,
      "outputs": [
        {
          "output_type": "stream",
          "text": [
            "{'유재석', '김태호', '박명수'}\n"
          ],
          "name": "stdout"
        }
      ]
    },
    {
      "cell_type": "code",
      "metadata": {
        "id": "O7K9XxI6FhV-"
      },
      "source": [
        ""
      ],
      "execution_count": null,
      "outputs": []
    }
  ]
}