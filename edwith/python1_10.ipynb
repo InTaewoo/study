{
  "nbformat": 4,
  "nbformat_minor": 0,
  "metadata": {
    "colab": {
      "name": "python1-10",
      "provenance": [],
      "collapsed_sections": []
    },
    "kernelspec": {
      "name": "python3",
      "display_name": "Python 3"
    },
    "language_info": {
      "name": "python"
    }
  },
  "cells": [
    {
      "cell_type": "code",
      "metadata": {
        "id": "1UnL123Zng9l"
      },
      "source": [
        "# 리스트 or 튜플 대괄호[]사용함 리스트 or 튜플 대괄호[]사용함  "
      ],
      "execution_count": 1,
      "outputs": []
    },
    {
      "cell_type": "code",
      "metadata": {
        "id": "n6HEoGLFpLgx"
      },
      "source": [
        "#메소드 append(x) 데이터x를 리스트 끝에 추가 \n",
        "#insert(i,x) : 인덱스 i에 데이터 x를 삽입"
      ],
      "execution_count": 2,
      "outputs": []
    },
    {
      "cell_type": "code",
      "metadata": {
        "colab": {
          "base_uri": "https://localhost:8080/"
        },
        "id": "-wzaPNeepxsh",
        "outputId": "93b1305f-3027-4055-db5f-d5a129ec1cbb"
      },
      "source": [
        "L=[1,4,7,8]\n",
        "L.append(5)\n",
        "print(L)"
      ],
      "execution_count": 3,
      "outputs": [
        {
          "output_type": "stream",
          "text": [
            "[1, 4, 7, 8, 5]\n"
          ],
          "name": "stdout"
        }
      ]
    },
    {
      "cell_type": "code",
      "metadata": {
        "colab": {
          "base_uri": "https://localhost:8080/"
        },
        "id": "TZS4SiiTp4Ci",
        "outputId": "53b9453a-6a83-4762-d745-c560c6426537"
      },
      "source": [
        "L.insert(2,10)\n",
        "print(L)"
      ],
      "execution_count": 8,
      "outputs": [
        {
          "output_type": "stream",
          "text": [
            "[1, 4, 10, 10, 10, 10, 10, 7, 8, 5]\n"
          ],
          "name": "stdout"
        }
      ]
    },
    {
      "cell_type": "code",
      "metadata": {
        "id": "0mkhseNTp82o"
      },
      "source": [
        "#리스트에서 데이터삭제 : pop() :맨 마지막 데이터 반환후 삭제\n",
        "#pop(i) : 인덱스i에 있는 데이터를 반환후 삭제\n",
        "#remove(x) : 리스트에서 데이터x를 삭제. 여러개가 있으면 맨앞 데이터 삭제"
      ],
      "execution_count": 9,
      "outputs": []
    },
    {
      "cell_type": "code",
      "metadata": {
        "colab": {
          "base_uri": "https://localhost:8080/"
        },
        "id": "3ZM9n7oVqVvz",
        "outputId": "fcd8d74a-5928-48f4-d0b3-06ff0333471b"
      },
      "source": [
        "L=[1,2,3,4,5]\n",
        "L.pop()"
      ],
      "execution_count": 10,
      "outputs": [
        {
          "output_type": "execute_result",
          "data": {
            "text/plain": [
              "5"
            ]
          },
          "metadata": {
            "tags": []
          },
          "execution_count": 10
        }
      ]
    },
    {
      "cell_type": "code",
      "metadata": {
        "colab": {
          "base_uri": "https://localhost:8080/"
        },
        "id": "hNe_RB7IqaD9",
        "outputId": "b4881380-a58d-4c10-b189-8f398f14dcac"
      },
      "source": [
        "print(L)"
      ],
      "execution_count": 11,
      "outputs": [
        {
          "output_type": "stream",
          "text": [
            "[1, 2, 3, 4]\n"
          ],
          "name": "stdout"
        }
      ]
    },
    {
      "cell_type": "code",
      "metadata": {
        "colab": {
          "base_uri": "https://localhost:8080/"
        },
        "id": "OlMZearCqf04",
        "outputId": "c6078d59-0950-4b4b-9ac8-8a94cae5e15f"
      },
      "source": [
        "L.pop(2)"
      ],
      "execution_count": 12,
      "outputs": [
        {
          "output_type": "execute_result",
          "data": {
            "text/plain": [
              "3"
            ]
          },
          "metadata": {
            "tags": []
          },
          "execution_count": 12
        }
      ]
    },
    {
      "cell_type": "code",
      "metadata": {
        "id": "7AAUGvx3qlQV"
      },
      "source": [
        "L=[4,2,5,3,2,7,1,2,5]\n",
        "L.remove(7)"
      ],
      "execution_count": 13,
      "outputs": []
    },
    {
      "cell_type": "code",
      "metadata": {
        "colab": {
          "base_uri": "https://localhost:8080/"
        },
        "id": "T1L9j1EQq5uO",
        "outputId": "28a71f6e-c0cb-4f4b-bc90-1939e118e892"
      },
      "source": [
        "print(L)"
      ],
      "execution_count": 14,
      "outputs": [
        {
          "output_type": "stream",
          "text": [
            "[4, 2, 5, 3, 2, 1, 2, 5]\n"
          ],
          "name": "stdout"
        }
      ]
    },
    {
      "cell_type": "code",
      "metadata": {
        "id": "tK6sFxtxq7vG"
      },
      "source": [
        "L.remove(2)"
      ],
      "execution_count": 15,
      "outputs": []
    },
    {
      "cell_type": "code",
      "metadata": {
        "colab": {
          "base_uri": "https://localhost:8080/"
        },
        "id": "3hRsbPrhq-ds",
        "outputId": "19cec0e4-676a-4c46-e958-f40d3a2e66df"
      },
      "source": [
        "print(L)"
      ],
      "execution_count": 16,
      "outputs": [
        {
          "output_type": "stream",
          "text": [
            "[4, 5, 3, 2, 1, 2, 5]\n"
          ],
          "name": "stdout"
        }
      ]
    },
    {
      "cell_type": "code",
      "metadata": {
        "colab": {
          "base_uri": "https://localhost:8080/"
        },
        "id": "oMcZwv2DrBFt",
        "outputId": "eb0a60db-b5f7-4d1c-c0e7-6dbdfb68d1c6"
      },
      "source": [
        "#리스트에서 데이터 위치 찾기\n",
        "#index(x) : 리스트에서 데이터x의 인덱스를 반환\n",
        "#count(x) : 리스트에서 데이터 x의 개수를 반환\n",
        "#리스트 비우기 : clear\n",
        "A=[]\n",
        "A.append('red')\n",
        "A.append('yellow')\n",
        "A.append('blue')\n",
        "print(A)"
      ],
      "execution_count": 18,
      "outputs": [
        {
          "output_type": "stream",
          "text": [
            "['red', 'yellow', 'blue']\n"
          ],
          "name": "stdout"
        }
      ]
    },
    {
      "cell_type": "code",
      "metadata": {
        "id": "qaONnGchrezh"
      },
      "source": [
        "A.clear()"
      ],
      "execution_count": 19,
      "outputs": []
    },
    {
      "cell_type": "code",
      "metadata": {
        "colab": {
          "base_uri": "https://localhost:8080/"
        },
        "id": "-SWfF_bcroXW",
        "outputId": "b7b10492-c044-4f2f-c83f-f988ad14fa99"
      },
      "source": [
        "print(A)"
      ],
      "execution_count": 20,
      "outputs": [
        {
          "output_type": "stream",
          "text": [
            "[]\n"
          ],
          "name": "stdout"
        }
      ]
    },
    {
      "cell_type": "code",
      "metadata": {
        "id": "NuprQ-eSrpDu"
      },
      "source": [
        "#리스트 복사 '='\n",
        "L=[1,3,5,7,9]\n",
        "M=L"
      ],
      "execution_count": 21,
      "outputs": []
    },
    {
      "cell_type": "code",
      "metadata": {
        "colab": {
          "base_uri": "https://localhost:8080/"
        },
        "id": "Q4lzpRkNsHMY",
        "outputId": "b9b5429f-fd25-4c9f-e06c-b3dcdd486553"
      },
      "source": [
        "M[2]"
      ],
      "execution_count": 22,
      "outputs": [
        {
          "output_type": "execute_result",
          "data": {
            "text/plain": [
              "5"
            ]
          },
          "metadata": {
            "tags": []
          },
          "execution_count": 22
        }
      ]
    },
    {
      "cell_type": "code",
      "metadata": {
        "colab": {
          "base_uri": "https://localhost:8080/"
        },
        "id": "sumTm3KysIK3",
        "outputId": "a60635d6-08c7-4a6e-b593-3bc5c70a30eb"
      },
      "source": [
        "L[2]"
      ],
      "execution_count": 23,
      "outputs": [
        {
          "output_type": "execute_result",
          "data": {
            "text/plain": [
              "5"
            ]
          },
          "metadata": {
            "tags": []
          },
          "execution_count": 23
        }
      ]
    },
    {
      "cell_type": "code",
      "metadata": {
        "id": "X3t5u59wsJGd"
      },
      "source": [
        "#copy()\n",
        "L=[1,3,5,7,9]\n",
        "N=L.copy()\n",
        "N[2]=100"
      ],
      "execution_count": 25,
      "outputs": []
    },
    {
      "cell_type": "code",
      "metadata": {
        "colab": {
          "base_uri": "https://localhost:8080/"
        },
        "id": "XGMiUwiSsUK3",
        "outputId": "49b9c698-f08a-4b99-bc03-5a873d25b770"
      },
      "source": [
        "print(L)"
      ],
      "execution_count": 26,
      "outputs": [
        {
          "output_type": "stream",
          "text": [
            "[1, 3, 5, 7, 9]\n"
          ],
          "name": "stdout"
        }
      ]
    },
    {
      "cell_type": "code",
      "metadata": {
        "colab": {
          "base_uri": "https://localhost:8080/"
        },
        "id": "h3Ec7uLxseex",
        "outputId": "53325c45-ec8d-4d47-c9db-623e0a791260"
      },
      "source": [
        "print(N)"
      ],
      "execution_count": 28,
      "outputs": [
        {
          "output_type": "stream",
          "text": [
            "[1, 3, 100, 7, 9]\n"
          ],
          "name": "stdout"
        }
      ]
    },
    {
      "cell_type": "code",
      "metadata": {
        "colab": {
          "base_uri": "https://localhost:8080/"
        },
        "id": "2-ZvcKocsgkf",
        "outputId": "838edbde-78fa-4bbc-c184-45b6df89b165"
      },
      "source": [
        "#extend(M) 연결하기\n",
        "L=[1,3,5]\n",
        "M=[10,20]\n",
        "L.extend(M)#L에 M을 연결\n",
        "print(L)"
      ],
      "execution_count": 30,
      "outputs": [
        {
          "output_type": "stream",
          "text": [
            "[1, 3, 5, 10, 20]\n"
          ],
          "name": "stdout"
        }
      ]
    },
    {
      "cell_type": "code",
      "metadata": {
        "colab": {
          "base_uri": "https://localhost:8080/"
        },
        "id": "yMC-9wYis0vs",
        "outputId": "0545b1b2-ef3a-42b3-9421-065df3d31333"
      },
      "source": [
        "#리스트 정렬 : sort() 오름차순으로 정렬\n",
        "L=[3,5,1,4,2]\n",
        "L.sort()\n",
        "print(L)\n",
        "L.sort(reverse=True) # 내림차순으로 정렬\n",
        "print(L)"
      ],
      "execution_count": 33,
      "outputs": [
        {
          "output_type": "stream",
          "text": [
            "[1, 2, 3, 4, 5]\n",
            "[5, 4, 3, 2, 1]\n"
          ],
          "name": "stdout"
        }
      ]
    },
    {
      "cell_type": "code",
      "metadata": {
        "id": "NQM4MRYTs8ku"
      },
      "source": [
        "#리스트역순으로 : reverse()\n",
        " "
      ],
      "execution_count": 34,
      "outputs": []
    },
    {
      "cell_type": "code",
      "metadata": {
        "colab": {
          "base_uri": "https://localhost:8080/"
        },
        "id": "M9byiB2Stdj-",
        "outputId": "7de824dc-415d-41de-d032-362566128bc9"
      },
      "source": [
        "#튜플은 ()를 사용 튜플은 immutable하다\n",
        "T=(1,3,5,7,9)\n",
        "M=(2,4,6,8)\n",
        "print(T[2])"
      ],
      "execution_count": 35,
      "outputs": [
        {
          "output_type": "stream",
          "text": [
            "5\n"
          ],
          "name": "stdout"
        }
      ]
    },
    {
      "cell_type": "code",
      "metadata": {
        "id": "qnJibW4ltodk"
      },
      "source": [
        "#튜플은 메소드가 2개 index(x), count(x)\n",
        "#빈튜플 T=(), T=tuple() #원소가 하나인 경우 T=(1,) <- 콤마 필요 없을시 정수추급\n",
        "a,b,c=1,2,3"
      ],
      "execution_count": 36,
      "outputs": []
    },
    {
      "cell_type": "code",
      "metadata": {
        "id": "c3JQ132ouf3E"
      },
      "source": [
        "(a,b,c)=(1,2,3)"
      ],
      "execution_count": 37,
      "outputs": []
    },
    {
      "cell_type": "code",
      "metadata": {
        "colab": {
          "base_uri": "https://localhost:8080/"
        },
        "id": "ll7n47KEuiR5",
        "outputId": "4fa92925-094b-443a-97b7-8e51d055ea60"
      },
      "source": [
        "a"
      ],
      "execution_count": 38,
      "outputs": [
        {
          "output_type": "execute_result",
          "data": {
            "text/plain": [
              "1"
            ]
          },
          "metadata": {
            "tags": []
          },
          "execution_count": 38
        }
      ]
    },
    {
      "cell_type": "code",
      "metadata": {
        "colab": {
          "base_uri": "https://localhost:8080/"
        },
        "id": "yMvPznSzujTa",
        "outputId": "0570ce6a-25a1-461e-e7a3-e36c5fcf4512"
      },
      "source": [
        "#swap 연산\n",
        "x=10\n",
        "y=20\n",
        "print(x,y)"
      ],
      "execution_count": 39,
      "outputs": [
        {
          "output_type": "stream",
          "text": [
            "10 20\n"
          ],
          "name": "stdout"
        }
      ]
    },
    {
      "cell_type": "code",
      "metadata": {
        "id": "vuRmPTGJupg7"
      },
      "source": [
        "x,y=y,x"
      ],
      "execution_count": 40,
      "outputs": []
    },
    {
      "cell_type": "code",
      "metadata": {
        "colab": {
          "base_uri": "https://localhost:8080/"
        },
        "id": "1HLjpSjdutK-",
        "outputId": "fa52f972-fba0-4d6d-808b-57397066e19b"
      },
      "source": [
        "print(x,y)"
      ],
      "execution_count": 41,
      "outputs": [
        {
          "output_type": "stream",
          "text": [
            "20 10\n"
          ],
          "name": "stdout"
        }
      ]
    },
    {
      "cell_type": "code",
      "metadata": {
        "id": "0q0YVq2Duuf-"
      },
      "source": [
        ""
      ],
      "execution_count": null,
      "outputs": []
    }
  ]
}