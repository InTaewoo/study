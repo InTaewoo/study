{
  "nbformat": 4,
  "nbformat_minor": 0,
  "metadata": {
    "colab": {
      "name": "edwin_14,15강.ipynb",
      "provenance": [],
      "collapsed_sections": []
    },
    "kernelspec": {
      "name": "python3",
      "display_name": "Python 3"
    },
    "language_info": {
      "name": "python"
    }
  },
  "cells": [
    {
      "cell_type": "code",
      "metadata": {
        "colab": {
          "base_uri": "https://localhost:8080/"
        },
        "id": "2MCYTa68vteG",
        "outputId": "ece7a13b-280c-4e86-a43f-8bd264ff5911"
      },
      "source": [
        "#내장함수 : 파이썬안에서 제공하는 함수\n",
        "dir(__builtins__) #<--내장함수\n",
        "L=[1,3,5,7,9]\n",
        "M=reversed(L)\n",
        "print(M)\n",
        "M=list(reversed(L))"
      ],
      "execution_count": 6,
      "outputs": [
        {
          "output_type": "stream",
          "text": [
            "<list_reverseiterator object at 0x7fb1b73d8790>\n"
          ],
          "name": "stdout"
        }
      ]
    },
    {
      "cell_type": "code",
      "metadata": {
        "colab": {
          "base_uri": "https://localhost:8080/"
        },
        "id": "9hvU7i9bwPEC",
        "outputId": "d9a655c0-01aa-46f6-8e2b-ca9439ab0dac"
      },
      "source": [
        "# def 함수명 (parameter):\n",
        "def find_max(a,b):\n",
        "  if a>b:\n",
        "    y=a\n",
        "  else:\n",
        "    y=b\n",
        "  return y \n",
        "m=find_max(10,20)\n",
        "n=find_max(7,3)\n",
        "print(m,n)"
      ],
      "execution_count": 10,
      "outputs": [
        {
          "output_type": "stream",
          "text": [
            "20 7\n"
          ],
          "name": "stdout"
        }
      ]
    },
    {
      "cell_type": "code",
      "metadata": {
        "colab": {
          "base_uri": "https://localhost:8080/"
        },
        "id": "iquPIV0LyZEi",
        "outputId": "28464641-3f4d-41e5-ff65-062a87983111"
      },
      "source": [
        "def calculate(kor,eng,math):\n",
        "  total=kor+eng+math\n",
        "  average=total/3\n",
        "  return average\n",
        "kor_score=int(input('국어성적은:'))\n",
        "eng_score=int(input('영어성적은:'))\n",
        "math_score=int(input('수학성적은:'))\n",
        "avg=calculate(kor_score,eng_score,math_score)\n",
        "print('평균:',avg)\n"
      ],
      "execution_count": 18,
      "outputs": [
        {
          "output_type": "stream",
          "text": [
            "국어성적은:90\n",
            "영어성적은:85\n",
            "수학성적은:83\n",
            "평균: 86.0\n"
          ],
          "name": "stdout"
        }
      ]
    },
    {
      "cell_type": "code",
      "metadata": {
        "colab": {
          "base_uri": "https://localhost:8080/"
        },
        "id": "PLmspR740Dfh",
        "outputId": "60ac5b8a-5245-41d8-dab6-dcbf639ebeab"
      },
      "source": [
        "def test():\n",
        "  print(a)\n",
        "a=100\n",
        "print(a) #전역변수\n",
        "test()\n",
        "print(a)"
      ],
      "execution_count": 23,
      "outputs": [
        {
          "output_type": "stream",
          "text": [
            "100\n",
            "100\n",
            "100\n"
          ],
          "name": "stdout"
        }
      ]
    },
    {
      "cell_type": "code",
      "metadata": {
        "colab": {
          "base_uri": "https://localhost:8080/"
        },
        "id": "nPVXhK4N1DUE",
        "outputId": "4f14f3f1-b511-4ace-be15-b078a7387206"
      },
      "source": [
        "def test():\n",
        "  b=20\n",
        "  print(a,b)\n",
        "a=100 # 전역변수\n",
        "print(a) \n",
        "test()\n",
        "print(a)"
      ],
      "execution_count": 27,
      "outputs": [
        {
          "output_type": "stream",
          "text": [
            "100\n",
            "100 20\n",
            "100\n"
          ],
          "name": "stdout"
        }
      ]
    },
    {
      "cell_type": "code",
      "metadata": {
        "colab": {
          "base_uri": "https://localhost:8080/"
        },
        "id": "QIU6xWhbMs-o",
        "outputId": "ec54f587-703c-42bc-c0f3-913690c52a77"
      },
      "source": [
        "def test():\n",
        "  a=200 #지역변수\n",
        "  print(a)\n",
        "a=100\n",
        "print(a)\n",
        "test()\n",
        "print(a)\n"
      ],
      "execution_count": 30,
      "outputs": [
        {
          "output_type": "stream",
          "text": [
            "100\n",
            "200\n",
            "100\n"
          ],
          "name": "stdout"
        }
      ]
    },
    {
      "cell_type": "code",
      "metadata": {
        "colab": {
          "base_uri": "https://localhost:8080/"
        },
        "id": "kchosQHpNKJI",
        "outputId": "7f52093b-b949-471b-e467-34ecfa86a177"
      },
      "source": [
        "def test():\n",
        "  global a #지역변수를 전역변수로\n",
        "  a=100\n",
        "  print(a)\n",
        "test()\n",
        "print(a) \n"
      ],
      "execution_count": 32,
      "outputs": [
        {
          "output_type": "stream",
          "text": [
            "100\n",
            "100\n"
          ],
          "name": "stdout"
        }
      ]
    },
    {
      "cell_type": "code",
      "metadata": {
        "colab": {
          "base_uri": "https://localhost:8080/"
        },
        "id": "FRhnR3K5N8-6",
        "outputId": "f46ddb37-222a-47b8-e730-1ebfb486940c"
      },
      "source": [
        "def test(a):\n",
        "  a+=200\n",
        "  print(a)\n",
        "a=100\n",
        "test(a)\n",
        "print(a)"
      ],
      "execution_count": 33,
      "outputs": [
        {
          "output_type": "stream",
          "text": [
            "300\n",
            "100\n"
          ],
          "name": "stdout"
        }
      ]
    },
    {
      "cell_type": "code",
      "metadata": {
        "colab": {
          "base_uri": "https://localhost:8080/"
        },
        "id": "tsWR4p6LOVsp",
        "outputId": "690d2f87-1819-4eb9-a766-72daadc31d39"
      },
      "source": [
        "def test(M):\n",
        "  M[2]+=2\n",
        "  M[4]+=10\n",
        "L=[90,80,95,85,77,83]\n",
        "test(L)\n",
        "print(L)"
      ],
      "execution_count": 36,
      "outputs": [
        {
          "output_type": "stream",
          "text": [
            "[90, 80, 97, 85, 87, 83]\n"
          ],
          "name": "stdout"
        }
      ]
    },
    {
      "cell_type": "code",
      "metadata": {
        "colab": {
          "base_uri": "https://localhost:8080/"
        },
        "id": "RX0QzrVUPCjk",
        "outputId": "04f3ab99-c10a-4f24-a89f-f659baf966d9"
      },
      "source": [
        "def inc(a,step=1): #기본값(step=1)을 갖는 인수\n",
        "  return a+step\n",
        "b=inc(10)\n",
        "print(b)\n",
        "c=inc(10,50)\n",
        "print(c)"
      ],
      "execution_count": 40,
      "outputs": [
        {
          "output_type": "stream",
          "text": [
            "11\n",
            "60\n"
          ],
          "name": "stdout"
        }
      ]
    },
    {
      "cell_type": "code",
      "metadata": {
        "colab": {
          "base_uri": "https://localhost:8080/"
        },
        "id": "9-1Lz9rVPngO",
        "outputId": "6273db05-ad81-44b9-d159-3da71b5dbfe6"
      },
      "source": [
        "def area(x,y):\n",
        "  return x*y\n",
        "a=area(10,5)\n",
        "print(a)\n",
        "b=area(x=4,y=9)\n",
        "print(b)"
      ],
      "execution_count": 44,
      "outputs": [
        {
          "output_type": "stream",
          "text": [
            "50\n",
            "36\n"
          ],
          "name": "stdout"
        }
      ]
    },
    {
      "cell_type": "code",
      "metadata": {
        "colab": {
          "base_uri": "https://localhost:8080/",
          "height": 258
        },
        "id": "xFWPBhwqQKfE",
        "outputId": "29b476de-d8b6-4d3f-c27a-52a640cb0fea"
      },
      "source": [
        "def volumn(x,y,z): #키워드 인수 위치는 일반인수 뒤에\n",
        "  return x*y*z\n",
        "print(volumn(1,3,5))\n",
        "print(volumn(y=7,x=2,z=6))\n",
        "print(volumn(5,z=10,y=2))\n",
        "print(volumn(5,x=2,z=20)) #오류 x자리에 이미 있기때문에"
      ],
      "execution_count": 50,
      "outputs": [
        {
          "output_type": "stream",
          "text": [
            "15\n",
            "84\n",
            "100\n"
          ],
          "name": "stdout"
        },
        {
          "output_type": "error",
          "ename": "TypeError",
          "evalue": "ignored",
          "traceback": [
            "\u001b[0;31m---------------------------------------------------------------------------\u001b[0m",
            "\u001b[0;31mTypeError\u001b[0m                                 Traceback (most recent call last)",
            "\u001b[0;32m<ipython-input-50-1d583948f69e>\u001b[0m in \u001b[0;36m<module>\u001b[0;34m()\u001b[0m\n\u001b[1;32m      4\u001b[0m \u001b[0mprint\u001b[0m\u001b[0;34m(\u001b[0m\u001b[0mvolumn\u001b[0m\u001b[0;34m(\u001b[0m\u001b[0my\u001b[0m\u001b[0;34m=\u001b[0m\u001b[0;36m7\u001b[0m\u001b[0;34m,\u001b[0m\u001b[0mx\u001b[0m\u001b[0;34m=\u001b[0m\u001b[0;36m2\u001b[0m\u001b[0;34m,\u001b[0m\u001b[0mz\u001b[0m\u001b[0;34m=\u001b[0m\u001b[0;36m6\u001b[0m\u001b[0;34m)\u001b[0m\u001b[0;34m)\u001b[0m\u001b[0;34m\u001b[0m\u001b[0;34m\u001b[0m\u001b[0m\n\u001b[1;32m      5\u001b[0m \u001b[0mprint\u001b[0m\u001b[0;34m(\u001b[0m\u001b[0mvolumn\u001b[0m\u001b[0;34m(\u001b[0m\u001b[0;36m5\u001b[0m\u001b[0;34m,\u001b[0m\u001b[0mz\u001b[0m\u001b[0;34m=\u001b[0m\u001b[0;36m10\u001b[0m\u001b[0;34m,\u001b[0m\u001b[0my\u001b[0m\u001b[0;34m=\u001b[0m\u001b[0;36m2\u001b[0m\u001b[0;34m)\u001b[0m\u001b[0;34m)\u001b[0m\u001b[0;34m\u001b[0m\u001b[0;34m\u001b[0m\u001b[0m\n\u001b[0;32m----> 6\u001b[0;31m \u001b[0mprint\u001b[0m\u001b[0;34m(\u001b[0m\u001b[0mvolumn\u001b[0m\u001b[0;34m(\u001b[0m\u001b[0;36m5\u001b[0m\u001b[0;34m,\u001b[0m\u001b[0mx\u001b[0m\u001b[0;34m=\u001b[0m\u001b[0;36m2\u001b[0m\u001b[0;34m,\u001b[0m\u001b[0mz\u001b[0m\u001b[0;34m=\u001b[0m\u001b[0;36m20\u001b[0m\u001b[0;34m)\u001b[0m\u001b[0;34m)\u001b[0m\u001b[0;34m\u001b[0m\u001b[0;34m\u001b[0m\u001b[0m\n\u001b[0m",
            "\u001b[0;31mTypeError\u001b[0m: volumn() got multiple values for argument 'x'"
          ]
        }
      ]
    },
    {
      "cell_type": "code",
      "metadata": {
        "colab": {
          "base_uri": "https://localhost:8080/"
        },
        "id": "Adb9u_DAQoVv",
        "outputId": "117f4267-fb22-4cd9-a2ac-0fca229f98d6"
      },
      "source": [
        "def friends(*name): #*= 가변인수(몇개가 넘어올지 모름)\n",
        "  for i in name:\n",
        "    print(i.title())\n",
        "friends('alice','paul')\n",
        "print('------')\n",
        "friends('cindy','sally','david','tom')"
      ],
      "execution_count": 53,
      "outputs": [
        {
          "output_type": "stream",
          "text": [
            "Alice\n",
            "Paul\n",
            "------\n",
            "Cindy\n",
            "Sally\n",
            "David\n",
            "Tom\n"
          ],
          "name": "stdout"
        }
      ]
    },
    {
      "cell_type": "code",
      "metadata": {
        "colab": {
          "base_uri": "https://localhost:8080/"
        },
        "id": "oBwnuQzxR3Vi",
        "outputId": "b4ef16ae-6e3d-4727-8283-8dacc38881ee"
      },
      "source": [
        "def arg(a,b,*c):\n",
        "  print(a,b,c)\n",
        "  print(sum(c))\n",
        "arg(10,20)\n",
        "print('------')\n",
        "arg(7,8,9)\n",
        "print('-------')\n",
        "arg(1,2,3,4,5)\n"
      ],
      "execution_count": 55,
      "outputs": [
        {
          "output_type": "stream",
          "text": [
            "10 20 ()\n",
            "0\n",
            "------\n",
            "7 8 (9,)\n",
            "9\n",
            "-------\n",
            "1 2 (3, 4, 5)\n",
            "12\n"
          ],
          "name": "stdout"
        }
      ]
    },
    {
      "cell_type": "code",
      "metadata": {
        "colab": {
          "base_uri": "https://localhost:8080/"
        },
        "id": "lKcH7kb5SnIt",
        "outputId": "ee843f68-a761-4df3-c833-f0b675a3c9a7"
      },
      "source": [
        "def name_age(**lists): #정해지지않은 키워드 사전형식으로 만들어짐\n",
        "  print(lists)\n",
        "name_age(Alice=10,Paul=12)\n",
        "print('-----------------')\n",
        "name_age(Cindy=5,David=7,Tom=10)"
      ],
      "execution_count": 58,
      "outputs": [
        {
          "output_type": "stream",
          "text": [
            "{'Alice': 10, 'Paul': 12}\n",
            "-----------------\n",
            "{'Cindy': 5, 'David': 7, 'Tom': 10}\n"
          ],
          "name": "stdout"
        }
      ]
    },
    {
      "cell_type": "code",
      "metadata": {
        "colab": {
          "base_uri": "https://localhost:8080/"
        },
        "id": "ESaWhpmzTPsa",
        "outputId": "24ba01b1-2aca-4e51-9f73-ff3da4e4d145"
      },
      "source": [
        "#람다함수 : 이름없는 한줄짜리 함수, return문x, 함수를 함수인자로 넘길때\n",
        "#lambda <인수>:<반환할식>\n",
        "def add(x,y):\n",
        "  return x+y\n",
        "lambda x,y:x+y\n"
      ],
      "execution_count": 59,
      "outputs": [
        {
          "output_type": "execute_result",
          "data": {
            "text/plain": [
              "<function __main__.<lambda>>"
            ]
          },
          "metadata": {
            "tags": []
          },
          "execution_count": 59
        }
      ]
    },
    {
      "cell_type": "code",
      "metadata": {
        "colab": {
          "base_uri": "https://localhost:8080/"
        },
        "id": "HF1qBtvLT-dA",
        "outputId": "47d0c85c-4c00-40f8-d0c9-0cedadbf13f6"
      },
      "source": [
        "names=['Alice','Paul','Bob','Robert']\n",
        "A=map(len,names) #리스트names에대한 len을수행\n",
        "print(A)\n",
        "list(A)"
      ],
      "execution_count": 61,
      "outputs": [
        {
          "output_type": "stream",
          "text": [
            "<map object at 0x7fb1bb3af9d0>\n"
          ],
          "name": "stdout"
        },
        {
          "output_type": "execute_result",
          "data": {
            "text/plain": [
              "[5, 4, 3, 6]"
            ]
          },
          "metadata": {
            "tags": []
          },
          "execution_count": 61
        }
      ]
    },
    {
      "cell_type": "code",
      "metadata": {
        "colab": {
          "base_uri": "https://localhost:8080/"
        },
        "id": "vLnD_xpjUbBi",
        "outputId": "80867513-368c-42dd-f309-1d881121aef5"
      },
      "source": [
        "def f(x):\n",
        "  return x*x\n",
        "X=[1,2,3,4,5]\n",
        "list(map(f,X)) #f에 X의값들을 하나씩 적용"
      ],
      "execution_count": 62,
      "outputs": [
        {
          "output_type": "execute_result",
          "data": {
            "text/plain": [
              "[1, 4, 9, 16, 25]"
            ]
          },
          "metadata": {
            "tags": []
          },
          "execution_count": 62
        }
      ]
    },
    {
      "cell_type": "code",
      "metadata": {
        "colab": {
          "base_uri": "https://localhost:8080/"
        },
        "id": "MwVp6LSjUzw1",
        "outputId": "2c769e31-ec8f-4c55-e9c3-9c107f8f87eb"
      },
      "source": [
        "X=[1,2,3,4,5]\n",
        "Y=map(lambda a:a*a,X)\n",
        "list(Y)"
      ],
      "execution_count": 68,
      "outputs": [
        {
          "output_type": "execute_result",
          "data": {
            "text/plain": [
              "[1, 4, 9, 16, 25]"
            ]
          },
          "metadata": {
            "tags": []
          },
          "execution_count": 68
        }
      ]
    },
    {
      "cell_type": "code",
      "metadata": {
        "colab": {
          "base_uri": "https://localhost:8080/"
        },
        "id": "mR-aEdErVP4_",
        "outputId": "57e41ebf-0f59-4d17-9727-3dda9b7bd61b"
      },
      "source": [
        "#range(10)의 원소를 x2+4x+5에 대입해라\n",
        "Y=map(lambda x:x*x+4*x+5,range(10)) #range를 앞lambda에 넣어라\n",
        "list(Y)"
      ],
      "execution_count": 70,
      "outputs": [
        {
          "output_type": "execute_result",
          "data": {
            "text/plain": [
              "[5, 10, 17, 26, 37, 50, 65, 82, 101, 122]"
            ]
          },
          "metadata": {
            "tags": []
          },
          "execution_count": 70
        }
      ]
    },
    {
      "cell_type": "code",
      "metadata": {
        "colab": {
          "base_uri": "https://localhost:8080/"
        },
        "id": "cpVQESiGWX4Y",
        "outputId": "ac0ceabc-32a1-415e-9d48-bf9b8f3504fb"
      },
      "source": [
        "#filter (함수명(참/거짓 반환하는 함수), 함수에대한 인수집합)\n",
        "X=[1,3,5,7,9]\n",
        "result=filter(lambda x:x>5,X)\n",
        "list(result)"
      ],
      "execution_count": 73,
      "outputs": [
        {
          "output_type": "execute_result",
          "data": {
            "text/plain": [
              "[7, 9]"
            ]
          },
          "metadata": {
            "tags": []
          },
          "execution_count": 73
        }
      ]
    },
    {
      "cell_type": "code",
      "metadata": {
        "colab": {
          "base_uri": "https://localhost:8080/"
        },
        "id": "VF-LQb-FW1k0",
        "outputId": "40d2378e-8a88-42d2-ac79-ecfb97384739"
      },
      "source": [
        "list(filter(lambda x:x%2==1,range(11)))\n"
      ],
      "execution_count": 75,
      "outputs": [
        {
          "output_type": "execute_result",
          "data": {
            "text/plain": [
              "[1, 3, 5, 7, 9]"
            ]
          },
          "metadata": {
            "tags": []
          },
          "execution_count": 75
        }
      ]
    },
    {
      "cell_type": "code",
      "metadata": {
        "id": "031kMUYzXDrW"
      },
      "source": [
        ""
      ],
      "execution_count": null,
      "outputs": []
    }
  ]
}