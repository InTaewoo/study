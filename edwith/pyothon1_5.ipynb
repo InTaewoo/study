{
  "nbformat": 4,
  "nbformat_minor": 0,
  "metadata": {
    "colab": {
      "name": "pyothon1-5",
      "provenance": [],
      "collapsed_sections": []
    },
    "kernelspec": {
      "name": "python3",
      "display_name": "Python 3"
    },
    "language_info": {
      "name": "python"
    }
  },
  "cells": [
    {
      "cell_type": "code",
      "metadata": {
        "id": "1txPvlg8KZiR"
      },
      "source": [
        "movie='toy story'"
      ],
      "execution_count": 1,
      "outputs": []
    },
    {
      "cell_type": "code",
      "metadata": {
        "colab": {
          "base_uri": "https://localhost:8080/"
        },
        "id": "nMa40ODeLW2e",
        "outputId": "7a29d5d7-54d4-4ad7-9582-1d88c8bb7e6e"
      },
      "source": [
        "print(movie)"
      ],
      "execution_count": 2,
      "outputs": [
        {
          "output_type": "stream",
          "text": [
            "toy story\n"
          ],
          "name": "stdout"
        }
      ]
    },
    {
      "cell_type": "code",
      "metadata": {
        "colab": {
          "base_uri": "https://localhost:8080/",
          "height": 34
        },
        "id": "2xtXK9KpLYhn",
        "outputId": "8396d1f5-92a2-419b-a499-b1fa7881fdce"
      },
      "source": [
        "movie # ' ' 가 입려되서 나옴"
      ],
      "execution_count": 3,
      "outputs": [
        {
          "output_type": "execute_result",
          "data": {
            "application/vnd.google.colaboratory.intrinsic+json": {
              "type": "string"
            },
            "text/plain": [
              "'toy story'"
            ]
          },
          "metadata": {
            "tags": []
          },
          "execution_count": 3
        }
      ]
    },
    {
      "cell_type": "code",
      "metadata": {
        "id": "w5jF5g-ULaFe"
      },
      "source": [
        "x='5'\n",
        "y=5"
      ],
      "execution_count": 4,
      "outputs": []
    },
    {
      "cell_type": "code",
      "metadata": {
        "colab": {
          "base_uri": "https://localhost:8080/"
        },
        "id": "6LOY_BXTLo05",
        "outputId": "7d8703c1-00fe-4cd6-b690-99a5473d58eb"
      },
      "source": [
        "print(x)"
      ],
      "execution_count": 5,
      "outputs": [
        {
          "output_type": "stream",
          "text": [
            "5\n"
          ],
          "name": "stdout"
        }
      ]
    },
    {
      "cell_type": "code",
      "metadata": {
        "colab": {
          "base_uri": "https://localhost:8080/"
        },
        "id": "mzYVG57YLqHv",
        "outputId": "6e4264bb-5b73-4de6-bdb3-dd15936637f9"
      },
      "source": [
        "print(y)"
      ],
      "execution_count": 6,
      "outputs": [
        {
          "output_type": "stream",
          "text": [
            "5\n"
          ],
          "name": "stdout"
        }
      ]
    },
    {
      "cell_type": "code",
      "metadata": {
        "colab": {
          "base_uri": "https://localhost:8080/",
          "height": 34
        },
        "id": "-NW6JoN0Lxf6",
        "outputId": "c4a855fe-702f-46b8-e7e6-6825967d4063"
      },
      "source": [
        "x"
      ],
      "execution_count": 7,
      "outputs": [
        {
          "output_type": "execute_result",
          "data": {
            "application/vnd.google.colaboratory.intrinsic+json": {
              "type": "string"
            },
            "text/plain": [
              "'5'"
            ]
          },
          "metadata": {
            "tags": []
          },
          "execution_count": 7
        }
      ]
    },
    {
      "cell_type": "code",
      "metadata": {
        "colab": {
          "base_uri": "https://localhost:8080/"
        },
        "id": "GZB9S-ICLyR1",
        "outputId": "8fd018ca-2c46-4c4e-94de-a94e6e672d1f"
      },
      "source": [
        "y"
      ],
      "execution_count": 8,
      "outputs": [
        {
          "output_type": "execute_result",
          "data": {
            "text/plain": [
              "5"
            ]
          },
          "metadata": {
            "tags": []
          },
          "execution_count": 8
        }
      ]
    },
    {
      "cell_type": "code",
      "metadata": {
        "colab": {
          "base_uri": "https://localhost:8080/",
          "height": 170
        },
        "id": "6LOaW6jjLyz3",
        "outputId": "fad6d1fb-0a31-4097-9fc2-7cef0187e1a3"
      },
      "source": [
        "print('hello'+100) #문자열+숫자x"
      ],
      "execution_count": 9,
      "outputs": [
        {
          "output_type": "error",
          "ename": "TypeError",
          "evalue": "ignored",
          "traceback": [
            "\u001b[0;31m---------------------------------------------------------------------------\u001b[0m",
            "\u001b[0;31mTypeError\u001b[0m                                 Traceback (most recent call last)",
            "\u001b[0;32m<ipython-input-9-908dc944bef1>\u001b[0m in \u001b[0;36m<module>\u001b[0;34m()\u001b[0m\n\u001b[0;32m----> 1\u001b[0;31m \u001b[0mprint\u001b[0m\u001b[0;34m(\u001b[0m\u001b[0;34m'hello'\u001b[0m\u001b[0;34m+\u001b[0m\u001b[0;36m100\u001b[0m\u001b[0;34m)\u001b[0m\u001b[0;34m\u001b[0m\u001b[0;34m\u001b[0m\u001b[0m\n\u001b[0m",
            "\u001b[0;31mTypeError\u001b[0m: can only concatenate str (not \"int\") to str"
          ]
        }
      ]
    },
    {
      "cell_type": "code",
      "metadata": {
        "colab": {
          "base_uri": "https://localhost:8080/"
        },
        "id": "HuRRld4PL2B_",
        "outputId": "465fd0a3-96b7-45ae-e91e-3b663ecddf9a"
      },
      "source": [
        "print('hello'+str(100))"
      ],
      "execution_count": 10,
      "outputs": [
        {
          "output_type": "stream",
          "text": [
            "hello100\n"
          ],
          "name": "stdout"
        }
      ]
    },
    {
      "cell_type": "code",
      "metadata": {
        "colab": {
          "base_uri": "https://localhost:8080/"
        },
        "id": "Spet_wwCL9Nq",
        "outputId": "50d7ac1d-eda1-4109-a449-28eacff8f9b7"
      },
      "source": [
        "# print()함수 내에서 사용하는 특수문자 \\' \\''...\n",
        "print('hello\\\\world')"
      ],
      "execution_count": 11,
      "outputs": [
        {
          "output_type": "stream",
          "text": [
            "hello\\world\n"
          ],
          "name": "stdout"
        }
      ]
    },
    {
      "cell_type": "code",
      "metadata": {
        "colab": {
          "base_uri": "https://localhost:8080/"
        },
        "id": "9igvA4TsMsXG",
        "outputId": "cb13723e-5ab1-4407-8e9f-ccefda1c33b3"
      },
      "source": [
        " print('hello\\n world\\n python\\nprogramming') #한줄씩 띄어서 출력"
      ],
      "execution_count": 12,
      "outputs": [
        {
          "output_type": "stream",
          "text": [
            "hello\n",
            " world\n",
            " python\n",
            "programming\n"
          ],
          "name": "stdout"
        }
      ]
    },
    {
      "cell_type": "code",
      "metadata": {
        "id": "laiv-4FFNYNT"
      },
      "source": [
        ""
      ],
      "execution_count": null,
      "outputs": []
    },
    {
      "cell_type": "code",
      "metadata": {
        "id": "WE2XA1MAM6zW"
      },
      "source": [
        "# %이용한 서식출력(문자열,정수) 문자열:%s 정수:%d 실수:%f print(' '%(,))\n",
        "name='Alice'\n",
        "score=95"
      ],
      "execution_count": 14,
      "outputs": []
    },
    {
      "cell_type": "code",
      "metadata": {
        "colab": {
          "base_uri": "https://localhost:8080/"
        },
        "id": "o1TnC-TTNWqJ",
        "outputId": "f20b2411-7a92-4802-cf8d-648b1b18486c"
      },
      "source": [
        "print('%sgot%dscore'%(name,score)) #%s <- name %d <- score"
      ],
      "execution_count": 17,
      "outputs": [
        {
          "output_type": "stream",
          "text": [
            "Alicegot95score\n"
          ],
          "name": "stdout"
        }
      ]
    },
    {
      "cell_type": "code",
      "metadata": {
        "colab": {
          "base_uri": "https://localhost:8080/"
        },
        "id": "V_jqfjWmORd0",
        "outputId": "22c50448-e03c-4d30-ec92-241b97057283"
      },
      "source": [
        "print('%10s got %5d score'%(name,score)) # 10칸 잡아서 Alice출력, 5칸잡아서 90출력)"
      ],
      "execution_count": 18,
      "outputs": [
        {
          "output_type": "stream",
          "text": [
            "     Alice got    95 score\n"
          ],
          "name": "stdout"
        }
      ]
    },
    {
      "cell_type": "code",
      "metadata": {
        "id": "8PXOgqfsPOwy"
      },
      "source": [
        " math_score=87.3"
      ],
      "execution_count": 19,
      "outputs": []
    },
    {
      "cell_type": "code",
      "metadata": {
        "colab": {
          "base_uri": "https://localhost:8080/"
        },
        "id": "_y4fML92PgxM",
        "outputId": "12dcc199-6bef-4a38-fcfa-8cb1f43b7e37"
      },
      "source": [
        "print('You got %f in math'%(math_score)) # %a.bf (소수점포함 a칸을 잡고 소수점아래 b까지 출력 )"
      ],
      "execution_count": 20,
      "outputs": [
        {
          "output_type": "stream",
          "text": [
            "You got 87.300000 in math\n"
          ],
          "name": "stdout"
        }
      ]
    },
    {
      "cell_type": "code",
      "metadata": {
        "id": "XRsaNAtuQgmq"
      },
      "source": [
        "math=93.5\n",
        "eng=88.3"
      ],
      "execution_count": 21,
      "outputs": []
    },
    {
      "cell_type": "code",
      "metadata": {
        "colab": {
          "base_uri": "https://localhost:8080/"
        },
        "id": "HpXDmVLCPoJ0",
        "outputId": "469c7ddd-203c-452a-eaeb-901dba4f3a80"
      },
      "source": [
        "print('Math is %5.2f and Eng is %6.3f'%(math,eng))"
      ],
      "execution_count": 22,
      "outputs": [
        {
          "output_type": "stream",
          "text": [
            "Math is 93.50 and Eng is 88.300\n"
          ],
          "name": "stdout"
        }
      ]
    },
    {
      "cell_type": "code",
      "metadata": {
        "colab": {
          "base_uri": "https://localhost:8080/"
        },
        "id": "HOPoTHDOQoVe",
        "outputId": "b95dce4d-4703-4995-9a18-cf091807eae8"
      },
      "source": [
        "print('score is %d and gpa is %10.2f'%(85,3.7)) # %.2f=소수점 둘째짜리 까지 출력력"
      ],
      "execution_count": 23,
      "outputs": [
        {
          "output_type": "stream",
          "text": [
            "score is 85 and gpa is       3.70\n"
          ],
          "name": "stdout"
        }
      ]
    },
    {
      "cell_type": "code",
      "metadata": {
        "colab": {
          "base_uri": "https://localhost:8080/"
        },
        "id": "lwYfWnSSRL7_",
        "outputId": "7d721030-f9e9-414b-b814-6db52ea63a99"
      },
      "source": [
        "a='hello' #print()함수는 항상 \\n 을 추가함(한줄 자동으로 띄어짐)\n",
        "b='world'\n",
        "print(a)\n",
        "print(b)"
      ],
      "execution_count": 27,
      "outputs": [
        {
          "output_type": "stream",
          "text": [
            "hello\n",
            "world\n"
          ],
          "name": "stdout"
        }
      ]
    },
    {
      "cell_type": "code",
      "metadata": {
        "id": "N3APoRNpRojt"
      },
      "source": [
        " a='hello\\n'"
      ],
      "execution_count": 28,
      "outputs": []
    },
    {
      "cell_type": "code",
      "metadata": {
        "colab": {
          "base_uri": "https://localhost:8080/"
        },
        "id": "XmWyXNTRRz2W",
        "outputId": "10a72353-71f9-48f6-8d49-8d0b14489508"
      },
      "source": [
        "b='world'\n",
        "print(a)\n",
        "print(b)"
      ],
      "execution_count": 31,
      "outputs": [
        {
          "output_type": "stream",
          "text": [
            "hello\n",
            "\n",
            "world\n"
          ],
          "name": "stdout"
        }
      ]
    },
    {
      "cell_type": "code",
      "metadata": {
        "colab": {
          "base_uri": "https://localhost:8080/"
        },
        "id": "83azjwCiR2jh",
        "outputId": "b6aab17d-ebc8-4dc3-b25d-b3ed4447fc9a"
      },
      "source": [
        "print(a,end='')\n",
        "print(b)"
      ],
      "execution_count": 35,
      "outputs": [
        {
          "output_type": "stream",
          "text": [
            "hello\n",
            "world\n"
          ],
          "name": "stdout"
        }
      ]
    },
    {
      "cell_type": "code",
      "metadata": {
        "colab": {
          "base_uri": "https://localhost:8080/"
        },
        "id": "__L-0gjmSIb7",
        "outputId": "f5839352-edea-45d1-d981-f960373709b6"
      },
      "source": [
        "print(a,end='*****') #\\n 대신에 다른 문자 출력하고싶으면 end=' '\n",
        "print(b) "
      ],
      "execution_count": 36,
      "outputs": [
        {
          "output_type": "stream",
          "text": [
            "hello\n",
            "*****world\n"
          ],
          "name": "stdout"
        }
      ]
    },
    {
      "cell_type": "code",
      "metadata": {
        "colab": {
          "base_uri": "https://localhost:8080/"
        },
        "id": "TT_LiAvCSX-6",
        "outputId": "fe79adf5-7d19-4dbc-f4bb-d36724fac903"
      },
      "source": [
        "print(a,end='\\n')\n",
        "print(b)"
      ],
      "execution_count": 37,
      "outputs": [
        {
          "output_type": "stream",
          "text": [
            "hello\n",
            "\n",
            "world\n"
          ],
          "name": "stdout"
        }
      ]
    },
    {
      "cell_type": "code",
      "metadata": {
        "colab": {
          "base_uri": "https://localhost:8080/"
        },
        "id": "0NZ-rmvLSjW3",
        "outputId": "aa381d19-0d30-4bd9-bd0b-39a7e443000a"
      },
      "source": [
        "#input함수 키보드로부터 입력받음\n",
        "x=input('Enterx:')"
      ],
      "execution_count": 39,
      "outputs": [
        {
          "output_type": "stream",
          "text": [
            "Enterx:10\n"
          ],
          "name": "stdout"
        }
      ]
    },
    {
      "cell_type": "code",
      "metadata": {
        "colab": {
          "base_uri": "https://localhost:8080/"
        },
        "id": "SbB3_3_DS_7B",
        "outputId": "5eb23284-a4fc-4e2a-82af-7294acae83a4"
      },
      "source": [
        "print(x)"
      ],
      "execution_count": 40,
      "outputs": [
        {
          "output_type": "stream",
          "text": [
            "10\n"
          ],
          "name": "stdout"
        }
      ]
    },
    {
      "cell_type": "code",
      "metadata": {
        "colab": {
          "base_uri": "https://localhost:8080/",
          "height": 34
        },
        "id": "yT838sNUTKjW",
        "outputId": "a71d0412-7b6a-46b6-d69e-f1311bc2a46f"
      },
      "source": [
        "x"
      ],
      "execution_count": 41,
      "outputs": [
        {
          "output_type": "execute_result",
          "data": {
            "application/vnd.google.colaboratory.intrinsic+json": {
              "type": "string"
            },
            "text/plain": [
              "'10'"
            ]
          },
          "metadata": {
            "tags": []
          },
          "execution_count": 41
        }
      ]
    },
    {
      "cell_type": "code",
      "metadata": {
        "colab": {
          "base_uri": "https://localhost:8080/"
        },
        "id": "ycnAz5DkTN6q",
        "outputId": "9d6bf9eb-ebb9-4968-8a7d-b2e86fccf552"
      },
      "source": [
        "type(x) #입력받은 데이터는 항상 문자열로 처리"
      ],
      "execution_count": 42,
      "outputs": [
        {
          "output_type": "execute_result",
          "data": {
            "text/plain": [
              "str"
            ]
          },
          "metadata": {
            "tags": []
          },
          "execution_count": 42
        }
      ]
    },
    {
      "cell_type": "code",
      "metadata": {
        "colab": {
          "base_uri": "https://localhost:8080/"
        },
        "id": "LbC-3CTvTRam",
        "outputId": "a868803a-ef57-4c91-ca69-46a57901acd1"
      },
      "source": [
        "x=input('정수를 입력하시오:')"
      ],
      "execution_count": 43,
      "outputs": [
        {
          "output_type": "stream",
          "text": [
            "정수를 입력하시오:15\n"
          ],
          "name": "stdout"
        }
      ]
    },
    {
      "cell_type": "code",
      "metadata": {
        "colab": {
          "base_uri": "https://localhost:8080/",
          "height": 170
        },
        "id": "dmMKTttGTZ34",
        "outputId": "5f846368-b494-4fde-82c9-6db28d9a0eab"
      },
      "source": [
        "x+15 #문자열이기 때문에 계산x"
      ],
      "execution_count": 44,
      "outputs": [
        {
          "output_type": "error",
          "ename": "TypeError",
          "evalue": "ignored",
          "traceback": [
            "\u001b[0;31m---------------------------------------------------------------------------\u001b[0m",
            "\u001b[0;31mTypeError\u001b[0m                                 Traceback (most recent call last)",
            "\u001b[0;32m<ipython-input-44-e3a354640bc6>\u001b[0m in \u001b[0;36m<module>\u001b[0;34m()\u001b[0m\n\u001b[0;32m----> 1\u001b[0;31m \u001b[0mx\u001b[0m\u001b[0;34m+\u001b[0m\u001b[0;36m15\u001b[0m\u001b[0;34m\u001b[0m\u001b[0;34m\u001b[0m\u001b[0m\n\u001b[0m",
            "\u001b[0;31mTypeError\u001b[0m: can only concatenate str (not \"int\") to str"
          ]
        }
      ]
    },
    {
      "cell_type": "code",
      "metadata": {
        "colab": {
          "base_uri": "https://localhost:8080/"
        },
        "id": "dAW0y2z-TcEb",
        "outputId": "eb961749-653e-45d2-84e0-2d34f4869f98"
      },
      "source": [
        "int(x) + 10"
      ],
      "execution_count": 46,
      "outputs": [
        {
          "output_type": "execute_result",
          "data": {
            "text/plain": [
              "25"
            ]
          },
          "metadata": {
            "tags": []
          },
          "execution_count": 46
        }
      ]
    },
    {
      "cell_type": "code",
      "metadata": {
        "colab": {
          "base_uri": "https://localhost:8080/"
        },
        "id": "sMur82BBTfpT",
        "outputId": "cd307003-f01e-4d27-98ff-f7727eafdc47"
      },
      "source": [
        "x=int(input('Enter one integer:'))"
      ],
      "execution_count": 47,
      "outputs": [
        {
          "output_type": "stream",
          "text": [
            "Enter one integer:100\n"
          ],
          "name": "stdout"
        }
      ]
    },
    {
      "cell_type": "code",
      "metadata": {
        "colab": {
          "base_uri": "https://localhost:8080/"
        },
        "id": "BkaDSiHfTrdA",
        "outputId": "f6c938d7-d916-4b71-d741-3d2dd2f0f1f5"
      },
      "source": [
        "type(x)"
      ],
      "execution_count": 48,
      "outputs": [
        {
          "output_type": "execute_result",
          "data": {
            "text/plain": [
              "int"
            ]
          },
          "metadata": {
            "tags": []
          },
          "execution_count": 48
        }
      ]
    },
    {
      "cell_type": "code",
      "metadata": {
        "colab": {
          "base_uri": "https://localhost:8080/"
        },
        "id": "0ZfxXx94Tt0Q",
        "outputId": "b1e8ff85-757e-44dc-be4a-407c537f0b89"
      },
      "source": [
        "y=float(input('Enter one float number:'))"
      ],
      "execution_count": 49,
      "outputs": [
        {
          "output_type": "stream",
          "text": [
            "Enter one float number:3.14\n"
          ],
          "name": "stdout"
        }
      ]
    },
    {
      "cell_type": "code",
      "metadata": {
        "colab": {
          "base_uri": "https://localhost:8080/"
        },
        "id": "H6UVc2-9T0YW",
        "outputId": "08c6ae66-0c9b-40e5-80af-f19066ce8b4e"
      },
      "source": [
        "type(y)"
      ],
      "execution_count": 50,
      "outputs": [
        {
          "output_type": "execute_result",
          "data": {
            "text/plain": [
              "float"
            ]
          },
          "metadata": {
            "tags": []
          },
          "execution_count": 50
        }
      ]
    },
    {
      "cell_type": "code",
      "metadata": {
        "id": "RQgUy6YeT4iv"
      },
      "source": [
        ""
      ],
      "execution_count": null,
      "outputs": []
    }
  ]
}