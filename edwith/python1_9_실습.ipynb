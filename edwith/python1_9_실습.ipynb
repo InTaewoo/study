{
  "nbformat": 4,
  "nbformat_minor": 0,
  "metadata": {
    "colab": {
      "name": "python1-9 실습",
      "provenance": [],
      "collapsed_sections": []
    },
    "kernelspec": {
      "name": "python3",
      "display_name": "Python 3"
    },
    "language_info": {
      "name": "python"
    }
  },
  "cells": [
    {
      "cell_type": "code",
      "metadata": {
        "colab": {
          "base_uri": "https://localhost:8080/",
          "height": 70
        },
        "id": "xFoqDsI-Itie",
        "outputId": "7968697d-f78a-4218-a3bd-8d7297faa39a"
      },
      "source": [
        "#문제1 \n",
        "'''A학교에서는 주당 12시간 가본강의 만약 강의시간이 12시간을 초과하면\n",
        "초과한 근무시간에 대해 시간당 급여의 30%를 추가지급한다. 주당 총 근무시간과\n",
        "A학교의시간당 급여를 입력받아 1주일 급여를 계산해라.'''"
      ],
      "execution_count": 2,
      "outputs": [
        {
          "output_type": "execute_result",
          "data": {
            "application/vnd.google.colaboratory.intrinsic+json": {
              "type": "string"
            },
            "text/plain": [
              "'A학교에서는 주당 12시간 가본강의 만약 강의시간이 12시간을 초과하면\\n초과한 근무시간에 대해 시간당 급여의 30%를 추가지급한다. 주당 총 근무시간과\\nA학교의시간당 급여를 입력받아 1주일 급여를 계산해라.'"
            ]
          },
          "metadata": {
            "tags": []
          },
          "execution_count": 2
        }
      ]
    },
    {
      "cell_type": "code",
      "metadata": {
        "colab": {
          "base_uri": "https://localhost:8080/"
        },
        "id": "7hjl9AfsI-1T",
        "outputId": "c218a674-81c0-43a9-a52c-b815d3eed8e0"
      },
      "source": [
        "working_hour= int(input('근무시간을 입력하시오 : '))\n",
        "pay_per_hour= int(input('시간당 수당을 입력하시오 : '))\n",
        "total_pay= working_hour*pay_per_hour\n",
        "if working_hour>12 :\n",
        "  additional_pay=(working_hour-12)*pay_per_hour*0.3\n",
        "  total_pay += additional_pay\n",
        "print()\n",
        "print('총 급여는',total_pay,'원입니다.')"
      ],
      "execution_count": 4,
      "outputs": [
        {
          "output_type": "stream",
          "text": [
            "근무시간을 입력하시오 : 10\n",
            "시간당 수당을 입력하시오 : 50000\n",
            "\n",
            "총 급여는 500000 원입니다.\n"
          ],
          "name": "stdout"
        }
      ]
    },
    {
      "cell_type": "code",
      "metadata": {
        "colab": {
          "base_uri": "https://localhost:8080/"
        },
        "id": "r91tCMQBKXw7",
        "outputId": "dccc2416-2fe7-4da1-8f74-24d299d87d2f"
      },
      "source": [
        "#문제2\n",
        "#하나의 양의 정수를입력받아서 그 수의 약수를 모두출력, 개수도 출력\n",
        "n=int(input('정수를 입력하시오 : '))\n",
        "a=1\n",
        "count=0\n",
        "while a<= n:\n",
        "  if n%a==0:\n",
        "    print(a)\n",
        "    count+=1\n",
        "  a+=1\n",
        "print()\n",
        "print(n,'의 약수의 개수는:',count,'개 이다.')\n",
        "  "
      ],
      "execution_count": 10,
      "outputs": [
        {
          "output_type": "stream",
          "text": [
            "정수를 입력하시오 : 400\n",
            "1\n",
            "2\n",
            "4\n",
            "5\n",
            "8\n",
            "10\n",
            "16\n",
            "20\n",
            "25\n",
            "40\n",
            "50\n",
            "80\n",
            "100\n",
            "200\n",
            "400\n",
            "\n",
            "400 의 약수의 개수는: 15 개 이다.\n"
          ],
          "name": "stdout"
        }
      ]
    },
    {
      "cell_type": "code",
      "metadata": {
        "colab": {
          "base_uri": "https://localhost:8080/"
        },
        "id": "upveCBzaMlOG",
        "outputId": "1aef9953-9ef7-440e-be47-9e6a4e8d1018"
      },
      "source": [
        "#문제3 \n",
        "#다섯개의 정수를 하나씩 입력받아 그 정수들 중 가장 큰 값 출력\n",
        "n=int(input('정수를 입력하시오 : '))\n",
        "max=n\n",
        "loop_count=1\n",
        "while loop_count<=4:\n",
        "  n=int(input('정수를 입력하시오 : '))\n",
        "  if n >max:\n",
        "    max=n\n",
        "  loop_count+=1\n",
        "print()\n",
        "print('가장 큰 값 : ',max)\n"
      ],
      "execution_count": 16,
      "outputs": [
        {
          "output_type": "stream",
          "text": [
            "정수를 입력하시오 : 20\n",
            "정수를 입력하시오 : 5\n",
            "정수를 입력하시오 : 1\n",
            "정수를 입력하시오 : 4\n",
            "정수를 입력하시오 : 30\n",
            "\n",
            "가장 큰 값 :  30\n"
          ],
          "name": "stdout"
        }
      ]
    },
    {
      "cell_type": "code",
      "metadata": {
        "id": "q6jHsXgVPe8M"
      },
      "source": [
        ""
      ],
      "execution_count": null,
      "outputs": []
    }
  ]
}