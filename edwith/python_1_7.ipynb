{
  "nbformat": 4,
  "nbformat_minor": 0,
  "metadata": {
    "colab": {
      "name": "python 1-7",
      "provenance": [],
      "collapsed_sections": []
    },
    "kernelspec": {
      "name": "python3",
      "display_name": "Python 3"
    },
    "language_info": {
      "name": "python"
    }
  },
  "cells": [
    {
      "cell_type": "code",
      "metadata": {
        "colab": {
          "base_uri": "https://localhost:8080/"
        },
        "id": "dbZOtzb4Y5X7",
        "outputId": "df26aded-2813-4f38-ab72-62ae21cf6b50"
      },
      "source": [
        "#불리언(Boolean)표현식 : 참인식 거짓인지 판단할수 있는 문장\n",
        "x=100\n",
        "y=200\n",
        "x>y"
      ],
      "execution_count": 1,
      "outputs": [
        {
          "output_type": "execute_result",
          "data": {
            "text/plain": [
              "False"
            ]
          },
          "metadata": {
            "tags": []
          },
          "execution_count": 1
        }
      ]
    },
    {
      "cell_type": "code",
      "metadata": {
        "colab": {
          "base_uri": "https://localhost:8080/"
        },
        "id": "gSyhGKmtZVYW",
        "outputId": "56d9953d-33a8-4706-c1f9-d69ea7385b2d"
      },
      "source": [
        "x>=y"
      ],
      "execution_count": 2,
      "outputs": [
        {
          "output_type": "execute_result",
          "data": {
            "text/plain": [
              "False"
            ]
          },
          "metadata": {
            "tags": []
          },
          "execution_count": 2
        }
      ]
    },
    {
      "cell_type": "code",
      "metadata": {
        "id": "7BWTfrJFZX3R"
      },
      "source": [
        "#논리 연산자 "
      ],
      "execution_count": null,
      "outputs": []
    },
    {
      "cell_type": "code",
      "metadata": {
        "id": "ZqehSOiZZvoD"
      },
      "source": [
        "a=10\n",
        "b=20"
      ],
      "execution_count": 3,
      "outputs": []
    },
    {
      "cell_type": "code",
      "metadata": {
        "colab": {
          "base_uri": "https://localhost:8080/"
        },
        "id": "QuG2ckq2Zxbf",
        "outputId": "5b22dc92-6ace-416f-b07d-4976f8b0b385"
      },
      "source": [
        "a>5 and b>10"
      ],
      "execution_count": 4,
      "outputs": [
        {
          "output_type": "execute_result",
          "data": {
            "text/plain": [
              "True"
            ]
          },
          "metadata": {
            "tags": []
          },
          "execution_count": 4
        }
      ]
    },
    {
      "cell_type": "code",
      "metadata": {
        "id": "m9dF8TeQZzOQ"
      },
      "source": [
        "#if '조건'에는 불리언 표현식 와야함(참/거짓)\n",
        "#if 조건 : else: ~~"
      ],
      "execution_count": 5,
      "outputs": []
    },
    {
      "cell_type": "code",
      "metadata": {
        "id": "mXXgII1FbGfT"
      },
      "source": [
        "#성적(score)을입력받는다 70이상이면 '축하합니다'와'수고하셨습니다'\n",
        "#70점 미만이면 '수고하셨습니다' 만 출력\n"
      ],
      "execution_count": 6,
      "outputs": []
    },
    {
      "cell_type": "code",
      "metadata": {
        "colab": {
          "base_uri": "https://localhost:8080/"
        },
        "id": "dAHocDNAbSt7",
        "outputId": "5a646734-896b-433a-d002-2d34091cd25d"
      },
      "source": [
        "score=int(input('성적을 입력하시오 : '))\n",
        "if score>=70 :\n",
        " print('축하합니다') #띄어쓰기가 아니면core=int(input('성적을 입력하시오 : '))\n",
        "print('수고하셨습니다') \n"
      ],
      "execution_count": 2,
      "outputs": [
        {
          "output_type": "stream",
          "text": [
            "성적을 입력하시오 : 80\n",
            "축하합니다\n",
            "수고하셨습니다\n"
          ],
          "name": "stdout"
        }
      ]
    },
    {
      "cell_type": "code",
      "metadata": {
        "id": "OcelLy59bmHe"
      },
      "source": [
        "#짝수이면 '짝수입니다'와'프로그램종료' 홀수이면'홀수입니다''프로그램종료'"
      ],
      "execution_count": 12,
      "outputs": []
    },
    {
      "cell_type": "code",
      "metadata": {
        "colab": {
          "base_uri": "https://localhost:8080/"
        },
        "id": "SyedVqCicRZX",
        "outputId": "14a6b98f-496b-4328-c7d3-796373fc738e"
      },
      "source": [
        "number=int(input('정수를 입력하시오:'))\n",
        "if number%2==0:\n",
        "  print(number,'는 짝수입니다')\n",
        "else:\n",
        "  print(number,'는 홀수입니다')\n",
        "  print('프로그램 종료')"
      ],
      "execution_count": 13,
      "outputs": [
        {
          "output_type": "stream",
          "text": [
            "정수를 입력하시오:50\n",
            "50 는 짝수입니다\n"
          ],
          "name": "stdout"
        }
      ]
    },
    {
      "cell_type": "code",
      "metadata": {
        "id": "bi2F7Y0jcv6c"
      },
      "source": [
        " # 두 수중에 큰수 출력"
      ],
      "execution_count": 14,
      "outputs": []
    },
    {
      "cell_type": "code",
      "metadata": {
        "colab": {
          "base_uri": "https://localhost:8080/"
        },
        "id": "AJJ48xBGc4Dj",
        "outputId": "c5fea1f7-97a2-4f82-d3da-9e21d35b58da"
      },
      "source": [
        "a=int(input('Enter a :'))\n",
        "b=int(input('Enter b :'))\n",
        "if a>b :\n",
        "  max=a\n",
        "else:\n",
        "  max=b\n",
        "print(max)"
      ],
      "execution_count": 16,
      "outputs": [
        {
          "output_type": "stream",
          "text": [
            "Enter a :50\n",
            "Enter b :6\n",
            "50\n"
          ],
          "name": "stdout"
        }
      ]
    },
    {
      "cell_type": "code",
      "metadata": {
        "id": "yMud_18-dLKI"
      },
      "source": [
        "#elif 조건1이 거짓이면 조건2 또거짓이면 조건3 ..... <= elif사용"
      ],
      "execution_count": 17,
      "outputs": []
    },
    {
      "cell_type": "code",
      "metadata": {
        "id": "TOFepP7-d4R7"
      },
      "source": [
        "# 성적을 입력받는다 성적이 90이상이면 '당신의 학점은 A입니다'\n",
        "#성적이 80이상이고 90미만이면 '당신의 학점은b입니다'\n",
        "#성적이 70이상 80미만 'c입니다'\n",
        "#성적이 70미만이면 'd입니다'\n"
      ],
      "execution_count": 18,
      "outputs": []
    },
    {
      "cell_type": "code",
      "metadata": {
        "colab": {
          "base_uri": "https://localhost:8080/"
        },
        "id": "3rU-Bb35eFg7",
        "outputId": "91b84683-6740-4276-995c-45d07020f996"
      },
      "source": [
        "score=int(input('성적을 입력하세요 :'))\n",
        "if score>=90:  \n",
        "  grade='A'\n",
        "elif 80<=score<90:\n",
        "  grade='B'\n",
        "elif 70<=score<80:\n",
        "  grade=\"C\"\n",
        "else:\n",
        "  grade='D'\n",
        "print('당신의 학점은 :',grade,'입니다')\n",
        "\n"
      ],
      "execution_count": 22,
      "outputs": [
        {
          "output_type": "stream",
          "text": [
            "성적을 입력하세요 :50\n",
            "당신의 학점은 : D 입니다\n"
          ],
          "name": "stdout"
        }
      ]
    },
    {
      "cell_type": "code",
      "metadata": {
        "id": "tafAxjFkf6lS"
      },
      "source": [
        "#성적을 입력받는다\n",
        "#성적이 70이상이면 통과 '통과하셨습니다 출력'\n",
        "#90점 이상이면 'A장학금 대상자\"를 출력\n",
        "#80점 이상 90점 미만이면 'B장학금 대상자'를 출력\n",
        "#성적이 60이상 70미만이면'조건부통과'를출력\n",
        "#성적이 60점미만이면 '재수강'을 출력\n",
        "#끝나기전에 '수고하셨습니다' 출력\n"
      ],
      "execution_count": 23,
      "outputs": []
    },
    {
      "cell_type": "code",
      "metadata": {
        "colab": {
          "base_uri": "https://localhost:8080/"
        },
        "id": "ID19LnInfD1i",
        "outputId": "82b094fd-8eab-4d76-d6e2-fe5e619c6a66"
      },
      "source": [
        "score=int(input('성적을 입력하시오 : '))\n",
        "if score>=70:\n",
        "  print('통과하셨습니다')\n",
        "  print()\n",
        "  if score>=90:\n",
        "    print('A장학금 대상자')\n",
        "  elif 80<=score<90:\n",
        "    print('B장학금 대상자')\n",
        "elif 60<=score<70:\n",
        "    print('조건부통과')\n",
        "else:\n",
        "  print('재수강 대상자입니다')\n",
        "  print()\n",
        "print('수고하셨습니다')"
      ],
      "execution_count": 30,
      "outputs": [
        {
          "output_type": "stream",
          "text": [
            "성적을 입력하시오 : 65\n",
            "조건부통과\n",
            "수고하셨습니다\n"
          ],
          "name": "stdout"
        }
      ]
    },
    {
      "cell_type": "code",
      "metadata": {
        "id": "9GDpFFAghuz2"
      },
      "source": [
        ""
      ],
      "execution_count": null,
      "outputs": []
    }
  ]
}