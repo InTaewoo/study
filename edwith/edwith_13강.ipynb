{
  "nbformat": 4,
  "nbformat_minor": 0,
  "metadata": {
    "colab": {
      "name": "edwith_13강.ipynb",
      "provenance": []
    },
    "kernelspec": {
      "name": "python3",
      "display_name": "Python 3"
    },
    "language_info": {
      "name": "python"
    }
  },
  "cells": [
    {
      "cell_type": "code",
      "metadata": {
        "colab": {
          "base_uri": "https://localhost:8080/"
        },
        "id": "A3hnyT_8qkSw",
        "outputId": "d2dfcef0-8494-45a4-fa0c-71e81302c45c"
      },
      "source": [
        "#실습1\n",
        "\n",
        "for i in range(10):\n",
        "  print(i,end=' ')\n",
        "print()\n",
        "for i in range(0,51,5):\n",
        "  print(i,end=' ')\n",
        "print()\n",
        "for i in range(10,0,-1):\n",
        "  print(i,end=' ')\n",
        "print()"
      ],
      "execution_count": 14,
      "outputs": [
        {
          "output_type": "stream",
          "text": [
            "0 1 2 3 4 5 6 7 8 9 \n",
            "0 5 10 15 20 25 30 35 40 45 50 \n",
            "10 9 8 7 6 5 4 3 2 1 \n"
          ],
          "name": "stdout"
        }
      ]
    },
    {
      "cell_type": "code",
      "metadata": {
        "colab": {
          "base_uri": "https://localhost:8080/"
        },
        "id": "IzWcDcXQrA0A",
        "outputId": "7f7f64d0-cc43-4d36-c53d-d1078bf81e5e"
      },
      "source": [
        "#실습2\n",
        "\n",
        "score=[]\n",
        "for i in range(5):\n",
        "  data=int(input('성적을 입력하시오:'))\n",
        "  score.append(data)\n",
        "print('입력한 성적들 :',score)\n",
        "\n",
        "#max min sum len\n",
        "print('최고성적 :' , max(score))\n",
        "print('최저성적 :',min(score))\n",
        "average=sum(score)/len(score)\n",
        "print('평균성적 :',average)\n"
      ],
      "execution_count": 19,
      "outputs": [
        {
          "output_type": "stream",
          "text": [
            "성적을 입력하시오:10\n",
            "성적을 입력하시오:20\n",
            "성적을 입력하시오:30\n",
            "성적을 입력하시오:40\n",
            "성적을 입력하시오:50\n",
            "입력한 성적들 : [10, 20, 30, 40, 50]\n",
            "최고성적 : 50\n",
            "최저성적 : 10\n",
            "평균성적 : 30.0\n"
          ],
          "name": "stdout"
        }
      ]
    },
    {
      "cell_type": "code",
      "metadata": {
        "colab": {
          "base_uri": "https://localhost:8080/"
        },
        "id": "QeSk4956saff",
        "outputId": "cfd1c5dd-576a-4726-c125-d75c5d14b535"
      },
      "source": [
        "#실습 3\n",
        "\n",
        "score={1:[80,90,86],2:[78,88,85],3:[85,85,92],4:[70,69,65],5:[90,95,100]}\n",
        "for key,value in score.items():\n",
        "  average=sum(value)/len(value)\n",
        "  print(key,'번:',average)"
      ],
      "execution_count": 26,
      "outputs": [
        {
          "output_type": "stream",
          "text": [
            "1 번: 85.33333333333333\n",
            "2 번: 83.66666666666667\n",
            "3 번: 87.33333333333333\n",
            "4 번: 68.0\n",
            "5 번: 95.0\n"
          ],
          "name": "stdout"
        }
      ]
    },
    {
      "cell_type": "code",
      "metadata": {
        "id": "vOp9BF38uWcJ"
      },
      "source": [
        ""
      ],
      "execution_count": null,
      "outputs": []
    }
  ]
}