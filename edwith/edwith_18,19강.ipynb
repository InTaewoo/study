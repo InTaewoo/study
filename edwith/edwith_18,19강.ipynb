{
  "nbformat": 4,
  "nbformat_minor": 0,
  "metadata": {
    "colab": {
      "name": "edwith_18,19강.ipynb",
      "provenance": [],
      "collapsed_sections": [],
      "authorship_tag": "ABX9TyP90ueFMY37kVjkQZsmw2lu",
      "include_colab_link": true
    },
    "kernelspec": {
      "name": "python3",
      "display_name": "Python 3"
    },
    "language_info": {
      "name": "python"
    }
  },
  "cells": [
    {
      "cell_type": "markdown",
      "metadata": {
        "id": "view-in-github",
        "colab_type": "text"
      },
      "source": [
        "<a href=\"https://colab.research.google.com/github/InTaewoo/study/blob/main/edwith_18%2C19%EA%B0%95.ipynb\" target=\"_parent\"><img src=\"https://colab.research.google.com/assets/colab-badge.svg\" alt=\"Open In Colab\"/></a>"
      ]
    },
    {
      "cell_type": "code",
      "metadata": {
        "colab": {
          "base_uri": "https://localhost:8080/",
          "height": 205
        },
        "id": "aOkhSirgqNWr",
        "outputId": "fa96688e-6dd2-4a18-ffbe-66616a3215d2"
      },
      "source": [
        "#구문에러 = invalid syntax\n",
        "a=10 ; b=0\n",
        "a/b"
      ],
      "execution_count": 2,
      "outputs": [
        {
          "output_type": "error",
          "ename": "ZeroDivisionError",
          "evalue": "ignored",
          "traceback": [
            "\u001b[0;31m---------------------------------------------------------------------------\u001b[0m",
            "\u001b[0;31mZeroDivisionError\u001b[0m                         Traceback (most recent call last)",
            "\u001b[0;32m<ipython-input-2-a09c775ab4a8>\u001b[0m in \u001b[0;36m<module>\u001b[0;34m()\u001b[0m\n\u001b[1;32m      1\u001b[0m \u001b[0;31m#구문에러 = invalid syntax\u001b[0m\u001b[0;34m\u001b[0m\u001b[0;34m\u001b[0m\u001b[0;34m\u001b[0m\u001b[0m\n\u001b[1;32m      2\u001b[0m \u001b[0ma\u001b[0m\u001b[0;34m=\u001b[0m\u001b[0;36m10\u001b[0m \u001b[0;34m;\u001b[0m \u001b[0mb\u001b[0m\u001b[0;34m=\u001b[0m\u001b[0;36m0\u001b[0m\u001b[0;34m\u001b[0m\u001b[0;34m\u001b[0m\u001b[0m\n\u001b[0;32m----> 3\u001b[0;31m \u001b[0ma\u001b[0m\u001b[0;34m/\u001b[0m\u001b[0mb\u001b[0m\u001b[0;34m\u001b[0m\u001b[0;34m\u001b[0m\u001b[0m\n\u001b[0m",
            "\u001b[0;31mZeroDivisionError\u001b[0m: division by zero"
          ]
        }
      ]
    },
    {
      "cell_type": "code",
      "metadata": {
        "colab": {
          "base_uri": "https://localhost:8080/",
          "height": 187
        },
        "id": "Lp9iDU7_rLQN",
        "outputId": "8201cb20-e5a4-4f3a-d77b-bd2f8a6c7cc9"
      },
      "source": [
        "L=[1,2,3]\n",
        "print(L[3]) #없는공간에 데이터를 가져다씀"
      ],
      "execution_count": 3,
      "outputs": [
        {
          "output_type": "error",
          "ename": "IndexError",
          "evalue": "ignored",
          "traceback": [
            "\u001b[0;31m---------------------------------------------------------------------------\u001b[0m",
            "\u001b[0;31mIndexError\u001b[0m                                Traceback (most recent call last)",
            "\u001b[0;32m<ipython-input-3-e95d89bf43c0>\u001b[0m in \u001b[0;36m<module>\u001b[0;34m()\u001b[0m\n\u001b[1;32m      1\u001b[0m \u001b[0mL\u001b[0m\u001b[0;34m=\u001b[0m\u001b[0;34m[\u001b[0m\u001b[0;36m1\u001b[0m\u001b[0;34m,\u001b[0m\u001b[0;36m2\u001b[0m\u001b[0;34m,\u001b[0m\u001b[0;36m3\u001b[0m\u001b[0;34m]\u001b[0m\u001b[0;34m\u001b[0m\u001b[0;34m\u001b[0m\u001b[0m\n\u001b[0;32m----> 2\u001b[0;31m \u001b[0mprint\u001b[0m\u001b[0;34m(\u001b[0m\u001b[0mL\u001b[0m\u001b[0;34m[\u001b[0m\u001b[0;36m3\u001b[0m\u001b[0;34m]\u001b[0m\u001b[0;34m)\u001b[0m\u001b[0;34m\u001b[0m\u001b[0;34m\u001b[0m\u001b[0m\n\u001b[0m",
            "\u001b[0;31mIndexError\u001b[0m: list index out of range"
          ]
        }
      ]
    },
    {
      "cell_type": "code",
      "metadata": {
        "colab": {
          "base_uri": "https://localhost:8080/"
        },
        "id": "e6Of36vGrY2d",
        "outputId": "6edaf250-6e19-4ebb-b883-d09bda8a68de"
      },
      "source": [
        "a=int(input('Enter a:'))\n",
        "b=int(input('Enter b:'))\n",
        "try:\n",
        "  c=a/b\n",
        "  print(c)\n",
        "except ZeroDivisionError:\n",
        "  print('Cannot divide by 0')\n",
        "\n"
      ],
      "execution_count": 4,
      "outputs": [
        {
          "output_type": "stream",
          "text": [
            "Enter a:5\n",
            "Enter b:0\n",
            "Cannot divide by 0\n"
          ],
          "name": "stdout"
        }
      ]
    },
    {
      "cell_type": "code",
      "metadata": {
        "colab": {
          "base_uri": "https://localhost:8080/"
        },
        "id": "sa0ur-NLr933",
        "outputId": "c21fa361-9cac-4acb-fb84-cba11021b08d"
      },
      "source": [
        "# try :\n",
        "#  <예외 발생가능성이 있는 문장>\n",
        "# except <예외종류>\n",
        "#else: <예외가 발생하지 않은경우, 수행할문장>\n",
        "#finally : <예외와 상관없이 수행됨>\n",
        "a=5\n",
        "b=0\n",
        "L=[1,2,3]\n",
        "print('hello')\n",
        "try:\n",
        "  c=a/b\n",
        "  print(x)\n",
        "  pritn(L[3])\n",
        "except ZeroDivisionError:\n",
        "  print('cannot divide by zero!!')\n",
        "except NameEroor:\n",
        "  print('no variable named\"x\"')\n",
        "except IndexError:\n",
        "  print('out of indexing in list')\n",
        "else:\n",
        "  print('else part')"
      ],
      "execution_count": 6,
      "outputs": [
        {
          "output_type": "stream",
          "text": [
            "hello\n",
            "cannot divide by zero!!\n"
          ],
          "name": "stdout"
        }
      ]
    },
    {
      "cell_type": "markdown",
      "metadata": {
        "id": "R2O-sdOevZE9"
      },
      "source": [
        "# 19강 파일입출력"
      ]
    },
    {
      "cell_type": "code",
      "metadata": {
        "colab": {
          "base_uri": "https://localhost:8080/",
          "height": 241
        },
        "id": "O2RFPcpqsrid",
        "outputId": "a5b59a9e-6d9f-4150-8e27-90c989ae5537"
      },
      "source": [
        "#파일 입출력\n",
        "# open(file,mode)\n",
        "f=open('newfile.txt','r')\n",
        "a=f.read(4) #처음부터 4글자\n",
        "print(a)"
      ],
      "execution_count": 9,
      "outputs": [
        {
          "output_type": "error",
          "ename": "FileNotFoundError",
          "evalue": "ignored",
          "traceback": [
            "\u001b[0;31m---------------------------------------------------------------------------\u001b[0m",
            "\u001b[0;31mFileNotFoundError\u001b[0m                         Traceback (most recent call last)",
            "\u001b[0;32m<ipython-input-9-ffab385f955c>\u001b[0m in \u001b[0;36m<module>\u001b[0;34m()\u001b[0m\n\u001b[1;32m      1\u001b[0m \u001b[0;31m#파일 입출력\u001b[0m\u001b[0;34m\u001b[0m\u001b[0;34m\u001b[0m\u001b[0;34m\u001b[0m\u001b[0m\n\u001b[1;32m      2\u001b[0m \u001b[0;31m# open(file,mode)\u001b[0m\u001b[0;34m\u001b[0m\u001b[0;34m\u001b[0m\u001b[0;34m\u001b[0m\u001b[0m\n\u001b[0;32m----> 3\u001b[0;31m \u001b[0mf\u001b[0m\u001b[0;34m=\u001b[0m\u001b[0mopen\u001b[0m\u001b[0;34m(\u001b[0m\u001b[0;34m'newfile.txt'\u001b[0m\u001b[0;34m,\u001b[0m\u001b[0;34m'r'\u001b[0m\u001b[0;34m)\u001b[0m\u001b[0;34m\u001b[0m\u001b[0;34m\u001b[0m\u001b[0m\n\u001b[0m\u001b[1;32m      4\u001b[0m \u001b[0ma\u001b[0m\u001b[0;34m=\u001b[0m\u001b[0mf\u001b[0m\u001b[0;34m.\u001b[0m\u001b[0mread\u001b[0m\u001b[0;34m(\u001b[0m\u001b[0;36m4\u001b[0m\u001b[0;34m)\u001b[0m\u001b[0;34m\u001b[0m\u001b[0;34m\u001b[0m\u001b[0m\n\u001b[1;32m      5\u001b[0m \u001b[0mprint\u001b[0m\u001b[0;34m(\u001b[0m\u001b[0ma\u001b[0m\u001b[0;34m)\u001b[0m\u001b[0;34m\u001b[0m\u001b[0;34m\u001b[0m\u001b[0m\n",
            "\u001b[0;31mFileNotFoundError\u001b[0m: [Errno 2] No such file or directory: 'newfile.txt'"
          ]
        }
      ]
    },
    {
      "cell_type": "code",
      "metadata": {
        "id": "3pa7rperumDF"
      },
      "source": [
        "f=open('about.txt','r')\n",
        "a=f.readline() # 한줄 읽어오기\n",
        "print(a)\n",
        "b=f.readline()\n",
        "print(b)\n",
        "f.close"
      ],
      "execution_count": null,
      "outputs": []
    },
    {
      "cell_type": "code",
      "metadata": {
        "id": "ldfY_aHVvXPd"
      },
      "source": [
        "f= open('about.txt','r')\n",
        "for line in f: #파일객체로부터 자동으로 한줄씩\n",
        "  print(line)\n",
        "f.close()"
      ],
      "execution_count": null,
      "outputs": []
    },
    {
      "cell_type": "code",
      "metadata": {
        "id": "2Ca7mLIXv3XP"
      },
      "source": [
        "f=open('about.txt','r')\n",
        "a=f.readlines() #모든줄이 리스트로 들어감\n",
        "print(a)\n",
        "f.close()"
      ],
      "execution_count": null,
      "outputs": []
    },
    {
      "cell_type": "code",
      "metadata": {
        "id": "IEhKbw1Xwk-I"
      },
      "source": [
        "#파일을 통째로 읽어 한줄씩 저장\n",
        "f= open('score.txt','r')\n",
        "score=[]\n",
        "for line in f:\n",
        "  score.append(int(line))\n",
        "print(score)\n",
        "f.close()"
      ],
      "execution_count": null,
      "outputs": []
    },
    {
      "cell_type": "code",
      "metadata": {
        "id": "VVtMBjShxeEq"
      },
      "source": [
        "#파일을 통째로 읽어 한줄씩 저장\n",
        "D={}\n",
        "with open('ban.txt')asf:\n",
        "  for line in f:\n",
        "    (key,val)=line.split()\n",
        "    D[int(key)]=val\n",
        "  for[key,val]in D.items():\n",
        "    print(key,val)\n",
        "  f.close"
      ],
      "execution_count": null,
      "outputs": []
    }
  ]
}
