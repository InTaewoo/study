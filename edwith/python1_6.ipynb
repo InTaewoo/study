{
  "nbformat": 4,
  "nbformat_minor": 0,
  "metadata": {
    "colab": {
      "name": "python1-6",
      "provenance": [],
      "collapsed_sections": []
    },
    "kernelspec": {
      "name": "python3",
      "display_name": "Python 3"
    },
    "language_info": {
      "name": "python"
    }
  },
  "cells": [
    {
      "cell_type": "code",
      "metadata": {
        "colab": {
          "base_uri": "https://localhost:8080/",
          "height": 34
        },
        "id": "3-S9ZEYZMF5b",
        "outputId": "edfa41db-bc6b-411c-e2aa-248903d37af2"
      },
      "source": [
        " \"\"\"문제1 세과목(국어,수학,영어)성적을 input()함수로\n",
        " 입력받아 세과목의 총점과 평균을 구하는 프로그램 작성 평균은 소수점 둘째짜리까지\n",
        " \"\"\"\n"
      ],
      "execution_count": null,
      "outputs": [
        {
          "output_type": "execute_result",
          "data": {
            "application/vnd.google.colaboratory.intrinsic+json": {
              "type": "string"
            },
            "text/plain": [
              "'문제1 세과목(국어,수학,영어)성적을 input()함수로\\n입력받아 세과목의 총점과 평균을 구하는 프로그램 작성 평균은 소수점 둘째짜리까지\\n'"
            ]
          },
          "metadata": {
            "tags": []
          },
          "execution_count": 4
        }
      ]
    },
    {
      "cell_type": "code",
      "metadata": {
        "colab": {
          "base_uri": "https://localhost:8080/"
        },
        "id": "5uXE_Uy7Mtan",
        "outputId": "9b18741c-c9ca-4315-a3d3-1c84c8f68e4f"
      },
      "source": [
        "# 실습1\n",
        "kor=int(input('국어 성적을 입력하시오 : '))\n",
        "math=int(input('수학 성적을 입력하시오 : ' ))\n",
        "eng=int(input('영어 성적을 입력하시오 : '))\n",
        "print()  # <-- 한칸 띄어짐\n",
        "print('입력받은 성적')\n",
        "print('-'*15)\n",
        "print('국어 성적 : ', kor)\n",
        "print('수학 성적 : ', math)\n",
        "print('영어 성적 : ', eng)\n",
        "print()\n",
        "total=kor+math+eng\n",
        "average= total/3\n",
        "print('총점: ',total)\n",
        "print('평균: %.2f'%(average))\n"
      ],
      "execution_count": null,
      "outputs": [
        {
          "output_type": "stream",
          "text": [
            "국어 성적을 입력하시오 : 80\n",
            "수학 성적을 입력하시오 : 77\n",
            "영어 성적을 입력하시오 : 92\n",
            "\n",
            "입력받은 성적\n",
            "---------------\n",
            "국어 성적 :  80\n",
            "수학 성적 :  77\n",
            "영어 성적 :  92\n",
            "\n",
            "총점:  249\n",
            "평균: 83.00\n"
          ],
          "name": "stdout"
        }
      ]
    },
    {
      "cell_type": "code",
      "metadata": {
        "colab": {
          "base_uri": "https://localhost:8080/",
          "height": 34
        },
        "id": "57nDSaAENVrP",
        "outputId": "747b049d-61f4-4461-cc0c-6472b7efb656"
      },
      "source": [
        "'''input()함수를 이용하여 원의 반지름을 입력받는다. 입력받은 반지름으로\n",
        "원의 넓이와 둘레를 구하여 소수셋째짜리 까지 출력하는 프로그램을 작성하시오\n",
        "원주율은 3.141592'''"
      ],
      "execution_count": null,
      "outputs": [
        {
          "output_type": "execute_result",
          "data": {
            "application/vnd.google.colaboratory.intrinsic+json": {
              "type": "string"
            },
            "text/plain": [
              "'input()함수를 이용하여 원의 반지름을 입력받는다. 입력받은 반지름으로\\n원의 넓이와 둘레를 구하여 소수셋째짜리 까지 출력하는 프로그램을 작성하시오\\n원주율은 3.141592'"
            ]
          },
          "metadata": {
            "tags": []
          },
          "execution_count": 8
        }
      ]
    },
    {
      "cell_type": "code",
      "metadata": {
        "colab": {
          "base_uri": "https://localhost:8080/"
        },
        "id": "xrGn9wAJQAiK",
        "outputId": "54cdd580-2e33-42c0-fb98-95e26b9d96cb"
      },
      "source": [
        "# 실습2\n",
        "radius = int(input('반지름을 입력하시오 : '))\n",
        "print('반지름 : ', radius)\n",
        "area = 3.141592 * radius * radius #area= 3.141592 *pow(radius,2) <-radius의 제곱\n",
        "perimeter=2*3.141592*radius\n",
        "print()\n",
        "print('-'*20)\n",
        "print('원의 넓이 : %7.3f' % area)\n",
        "print('원의 둘레 : %.3f' % perimeter)"
      ],
      "execution_count": null,
      "outputs": [
        {
          "output_type": "stream",
          "text": [
            "반지름을 입력하시오 : 5\n",
            "반지름 :  5\n",
            "\n",
            "--------------------\n",
            "원의 넓이 :  78.540\n",
            "원의 둘레 : 31.416\n"
          ],
          "name": "stdout"
        }
      ]
    },
    {
      "cell_type": "code",
      "metadata": {
        "colab": {
          "base_uri": "https://localhost:8080/",
          "height": 123
        },
        "id": "zM965zC6RhC4",
        "outputId": "6d320be7-fe89-4840-dc79-1491f0057771"
      },
      "source": [
        "'''다섯자리 양의 정수를 받아서 다음과 같이 각 자리수를 떼어서 출력하는\n",
        "프로그램을 작성하시오. 항상 올바르게 다섯자리 숫자를 입력하고 1~9수만 입력한다\n",
        "고 가정한다.'''\n",
        "#실습3 (몫과 나머지 이용)\n",
        "n = int(input('다섯자리 정수를 입력하시오 : '))\n",
        "n10000 = n // 10000\n",
        "n = n % 10000\n",
        "\n",
        "n1000 = n//1000\n",
        "n=n%1000\n",
        "\n",
        "n100=n//100\n",
        "n=n%100 \n",
        "\n",
        "n10= n//10\n",
        "n1=n%10\n",
        "\n",
        "print(n10000, ',' ,n1000,',',n100 ,',', n10, ',', n1)\n",
        "print()\n",
        "print('프로그램을 끝내려면 엔터를 누르세요')\n",
        "input()\n",
        "\n"
      ],
      "execution_count": null,
      "outputs": [
        {
          "output_type": "stream",
          "text": [
            "다섯자리 정수를 입력하시오 : 42357\n",
            "4 , 2 , 3 , 5 , 7\n",
            "\n",
            "프로그램을 끝내려면 엔터를 누르세요\n",
            "\n"
          ],
          "name": "stdout"
        },
        {
          "output_type": "execute_result",
          "data": {
            "application/vnd.google.colaboratory.intrinsic+json": {
              "type": "string"
            },
            "text/plain": [
              "''"
            ]
          },
          "metadata": {
            "tags": []
          },
          "execution_count": 16
        }
      ]
    },
    {
      "cell_type": "code",
      "metadata": {
        "id": "M_YqperjUTKQ"
      },
      "source": [
        ""
      ],
      "execution_count": null,
      "outputs": []
    }
  ]
}