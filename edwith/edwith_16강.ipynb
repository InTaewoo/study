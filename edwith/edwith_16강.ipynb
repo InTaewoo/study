{
  "nbformat": 4,
  "nbformat_minor": 0,
  "metadata": {
    "colab": {
      "name": "edwith_16강.ipynb",
      "provenance": [],
      "authorship_tag": "ABX9TyPF1CiM5s8V3Tv/8GTqllGN",
      "include_colab_link": true
    },
    "kernelspec": {
      "name": "python3",
      "display_name": "Python 3"
    },
    "language_info": {
      "name": "python"
    }
  },
  "cells": [
    {
      "cell_type": "markdown",
      "metadata": {
        "id": "view-in-github",
        "colab_type": "text"
      },
      "source": [
        "<a href=\"https://colab.research.google.com/github/InTaewoo/study/blob/main/edwith_16%EA%B0%95.ipynb\" target=\"_parent\"><img src=\"https://colab.research.google.com/assets/colab-badge.svg\" alt=\"Open In Colab\"/></a>"
      ]
    },
    {
      "cell_type": "code",
      "metadata": {
        "colab": {
          "base_uri": "https://localhost:8080/"
        },
        "id": "g5RL7vr3ZJi4",
        "outputId": "09bd5ac9-2f49-4e15-baea-75b8c7a9010d"
      },
      "source": [
        "#파이썬 구성요소 modules+classes+built-in functions(내장함수)\n",
        "#모듈-코드들을 한단위로 묶어 사용하는 하나의단위\n",
        "#모듈을 반드시 import후에 사용\n",
        "import math\n",
        "math.pow(2,3)"
      ],
      "execution_count": null,
      "outputs": [
        {
          "output_type": "execute_result",
          "data": {
            "text/plain": [
              "8.0"
            ]
          },
          "metadata": {
            "tags": []
          },
          "execution_count": 1
        }
      ]
    },
    {
      "cell_type": "code",
      "metadata": {
        "colab": {
          "base_uri": "https://localhost:8080/"
        },
        "id": "9qZq7x07Zv3D",
        "outputId": "07f61e7a-9545-4bc5-ee9e-c078cf7a0182"
      },
      "source": [
        "#import<모듈>\n",
        "import math\n",
        "print(math.pi)\n",
        "print(math.pow(2,5))\n",
        "print(math.trunc(10.9))"
      ],
      "execution_count": null,
      "outputs": [
        {
          "output_type": "stream",
          "text": [
            "3.141592653589793\n",
            "32.0\n",
            "10\n"
          ],
          "name": "stdout"
        }
      ]
    },
    {
      "cell_type": "code",
      "metadata": {
        "colab": {
          "base_uri": "https://localhost:8080/"
        },
        "id": "ju1vy2ePZ6d_",
        "outputId": "66f24f06-dc34-4342-d2e8-c4d46cd31729"
      },
      "source": [
        "#from<모듈>import<함수명>\n",
        "from math import pow\n",
        "pow(2,5)\n",
        "from math import pow,sqrt,trunc #콤마로 여러 함수 사용가능\n",
        "sqrt(9)"
      ],
      "execution_count": null,
      "outputs": [
        {
          "output_type": "execute_result",
          "data": {
            "text/plain": [
              "3.0"
            ]
          },
          "metadata": {
            "tags": []
          },
          "execution_count": 6
        }
      ]
    },
    {
      "cell_type": "code",
      "metadata": {
        "colab": {
          "base_uri": "https://localhost:8080/"
        },
        "id": "DZAMALQpaKTf",
        "outputId": "45231ef9-d792-4419-bbbf-142ec4172f7c"
      },
      "source": [
        "from math import* #math모듈에 있는 모든함수를 사용\n",
        "log2(1024)"
      ],
      "execution_count": null,
      "outputs": [
        {
          "output_type": "execute_result",
          "data": {
            "text/plain": [
              "10.0"
            ]
          },
          "metadata": {
            "tags": []
          },
          "execution_count": 7
        }
      ]
    },
    {
      "cell_type": "code",
      "metadata": {
        "colab": {
          "base_uri": "https://localhost:8080/"
        },
        "id": "FM--ApltamHl",
        "outputId": "62779e32-e014-4dcf-a69b-6d0948a5bc09"
      },
      "source": [
        "import math as mt #모듈명 대신 mt를 사용\n",
        "mt.pow(3,5)"
      ],
      "execution_count": null,
      "outputs": [
        {
          "output_type": "execute_result",
          "data": {
            "text/plain": [
              "243.0"
            ]
          },
          "metadata": {
            "tags": []
          },
          "execution_count": 8
        }
      ]
    },
    {
      "cell_type": "code",
      "metadata": {
        "id": "z1czOGk2ax67"
      },
      "source": [
        "#모듈 만들기\n",
        "'''연산에 필요한 함수들을 모아놓은 연산모듈'''\n",
        "data=100\n",
        "def add_all(a,b,c):\n",
        "  total=a+b+c\n",
        "  return total\n",
        "def multiply_all(a,b,c):\n",
        "  result=a*b*c\n",
        "  return result\n"
      ],
      "execution_count": null,
      "outputs": []
    },
    {
      "cell_type": "code",
      "metadata": {
        "id": "JqH3FZUgbS3X"
      },
      "source": [
        "import random #임의값을 선택하는 함수\n",
        "dir(random)"
      ],
      "execution_count": null,
      "outputs": []
    },
    {
      "cell_type": "code",
      "metadata": {
        "colab": {
          "base_uri": "https://localhost:8080/"
        },
        "id": "I7dE8datbzBp",
        "outputId": "2ccd09f0-ae47-447d-ea5e-d1ca5fd7a3ec"
      },
      "source": [
        "import random\n",
        "random.randint(10,20)"
      ],
      "execution_count": null,
      "outputs": [
        {
          "output_type": "execute_result",
          "data": {
            "text/plain": [
              "20"
            ]
          },
          "metadata": {
            "tags": []
          },
          "execution_count": 14
        }
      ]
    },
    {
      "cell_type": "code",
      "metadata": {
        "colab": {
          "base_uri": "https://localhost:8080/"
        },
        "id": "ceQsWUYZcQKv",
        "outputId": "7ec973ee-607d-4a7f-8fbc-1bd5352735ad"
      },
      "source": [
        "random.randint(11,13)"
      ],
      "execution_count": null,
      "outputs": [
        {
          "output_type": "execute_result",
          "data": {
            "text/plain": [
              "13"
            ]
          },
          "metadata": {
            "tags": []
          },
          "execution_count": 15
        }
      ]
    },
    {
      "cell_type": "code",
      "metadata": {
        "colab": {
          "base_uri": "https://localhost:8080/"
        },
        "id": "T61vyU9BcSYk",
        "outputId": "2d3240c5-90ee-4e9c-864e-1fbb24b4a5c9"
      },
      "source": [
        "random.randint(1,100)"
      ],
      "execution_count": null,
      "outputs": [
        {
          "output_type": "execute_result",
          "data": {
            "text/plain": [
              "48"
            ]
          },
          "metadata": {
            "tags": []
          },
          "execution_count": 16
        }
      ]
    },
    {
      "cell_type": "code",
      "metadata": {
        "colab": {
          "base_uri": "https://localhost:8080/"
        },
        "id": "ZOhrvKFccUHI",
        "outputId": "910c104a-72a2-472d-8eb4-1b86636f0b06"
      },
      "source": [
        "random.randrange(10)"
      ],
      "execution_count": null,
      "outputs": [
        {
          "output_type": "execute_result",
          "data": {
            "text/plain": [
              "3"
            ]
          },
          "metadata": {
            "tags": []
          },
          "execution_count": 17
        }
      ]
    },
    {
      "cell_type": "code",
      "metadata": {
        "colab": {
          "base_uri": "https://localhost:8080/"
        },
        "id": "_YkpDOoWcYmJ",
        "outputId": "7af81e9b-d469-48e0-df72-d341aa128b3c"
      },
      "source": [
        "import random\n",
        "[random.randrange(20) for i in range(10)] #중복허용0~19중 10개개"
      ],
      "execution_count": null,
      "outputs": [
        {
          "output_type": "execute_result",
          "data": {
            "text/plain": [
              "[10, 15, 18, 11, 1, 12, 11, 4, 16, 10]"
            ]
          },
          "metadata": {
            "tags": []
          },
          "execution_count": 19
        }
      ]
    },
    {
      "cell_type": "code",
      "metadata": {
        "colab": {
          "base_uri": "https://localhost:8080/"
        },
        "id": "ATUQFPY_cmYf",
        "outputId": "e5b01f45-3ef9-4065-c91c-b44a01dbc921"
      },
      "source": [
        "random.sample(range(1,46),6) #중복허용 x "
      ],
      "execution_count": null,
      "outputs": [
        {
          "output_type": "execute_result",
          "data": {
            "text/plain": [
              "[42, 8, 44, 15, 2, 40]"
            ]
          },
          "metadata": {
            "tags": []
          },
          "execution_count": 24
        }
      ]
    },
    {
      "cell_type": "code",
      "metadata": {
        "colab": {
          "base_uri": "https://localhost:8080/",
          "height": 34
        },
        "id": "zsVn0Rufc12g",
        "outputId": "2478590e-2833-4674-f2ed-1fa920efbf41"
      },
      "source": [
        "#문자열 모듈\n",
        "w='avcaijdoiasej'\n",
        "random.choice(w)"
      ],
      "execution_count": null,
      "outputs": [
        {
          "output_type": "execute_result",
          "data": {
            "application/vnd.google.colaboratory.intrinsic+json": {
              "type": "string"
            },
            "text/plain": [
              "'i'"
            ]
          },
          "metadata": {
            "tags": []
          },
          "execution_count": 28
        }
      ]
    },
    {
      "cell_type": "code",
      "metadata": {
        "id": "AZ8-to6ndR4f"
      },
      "source": [
        ""
      ],
      "execution_count": null,
      "outputs": []
    }
  ]
}
