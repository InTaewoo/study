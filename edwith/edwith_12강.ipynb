{
  "nbformat": 4,
  "nbformat_minor": 0,
  "metadata": {
    "colab": {
      "name": "edwith_12강.ipynb",
      "provenance": [],
      "collapsed_sections": []
    },
    "kernelspec": {
      "name": "python3",
      "display_name": "Python 3"
    },
    "language_info": {
      "name": "python"
    }
  },
  "cells": [
    {
      "cell_type": "code",
      "metadata": {
        "colab": {
          "base_uri": "https://localhost:8080/"
        },
        "id": "5togYgjnlqMM",
        "outputId": "400b812b-0179-4f86-f490-cb974fbab0a1"
      },
      "source": [
        "#range함수 range(b):0부터 b-1 range(a,b):a부터 b-1 range(a,b,n):a부터b까지n간격\n",
        "A=range(5)\n",
        "type(A)"
      ],
      "execution_count": 36,
      "outputs": [
        {
          "output_type": "execute_result",
          "data": {
            "text/plain": [
              "range"
            ]
          },
          "metadata": {
            "tags": []
          },
          "execution_count": 36
        }
      ]
    },
    {
      "cell_type": "code",
      "metadata": {
        "colab": {
          "base_uri": "https://localhost:8080/"
        },
        "id": "w9_byR1NmMTn",
        "outputId": "941f8b12-55e3-486a-98c6-92af10576b7b"
      },
      "source": [
        "list(range(5))\n",
        "list(range(5,10))\n",
        "list(range(3,10,2))"
      ],
      "execution_count": 4,
      "outputs": [
        {
          "output_type": "execute_result",
          "data": {
            "text/plain": [
              "[3, 5, 7, 9]"
            ]
          },
          "metadata": {
            "tags": []
          },
          "execution_count": 4
        }
      ]
    },
    {
      "cell_type": "code",
      "metadata": {
        "colab": {
          "base_uri": "https://localhost:8080/"
        },
        "id": "d2T675y5mQqR",
        "outputId": "ce33e5de-14f0-427f-c8d1-a7990a85225c"
      },
      "source": [
        "for i in range(5):\n",
        "  print(i)"
      ],
      "execution_count": 6,
      "outputs": [
        {
          "output_type": "stream",
          "text": [
            "0\n",
            "1\n",
            "2\n",
            "3\n",
            "4\n"
          ],
          "name": "stdout"
        }
      ]
    },
    {
      "cell_type": "code",
      "metadata": {
        "colab": {
          "base_uri": "https://localhost:8080/"
        },
        "id": "e-e3bv0jmuq7",
        "outputId": "cf6d00da-2b98-4c68-d768-6dd688da5834"
      },
      "source": [
        "for data in range(1,10,2):\n",
        "  print(data+1)"
      ],
      "execution_count": 8,
      "outputs": [
        {
          "output_type": "stream",
          "text": [
            "2\n",
            "4\n",
            "6\n",
            "8\n",
            "10\n"
          ],
          "name": "stdout"
        }
      ]
    },
    {
      "cell_type": "code",
      "metadata": {
        "colab": {
          "base_uri": "https://localhost:8080/"
        },
        "id": "Zh-Q7Fsym48G",
        "outputId": "d4bb4148-3568-4166-aae8-dc542937a7f3"
      },
      "source": [
        "for letter in 'PYTHON':\n",
        "  print(letter)"
      ],
      "execution_count": 9,
      "outputs": [
        {
          "output_type": "stream",
          "text": [
            "P\n",
            "Y\n",
            "T\n",
            "H\n",
            "O\n",
            "N\n"
          ],
          "name": "stdout"
        }
      ]
    },
    {
      "cell_type": "code",
      "metadata": {
        "colab": {
          "base_uri": "https://localhost:8080/"
        },
        "id": "JaHD6IYInDcR",
        "outputId": "a282cd1f-dc9d-4632-8a0f-c4fadf6837ea"
      },
      "source": [
        "for alpha in 'sogang':\n",
        "  y=alpha.upper()\n",
        "  print(y)"
      ],
      "execution_count": 11,
      "outputs": [
        {
          "output_type": "stream",
          "text": [
            "S\n",
            "O\n",
            "G\n",
            "A\n",
            "N\n",
            "G\n"
          ],
          "name": "stdout"
        }
      ]
    },
    {
      "cell_type": "code",
      "metadata": {
        "colab": {
          "base_uri": "https://localhost:8080/"
        },
        "id": "xFG0lzOVnMnN",
        "outputId": "d9430fc1-cd75-466a-e210-78228dfa3f08"
      },
      "source": [
        "for x in [1,3,5,7,9]:\n",
        "  print(x)"
      ],
      "execution_count": 12,
      "outputs": [
        {
          "output_type": "stream",
          "text": [
            "1\n",
            "3\n",
            "5\n",
            "7\n",
            "9\n"
          ],
          "name": "stdout"
        }
      ]
    },
    {
      "cell_type": "code",
      "metadata": {
        "colab": {
          "base_uri": "https://localhost:8080/"
        },
        "id": "3loEt0--nTcb",
        "outputId": "876d57ac-5cf5-450e-f15f-beb82a83f571"
      },
      "source": [
        "for x in [1,2,3,4,5]:\n",
        "  for y in [2,4,6,8,10]:\n",
        "    print(x*y,end=\"\")"
      ],
      "execution_count": 23,
      "outputs": [
        {
          "output_type": "stream",
          "text": [
            "246810481216206121824308162432401020304050"
          ],
          "name": "stdout"
        }
      ]
    },
    {
      "cell_type": "code",
      "metadata": {
        "colab": {
          "base_uri": "https://localhost:8080/"
        },
        "id": "-UPOTgEpngFZ",
        "outputId": "72544962-e3aa-491f-c544-96f9853a8e58"
      },
      "source": [
        " score={4:90,2:80,1:95,5:88,3:92} # 키값만 나옴\n",
        " for i in score:\n",
        "   print(i)"
      ],
      "execution_count": 26,
      "outputs": [
        {
          "output_type": "stream",
          "text": [
            "4\n",
            "2\n",
            "1\n",
            "5\n",
            "3\n"
          ],
          "name": "stdout"
        }
      ]
    },
    {
      "cell_type": "code",
      "metadata": {
        "colab": {
          "base_uri": "https://localhost:8080/"
        },
        "id": "d8YvHOKPoLR0",
        "outputId": "02e55fd3-af7c-4667-d32b-3e1120d835ec"
      },
      "source": [
        "for x,y in score.items():\n",
        "  print(x,y)"
      ],
      "execution_count": 27,
      "outputs": [
        {
          "output_type": "stream",
          "text": [
            "4 90\n",
            "2 80\n",
            "1 95\n",
            "5 88\n",
            "3 92\n"
          ],
          "name": "stdout"
        }
      ]
    },
    {
      "cell_type": "code",
      "metadata": {
        "colab": {
          "base_uri": "https://localhost:8080/"
        },
        "id": "6enqWuwSojTE",
        "outputId": "4edd9f9b-be4c-46f9-de7d-36bf3ff60740"
      },
      "source": [
        "for x in score.values():\n",
        "  print(x)"
      ],
      "execution_count": 28,
      "outputs": [
        {
          "output_type": "stream",
          "text": [
            "90\n",
            "80\n",
            "95\n",
            "88\n",
            "92\n"
          ],
          "name": "stdout"
        }
      ]
    },
    {
      "cell_type": "code",
      "metadata": {
        "colab": {
          "base_uri": "https://localhost:8080/"
        },
        "id": "wukwiLx7oq6I",
        "outputId": "420ee940-c42a-458a-a8d3-40341d82793c"
      },
      "source": [
        "A=[x**2 for x in range(10)]\n",
        "print(A)"
      ],
      "execution_count": 29,
      "outputs": [
        {
          "output_type": "stream",
          "text": [
            "[0, 1, 4, 9, 16, 25, 36, 49, 64, 81]\n"
          ],
          "name": "stdout"
        }
      ]
    },
    {
      "cell_type": "code",
      "metadata": {
        "colab": {
          "base_uri": "https://localhost:8080/"
        },
        "id": "J0vXP3RcpX4A",
        "outputId": "08cfb7fc-eb51-4dfe-c4f8-a342295fe5aa"
      },
      "source": [
        "B=[2**i for i in range(11)]\n",
        "print(B)"
      ],
      "execution_count": 34,
      "outputs": [
        {
          "output_type": "stream",
          "text": [
            "[1, 2, 4, 8, 16, 32, 64, 128, 256, 512, 1024]\n"
          ],
          "name": "stdout"
        }
      ]
    },
    {
      "cell_type": "code",
      "metadata": {
        "colab": {
          "base_uri": "https://localhost:8080/"
        },
        "id": "4t4JxZJ6peOJ",
        "outputId": "08dfca85-c0ab-479d-fd4a-c345a7f493fd"
      },
      "source": [
        "C=[x for x in A if x%2==0]\n",
        "print(C)"
      ],
      "execution_count": 35,
      "outputs": [
        {
          "output_type": "stream",
          "text": [
            "[0, 4, 16, 36, 64]\n"
          ],
          "name": "stdout"
        }
      ]
    },
    {
      "cell_type": "code",
      "metadata": {
        "id": "zvCgUHxEp3bd"
      },
      "source": [
        ""
      ],
      "execution_count": null,
      "outputs": []
    }
  ]
}