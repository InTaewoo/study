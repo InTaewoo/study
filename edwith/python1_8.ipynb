{
  "nbformat": 4,
  "nbformat_minor": 0,
  "metadata": {
    "colab": {
      "name": "python1-8",
      "provenance": []
    },
    "kernelspec": {
      "name": "python3",
      "display_name": "Python 3"
    },
    "language_info": {
      "name": "python"
    }
  },
  "cells": [
    {
      "cell_type": "code",
      "metadata": {
        "id": "YamEbN6p_xtY"
      },
      "source": [
        "#반복문 while조건식: for x in"
      ],
      "execution_count": null,
      "outputs": []
    },
    {
      "cell_type": "code",
      "metadata": {
        "colab": {
          "base_uri": "https://localhost:8080/"
        },
        "id": "btnX8DC0BXiI",
        "outputId": "d1442e97-fda8-461a-d79f-52342162e006"
      },
      "source": [
        "a=1\n",
        "while a<=5:\n",
        "  print(a)\n",
        "  a+=1"
      ],
      "execution_count": null,
      "outputs": [
        {
          "output_type": "stream",
          "text": [
            "1\n",
            "2\n",
            "3\n",
            "4\n",
            "5\n"
          ],
          "name": "stdout"
        }
      ]
    },
    {
      "cell_type": "code",
      "metadata": {
        "colab": {
          "base_uri": "https://localhost:8080/"
        },
        "id": "E3YMk7R1BgiI",
        "outputId": "b8177fc1-4f0d-4374-c83b-603933573f65"
      },
      "source": [
        "#1부터 10까지의 합\n",
        "sum(range(11))"
      ],
      "execution_count": null,
      "outputs": [
        {
          "output_type": "execute_result",
          "data": {
            "text/plain": [
              "55"
            ]
          },
          "metadata": {
            "tags": []
          },
          "execution_count": 7
        }
      ]
    },
    {
      "cell_type": "code",
      "metadata": {
        "colab": {
          "base_uri": "https://localhost:8080/",
          "height": 241
        },
        "id": "i6eSmlNGCLVX",
        "outputId": "1e1bba4b-5918-4edc-9170-4ecf3c0aae8a"
      },
      "source": [
        "#짝수의 합\n",
        "a=1\n",
        "sum=0\n",
        "while a<=10:\n",
        " if a%2==0:\n",
        "  sum=+a\n",
        "a+=1\n",
        "print('sum',sum)"
      ],
      "execution_count": null,
      "outputs": [
        {
          "output_type": "error",
          "ename": "KeyboardInterrupt",
          "evalue": "ignored",
          "traceback": [
            "\u001b[0;31m---------------------------------------------------------------------------\u001b[0m",
            "\u001b[0;31mKeyboardInterrupt\u001b[0m                         Traceback (most recent call last)",
            "\u001b[0;32m<ipython-input-10-931ebcda205c>\u001b[0m in \u001b[0;36m<module>\u001b[0;34m()\u001b[0m\n\u001b[1;32m      3\u001b[0m \u001b[0msum\u001b[0m\u001b[0;34m=\u001b[0m\u001b[0;36m0\u001b[0m\u001b[0;34m\u001b[0m\u001b[0;34m\u001b[0m\u001b[0m\n\u001b[1;32m      4\u001b[0m \u001b[0;32mwhile\u001b[0m \u001b[0ma\u001b[0m\u001b[0;34m<=\u001b[0m\u001b[0;36m10\u001b[0m\u001b[0;34m:\u001b[0m\u001b[0;34m\u001b[0m\u001b[0;34m\u001b[0m\u001b[0m\n\u001b[0;32m----> 5\u001b[0;31m  \u001b[0;32mif\u001b[0m \u001b[0ma\u001b[0m\u001b[0;34m%\u001b[0m\u001b[0;36m2\u001b[0m\u001b[0;34m==\u001b[0m\u001b[0;36m0\u001b[0m\u001b[0;34m:\u001b[0m\u001b[0;34m\u001b[0m\u001b[0;34m\u001b[0m\u001b[0m\n\u001b[0m\u001b[1;32m      6\u001b[0m   \u001b[0msum\u001b[0m\u001b[0;34m=\u001b[0m\u001b[0;34m+\u001b[0m\u001b[0ma\u001b[0m\u001b[0;34m\u001b[0m\u001b[0;34m\u001b[0m\u001b[0m\n\u001b[1;32m      7\u001b[0m \u001b[0ma\u001b[0m\u001b[0;34m+=\u001b[0m\u001b[0;36m1\u001b[0m\u001b[0;34m\u001b[0m\u001b[0;34m\u001b[0m\u001b[0m\n",
            "\u001b[0;31mKeyboardInterrupt\u001b[0m: "
          ]
        }
      ]
    },
    {
      "cell_type": "code",
      "metadata": {
        "colab": {
          "base_uri": "https://localhost:8080/"
        },
        "id": "-BWAzpHyDGZc",
        "outputId": "04e1c606-2a19-4487-9cda-95a9a6cdb878"
      },
      "source": [
        "#break=루프를 끝나도록 함\n",
        "a=1\n",
        "while True:\n",
        "  print(a)\n",
        "  if a==5 : break\n",
        "  a+=1"
      ],
      "execution_count": null,
      "outputs": [
        {
          "output_type": "stream",
          "text": [
            "1\n",
            "2\n",
            "3\n",
            "4\n",
            "5\n"
          ],
          "name": "stdout"
        }
      ]
    },
    {
      "cell_type": "code",
      "metadata": {
        "colab": {
          "base_uri": "https://localhost:8080/"
        },
        "id": "EEdaRj5QEKg7",
        "outputId": "a788d4e2-dd5b-4d54-9f3c-939f4d87d22a"
      },
      "source": [
        "a=0\n",
        "while a<=10:\n",
        "  a+=1\n",
        "  if a%3==0:\n",
        "    continue  #continue 조건이 참인경우 실행x\n",
        "  print('a=',a)\n"
      ],
      "execution_count": null,
      "outputs": [
        {
          "output_type": "stream",
          "text": [
            "a= 1\n",
            "a= 2\n",
            "a= 4\n",
            "a= 5\n",
            "a= 7\n",
            "a= 8\n",
            "a= 10\n",
            "a= 11\n"
          ],
          "name": "stdout"
        }
      ]
    },
    {
      "cell_type": "code",
      "metadata": {
        "colab": {
          "base_uri": "https://localhost:8080/",
          "height": 134
        },
        "id": "ENYjG1LmFLni",
        "outputId": "1fe50c1a-02ef-43e5-d6bf-63c689bb526a"
      },
      "source": [
        " #while 안에 while \n",
        " #구구단 2단~9단\n",
        " dan=2\n",
        " while dan<=9:\n",
        "   n=1\n",
        "   while n<=10:\n",
        "     value=dan*n\n",
        "     print('%3d'%(value),end=\"\") #%3d = 줄맞춰 찍기#while 안에 while \n",
        "      #구구단 2단~9단\n",
        "       dan=2\n",
        "        while dan<=9:\n",
        "           n=1\n",
        "           while n<=10:\n",
        "            value=dan*n\n",
        "            print('%3d'%(value),end=\"\") #%3d = 줄맞춰 찍기\n",
        "            n+=1\n",
        "        print()\n",
        "   dan+=1\n",
        "   "
      ],
      "execution_count": null,
      "outputs": [
        {
          "output_type": "error",
          "ename": "IndentationError",
          "evalue": "ignored",
          "traceback": [
            "\u001b[0;36m  File \u001b[0;32m\"<ipython-input-29-c4444feb2a7f>\"\u001b[0;36m, line \u001b[0;32m10\u001b[0m\n\u001b[0;31m    dan=2\u001b[0m\n\u001b[0m    ^\u001b[0m\n\u001b[0;31mIndentationError\u001b[0m\u001b[0;31m:\u001b[0m unexpected indent\n"
          ]
        }
      ]
    },
    {
      "cell_type": "code",
      "metadata": {
        "id": "_9Qz_4HNGtzZ"
      },
      "source": [
        " "
      ],
      "execution_count": null,
      "outputs": []
    }
  ]
}