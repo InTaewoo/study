{
  "nbformat": 4,
  "nbformat_minor": 0,
  "metadata": {
    "colab": {
      "name": "파이썬_300제_(231~260).ipynb",
      "provenance": [],
      "authorship_tag": "ABX9TyMge8M/3IT0TalE6D9Q5lxt",
      "include_colab_link": true
    },
    "kernelspec": {
      "name": "python3",
      "display_name": "Python 3"
    },
    "language_info": {
      "name": "python"
    }
  },
  "cells": [
    {
      "cell_type": "markdown",
      "metadata": {
        "id": "view-in-github",
        "colab_type": "text"
      },
      "source": [
        "<a href=\"https://colab.research.google.com/github/InTaewoo/study/blob/main/%ED%8C%8C%EC%9D%B4%EC%8D%AC_300%EC%A0%9C/%ED%8C%8C%EC%9D%B4%EC%8D%AC_300%EC%A0%9C_(231~260).ipynb\" target=\"_parent\"><img src=\"https://colab.research.google.com/assets/colab-badge.svg\" alt=\"Open In Colab\"/></a>"
      ]
    },
    {
      "cell_type": "code",
      "metadata": {
        "colab": {
          "base_uri": "https://localhost:8080/"
        },
        "id": "PBRTQ_9EfyNl",
        "outputId": "f520f200-7d1e-4183-91fe-74ca32eaaf1f"
      },
      "source": [
        "# 231\n",
        "def n_plus_1(n):\n",
        "  result = n + 1\n",
        "  \n",
        "n_plus_1(3)\n",
        "print(result)\n",
        "\n",
        "# 함수 내부에서 사용한 변수는 함수 밖에서는 접근이 불가능"
      ],
      "execution_count": 5,
      "outputs": [
        {
          "output_type": "stream",
          "name": "stdout",
          "text": [
            "4\n"
          ]
        }
      ]
    },
    {
      "cell_type": "code",
      "metadata": {
        "colab": {
          "base_uri": "https://localhost:8080/",
          "height": 34
        },
        "id": "kRzB1xg_gB4L",
        "outputId": "1945190e-0d6d-4caa-c354-aa988b47aa50"
      },
      "source": [
        "# 232\n",
        "def make_url(site):\n",
        "  url = 'www.'+site+'.com'\n",
        "  return url\n",
        "make_url('naver')"
      ],
      "execution_count": 8,
      "outputs": [
        {
          "output_type": "execute_result",
          "data": {
            "application/vnd.google.colaboratory.intrinsic+json": {
              "type": "string"
            },
            "text/plain": [
              "'www.naver.com'"
            ]
          },
          "metadata": {},
          "execution_count": 8
        }
      ]
    },
    {
      "cell_type": "code",
      "metadata": {
        "colab": {
          "base_uri": "https://localhost:8080/"
        },
        "id": "QEuinbDKhMSV",
        "outputId": "c1e5ec5e-fce6-4ea3-e65f-36f9bac09925"
      },
      "source": [
        "# 233\n",
        "def make_list(word):\n",
        "  new_list = []\n",
        "  for i in word:\n",
        "    new_list.append(i)\n",
        "  return new_list\n",
        "make_list('abcd')"
      ],
      "execution_count": 13,
      "outputs": [
        {
          "output_type": "execute_result",
          "data": {
            "text/plain": [
              "['a', 'b', 'c', 'd']"
            ]
          },
          "metadata": {},
          "execution_count": 13
        }
      ]
    },
    {
      "cell_type": "code",
      "metadata": {
        "colab": {
          "base_uri": "https://localhost:8080/"
        },
        "id": "OJm-bQy_iITQ",
        "outputId": "018b2534-d52f-4e95-ac97-f80c1f2a488f"
      },
      "source": [
        "# 234\n",
        "def pickup_even(count):\n",
        "  new_count = []\n",
        "  for i in count :\n",
        "    if i % 2 == 0 :\n",
        "      new_count.append(i)\n",
        "  return new_count\n",
        "\n",
        "pickup_even([3,4,5,6,7,8,9])"
      ],
      "execution_count": 16,
      "outputs": [
        {
          "output_type": "execute_result",
          "data": {
            "text/plain": [
              "[4, 6, 8]"
            ]
          },
          "metadata": {},
          "execution_count": 16
        }
      ]
    },
    {
      "cell_type": "code",
      "metadata": {
        "colab": {
          "base_uri": "https://localhost:8080/"
        },
        "id": "sdx1Ar9sjWk4",
        "outputId": "c5303d73-5487-4639-d033-f1b74b1d973a"
      },
      "source": [
        "# 235\n",
        "def convert_int(count):\n",
        "  return int(count.replace(',',''))\n",
        " \n",
        "convert_int('1,234,578')"
      ],
      "execution_count": 24,
      "outputs": [
        {
          "output_type": "execute_result",
          "data": {
            "text/plain": [
              "1234578"
            ]
          },
          "metadata": {},
          "execution_count": 24
        }
      ]
    },
    {
      "cell_type": "code",
      "metadata": {
        "colab": {
          "base_uri": "https://localhost:8080/"
        },
        "id": "PZjqWmzsj8Mo",
        "outputId": "eb36b5c4-ba12-4e27-eda4-99416d1c48d5"
      },
      "source": [
        "# 236\n",
        "def 함수(num):\n",
        "  return num + 4\n",
        "\n",
        "a = 함수(10)\n",
        "b = 함수(a)\n",
        "c = 함수(b)\n",
        "print(c)"
      ],
      "execution_count": 25,
      "outputs": [
        {
          "output_type": "stream",
          "name": "stdout",
          "text": [
            "22\n"
          ]
        }
      ]
    },
    {
      "cell_type": "code",
      "metadata": {
        "colab": {
          "base_uri": "https://localhost:8080/"
        },
        "id": "q6-XJOxMlSZf",
        "outputId": "d0b8e28b-58b3-4cd5-b6c7-3c05707cce16"
      },
      "source": [
        "# 237\n",
        "def 함수(num):\n",
        "  return num+4\n",
        "\n",
        "c = 함수(함수(10))\n",
        "print(c)"
      ],
      "execution_count": 26,
      "outputs": [
        {
          "output_type": "stream",
          "name": "stdout",
          "text": [
            "18\n"
          ]
        }
      ]
    },
    {
      "cell_type": "code",
      "metadata": {
        "colab": {
          "base_uri": "https://localhost:8080/"
        },
        "id": "vxhjghH3lqck",
        "outputId": "f7665dad-2c1c-48f2-f8ca-335ef8ae2bc0"
      },
      "source": [
        "# 238\n",
        "def fun1(num) :\n",
        "  return num + 4\n",
        "\n",
        "def fun2(num) :\n",
        "  return num * 10\n",
        "\n",
        "a = fun1(10)\n",
        "c = fun2(a)\n",
        "print(c)"
      ],
      "execution_count": 27,
      "outputs": [
        {
          "output_type": "stream",
          "name": "stdout",
          "text": [
            "140\n"
          ]
        }
      ]
    },
    {
      "cell_type": "code",
      "metadata": {
        "colab": {
          "base_uri": "https://localhost:8080/"
        },
        "id": "jmpQwNPJl7BC",
        "outputId": "10d3b855-f38a-4202-c582-2471148e31f3"
      },
      "source": [
        "# 239\n",
        "def fun1(num):\n",
        "  return num+4\n",
        "\n",
        "def fun2(num):\n",
        "  num = num+2\n",
        "  return fun1(num)\n",
        "\n",
        "c = fun2(10)\n",
        "print(c)"
      ],
      "execution_count": 28,
      "outputs": [
        {
          "output_type": "stream",
          "name": "stdout",
          "text": [
            "16\n"
          ]
        }
      ]
    },
    {
      "cell_type": "code",
      "metadata": {
        "colab": {
          "base_uri": "https://localhost:8080/"
        },
        "id": "Xjsip8oUmaaV",
        "outputId": "fa64b45e-a9a3-4bd5-cb14-37bca8ddb0bb"
      },
      "source": [
        "# 240\n",
        "def fun0(num):\n",
        "  return num*2\n",
        "\n",
        "def fun1(num):\n",
        "  return fun0(num+2)\n",
        "\n",
        "def fun2(num):\n",
        "  num = num + 10\n",
        "  return fun1(num)\n",
        "\n",
        "c = fun2(2)\n",
        "print(c)"
      ],
      "execution_count": 29,
      "outputs": [
        {
          "output_type": "stream",
          "name": "stdout",
          "text": [
            "28\n"
          ]
        }
      ]
    },
    {
      "cell_type": "code",
      "metadata": {
        "colab": {
          "base_uri": "https://localhost:8080/"
        },
        "id": "AeBVfi4omv6n",
        "outputId": "f41a6d1a-2273-4c61-ac2c-0f7abed660a4"
      },
      "source": [
        "# 241 현재시간\n",
        "import datetime\n",
        "date = datetime.datetime.now()\n",
        "date"
      ],
      "execution_count": 34,
      "outputs": [
        {
          "output_type": "execute_result",
          "data": {
            "text/plain": [
              "datetime.datetime(2021, 11, 10, 2, 11, 5, 537195)"
            ]
          },
          "metadata": {},
          "execution_count": 34
        }
      ]
    },
    {
      "cell_type": "code",
      "metadata": {
        "colab": {
          "base_uri": "https://localhost:8080/"
        },
        "id": "y8zgPrftnBUg",
        "outputId": "d7ab427d-2743-425f-f314-ce797d14727a"
      },
      "source": [
        "# 242\n",
        "def time():\n",
        "  return datetime.datetime.now()\n",
        "\n",
        "time()\n"
      ],
      "execution_count": 36,
      "outputs": [
        {
          "output_type": "execute_result",
          "data": {
            "text/plain": [
              "datetime.datetime(2021, 11, 10, 2, 12, 24, 727974)"
            ]
          },
          "metadata": {},
          "execution_count": 36
        }
      ]
    },
    {
      "cell_type": "code",
      "metadata": {
        "colab": {
          "base_uri": "https://localhost:8080/"
        },
        "id": "K1F_gvHeng5I",
        "outputId": "ec667358-fcdd-430f-de4e-0bd1d6a93e79"
      },
      "source": [
        "# 243\n",
        "import datetime\n",
        "\n",
        "now = datetime.datetime.now()\n",
        "\n",
        "for day in range(5, 0, -1):\n",
        "    delta = datetime.timedelta(days=day)\n",
        "    date = now - delta\n",
        "    print(date)"
      ],
      "execution_count": 39,
      "outputs": [
        {
          "output_type": "stream",
          "name": "stdout",
          "text": [
            "2021-11-05 02:21:51.054791\n",
            "2021-11-06 02:21:51.054791\n",
            "2021-11-07 02:21:51.054791\n",
            "2021-11-08 02:21:51.054791\n",
            "2021-11-09 02:21:51.054791\n"
          ]
        }
      ]
    },
    {
      "cell_type": "code",
      "metadata": {
        "colab": {
          "base_uri": "https://localhost:8080/",
          "height": 34
        },
        "id": "_dl_S_ZfnxUl",
        "outputId": "7710039a-1abd-4d68-df58-dfd64cda27a6"
      },
      "source": [
        "# 244\n",
        "import datetime\n",
        "now = datetime.datetime.now()\n",
        "now.strftime('%H:%M:%S')"
      ],
      "execution_count": 42,
      "outputs": [
        {
          "output_type": "execute_result",
          "data": {
            "application/vnd.google.colaboratory.intrinsic+json": {
              "type": "string"
            },
            "text/plain": [
              "'02:25:45'"
            ]
          },
          "metadata": {},
          "execution_count": 42
        }
      ]
    },
    {
      "cell_type": "code",
      "metadata": {
        "colab": {
          "base_uri": "https://localhost:8080/"
        },
        "id": "gafGyhuBqZjp",
        "outputId": "717f1071-2646-4495-808e-9f14d7c58371"
      },
      "source": [
        "# 245\n",
        "day = '2020-05-04'\n",
        "ret = datetime.datetime.strptime(day,'%Y-%m-%d')\n",
        "print(ret,type(ret))"
      ],
      "execution_count": 47,
      "outputs": [
        {
          "output_type": "stream",
          "name": "stdout",
          "text": [
            "2020-05-04 00:00:00 <class 'datetime.datetime'>\n"
          ]
        }
      ]
    },
    {
      "cell_type": "code",
      "metadata": {
        "colab": {
          "base_uri": "https://localhost:8080/",
          "height": 330
        },
        "id": "S4TLJow-rj3p",
        "outputId": "03988fc9-b30b-4d12-9999-6f6822a4fdfe"
      },
      "source": [
        "# 246\n",
        "import time\n",
        "import datetime\n",
        "\n",
        "while True :\n",
        "  now = datetime.datetime.now()\n",
        "  print(now)\n",
        "  time.sleep(1)"
      ],
      "execution_count": 50,
      "outputs": [
        {
          "output_type": "stream",
          "name": "stdout",
          "text": [
            "2021-11-10 04:03:12.010488\n",
            "2021-11-10 04:03:13.013361\n",
            "2021-11-10 04:03:14.014769\n",
            "2021-11-10 04:03:15.016099\n",
            "2021-11-10 04:03:16.017456\n",
            "2021-11-10 04:03:17.018822\n",
            "2021-11-10 04:03:18.020117\n"
          ]
        },
        {
          "output_type": "error",
          "ename": "KeyboardInterrupt",
          "evalue": "ignored",
          "traceback": [
            "\u001b[0;31m---------------------------------------------------------------------------\u001b[0m",
            "\u001b[0;31mKeyboardInterrupt\u001b[0m                         Traceback (most recent call last)",
            "\u001b[0;32m<ipython-input-50-475601c6944a>\u001b[0m in \u001b[0;36m<module>\u001b[0;34m()\u001b[0m\n\u001b[1;32m      6\u001b[0m   \u001b[0mnow\u001b[0m \u001b[0;34m=\u001b[0m \u001b[0mdatetime\u001b[0m\u001b[0;34m.\u001b[0m\u001b[0mdatetime\u001b[0m\u001b[0;34m.\u001b[0m\u001b[0mnow\u001b[0m\u001b[0;34m(\u001b[0m\u001b[0;34m)\u001b[0m\u001b[0;34m\u001b[0m\u001b[0;34m\u001b[0m\u001b[0m\n\u001b[1;32m      7\u001b[0m   \u001b[0mprint\u001b[0m\u001b[0;34m(\u001b[0m\u001b[0mnow\u001b[0m\u001b[0;34m)\u001b[0m\u001b[0;34m\u001b[0m\u001b[0;34m\u001b[0m\u001b[0m\n\u001b[0;32m----> 8\u001b[0;31m   \u001b[0mtime\u001b[0m\u001b[0;34m.\u001b[0m\u001b[0msleep\u001b[0m\u001b[0;34m(\u001b[0m\u001b[0;36m1\u001b[0m\u001b[0;34m)\u001b[0m\u001b[0;34m\u001b[0m\u001b[0;34m\u001b[0m\u001b[0m\n\u001b[0m",
            "\u001b[0;31mKeyboardInterrupt\u001b[0m: "
          ]
        }
      ]
    },
    {
      "cell_type": "code",
      "metadata": {
        "id": "tFOwgoK9AFuU"
      },
      "source": [
        "# 247\n",
        "# import \n",
        "# from ~ import ~\n"
      ],
      "execution_count": 51,
      "outputs": []
    },
    {
      "cell_type": "code",
      "metadata": {
        "colab": {
          "base_uri": "https://localhost:8080/"
        },
        "id": "i99AfGa-BBL0",
        "outputId": "f6b994f2-1f8c-4124-c326-c95f0710de3f"
      },
      "source": [
        "# 248 작업 경로\n",
        "import os\n",
        "ret = os.getcwd()\n",
        "print(ret, type(ret))"
      ],
      "execution_count": 52,
      "outputs": [
        {
          "output_type": "stream",
          "name": "stdout",
          "text": [
            "/content <class 'str'>\n"
          ]
        }
      ]
    },
    {
      "cell_type": "code",
      "metadata": {
        "colab": {
          "base_uri": "https://localhost:8080/",
          "height": 134
        },
        "id": "NUUoO_RMCKPh",
        "outputId": "c8786173-bd0a-475c-c7c9-3dcc846f3cd4"
      },
      "source": [
        "# 249\n",
        "import os\n",
        "os.rename('C:\\Users\\DS\\Desktop/hello.txt', 'C:\\Users\\DS\\Desktop/practice.txt')"
      ],
      "execution_count": 57,
      "outputs": [
        {
          "output_type": "error",
          "ename": "SyntaxError",
          "evalue": "ignored",
          "traceback": [
            "\u001b[0;36m  File \u001b[0;32m\"<ipython-input-57-256c76210e3b>\"\u001b[0;36m, line \u001b[0;32m3\u001b[0m\n\u001b[0;31m    os.rename('C:\\Users\\DS\\Desktop/hello.txt', 'C:\\Users\\DS\\Desktop/practice.txt')\u001b[0m\n\u001b[0m             ^\u001b[0m\n\u001b[0;31mSyntaxError\u001b[0m\u001b[0;31m:\u001b[0m (unicode error) 'unicodeescape' codec can't decode bytes in position 2-3: truncated \\UXXXXXXXX escape\n"
          ]
        }
      ]
    },
    {
      "cell_type": "code",
      "metadata": {
        "colab": {
          "base_uri": "https://localhost:8080/"
        },
        "id": "C6B4WnkcCMTx",
        "outputId": "bf689ba6-780f-40e1-b705-0e00b8499562"
      },
      "source": [
        "# 250\n",
        "import numpy as np\n",
        "np.arange(0,5,0.1)"
      ],
      "execution_count": 64,
      "outputs": [
        {
          "output_type": "execute_result",
          "data": {
            "text/plain": [
              "array([0. , 0.1, 0.2, 0.3, 0.4, 0.5, 0.6, 0.7, 0.8, 0.9, 1. , 1.1, 1.2,\n",
              "       1.3, 1.4, 1.5, 1.6, 1.7, 1.8, 1.9, 2. , 2.1, 2.2, 2.3, 2.4, 2.5,\n",
              "       2.6, 2.7, 2.8, 2.9, 3. , 3.1, 3.2, 3.3, 3.4, 3.5, 3.6, 3.7, 3.8,\n",
              "       3.9, 4. , 4.1, 4.2, 4.3, 4.4, 4.5, 4.6, 4.7, 4.8, 4.9])"
            ]
          },
          "metadata": {},
          "execution_count": 64
        }
      ]
    },
    {
      "cell_type": "code",
      "metadata": {
        "id": "sJD-ow7HDTw9"
      },
      "source": [
        "# 251\n",
        "# 클래스, 객체, 인스턴스"
      ],
      "execution_count": 65,
      "outputs": []
    },
    {
      "cell_type": "code",
      "metadata": {
        "id": "PLHxhTwbFK_n"
      },
      "source": [
        "# 252\n",
        "class Human :\n",
        "  pass\n",
        "  "
      ],
      "execution_count": 66,
      "outputs": []
    },
    {
      "cell_type": "code",
      "metadata": {
        "id": "e2E1hZn-Fj4x"
      },
      "source": [
        "# 253\n",
        "class Human :\n",
        "  pass\n",
        "\n",
        "areum = Human()"
      ],
      "execution_count": 69,
      "outputs": []
    },
    {
      "cell_type": "code",
      "metadata": {
        "colab": {
          "base_uri": "https://localhost:8080/"
        },
        "id": "lVa9j-uyFy4b",
        "outputId": "cc38c91b-cbed-487d-c75d-f54bbc1b16a8"
      },
      "source": [
        "# 254\n",
        "class Human :\n",
        "  def __init__(self):\n",
        "    print(\"응애응애\")\n",
        "\n",
        "areum = Human()"
      ],
      "execution_count": 77,
      "outputs": [
        {
          "output_type": "stream",
          "name": "stdout",
          "text": [
            "응애응애\n"
          ]
        }
      ]
    },
    {
      "cell_type": "code",
      "metadata": {
        "colab": {
          "base_uri": "https://localhost:8080/"
        },
        "id": "h9AXLeJwGZTQ",
        "outputId": "9b2ff6c4-c7e0-46cd-f7f3-de480f823c30"
      },
      "source": [
        "class MyStatus: \n",
        "  def __init__(self,age,name,height,weight): \n",
        "    self.age = age \n",
        "    self.name = name \n",
        "    self.height = height \n",
        "    self.weight = weight \n",
        "  def print_name(self): \n",
        "    print(self.name) \n",
        "  def print_age(self): \n",
        "    print(self.age) \n",
        "  def print_height(self): \n",
        "    print(self.height) \n",
        "  def print_weight(self): \n",
        "    print(self.weight) \n",
        "a = MyStatus(34,\"yamada\",170,78)\n",
        "print(a)\n",
        "\n"
      ],
      "execution_count": 74,
      "outputs": [
        {
          "output_type": "stream",
          "name": "stdout",
          "text": [
            "<__main__.MyStatus object at 0x7f7a106edbd0>\n"
          ]
        }
      ]
    },
    {
      "cell_type": "code",
      "metadata": {
        "colab": {
          "base_uri": "https://localhost:8080/"
        },
        "id": "oTUMO1QLIjLy",
        "outputId": "ff67bf0f-8058-472d-f693-45aaafab7d13"
      },
      "source": [
        "# 255\n",
        "class Human :\n",
        "  def __init__(self,name,age,sex):\n",
        "    self.name = name\n",
        "    self.age = age\n",
        "    self.sex = sex\n",
        "\n",
        "areum = Human('아름',25,'여자')\n",
        "print(areum.age)\n"
      ],
      "execution_count": 81,
      "outputs": [
        {
          "output_type": "stream",
          "name": "stdout",
          "text": [
            "25\n"
          ]
        }
      ]
    },
    {
      "cell_type": "code",
      "metadata": {
        "colab": {
          "base_uri": "https://localhost:8080/"
        },
        "id": "zn2UFQSIJj0F",
        "outputId": "56562942-2d85-4324-b161-1573532fc190"
      },
      "source": [
        "# 256\n",
        "class Human :\n",
        "  def __init__(self,name,age,sex):\n",
        "    self.name = name\n",
        "    self.age = age\n",
        "    self.sex = sex\n",
        "  areum = Human('아름',25,'여자')\n",
        "  print(areum.age)"
      ],
      "execution_count": 83,
      "outputs": [
        {
          "output_type": "stream",
          "name": "stdout",
          "text": [
            "25\n"
          ]
        }
      ]
    },
    {
      "cell_type": "code",
      "metadata": {
        "colab": {
          "base_uri": "https://localhost:8080/"
        },
        "id": "ThmLUgBkNeKY",
        "outputId": "8171ffc9-e7fd-4f86-9b57-10808c815a1d"
      },
      "source": [
        "# 257\n",
        "class Human :\n",
        "  def __init__(self,name,age,sex):\n",
        "    self.name = name\n",
        "    self.age = age\n",
        "    self.sex = sex\n",
        "\n",
        "  def who(self) :\n",
        "    print(f'이름: {self.name}, 나이: {self.age}, 성별: {self.sex}')\n",
        "\n",
        "areum = Human('아름',25,'여자')\n",
        "areum.who()"
      ],
      "execution_count": 87,
      "outputs": [
        {
          "output_type": "stream",
          "name": "stdout",
          "text": [
            "이름: 아름, 나이: 25, 성별: 여자\n"
          ]
        }
      ]
    },
    {
      "cell_type": "code",
      "metadata": {
        "colab": {
          "base_uri": "https://localhost:8080/"
        },
        "id": "uPMJWgPROtuQ",
        "outputId": "ac60081a-3e40-4e74-be09-3e6abfc3e247"
      },
      "source": [
        "# 258\n",
        "class Human :\n",
        "  def __init__(self,name,age,sex):\n",
        "    self.name = name\n",
        "    self.age = age\n",
        "    self.sex = sex\n",
        "\n",
        "  def who(self):\n",
        "    print(f'이름: {self.name}, 나이: {self.age}, 성별: {self.sex}')\n",
        "\n",
        "  def setInfo(self,name,age,sex):\n",
        "    self.name = name\n",
        "    self.age = age\n",
        "    self.sex = sex\n",
        "\n",
        "areum = Human(\"모름\", 0, \"모름\")\n",
        "areum.setInfo('아름',25,'여자')\n",
        "areum.who()"
      ],
      "execution_count": 94,
      "outputs": [
        {
          "output_type": "stream",
          "name": "stdout",
          "text": [
            "이름: 아름, 나이: 25, 성별: 여자\n"
          ]
        }
      ]
    },
    {
      "cell_type": "code",
      "metadata": {
        "colab": {
          "base_uri": "https://localhost:8080/"
        },
        "id": "A-EvT2UOQbXm",
        "outputId": "995e39fa-162e-413f-ff9a-827e478f8e9e"
      },
      "source": [
        "# 259\n",
        "class Human :\n",
        "  def __init__(self,name,age,sex):\n",
        "    self.name = name\n",
        "    self.age = age\n",
        "    self.sex = sex\n",
        "\n",
        "  def __del__(self):\n",
        "    print('나의 죽음을 알리지 마라')\n",
        "\n",
        "  def who(self):\n",
        "    print(f'이름: {self.name}, 나이: {self.age}, 성별: {self.sex}')\n",
        "\n",
        "  def setInfo(self,name,age,sex):\n",
        "    self.name = name\n",
        "    self.age = age\n",
        "    self.sex = sex\n",
        "areum = Human('아름','25','여자')\n",
        "del(areum)"
      ],
      "execution_count": 97,
      "outputs": [
        {
          "output_type": "stream",
          "name": "stdout",
          "text": [
            "나의 죽음을 알리지 마라\n"
          ]
        }
      ]
    },
    {
      "cell_type": "code",
      "metadata": {
        "colab": {
          "base_uri": "https://localhost:8080/",
          "height": 205
        },
        "id": "6TwdzAwyR2CR",
        "outputId": "8cae8044-f117-407b-e630-fcc351583991"
      },
      "source": [
        "# 260\n",
        "class OMG : \n",
        "    def print() :\n",
        "        print(\"Oh my god\")\n",
        "        \n",
        "myStock = OMG()\n",
        "myStock.print()"
      ],
      "execution_count": 99,
      "outputs": [
        {
          "output_type": "error",
          "ename": "TypeError",
          "evalue": "ignored",
          "traceback": [
            "\u001b[0;31m---------------------------------------------------------------------------\u001b[0m",
            "\u001b[0;31mTypeError\u001b[0m                                 Traceback (most recent call last)",
            "\u001b[0;32m<ipython-input-99-020e1643b050>\u001b[0m in \u001b[0;36m<module>\u001b[0;34m()\u001b[0m\n\u001b[1;32m      5\u001b[0m \u001b[0;34m\u001b[0m\u001b[0m\n\u001b[1;32m      6\u001b[0m \u001b[0mmyStock\u001b[0m \u001b[0;34m=\u001b[0m \u001b[0mOMG\u001b[0m\u001b[0;34m(\u001b[0m\u001b[0;34m)\u001b[0m\u001b[0;34m\u001b[0m\u001b[0;34m\u001b[0m\u001b[0m\n\u001b[0;32m----> 7\u001b[0;31m \u001b[0mmyStock\u001b[0m\u001b[0;34m.\u001b[0m\u001b[0mprint\u001b[0m\u001b[0;34m(\u001b[0m\u001b[0;34m)\u001b[0m\u001b[0;34m\u001b[0m\u001b[0;34m\u001b[0m\u001b[0m\n\u001b[0m",
            "\u001b[0;31mTypeError\u001b[0m: print() takes 0 positional arguments but 1 was given"
          ]
        }
      ]
    },
    {
      "cell_type": "code",
      "metadata": {
        "id": "SHx-PF6VVYde"
      },
      "source": [
        ""
      ],
      "execution_count": null,
      "outputs": []
    }
  ]
}