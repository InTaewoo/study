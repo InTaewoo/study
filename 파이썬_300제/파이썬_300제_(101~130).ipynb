{
  "nbformat": 4,
  "nbformat_minor": 0,
  "metadata": {
    "colab": {
      "name": "파이썬_300제_(101~130).ipynb",
      "provenance": [],
      "authorship_tag": "ABX9TyNfIVWehKOqtciF98a/aEzt",
      "include_colab_link": true
    },
    "kernelspec": {
      "name": "python3",
      "display_name": "Python 3"
    },
    "language_info": {
      "name": "python"
    }
  },
  "cells": [
    {
      "cell_type": "markdown",
      "metadata": {
        "id": "view-in-github",
        "colab_type": "text"
      },
      "source": [
        "<a href=\"https://colab.research.google.com/github/InTaewoo/study/blob/main/%ED%8C%8C%EC%9D%B4%EC%8D%AC_300%EC%A0%9C/%ED%8C%8C%EC%9D%B4%EC%8D%AC_300%EC%A0%9C_(101~130).ipynb\" target=\"_parent\"><img src=\"https://colab.research.google.com/assets/colab-badge.svg\" alt=\"Open In Colab\"/></a>"
      ]
    },
    {
      "cell_type": "code",
      "metadata": {
        "id": "bSOMjSiYMAE9"
      },
      "source": [
        "# 101\n",
        "# 불리안타입"
      ],
      "execution_count": 1,
      "outputs": []
    },
    {
      "cell_type": "code",
      "metadata": {
        "colab": {
          "base_uri": "https://localhost:8080/"
        },
        "id": "ESvi0AdJMlel",
        "outputId": "c8b3ee1f-c6ae-421d-d532-1efe217d033b"
      },
      "source": [
        "# 102\n",
        "print(3==5)\n",
        "#False"
      ],
      "execution_count": 2,
      "outputs": [
        {
          "output_type": "stream",
          "name": "stdout",
          "text": [
            "False\n"
          ]
        }
      ]
    },
    {
      "cell_type": "code",
      "metadata": {
        "colab": {
          "base_uri": "https://localhost:8080/"
        },
        "id": "gYELRE22MpDZ",
        "outputId": "b9f648f3-b97a-478f-f0b9-da3d81976027"
      },
      "source": [
        "# 103\n",
        "print( 3 < 5)\n",
        "# True"
      ],
      "execution_count": 3,
      "outputs": [
        {
          "output_type": "stream",
          "name": "stdout",
          "text": [
            "True\n"
          ]
        }
      ]
    },
    {
      "cell_type": "code",
      "metadata": {
        "colab": {
          "base_uri": "https://localhost:8080/"
        },
        "id": "EY6JwJ5lMsgk",
        "outputId": "b5603b91-47a6-43ae-fdcf-a114b57fccd4"
      },
      "source": [
        "# 104\n",
        "x = 4\n",
        "print(1 < x < 5)\n",
        "# True"
      ],
      "execution_count": 4,
      "outputs": [
        {
          "output_type": "stream",
          "name": "stdout",
          "text": [
            "True\n"
          ]
        }
      ]
    },
    {
      "cell_type": "code",
      "metadata": {
        "colab": {
          "base_uri": "https://localhost:8080/"
        },
        "id": "_ZEq7rLGMu_d",
        "outputId": "bde2495e-8159-4d96-a608-874fb2fda0b7"
      },
      "source": [
        "# 105\n",
        "print ((3 == 3) and (4 != 3))\n",
        "# True"
      ],
      "execution_count": 5,
      "outputs": [
        {
          "output_type": "stream",
          "name": "stdout",
          "text": [
            "True\n"
          ]
        }
      ]
    },
    {
      "cell_type": "code",
      "metadata": {
        "colab": {
          "base_uri": "https://localhost:8080/",
          "height": 134
        },
        "id": "rBpXbabrM0Ke",
        "outputId": "0c6e8d58-4ef4-45a5-9abf-a6b7b4848755"
      },
      "source": [
        "# 106\n",
        "# print(3 => 4)\n",
        "# 지원하지 않는 연산자이다"
      ],
      "execution_count": 6,
      "outputs": [
        {
          "output_type": "error",
          "ename": "SyntaxError",
          "evalue": "ignored",
          "traceback": [
            "\u001b[0;36m  File \u001b[0;32m\"<ipython-input-6-7258ec1f5c32>\"\u001b[0;36m, line \u001b[0;32m2\u001b[0m\n\u001b[0;31m    print(3 => 4)\u001b[0m\n\u001b[0m             ^\u001b[0m\n\u001b[0;31mSyntaxError\u001b[0m\u001b[0;31m:\u001b[0m invalid syntax\n"
          ]
        }
      ]
    },
    {
      "cell_type": "code",
      "metadata": {
        "id": "HNM2Sdi3M8WS"
      },
      "source": [
        "# 107\n",
        "if 4 < 3:\n",
        "    print(\"Hello World\")\n",
        "# 결과 출력 X"
      ],
      "execution_count": 8,
      "outputs": []
    },
    {
      "cell_type": "code",
      "metadata": {
        "colab": {
          "base_uri": "https://localhost:8080/"
        },
        "id": "XaNj_SJ9NHTM",
        "outputId": "19410421-fb7f-4cb5-c3b6-524e35d82b78"
      },
      "source": [
        "# 108\n",
        "if 4 < 3:\n",
        "    print(\"Hello World.\")\n",
        "else:\n",
        "    print(\"Hi, there.\")\n",
        "# 조건에 만족하지 않기 때문에 Hi, there 출력"
      ],
      "execution_count": 9,
      "outputs": [
        {
          "output_type": "stream",
          "name": "stdout",
          "text": [
            "Hi, there.\n"
          ]
        }
      ]
    },
    {
      "cell_type": "code",
      "metadata": {
        "colab": {
          "base_uri": "https://localhost:8080/"
        },
        "id": "L8tslaXGNPgy",
        "outputId": "3ff81ece-c482-4d47-85f9-d88019484a9e"
      },
      "source": [
        "# 109\n",
        "if True :\n",
        "    print (\"1\")\n",
        "    print (\"2\")\n",
        "else :\n",
        "    print(\"3\")\n",
        "print(\"4\")\n"
      ],
      "execution_count": 10,
      "outputs": [
        {
          "output_type": "stream",
          "name": "stdout",
          "text": [
            "1\n",
            "2\n",
            "4\n"
          ]
        }
      ]
    },
    {
      "cell_type": "code",
      "metadata": {
        "colab": {
          "base_uri": "https://localhost:8080/"
        },
        "id": "e3ZIawk0NyFM",
        "outputId": "19ee9baa-d91c-473c-a7f3-3d6a5a30f5d2"
      },
      "source": [
        "# 110\n",
        "if True :\n",
        "    if False:\n",
        "        print(\"1\")\n",
        "        print(\"2\")\n",
        "    else:\n",
        "        print(\"3\")\n",
        "else :\n",
        "    print(\"4\")\n",
        "print(\"5\")"
      ],
      "execution_count": 11,
      "outputs": [
        {
          "output_type": "stream",
          "name": "stdout",
          "text": [
            "3\n",
            "5\n"
          ]
        }
      ]
    },
    {
      "cell_type": "code",
      "metadata": {
        "colab": {
          "base_uri": "https://localhost:8080/"
        },
        "id": "wGQ2FBMwODOu",
        "outputId": "cd4dca30-fc5a-4a59-8585-039024f3b2e9"
      },
      "source": [
        "# 111\n",
        "print('안녕하세요'*2)"
      ],
      "execution_count": 13,
      "outputs": [
        {
          "output_type": "stream",
          "name": "stdout",
          "text": [
            "안녕하세요안녕하세요\n"
          ]
        }
      ]
    },
    {
      "cell_type": "code",
      "metadata": {
        "colab": {
          "base_uri": "https://localhost:8080/"
        },
        "id": "8lZesvasOhFq",
        "outputId": "e7589fc1-9486-4d17-9454-868c189a019c"
      },
      "source": [
        "# 112\n",
        "num = int(input('숫자를 입력하세요 :'))\n",
        "print(num +10)"
      ],
      "execution_count": 15,
      "outputs": [
        {
          "output_type": "stream",
          "name": "stdout",
          "text": [
            "숫자를 입력하세요 :30\n",
            "40\n"
          ]
        }
      ]
    },
    {
      "cell_type": "code",
      "metadata": {
        "colab": {
          "base_uri": "https://localhost:8080/"
        },
        "id": "ZxT3OslhO6sK",
        "outputId": "d7c4fd04-efb7-4acc-ac74-efc1b29623bc"
      },
      "source": [
        "# 113\n",
        "num = int(input())\n",
        "if num % 2 == 0:\n",
        "  print('짝수')\n",
        "else :\n",
        "  print('홀수')"
      ],
      "execution_count": 18,
      "outputs": [
        {
          "output_type": "stream",
          "name": "stdout",
          "text": [
            "15\n",
            "홀수\n"
          ]
        }
      ]
    },
    {
      "cell_type": "code",
      "metadata": {
        "colab": {
          "base_uri": "https://localhost:8080/"
        },
        "id": "pGoMAvL4PP_Q",
        "outputId": "9f24005e-adb3-4026-d51a-f9a4d3dd4e09"
      },
      "source": [
        "# 114\n",
        "num = int(input('입력값 :'))\n",
        "if num + 20 > 255:\n",
        "  print('출력값 : ',255)\n",
        "else :\n",
        "  print('출력값 :',num + 20)"
      ],
      "execution_count": 20,
      "outputs": [
        {
          "output_type": "stream",
          "name": "stdout",
          "text": [
            "입력값 :240\n",
            "출력값 :  255\n"
          ]
        }
      ]
    },
    {
      "cell_type": "code",
      "metadata": {
        "colab": {
          "base_uri": "https://localhost:8080/"
        },
        "id": "Ba7e_jtVQQKV",
        "outputId": "195c90dc-9b1f-4de0-e876-866706d376b8"
      },
      "source": [
        "# 115\n",
        "num = int(input('입력값 : '))\n",
        "if num < 0 :\n",
        "  print('출력값: '0)\n",
        "elif num > 255:\n",
        "  print('출력값: '255)\n",
        "else : \n",
        "  print(num-20)"
      ],
      "execution_count": 21,
      "outputs": [
        {
          "output_type": "stream",
          "name": "stdout",
          "text": [
            "입력값 : 200\n",
            "180\n"
          ]
        }
      ]
    },
    {
      "cell_type": "code",
      "metadata": {
        "colab": {
          "base_uri": "https://localhost:8080/"
        },
        "id": "RWa7MGwaRDNB",
        "outputId": "47a00f42-f991-4caf-a7fa-ee675bc87c27"
      },
      "source": [
        "# 116\n",
        "time = input('현재시간: ')\n",
        "if time[-2:] == '00':\n",
        "  print('정각 입니다')\n",
        "else :\n",
        "  print('정각이 아닙니다')"
      ],
      "execution_count": 29,
      "outputs": [
        {
          "output_type": "stream",
          "name": "stdout",
          "text": [
            "현재시간: 24:00\n",
            "정각 입니다\n"
          ]
        }
      ]
    },
    {
      "cell_type": "code",
      "metadata": {
        "colab": {
          "base_uri": "https://localhost:8080/"
        },
        "id": "kGtpmKuAUzyv",
        "outputId": "65416b7b-ee18-437b-99d7-006ea8a10bef"
      },
      "source": [
        "# 117\n",
        "fruit = [\"사과\", \"포도\", \"홍시\"]\n",
        "ques = input('좋아하는 과일은?')\n",
        "if ques in fruit :\n",
        "  print('정답입니다')\n",
        "else :\n",
        "  print('오답입니다.')"
      ],
      "execution_count": 32,
      "outputs": [
        {
          "output_type": "stream",
          "name": "stdout",
          "text": [
            "좋아하는 과일은?바나나\n",
            "오답입니다.\n"
          ]
        }
      ]
    },
    {
      "cell_type": "code",
      "metadata": {
        "colab": {
          "base_uri": "https://localhost:8080/"
        },
        "id": "kx0Lo2UXVciC",
        "outputId": "55578362-2b2c-4920-9f55-a9d47b11a871"
      },
      "source": [
        "# 118\n",
        "warn_investment_list = [\"Microsoft\", \"Google\", \"Naver\", \"Kakao\", \"SAMSUNG\", \"LG\"]\n",
        "ques = input('종목명 :')\n",
        "if ques in warn_investment_list:\n",
        "  print('투자 경고 종목입니다')\n",
        "else :\n",
        "  print('투자 경고 종목이 아닙니다')"
      ],
      "execution_count": 34,
      "outputs": [
        {
          "output_type": "stream",
          "name": "stdout",
          "text": [
            "종목명 :Naver\n",
            "투자 경고 종목입니다\n"
          ]
        }
      ]
    },
    {
      "cell_type": "code",
      "metadata": {
        "colab": {
          "base_uri": "https://localhost:8080/"
        },
        "id": "LEJ3avQ6V9qj",
        "outputId": "c35bfd8a-b7cc-4ba3-c2c6-52697d6d8d44"
      },
      "source": [
        "# 119\n",
        "fruit = {\"봄\" : \"딸기\", \"여름\" : \"토마토\", \"가을\" : \"사과\"}\n",
        "season = input('제가 좋아하는 계절은 : ')\n",
        "if season in fruit.keys() :\n",
        "  print('정답입니다')\n",
        "else :\n",
        "  print('오답입니다')"
      ],
      "execution_count": 36,
      "outputs": [
        {
          "output_type": "stream",
          "name": "stdout",
          "text": [
            "제가 좋아하는 계절은 : 겨울\n",
            "오답입니다\n"
          ]
        }
      ]
    },
    {
      "cell_type": "code",
      "metadata": {
        "colab": {
          "base_uri": "https://localhost:8080/"
        },
        "id": "suJdcyaJWbpu",
        "outputId": "adb896c9-0643-4e37-d4e7-5f592670b338"
      },
      "source": [
        "# 120\n",
        "fruit = {\"봄\" : \"딸기\", \"여름\" : \"토마토\", \"가을\" : \"사과\"}\n",
        "season = input('제가 좋아하는 과일은 : ')\n",
        "if season in fruit.values() :\n",
        "  print('정답입니다')\n",
        "else :\n",
        "  print('오답입니다')"
      ],
      "execution_count": 39,
      "outputs": [
        {
          "output_type": "stream",
          "name": "stdout",
          "text": [
            "제가 좋아하는 과일은 : 한라봉\n",
            "오답입니다\n"
          ]
        }
      ]
    },
    {
      "cell_type": "code",
      "metadata": {
        "colab": {
          "base_uri": "https://localhost:8080/"
        },
        "id": "cfsnJ7CFWk8X",
        "outputId": "40acb0ca-51af-4e7f-9139-fd501eeb6974"
      },
      "source": [
        "# 121\n",
        "word = input('')\n",
        "if word.islower():\n",
        "  print(word.upper())\n",
        "else:\n",
        "  print(word.lower())"
      ],
      "execution_count": 42,
      "outputs": [
        {
          "output_type": "stream",
          "name": "stdout",
          "text": [
            "A\n",
            "a\n"
          ]
        }
      ]
    },
    {
      "cell_type": "code",
      "metadata": {
        "colab": {
          "base_uri": "https://localhost:8080/"
        },
        "id": "whnau_O3XIdj",
        "outputId": "a17e26c2-4b41-4e3e-c6bd-948bf0067df8"
      },
      "source": [
        "# 122\n",
        "score = int(input('scroe: '))\n",
        "if score > 80 :\n",
        "  print('grade is A')\n",
        "elif score > 60 and score < 81:\n",
        "  print('grade is B')\n",
        "elif score >40 and score <61:\n",
        "  print('grade is C')\n",
        "elif score > 20 and score > 41 :\n",
        "  print('grade is D')\n",
        "else :\n",
        "  print('grade is E')"
      ],
      "execution_count": 45,
      "outputs": [
        {
          "output_type": "stream",
          "name": "stdout",
          "text": [
            "scroe: 6\n",
            "grade is E\n"
          ]
        }
      ]
    },
    {
      "cell_type": "code",
      "metadata": {
        "colab": {
          "base_uri": "https://localhost:8080/"
        },
        "id": "oeCNP3TVX5xu",
        "outputId": "a2375a43-c917-4872-f978-0f7619e8b6a0"
      },
      "source": [
        "# 122 (1)\n",
        "score = input(\"score: \")\n",
        "score = int(score)\n",
        "if 81 <= score <= 100:\n",
        "    print(\"grade is A\")\n",
        "elif 61 <= score <= 80:\n",
        "    print(\"grade is B\")\n",
        "elif 41 <= score <= 60:\n",
        "    print(\"grade is C\")\n",
        "elif 21 <= score <= 40:\n",
        "    print(\"grade is D\")\n",
        "else:\n",
        "    print(\"grade is E\")"
      ],
      "execution_count": 46,
      "outputs": [
        {
          "output_type": "stream",
          "name": "stdout",
          "text": [
            "score: 60\n",
            "grade is C\n"
          ]
        }
      ]
    },
    {
      "cell_type": "code",
      "metadata": {
        "colab": {
          "base_uri": "https://localhost:8080/"
        },
        "id": "3G2smnjuYB52",
        "outputId": "a3796ae2-6862-49bc-c310-5908e91f13b4"
      },
      "source": [
        "# 123\n",
        "money = input('')\n",
        "money_per =int(money.split()[0])\n",
        "currency = money.split()[1]\n",
        "\n",
        "if currency == '달러':\n",
        "  print('{0:.2f} 원'.format(money_per*1167))\n",
        "elif currency == '엔':\n",
        "  print('{0:.2f} 원'.format(money_per*1.096))\n",
        "elif currency == '유로':\n",
        "  print('{0:.2f} 원'.format(money_per*171))\n",
        "else : \n",
        "  print('{0:.2f} 원'.format(money_per*171))\n"
      ],
      "execution_count": 71,
      "outputs": [
        {
          "output_type": "stream",
          "name": "stdout",
          "text": [
            "4291 달러\n",
            "5007597.00 원\n"
          ]
        }
      ]
    },
    {
      "cell_type": "code",
      "metadata": {
        "colab": {
          "base_uri": "https://localhost:8080/"
        },
        "id": "EIJvQxJWY0Wo",
        "outputId": "e5f18db7-ce1e-4c14-aaf8-b0001bed2aba"
      },
      "source": [
        "# 123(1)\n",
        "\n",
        "환율 = {\"달러\": 1167, \n",
        "        \"엔\": 1.096, \n",
        "        \"유로\": 1268, \n",
        "        \"위안\": 171}\n",
        "user = input(\"입력: \")\n",
        "num, currency = user.split()\n",
        "print(float(num) * 환율[currency], \"원\")"
      ],
      "execution_count": 72,
      "outputs": [
        {
          "output_type": "stream",
          "name": "stdout",
          "text": [
            "입력: 100 달러\n",
            "116700.0 원\n"
          ]
        }
      ]
    },
    {
      "cell_type": "code",
      "metadata": {
        "colab": {
          "base_uri": "https://localhost:8080/"
        },
        "id": "1B7NERKfctV_",
        "outputId": "0481ded2-08d0-46a1-e1bc-50c5e7859393"
      },
      "source": [
        "# 124\n",
        "a = int(input('number1 :'))\n",
        "b = int(input('number2 :'))\n",
        "c = int(input('number2 :'))\n",
        "print(max(a,b,c))\n"
      ],
      "execution_count": 75,
      "outputs": [
        {
          "output_type": "stream",
          "name": "stdout",
          "text": [
            "number1 :50\n",
            "number2 :492\n",
            "number2 :191\n",
            "492\n"
          ]
        }
      ]
    },
    {
      "cell_type": "code",
      "metadata": {
        "colab": {
          "base_uri": "https://localhost:8080/"
        },
        "id": "Dn3ZyCTXdMXq",
        "outputId": "7f72c375-04d2-4f28-efcc-9a764a18017a"
      },
      "source": [
        "# 125\n",
        "phone_num=input('휴대폰 번호 입력')\n",
        "dic = {'011':'SKT','016':'KT','019':'LGU','010':'알수없음'}\n",
        "if phone_num.split('-')[0] == '011':\n",
        "  print('당신은 {0} 사용자 입니다.'.format(dic['011']))\n",
        "elif phone_num.split('-')[0] == '016':\n",
        "  print('당신은 {0} 사용자 입니다.'.format(dic['016']))\n",
        "elif phone_num.split('-')[0] == '019':\n",
        "  print('당신은 {0} 사용자 입니다.'.format(dic['019']))\n",
        "else :\n",
        "  print('알수 없음')\n"
      ],
      "execution_count": 92,
      "outputs": [
        {
          "output_type": "stream",
          "name": "stdout",
          "text": [
            "휴대폰 번호 입력010-383-9391\n",
            "알수 없음\n"
          ]
        }
      ]
    },
    {
      "cell_type": "code",
      "metadata": {
        "colab": {
          "base_uri": "https://localhost:8080/"
        },
        "id": "Ca1YvzDidx9m",
        "outputId": "ddfcf53a-a7a3-43df-af10-91aea7e5559e"
      },
      "source": [
        "# 126\n",
        "num = input('우편번호: ')\n",
        "if num[:3] in['010','011','012']:\n",
        "  print('강북구')\n",
        "elif num[:3] in ['013','014','015']:\n",
        "  print('도봉구')\n",
        "else :\n",
        "  print('노원구')"
      ],
      "execution_count": 100,
      "outputs": [
        {
          "output_type": "stream",
          "name": "stdout",
          "text": [
            "우편번호: 01940\n",
            "노원구\n"
          ]
        }
      ]
    },
    {
      "cell_type": "code",
      "metadata": {
        "colab": {
          "base_uri": "https://localhost:8080/"
        },
        "id": "btgElXQLftG4",
        "outputId": "9494f2c9-181a-4c4f-e81a-186603d7b010"
      },
      "source": [
        "# 127\n",
        "num = input('주민등록번호: ')\n",
        "if num[7] in ['1','3']:\n",
        "  print('남자')\n",
        "else :\n",
        "  print('여자')"
      ],
      "execution_count": 102,
      "outputs": [
        {
          "output_type": "stream",
          "name": "stdout",
          "text": [
            "주민등록번호: 949104-203103\n",
            "여자\n"
          ]
        }
      ]
    },
    {
      "cell_type": "code",
      "metadata": {
        "colab": {
          "base_uri": "https://localhost:8080/"
        },
        "id": "_jJoppYJzAWc",
        "outputId": "a4c25029-27b9-4f8e-df48-6dc7f4f99c45"
      },
      "source": [
        "# 128\n",
        "num = input('주민등록번호: ')\n",
        "뒷자리 = num.split('-')[1]\n",
        "if 0 < int(뒷자리[1:2]) < 9:\n",
        "  print('서울이 아닙니다.')\n",
        "else :\n",
        "  print('서울 입니다')"
      ],
      "execution_count": 112,
      "outputs": [
        {
          "output_type": "stream",
          "name": "stdout",
          "text": [
            "주민등록번호: 861010-1015210\n",
            "서울 입니다\n"
          ]
        }
      ]
    },
    {
      "cell_type": "code",
      "metadata": {
        "colab": {
          "base_uri": "https://localhost:8080/"
        },
        "id": "36drvXh3z7xn",
        "outputId": "f1c1730b-8f5e-45ec-b970-d67838ff75f8"
      },
      "source": [
        "# 129\n",
        "num = input('주민등록번호 : ')\n",
        "last_num= (int(num[0])*2 + int(num[1])*3 + int(num[2])*4 + int(num[3])*5 + int(num[4])*6 + int(num[5])*7 + int(num[7])*8 + int(num[8])*9 + int(num[9]) * 2+ int(num[10])*3 + int(num[11])*4 + int(num[12])*5) % 11\n",
        "last = 11 - last_num\n",
        "if num[-1] == last :\n",
        "  print('유효한 주민등록번호입니다')\n",
        "else :\n",
        "  print('유효하지 않은 주민등록번호입니다')"
      ],
      "execution_count": 135,
      "outputs": [
        {
          "output_type": "stream",
          "name": "stdout",
          "text": [
            "주민등록번호 : 821010-1635210\n",
            "유효하지 않은 주민등록번호입니다\n"
          ]
        }
      ]
    },
    {
      "cell_type": "code",
      "metadata": {
        "colab": {
          "base_uri": "https://localhost:8080/"
        },
        "id": "hWOTbu501_Cc",
        "outputId": "33f18d3b-07e4-4ab4-f92a-191078227889"
      },
      "source": [
        "# 130\n",
        "import requests\n",
        "btc = requests.get(\"https://api.bithumb.com/public/ticker/\").json()['data']\n",
        "시가 = float(btc['opening_price'])\n",
        "변동폭 = float(btc['max_price'])-float(btc['min_price'])\n",
        "최고가 = float(btc['max_price'])\n",
        "\n",
        "if ( 시가 + 변동폭 ) > 최고가:\n",
        "  print('상승장')\n",
        "else :\n",
        "  print('하락장')"
      ],
      "execution_count": 145,
      "outputs": [
        {
          "output_type": "stream",
          "name": "stdout",
          "text": [
            "상승장\n"
          ]
        }
      ]
    },
    {
      "cell_type": "code",
      "metadata": {
        "id": "kx1821lx4sEc"
      },
      "source": [
        ""
      ],
      "execution_count": 137,
      "outputs": []
    }
  ]
}