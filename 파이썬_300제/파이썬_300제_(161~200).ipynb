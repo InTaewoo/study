{
  "nbformat": 4,
  "nbformat_minor": 0,
  "metadata": {
    "colab": {
      "name": "파이썬_300제_(161~200).ipynb",
      "provenance": [],
      "collapsed_sections": [],
      "authorship_tag": "ABX9TyMUx9GHZe9crd8WA9vC5Sr6",
      "include_colab_link": true
    },
    "kernelspec": {
      "name": "python3",
      "display_name": "Python 3"
    },
    "language_info": {
      "name": "python"
    }
  },
  "cells": [
    {
      "cell_type": "markdown",
      "metadata": {
        "id": "view-in-github",
        "colab_type": "text"
      },
      "source": [
        "<a href=\"https://colab.research.google.com/github/InTaewoo/study/blob/main/%ED%8C%8C%EC%9D%B4%EC%8D%AC_300%EC%A0%9C/%ED%8C%8C%EC%9D%B4%EC%8D%AC_300%EC%A0%9C_(161~200).ipynb\" target=\"_parent\"><img src=\"https://colab.research.google.com/assets/colab-badge.svg\" alt=\"Open In Colab\"/></a>"
      ]
    },
    {
      "cell_type": "code",
      "metadata": {
        "colab": {
          "base_uri": "https://localhost:8080/"
        },
        "id": "VjCTsc4QFcyg",
        "outputId": "fa4ce3f1-3116-4461-8226-ae9dbb0cde1c"
      },
      "source": [
        "# 161\n",
        "for i in range(100):\n",
        "  print(i)"
      ],
      "execution_count": 2,
      "outputs": [
        {
          "output_type": "stream",
          "name": "stdout",
          "text": [
            "0\n",
            "1\n",
            "2\n",
            "3\n",
            "4\n",
            "5\n",
            "6\n",
            "7\n",
            "8\n",
            "9\n",
            "10\n",
            "11\n",
            "12\n",
            "13\n",
            "14\n",
            "15\n",
            "16\n",
            "17\n",
            "18\n",
            "19\n",
            "20\n",
            "21\n",
            "22\n",
            "23\n",
            "24\n",
            "25\n",
            "26\n",
            "27\n",
            "28\n",
            "29\n",
            "30\n",
            "31\n",
            "32\n",
            "33\n",
            "34\n",
            "35\n",
            "36\n",
            "37\n",
            "38\n",
            "39\n",
            "40\n",
            "41\n",
            "42\n",
            "43\n",
            "44\n",
            "45\n",
            "46\n",
            "47\n",
            "48\n",
            "49\n",
            "50\n",
            "51\n",
            "52\n",
            "53\n",
            "54\n",
            "55\n",
            "56\n",
            "57\n",
            "58\n",
            "59\n",
            "60\n",
            "61\n",
            "62\n",
            "63\n",
            "64\n",
            "65\n",
            "66\n",
            "67\n",
            "68\n",
            "69\n",
            "70\n",
            "71\n",
            "72\n",
            "73\n",
            "74\n",
            "75\n",
            "76\n",
            "77\n",
            "78\n",
            "79\n",
            "80\n",
            "81\n",
            "82\n",
            "83\n",
            "84\n",
            "85\n",
            "86\n",
            "87\n",
            "88\n",
            "89\n",
            "90\n",
            "91\n",
            "92\n",
            "93\n",
            "94\n",
            "95\n",
            "96\n",
            "97\n",
            "98\n",
            "99\n"
          ]
        }
      ]
    },
    {
      "cell_type": "code",
      "metadata": {
        "colab": {
          "base_uri": "https://localhost:8080/"
        },
        "id": "O5lQ0BgcFo43",
        "outputId": "d27aafa0-ee42-4fcd-e927-97210d50ea57"
      },
      "source": [
        "# 162\n",
        "for i in range(2002,2050,4):\n",
        "  print(i)"
      ],
      "execution_count": 3,
      "outputs": [
        {
          "output_type": "stream",
          "name": "stdout",
          "text": [
            "2002\n",
            "2006\n",
            "2010\n",
            "2014\n",
            "2018\n",
            "2022\n",
            "2026\n",
            "2030\n",
            "2034\n",
            "2038\n",
            "2042\n",
            "2046\n"
          ]
        }
      ]
    },
    {
      "cell_type": "code",
      "metadata": {
        "colab": {
          "base_uri": "https://localhost:8080/"
        },
        "id": "O3pVW5VOF3AF",
        "outputId": "18dea866-6270-4f8b-a141-173546cf4f28"
      },
      "source": [
        "# 163\n",
        "for i in range(3,31,3):\n",
        "  print(i)"
      ],
      "execution_count": 5,
      "outputs": [
        {
          "output_type": "stream",
          "name": "stdout",
          "text": [
            "3\n",
            "6\n",
            "9\n",
            "12\n",
            "15\n",
            "18\n",
            "21\n",
            "24\n",
            "27\n",
            "30\n"
          ]
        }
      ]
    },
    {
      "cell_type": "code",
      "metadata": {
        "colab": {
          "base_uri": "https://localhost:8080/"
        },
        "id": "ECCbVL4FF_hS",
        "outputId": "5ea48bc4-eaf4-4282-a293-c5172698fde3"
      },
      "source": [
        "# 164\n",
        "for i in range(99,-1,-1):\n",
        "  print(i)"
      ],
      "execution_count": 9,
      "outputs": [
        {
          "output_type": "stream",
          "name": "stdout",
          "text": [
            "99\n",
            "98\n",
            "97\n",
            "96\n",
            "95\n",
            "94\n",
            "93\n",
            "92\n",
            "91\n",
            "90\n",
            "89\n",
            "88\n",
            "87\n",
            "86\n",
            "85\n",
            "84\n",
            "83\n",
            "82\n",
            "81\n",
            "80\n",
            "79\n",
            "78\n",
            "77\n",
            "76\n",
            "75\n",
            "74\n",
            "73\n",
            "72\n",
            "71\n",
            "70\n",
            "69\n",
            "68\n",
            "67\n",
            "66\n",
            "65\n",
            "64\n",
            "63\n",
            "62\n",
            "61\n",
            "60\n",
            "59\n",
            "58\n",
            "57\n",
            "56\n",
            "55\n",
            "54\n",
            "53\n",
            "52\n",
            "51\n",
            "50\n",
            "49\n",
            "48\n",
            "47\n",
            "46\n",
            "45\n",
            "44\n",
            "43\n",
            "42\n",
            "41\n",
            "40\n",
            "39\n",
            "38\n",
            "37\n",
            "36\n",
            "35\n",
            "34\n",
            "33\n",
            "32\n",
            "31\n",
            "30\n",
            "29\n",
            "28\n",
            "27\n",
            "26\n",
            "25\n",
            "24\n",
            "23\n",
            "22\n",
            "21\n",
            "20\n",
            "19\n",
            "18\n",
            "17\n",
            "16\n",
            "15\n",
            "14\n",
            "13\n",
            "12\n",
            "11\n",
            "10\n",
            "9\n",
            "8\n",
            "7\n",
            "6\n",
            "5\n",
            "4\n",
            "3\n",
            "2\n",
            "1\n",
            "0\n"
          ]
        }
      ]
    },
    {
      "cell_type": "code",
      "metadata": {
        "colab": {
          "base_uri": "https://localhost:8080/"
        },
        "id": "bXEeHQKeGHgv",
        "outputId": "493d4ac8-aac5-4f91-bc46-45945c368865"
      },
      "source": [
        "# 165\n",
        "for i in range(10):\n",
        "  print(f'0.{i}')"
      ],
      "execution_count": 10,
      "outputs": [
        {
          "output_type": "stream",
          "name": "stdout",
          "text": [
            "0.0\n",
            "0.1\n",
            "0.2\n",
            "0.3\n",
            "0.4\n",
            "0.5\n",
            "0.6\n",
            "0.7\n",
            "0.8\n",
            "0.9\n"
          ]
        }
      ]
    },
    {
      "cell_type": "code",
      "metadata": {
        "colab": {
          "base_uri": "https://localhost:8080/"
        },
        "id": "UsnPGxvIGVKR",
        "outputId": "c38d6904-a513-4e9d-e6d3-f5619b789e7a"
      },
      "source": [
        "# 166\n",
        "for i in range(1,10):\n",
        "  print(f'3x{i} = {3*i}')"
      ],
      "execution_count": 11,
      "outputs": [
        {
          "output_type": "stream",
          "name": "stdout",
          "text": [
            "3x1 = 3\n",
            "3x2 = 6\n",
            "3x3 = 9\n",
            "3x4 = 12\n",
            "3x5 = 15\n",
            "3x6 = 18\n",
            "3x7 = 21\n",
            "3x8 = 24\n",
            "3x9 = 27\n"
          ]
        }
      ]
    },
    {
      "cell_type": "code",
      "metadata": {
        "colab": {
          "base_uri": "https://localhost:8080/"
        },
        "id": "pzZmUSfhGmU0",
        "outputId": "2e1c7e38-afb5-4f8b-eb59-357d684bd81f"
      },
      "source": [
        "# 167\n",
        "for i in range(1,10,2):\n",
        "  print(f'3x{i} = {3*i}')"
      ],
      "execution_count": 13,
      "outputs": [
        {
          "output_type": "stream",
          "name": "stdout",
          "text": [
            "3x1 = 3\n",
            "3x3 = 9\n",
            "3x5 = 15\n",
            "3x7 = 21\n",
            "3x9 = 27\n"
          ]
        }
      ]
    },
    {
      "cell_type": "code",
      "metadata": {
        "colab": {
          "base_uri": "https://localhost:8080/"
        },
        "id": "PxnK_npAGo1U",
        "outputId": "bf0755ac-acff-4502-aa52-8c0a06cd383d"
      },
      "source": [
        "# 168\n",
        "sum = 0\n",
        "for i in range(1,11):\n",
        "  sum += i\n",
        "print(sum)\n"
      ],
      "execution_count": 15,
      "outputs": [
        {
          "output_type": "stream",
          "name": "stdout",
          "text": [
            "55\n"
          ]
        }
      ]
    },
    {
      "cell_type": "code",
      "metadata": {
        "colab": {
          "base_uri": "https://localhost:8080/"
        },
        "id": "4VxlBj0FG3f1",
        "outputId": "b8728cd1-5efd-45b4-97ea-57e19bc91491"
      },
      "source": [
        "# 169\n",
        "sum = 0\n",
        "for i in range(1,11,2):\n",
        "  sum += i\n",
        "print(sum)\n"
      ],
      "execution_count": 16,
      "outputs": [
        {
          "output_type": "stream",
          "name": "stdout",
          "text": [
            "25\n"
          ]
        }
      ]
    },
    {
      "cell_type": "code",
      "metadata": {
        "colab": {
          "base_uri": "https://localhost:8080/"
        },
        "id": "g7A8LlCgHIFx",
        "outputId": "64a93597-9589-45a8-d086-b0cb50769671"
      },
      "source": [
        "# 170\n",
        "gop = 1\n",
        "for i in range(1,11):\n",
        "  gop *= i\n",
        "print(gop)\n"
      ],
      "execution_count": 18,
      "outputs": [
        {
          "output_type": "stream",
          "name": "stdout",
          "text": [
            "3628800\n"
          ]
        }
      ]
    },
    {
      "cell_type": "code",
      "metadata": {
        "colab": {
          "base_uri": "https://localhost:8080/"
        },
        "id": "F-KB4HqNHYKO",
        "outputId": "8142405f-029d-4e49-a80c-52b27e4ba438"
      },
      "source": [
        "# 171\n",
        "price_list = [32100, 32150, 32000, 32500]\n",
        "for i in range(4) :\n",
        "  print(price_list[i])"
      ],
      "execution_count": 23,
      "outputs": [
        {
          "output_type": "stream",
          "name": "stdout",
          "text": [
            "32100\n",
            "32150\n",
            "32000\n",
            "32500\n"
          ]
        }
      ]
    },
    {
      "cell_type": "code",
      "metadata": {
        "colab": {
          "base_uri": "https://localhost:8080/"
        },
        "id": "kTT5OY_0HtH0",
        "outputId": "6c1e5fd8-abb8-40ab-aa22-d8acb34086e7"
      },
      "source": [
        "# 172\n",
        "for i in range(4):\n",
        "  print(i,price_list[i])"
      ],
      "execution_count": 24,
      "outputs": [
        {
          "output_type": "stream",
          "name": "stdout",
          "text": [
            "0 32100\n",
            "1 32150\n",
            "2 32000\n",
            "3 32500\n"
          ]
        }
      ]
    },
    {
      "cell_type": "code",
      "metadata": {
        "id": "3i-7ZD9xIQ6N"
      },
      "source": [
        "# 173\n",
        "price_list = [32100, 32150, 32000, 32500]\n",
        "for i in range(3,-1):\n",
        "  print(i,price_list[i])"
      ],
      "execution_count": 29,
      "outputs": []
    },
    {
      "cell_type": "code",
      "metadata": {
        "colab": {
          "base_uri": "https://localhost:8080/"
        },
        "id": "azPC-Zg9IeUR",
        "outputId": "7a346db6-c828-4c91-b068-ddbe71232ab1"
      },
      "source": [
        "# 174\n",
        "price_list = [32100, 32150, 32000, 32500]\n",
        "for i in range(len(price_list)-1):\n",
        "  print(i*10+100, price_list[i+1])\n",
        "\n"
      ],
      "execution_count": 40,
      "outputs": [
        {
          "output_type": "stream",
          "name": "stdout",
          "text": [
            "100 32150\n",
            "110 32000\n",
            "120 32500\n"
          ]
        }
      ]
    },
    {
      "cell_type": "code",
      "metadata": {
        "colab": {
          "base_uri": "https://localhost:8080/"
        },
        "id": "QVmPuKZyJ8fG",
        "outputId": "b63e590a-84e6-450e-c599-2f056122343e"
      },
      "source": [
        "# 175\n",
        "my_list = [\"가\", \"나\", \"다\", \"라\"]\n",
        "for i in range(len(my_list)-1):\n",
        "  print(my_list[i],my_list[i+1])"
      ],
      "execution_count": 38,
      "outputs": [
        {
          "output_type": "stream",
          "name": "stdout",
          "text": [
            "가 나\n",
            "나 다\n",
            "다 라\n"
          ]
        }
      ]
    },
    {
      "cell_type": "code",
      "metadata": {
        "colab": {
          "base_uri": "https://localhost:8080/"
        },
        "id": "d5vqk6LjKTyP",
        "outputId": "eef520a8-1e7d-455c-bae1-6b9d63c13bd3"
      },
      "source": [
        "# 176\n",
        "my_list = [\"가\", \"나\", \"다\", \"라\", \"마\"]\n",
        "for i in range( 2, len(my_list) ):\n",
        "    print(my_list[i-2], my_list[i-1], my_list[i])"
      ],
      "execution_count": 45,
      "outputs": [
        {
          "output_type": "stream",
          "name": "stdout",
          "text": [
            "가 나 다\n",
            "나 다 라\n",
            "다 라 마\n"
          ]
        }
      ]
    },
    {
      "cell_type": "code",
      "metadata": {
        "colab": {
          "base_uri": "https://localhost:8080/"
        },
        "id": "srVh1yFkLH0b",
        "outputId": "94e08ee6-2998-4f55-e2b5-a0c4ffb16f8f"
      },
      "source": [
        "# 177\n",
        "my_list = [\"가\", \"나\", \"다\", \"라\"]\n",
        "for i in range(len(my_list) - 1):\n",
        "    print(my_list[len(my_list) - 1 - i], my_list[len(my_list) - 2 - i])"
      ],
      "execution_count": 46,
      "outputs": [
        {
          "output_type": "stream",
          "name": "stdout",
          "text": [
            "라 다\n",
            "다 나\n",
            "나 가\n"
          ]
        }
      ]
    },
    {
      "cell_type": "code",
      "metadata": {
        "colab": {
          "base_uri": "https://localhost:8080/"
        },
        "id": "T_M2G4_KNtzE",
        "outputId": "6d24d4f3-798f-4d94-c4ab-714fc03da3da"
      },
      "source": [
        "# 178\n",
        "my_list = [100, 200, 400, 800]\n",
        "for i in range(len(my_list)-1):\n",
        "  print(my_list[i+1] - my_list[i])"
      ],
      "execution_count": 49,
      "outputs": [
        {
          "output_type": "stream",
          "name": "stdout",
          "text": [
            "100\n",
            "200\n",
            "400\n"
          ]
        }
      ]
    },
    {
      "cell_type": "code",
      "metadata": {
        "colab": {
          "base_uri": "https://localhost:8080/"
        },
        "id": "6E9k7mXxOJiB",
        "outputId": "47709517-97b8-43ec-e2fb-a49d045c542a"
      },
      "source": [
        "# 179\n",
        "my_list = [100, 200, 400, 800, 1000, 1300]\n",
        "for i in range(1, len(my_list) - 1):\n",
        "    print(abs(my_list[i-1] + my_list[i] + my_list[i+1]) / 3)"
      ],
      "execution_count": 63,
      "outputs": [
        {
          "output_type": "stream",
          "name": "stdout",
          "text": [
            "233.33333333333334\n",
            "466.6666666666667\n",
            "733.3333333333334\n",
            "1033.3333333333333\n"
          ]
        }
      ]
    },
    {
      "cell_type": "code",
      "metadata": {
        "colab": {
          "base_uri": "https://localhost:8080/"
        },
        "id": "t8belRoiPJEl",
        "outputId": "7262926d-6133-4376-ebc1-27878657447d"
      },
      "source": [
        "# 180\n",
        "low_prices  = [100, 200, 400, 800, 1000]\n",
        "high_prices = [150, 300, 430, 880, 1000]\n",
        "volatility = []\n",
        "for i in range(len(low_prices)):\n",
        "  volatility.append(high_prices[i] - low_prices[i])\n",
        "print(volatility)\n",
        "  "
      ],
      "execution_count": 67,
      "outputs": [
        {
          "output_type": "stream",
          "name": "stdout",
          "text": [
            "[50, 100, 30, 80, 0]\n"
          ]
        }
      ]
    },
    {
      "cell_type": "code",
      "metadata": {
        "colab": {
          "base_uri": "https://localhost:8080/"
        },
        "id": "uOmim423R0fP",
        "outputId": "2e2005c6-6ea6-4823-9b71-d308ad77bd45"
      },
      "source": [
        "# 181\n",
        "apart = [['101호','102호'],['201호','202호'],['301호','302호']]\n",
        "apart"
      ],
      "execution_count": 69,
      "outputs": [
        {
          "output_type": "execute_result",
          "data": {
            "text/plain": [
              "[['101호', '102호'], ['201호', '202호'], ['301호', '302호']]"
            ]
          },
          "metadata": {},
          "execution_count": 69
        }
      ]
    },
    {
      "cell_type": "code",
      "metadata": {
        "colab": {
          "base_uri": "https://localhost:8080/"
        },
        "id": "otfMMfTySWrt",
        "outputId": "7b74f2ff-9c2e-43fc-898b-76fcf24cfd75"
      },
      "source": [
        "# 182\n",
        "stock = [['시가',100,200,300],['종가',80,210,330]]\n",
        "stock"
      ],
      "execution_count": 71,
      "outputs": [
        {
          "output_type": "execute_result",
          "data": {
            "text/plain": [
              "[['시가', 100, 200, 300], ['종가', 80, 210, 330]]"
            ]
          },
          "metadata": {},
          "execution_count": 71
        }
      ]
    },
    {
      "cell_type": "code",
      "metadata": {
        "colab": {
          "base_uri": "https://localhost:8080/"
        },
        "id": "Xu1ck0cNSrlh",
        "outputId": "2be2ae31-b8b2-4dc1-e1c9-e3df78cd2062"
      },
      "source": [
        "# 183\n",
        "stock = {'시가':[100,200,300],'종가': [80,210,330]}\n",
        "stock"
      ],
      "execution_count": 75,
      "outputs": [
        {
          "output_type": "execute_result",
          "data": {
            "text/plain": [
              "{'시가': [100, 200, 300], '종가': [80, 210, 330]}"
            ]
          },
          "metadata": {},
          "execution_count": 75
        }
      ]
    },
    {
      "cell_type": "code",
      "metadata": {
        "colab": {
          "base_uri": "https://localhost:8080/"
        },
        "id": "aV-XEZnrS4jH",
        "outputId": "11e7217f-c60e-45b3-9053-f8afcae93100"
      },
      "source": [
        "# 184\n",
        "stock = {'10/10':[80,110,70,90],'10/11':[210,230,190,200]}\n",
        "stock"
      ],
      "execution_count": 76,
      "outputs": [
        {
          "output_type": "execute_result",
          "data": {
            "text/plain": [
              "{'10/10': [80, 110, 70, 90], '10/11': [210, 230, 190, 200]}"
            ]
          },
          "metadata": {},
          "execution_count": 76
        }
      ]
    },
    {
      "cell_type": "code",
      "metadata": {
        "colab": {
          "base_uri": "https://localhost:8080/"
        },
        "id": "Ah6lXZ82TPZ1",
        "outputId": "c8f614bd-618f-430e-c250-91dc94cb4eb0"
      },
      "source": [
        "# 185\n",
        "apart = [ [101, 102], [201, 202], [301, 302] ]\n",
        "\n",
        "for i in apart :\n",
        "  for j in i:\n",
        "    print(j ,'호')"
      ],
      "execution_count": 84,
      "outputs": [
        {
          "output_type": "stream",
          "name": "stdout",
          "text": [
            "101 호\n",
            "102 호\n",
            "201 호\n",
            "202 호\n",
            "301 호\n",
            "302 호\n"
          ]
        }
      ]
    },
    {
      "cell_type": "code",
      "metadata": {
        "colab": {
          "base_uri": "https://localhost:8080/"
        },
        "id": "yQJDNALsThvd",
        "outputId": "6f56e6d6-a3ca-4fc6-d997-b6fe3e12ec80"
      },
      "source": [
        "# 186\n",
        "for i in apart[::-1] :\n",
        "  for j in i :\n",
        "    print(j, '호')"
      ],
      "execution_count": 90,
      "outputs": [
        {
          "output_type": "stream",
          "name": "stdout",
          "text": [
            "301 호\n",
            "302 호\n",
            "201 호\n",
            "202 호\n",
            "101 호\n",
            "102 호\n"
          ]
        }
      ]
    },
    {
      "cell_type": "code",
      "metadata": {
        "colab": {
          "base_uri": "https://localhost:8080/"
        },
        "id": "QYvYtr7sUtYi",
        "outputId": "88758bbc-d4dd-4ca4-c58b-6d10f4c4ce03"
      },
      "source": [
        "# 187\n",
        "for i in apart[::-1]:\n",
        "  for j in i[::-1]:\n",
        "    print(j,'호')"
      ],
      "execution_count": 92,
      "outputs": [
        {
          "output_type": "stream",
          "name": "stdout",
          "text": [
            "302 호\n",
            "301 호\n",
            "202 호\n",
            "201 호\n",
            "102 호\n",
            "101 호\n"
          ]
        }
      ]
    },
    {
      "cell_type": "code",
      "metadata": {
        "colab": {
          "base_uri": "https://localhost:8080/"
        },
        "id": "CZNQmrCdVSFa",
        "outputId": "34ebf9d2-e20d-4b19-c62f-19a9cd2d46d4"
      },
      "source": [
        "# 188\n",
        "for i in apart :\n",
        "  for j in i :\n",
        "    print(j,'호')\n",
        "    print('-----')\n"
      ],
      "execution_count": 94,
      "outputs": [
        {
          "output_type": "stream",
          "name": "stdout",
          "text": [
            "101 호\n",
            "-----\n",
            "102 호\n",
            "-----\n",
            "201 호\n",
            "-----\n",
            "202 호\n",
            "-----\n",
            "301 호\n",
            "-----\n",
            "302 호\n",
            "-----\n"
          ]
        }
      ]
    },
    {
      "cell_type": "code",
      "metadata": {
        "colab": {
          "base_uri": "https://localhost:8080/"
        },
        "id": "S_Ek5fVkV6fG",
        "outputId": "8a6742ae-39ae-4533-d6ce-66a696ef25ec"
      },
      "source": [
        "# 189\n",
        "for i in apart:\n",
        "  for j in i :\n",
        "    print(j, '호')\n",
        "  print('-----')"
      ],
      "execution_count": 105,
      "outputs": [
        {
          "output_type": "stream",
          "name": "stdout",
          "text": [
            "101 호\n",
            "102 호\n",
            "-----\n",
            "201 호\n",
            "202 호\n",
            "-----\n",
            "301 호\n",
            "302 호\n",
            "-----\n"
          ]
        }
      ]
    },
    {
      "cell_type": "code",
      "metadata": {
        "colab": {
          "base_uri": "https://localhost:8080/"
        },
        "id": "XaLGSSXCWOJJ",
        "outputId": "9ee0ceb1-5f06-47d6-b183-aa7919998f92"
      },
      "source": [
        "# 190\n",
        "for i in apart:\n",
        "  for j in i :\n",
        "    print(j, '호')\n",
        "print('-----')"
      ],
      "execution_count": 106,
      "outputs": [
        {
          "output_type": "stream",
          "name": "stdout",
          "text": [
            "101 호\n",
            "102 호\n",
            "201 호\n",
            "202 호\n",
            "301 호\n",
            "302 호\n",
            "-----\n"
          ]
        }
      ]
    },
    {
      "cell_type": "code",
      "metadata": {
        "colab": {
          "base_uri": "https://localhost:8080/"
        },
        "id": "F5N-e61wWw0F",
        "outputId": "b4ba0489-e1b8-448e-c670-b7b24609deef"
      },
      "source": [
        "# 191\n",
        "data = [\n",
        "    [ 2000,  3050,  2050,  1980],\n",
        "    [ 7500,  2050,  2050,  1980],\n",
        "    [15450, 15050, 15550, 14900]\n",
        "]\n",
        "for i in data :\n",
        "  for j in i :\n",
        "    print(j +(j*0.014))"
      ],
      "execution_count": 117,
      "outputs": [
        {
          "output_type": "stream",
          "name": "stdout",
          "text": [
            "2028.0\n",
            "3092.7\n",
            "2078.7\n",
            "2007.72\n",
            "7605.0\n",
            "2078.7\n",
            "2078.7\n",
            "2007.72\n",
            "15666.3\n",
            "15260.7\n",
            "15767.7\n",
            "15108.6\n"
          ]
        }
      ]
    },
    {
      "cell_type": "code",
      "metadata": {
        "colab": {
          "base_uri": "https://localhost:8080/"
        },
        "id": "A7ORRr0PghXf",
        "outputId": "fce4bdfd-0339-4246-e80a-6d9bbf551787"
      },
      "source": [
        "# 192\n",
        "data = [\n",
        "    [ 2000,  3050,  2050,  1980],\n",
        "    [ 7500,  2050,  2050,  1980],\n",
        "    [15450, 15050, 15550, 14900]\n",
        "]\n",
        "for i in data :\n",
        "  for j in i :\n",
        "    print(j +(j*0.014))\n",
        "    print('----')"
      ],
      "execution_count": 118,
      "outputs": [
        {
          "output_type": "stream",
          "name": "stdout",
          "text": [
            "2028.0\n",
            "----\n",
            "3092.7\n",
            "----\n",
            "2078.7\n",
            "----\n",
            "2007.72\n",
            "----\n",
            "7605.0\n",
            "----\n",
            "2078.7\n",
            "----\n",
            "2078.7\n",
            "----\n",
            "2007.72\n",
            "----\n",
            "15666.3\n",
            "----\n",
            "15260.7\n",
            "----\n",
            "15767.7\n",
            "----\n",
            "15108.6\n",
            "----\n"
          ]
        }
      ]
    },
    {
      "cell_type": "code",
      "metadata": {
        "colab": {
          "base_uri": "https://localhost:8080/"
        },
        "id": "Es8oTzAahLIh",
        "outputId": "3dae2048-03c3-49ae-e4d0-28ed45a2a4df"
      },
      "source": [
        "# 193\n",
        "data = [\n",
        "    [ 2000,  3050,  2050,  1980],\n",
        "    [ 7500,  2050,  2050,  1980],\n",
        "    [15450, 15050, 15550, 14900]\n",
        "]\n",
        "result = []\n",
        "for i in data :\n",
        "  for j in i :\n",
        "    result.append(j +(j*0.014))\n",
        "print(result)"
      ],
      "execution_count": 123,
      "outputs": [
        {
          "output_type": "stream",
          "name": "stdout",
          "text": [
            "[2028.0, 3092.7, 2078.7, 2007.72, 7605.0, 2078.7, 2078.7, 2007.72, 15666.3, 15260.7, 15767.7, 15108.6]\n"
          ]
        }
      ]
    },
    {
      "cell_type": "code",
      "metadata": {
        "colab": {
          "base_uri": "https://localhost:8080/"
        },
        "id": "norIb7XNhXkj",
        "outputId": "7bbbb880-7c64-45cb-d3c4-c2c158a594e4"
      },
      "source": [
        "# 194\n",
        "result = []\n",
        "for line in data:\n",
        "    sub = []\n",
        "    for column in line:\n",
        "        sub.append(column * 1.00014)\n",
        "    result.append(sub)\n",
        "print(result)"
      ],
      "execution_count": 125,
      "outputs": [
        {
          "output_type": "stream",
          "name": "stdout",
          "text": [
            "[[2000.28, 3050.427, 2050.2870000000003, 1980.2772], [7501.05, 2050.2870000000003, 2050.2870000000003, 1980.2772], [15452.163, 15052.107, 15552.177, 14902.086000000001]]\n"
          ]
        }
      ]
    },
    {
      "cell_type": "code",
      "metadata": {
        "colab": {
          "base_uri": "https://localhost:8080/"
        },
        "id": "8Oa8abijiS66",
        "outputId": "62874a51-c915-43e5-fd9b-c31f73d5254f"
      },
      "source": [
        "# 195\n",
        "ohlc = [[\"open\", \"high\", \"low\", \"close\"],\n",
        "        [100, 110, 70, 100],\n",
        "        [200, 210, 180, 190],\n",
        "        [300, 310, 300, 310]]\n",
        "for i in ohlc[1:] :\n",
        "    print(i[3])"
      ],
      "execution_count": 138,
      "outputs": [
        {
          "output_type": "stream",
          "name": "stdout",
          "text": [
            "100\n",
            "190\n",
            "310\n"
          ]
        }
      ]
    },
    {
      "cell_type": "code",
      "metadata": {
        "colab": {
          "base_uri": "https://localhost:8080/"
        },
        "id": "ZQlCYdxfi9cK",
        "outputId": "d25928d8-6ec1-4daf-db73-2e82bc00b7d9"
      },
      "source": [
        "# 196\n",
        "ohlc = [[\"open\", \"high\", \"low\", \"close\"],\n",
        "        [100, 110, 70, 100],\n",
        "        [200, 210, 180, 190],\n",
        "        [300, 310, 300, 310]]\n",
        "for i in ohlc[1:] :\n",
        "  if i[3] > 150 :\n",
        "    print(i[3])"
      ],
      "execution_count": 140,
      "outputs": [
        {
          "output_type": "stream",
          "name": "stdout",
          "text": [
            "190\n",
            "310\n"
          ]
        }
      ]
    },
    {
      "cell_type": "code",
      "metadata": {
        "colab": {
          "base_uri": "https://localhost:8080/"
        },
        "id": "L2et427YkMUI",
        "outputId": "e41220f0-5cb7-4942-f8b2-c1c7f760b633"
      },
      "source": [
        "# 197\n",
        "for i in ohlc[1:] :\n",
        "  if i[3] >= i[0] :\n",
        "    print(i[3])\n",
        "    "
      ],
      "execution_count": 142,
      "outputs": [
        {
          "output_type": "stream",
          "name": "stdout",
          "text": [
            "100\n",
            "310\n"
          ]
        }
      ]
    },
    {
      "cell_type": "code",
      "metadata": {
        "colab": {
          "base_uri": "https://localhost:8080/"
        },
        "id": "MGzui9c7lOlH",
        "outputId": "7d34cc68-cad0-4884-f49f-ab61c09cf0a8"
      },
      "source": [
        "# 198\n",
        "ohlc = [[\"open\", \"high\", \"low\", \"close\"],\n",
        "        [100, 110, 70, 100],\n",
        "        [200, 210, 180, 190],\n",
        "        [300, 310, 300, 310]]\n",
        "for i in ohlc[1:] :\n",
        "  volatility = []\n",
        "  volatility.append((max(i)-min(i)))\n",
        "  print(volatility)\n",
        "\n"
      ],
      "execution_count": 146,
      "outputs": [
        {
          "output_type": "stream",
          "name": "stdout",
          "text": [
            "[40]\n",
            "[30]\n",
            "[10]\n"
          ]
        }
      ]
    },
    {
      "cell_type": "code",
      "metadata": {
        "colab": {
          "base_uri": "https://localhost:8080/"
        },
        "id": "8XqCd5GcmBdH",
        "outputId": "6114ff3e-606a-41a7-a4ca-a17c9d76dd0f"
      },
      "source": [
        "# 199\n",
        "for i in ohlc[1:]:\n",
        "  if i[3]-i[0] > 0 :\n",
        "    print(i[3]-i[0])"
      ],
      "execution_count": 150,
      "outputs": [
        {
          "output_type": "stream",
          "name": "stdout",
          "text": [
            "10\n"
          ]
        }
      ]
    },
    {
      "cell_type": "code",
      "metadata": {
        "colab": {
          "base_uri": "https://localhost:8080/"
        },
        "id": "utb-_Bk6nPKF",
        "outputId": "fdeab295-5e6b-4f9f-f2e1-0d522ebc2a82"
      },
      "source": [
        "# 200\n",
        "for i in ohlc[1:]:\n",
        "  hab = 0\n",
        "  hab = hab + (i[3] - i[0])\n",
        "  print(hab)\n",
        "\n"
      ],
      "execution_count": 167,
      "outputs": [
        {
          "output_type": "stream",
          "name": "stdout",
          "text": [
            "0\n",
            "-10\n",
            "10\n"
          ]
        }
      ]
    },
    {
      "cell_type": "code",
      "metadata": {
        "id": "D2Lu2yA9oESN"
      },
      "source": [
        ""
      ],
      "execution_count": null,
      "outputs": []
    }
  ]
}