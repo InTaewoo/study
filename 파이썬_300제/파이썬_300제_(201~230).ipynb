{
  "nbformat": 4,
  "nbformat_minor": 0,
  "metadata": {
    "colab": {
      "name": "파이썬_300제_(201~230).ipynb",
      "provenance": [],
      "collapsed_sections": [],
      "authorship_tag": "ABX9TyNCESYeCqGcaIQx7w16jvb3",
      "include_colab_link": true
    },
    "kernelspec": {
      "name": "python3",
      "display_name": "Python 3"
    },
    "language_info": {
      "name": "python"
    }
  },
  "cells": [
    {
      "cell_type": "markdown",
      "metadata": {
        "id": "view-in-github",
        "colab_type": "text"
      },
      "source": [
        "<a href=\"https://colab.research.google.com/github/InTaewoo/study/blob/main/%ED%8C%8C%EC%9D%B4%EC%8D%AC_300%EC%A0%9C/%ED%8C%8C%EC%9D%B4%EC%8D%AC_300%EC%A0%9C_(201~230).ipynb\" target=\"_parent\"><img src=\"https://colab.research.google.com/assets/colab-badge.svg\" alt=\"Open In Colab\"/></a>"
      ]
    },
    {
      "cell_type": "code",
      "metadata": {
        "colab": {
          "base_uri": "https://localhost:8080/"
        },
        "id": "VMWqz-MOIAII",
        "outputId": "ad803a2e-4c3c-4b39-83fc-aa7da427de1e"
      },
      "source": [
        "# 201\n",
        "def print_coint():\n",
        "  print('비트코인')\n"
      ],
      "execution_count": 2,
      "outputs": [
        {
          "output_type": "stream",
          "name": "stdout",
          "text": [
            "비트코인\n"
          ]
        }
      ]
    },
    {
      "cell_type": "code",
      "metadata": {
        "colab": {
          "base_uri": "https://localhost:8080/"
        },
        "id": "mKOJXwI-ISc1",
        "outputId": "3c7ad3bb-c466-4561-f900-3259d14d2185"
      },
      "source": [
        "# 202\n",
        "print_coint()"
      ],
      "execution_count": 3,
      "outputs": [
        {
          "output_type": "stream",
          "name": "stdout",
          "text": [
            "비트코인\n"
          ]
        }
      ]
    },
    {
      "cell_type": "code",
      "metadata": {
        "colab": {
          "base_uri": "https://localhost:8080/"
        },
        "id": "ViqCtNHcIlT-",
        "outputId": "f5f02046-eaba-4eef-b588-d537caddc0d3"
      },
      "source": [
        "# 203\n",
        "for i in range(100):\n",
        "  print_coint()"
      ],
      "execution_count": 5,
      "outputs": [
        {
          "output_type": "stream",
          "name": "stdout",
          "text": [
            "비트코인\n",
            "비트코인\n",
            "비트코인\n",
            "비트코인\n",
            "비트코인\n",
            "비트코인\n",
            "비트코인\n",
            "비트코인\n",
            "비트코인\n",
            "비트코인\n",
            "비트코인\n",
            "비트코인\n",
            "비트코인\n",
            "비트코인\n",
            "비트코인\n",
            "비트코인\n",
            "비트코인\n",
            "비트코인\n",
            "비트코인\n",
            "비트코인\n",
            "비트코인\n",
            "비트코인\n",
            "비트코인\n",
            "비트코인\n",
            "비트코인\n",
            "비트코인\n",
            "비트코인\n",
            "비트코인\n",
            "비트코인\n",
            "비트코인\n",
            "비트코인\n",
            "비트코인\n",
            "비트코인\n",
            "비트코인\n",
            "비트코인\n",
            "비트코인\n",
            "비트코인\n",
            "비트코인\n",
            "비트코인\n",
            "비트코인\n",
            "비트코인\n",
            "비트코인\n",
            "비트코인\n",
            "비트코인\n",
            "비트코인\n",
            "비트코인\n",
            "비트코인\n",
            "비트코인\n",
            "비트코인\n",
            "비트코인\n",
            "비트코인\n",
            "비트코인\n",
            "비트코인\n",
            "비트코인\n",
            "비트코인\n",
            "비트코인\n",
            "비트코인\n",
            "비트코인\n",
            "비트코인\n",
            "비트코인\n",
            "비트코인\n",
            "비트코인\n",
            "비트코인\n",
            "비트코인\n",
            "비트코인\n",
            "비트코인\n",
            "비트코인\n",
            "비트코인\n",
            "비트코인\n",
            "비트코인\n",
            "비트코인\n",
            "비트코인\n",
            "비트코인\n",
            "비트코인\n",
            "비트코인\n",
            "비트코인\n",
            "비트코인\n",
            "비트코인\n",
            "비트코인\n",
            "비트코인\n",
            "비트코인\n",
            "비트코인\n",
            "비트코인\n",
            "비트코인\n",
            "비트코인\n",
            "비트코인\n",
            "비트코인\n",
            "비트코인\n",
            "비트코인\n",
            "비트코인\n",
            "비트코인\n",
            "비트코인\n",
            "비트코인\n",
            "비트코인\n",
            "비트코인\n",
            "비트코인\n",
            "비트코인\n",
            "비트코인\n",
            "비트코인\n",
            "비트코인\n"
          ]
        }
      ]
    },
    {
      "cell_type": "code",
      "metadata": {
        "colab": {
          "base_uri": "https://localhost:8080/"
        },
        "id": "TCJiEePKIoQ3",
        "outputId": "d10c082c-1b7e-4eba-afab-b3f3ec0b0ee6"
      },
      "source": [
        "# 204\n",
        "def print_coins():\n",
        "  for i in range(100):\n",
        "    print('비트코인')\n",
        "print_coins()"
      ],
      "execution_count": 8,
      "outputs": [
        {
          "output_type": "stream",
          "name": "stdout",
          "text": [
            "비트코인\n",
            "비트코인\n",
            "비트코인\n",
            "비트코인\n",
            "비트코인\n",
            "비트코인\n",
            "비트코인\n",
            "비트코인\n",
            "비트코인\n",
            "비트코인\n",
            "비트코인\n",
            "비트코인\n",
            "비트코인\n",
            "비트코인\n",
            "비트코인\n",
            "비트코인\n",
            "비트코인\n",
            "비트코인\n",
            "비트코인\n",
            "비트코인\n",
            "비트코인\n",
            "비트코인\n",
            "비트코인\n",
            "비트코인\n",
            "비트코인\n",
            "비트코인\n",
            "비트코인\n",
            "비트코인\n",
            "비트코인\n",
            "비트코인\n",
            "비트코인\n",
            "비트코인\n",
            "비트코인\n",
            "비트코인\n",
            "비트코인\n",
            "비트코인\n",
            "비트코인\n",
            "비트코인\n",
            "비트코인\n",
            "비트코인\n",
            "비트코인\n",
            "비트코인\n",
            "비트코인\n",
            "비트코인\n",
            "비트코인\n",
            "비트코인\n",
            "비트코인\n",
            "비트코인\n",
            "비트코인\n",
            "비트코인\n",
            "비트코인\n",
            "비트코인\n",
            "비트코인\n",
            "비트코인\n",
            "비트코인\n",
            "비트코인\n",
            "비트코인\n",
            "비트코인\n",
            "비트코인\n",
            "비트코인\n",
            "비트코인\n",
            "비트코인\n",
            "비트코인\n",
            "비트코인\n",
            "비트코인\n",
            "비트코인\n",
            "비트코인\n",
            "비트코인\n",
            "비트코인\n",
            "비트코인\n",
            "비트코인\n",
            "비트코인\n",
            "비트코인\n",
            "비트코인\n",
            "비트코인\n",
            "비트코인\n",
            "비트코인\n",
            "비트코인\n",
            "비트코인\n",
            "비트코인\n",
            "비트코인\n",
            "비트코인\n",
            "비트코인\n",
            "비트코인\n",
            "비트코인\n",
            "비트코인\n",
            "비트코인\n",
            "비트코인\n",
            "비트코인\n",
            "비트코인\n",
            "비트코인\n",
            "비트코인\n",
            "비트코인\n",
            "비트코인\n",
            "비트코인\n",
            "비트코인\n",
            "비트코인\n",
            "비트코인\n",
            "비트코인\n",
            "비트코인\n"
          ]
        }
      ]
    },
    {
      "cell_type": "code",
      "metadata": {
        "id": "11mtFJ6UJJOd"
      },
      "source": [
        "# 205\n",
        "# hello()\n",
        "def hello():\n",
        "  print('Hi')\n",
        "# 함수를 정의하기전에 호출했기 때문  "
      ],
      "execution_count": 13,
      "outputs": []
    },
    {
      "cell_type": "code",
      "metadata": {
        "colab": {
          "base_uri": "https://localhost:8080/"
        },
        "id": "8kn0GBymJV8d",
        "outputId": "4c8ba3ef-702d-4f09-c141-1dbb84d8aecf"
      },
      "source": [
        "# 206\n",
        "def message() :\n",
        "  print('A')\n",
        "  print('B')\n",
        "\n",
        "message()\n",
        "print('C')\n",
        "message()"
      ],
      "execution_count": 11,
      "outputs": [
        {
          "output_type": "stream",
          "name": "stdout",
          "text": [
            "A\n",
            "B\n",
            "C\n",
            "A\n",
            "B\n"
          ]
        }
      ]
    },
    {
      "cell_type": "code",
      "metadata": {
        "colab": {
          "base_uri": "https://localhost:8080/"
        },
        "id": "qp1d5VzvJnxY",
        "outputId": "2e354fb6-8494-4590-f9cb-e80950f703ad"
      },
      "source": [
        "# 207\n",
        "print(\"A\")\n",
        "\n",
        "def message() :\n",
        "    print(\"B\")\n",
        "\n",
        "print(\"C\")\n",
        "message()"
      ],
      "execution_count": 12,
      "outputs": [
        {
          "output_type": "stream",
          "name": "stdout",
          "text": [
            "A\n",
            "C\n",
            "B\n"
          ]
        }
      ]
    },
    {
      "cell_type": "code",
      "metadata": {
        "colab": {
          "base_uri": "https://localhost:8080/"
        },
        "id": "wISWszpGJyf7",
        "outputId": "a2cea358-deaf-400a-e464-583cc5d21c1a"
      },
      "source": [
        "# 208\n",
        "print(\"A\")\n",
        "def message1() :\n",
        "    print(\"B\")\n",
        "print(\"C\")\n",
        "def message2() :\n",
        "    print(\"D\")\n",
        "message1()\n",
        "print(\"E\")\n",
        "message2()"
      ],
      "execution_count": 14,
      "outputs": [
        {
          "output_type": "stream",
          "name": "stdout",
          "text": [
            "A\n",
            "C\n",
            "B\n",
            "E\n",
            "D\n"
          ]
        }
      ]
    },
    {
      "cell_type": "code",
      "metadata": {
        "colab": {
          "base_uri": "https://localhost:8080/"
        },
        "id": "qABL6-F1J-ue",
        "outputId": "1c2aa37a-0459-4c05-a39a-e5ee6012367c"
      },
      "source": [
        "# 209\n",
        "def message1():\n",
        "    print(\"A\")\n",
        "\n",
        "def message2():\n",
        "    print(\"B\")\n",
        "    message1()\n",
        "\n",
        "message2()"
      ],
      "execution_count": 15,
      "outputs": [
        {
          "output_type": "stream",
          "name": "stdout",
          "text": [
            "B\n",
            "A\n"
          ]
        }
      ]
    },
    {
      "cell_type": "code",
      "metadata": {
        "colab": {
          "base_uri": "https://localhost:8080/"
        },
        "id": "VnfvPJmiKD1F",
        "outputId": "6ed41307-69b0-4ab0-c602-fb341b8a60d9"
      },
      "source": [
        "# 210\n",
        "def message1():\n",
        "    print(\"A\")\n",
        "\n",
        "def message2():\n",
        "    print(\"B\")\n",
        "\n",
        "def message3():\n",
        "    for i in range (3) :\n",
        "        message2()\n",
        "        print(\"C\")\n",
        "    message1()\n",
        "\n",
        "message3()"
      ],
      "execution_count": 16,
      "outputs": [
        {
          "output_type": "stream",
          "name": "stdout",
          "text": [
            "B\n",
            "C\n",
            "B\n",
            "C\n",
            "B\n",
            "C\n",
            "A\n"
          ]
        }
      ]
    },
    {
      "cell_type": "code",
      "metadata": {
        "colab": {
          "base_uri": "https://localhost:8080/"
        },
        "id": "87qeJZLsKVBA",
        "outputId": "93206625-c100-4516-8f8b-d69fc62af1b4"
      },
      "source": [
        "# 211\n",
        "def 함수(문자열) :\n",
        "    print(문자열)\n",
        "\n",
        "함수(\"안녕\")\n",
        "함수(\"Hi\")"
      ],
      "execution_count": 17,
      "outputs": [
        {
          "output_type": "stream",
          "name": "stdout",
          "text": [
            "안녕\n",
            "Hi\n"
          ]
        }
      ]
    },
    {
      "cell_type": "code",
      "metadata": {
        "colab": {
          "base_uri": "https://localhost:8080/"
        },
        "id": "yUVEdOCmKpUV",
        "outputId": "470f371e-86ce-4962-afaa-fca65dee30c3"
      },
      "source": [
        "# 212\n",
        "def 함수(a,b) :\n",
        "  print(a+b)\n",
        "함수(3,4)\n",
        "함수(7,8)"
      ],
      "execution_count": 18,
      "outputs": [
        {
          "output_type": "stream",
          "name": "stdout",
          "text": [
            "7\n",
            "15\n"
          ]
        }
      ]
    },
    {
      "cell_type": "code",
      "metadata": {
        "id": "X5KiUrzzKukk"
      },
      "source": [
        "# 213\n",
        "def 함수(문자열) :\n",
        "    print(문자열)"
      ],
      "execution_count": 23,
      "outputs": []
    },
    {
      "cell_type": "code",
      "metadata": {
        "id": "3sqVnjz5Kznx"
      },
      "source": [
        "# 214\n",
        "def 함수(a,b) :\n",
        "  print(a+b)\n",
        "# 함수('안녕',3)\n",
        "# 문자와 숫자는 계산할수 없기 때문"
      ],
      "execution_count": 25,
      "outputs": []
    },
    {
      "cell_type": "code",
      "metadata": {
        "colab": {
          "base_uri": "https://localhost:8080/"
        },
        "id": "eMGLngF-LKda",
        "outputId": "a1d0d553-6fb8-46aa-e1b8-2d7f815e98c5"
      },
      "source": [
        "# 215\n",
        "a = input('')\n",
        "def print_with_smile(a) :\n",
        "  print(a + ':D')\n",
        "  \n",
        "print_with_smile(a)"
      ],
      "execution_count": 28,
      "outputs": [
        {
          "output_type": "stream",
          "name": "stdout",
          "text": [
            "hello\n",
            "hello:D\n"
          ]
        }
      ]
    },
    {
      "cell_type": "code",
      "metadata": {
        "colab": {
          "base_uri": "https://localhost:8080/"
        },
        "id": "zQTlHzs6Lohh",
        "outputId": "c60a3fce-056f-454b-cbd1-f8e1bfc45aba"
      },
      "source": [
        "# 216\n",
        "print_with_smile('안녕하세요')"
      ],
      "execution_count": 29,
      "outputs": [
        {
          "output_type": "stream",
          "name": "stdout",
          "text": [
            "안녕하세요:D\n"
          ]
        }
      ]
    },
    {
      "cell_type": "code",
      "metadata": {
        "colab": {
          "base_uri": "https://localhost:8080/"
        },
        "id": "HrwuXewyL_-G",
        "outputId": "c75b8060-cd57-4fe7-fb68-07c0cceb59ed"
      },
      "source": [
        "# 217\n",
        "def print_upper_price(price) :\n",
        "  print(price * 1.3)\n",
        "print_upper_price(25010)"
      ],
      "execution_count": 32,
      "outputs": [
        {
          "output_type": "stream",
          "name": "stdout",
          "text": [
            "32513.0\n"
          ]
        }
      ]
    },
    {
      "cell_type": "code",
      "metadata": {
        "colab": {
          "base_uri": "https://localhost:8080/"
        },
        "id": "5r2VXejPMg1f",
        "outputId": "b3f8edd8-d90b-49ea-9b83-2279d54e8e53"
      },
      "source": [
        "# 218\n",
        "def print_sum(a,b) :\n",
        "  print(a+b)\n",
        "print_sum(1,2)"
      ],
      "execution_count": 34,
      "outputs": [
        {
          "output_type": "stream",
          "name": "stdout",
          "text": [
            "3\n"
          ]
        }
      ]
    },
    {
      "cell_type": "code",
      "metadata": {
        "colab": {
          "base_uri": "https://localhost:8080/"
        },
        "id": "PD6LeZ4qM3fu",
        "outputId": "e98e9f25-2838-40a0-93e1-82f6ba858592"
      },
      "source": [
        "# 219\n",
        "def print_arithmetic_operation(a,b):\n",
        "  print(a+b)\n",
        "  print(a-b)\n",
        "  print(a*b)\n",
        "  print(a/b)\n",
        "print_arithmetic_operation(4,5)"
      ],
      "execution_count": 35,
      "outputs": [
        {
          "output_type": "stream",
          "name": "stdout",
          "text": [
            "9\n",
            "-1\n",
            "20\n",
            "0.8\n"
          ]
        }
      ]
    },
    {
      "cell_type": "code",
      "metadata": {
        "colab": {
          "base_uri": "https://localhost:8080/"
        },
        "id": "8lU7wlT-NIkc",
        "outputId": "73583ecc-3adf-4501-ecf0-579f20f7dc6c"
      },
      "source": [
        "# 220\n",
        "def print_max(a,b,c) :\n",
        "    max_val = 0\n",
        "    if a > max_val :\n",
        "        max_val = a\n",
        "    if b > max_val :\n",
        "        max_val = b\n",
        "    if c > max_val :\n",
        "        max_val = c\n",
        "    print(max_val)\n",
        "print_max(1,2,6)"
      ],
      "execution_count": 45,
      "outputs": [
        {
          "output_type": "stream",
          "name": "stdout",
          "text": [
            "6\n"
          ]
        }
      ]
    },
    {
      "cell_type": "code",
      "metadata": {
        "colab": {
          "base_uri": "https://localhost:8080/"
        },
        "id": "_gHxako8Nfe4",
        "outputId": "2476da52-bd15-436b-8018-6230df43231d"
      },
      "source": [
        "# 221\n",
        "def print_reverse(a):\n",
        "  print(a[::-1])\n",
        "print_reverse('python')"
      ],
      "execution_count": 50,
      "outputs": [
        {
          "output_type": "stream",
          "name": "stdout",
          "text": [
            "nohtyp\n"
          ]
        }
      ]
    },
    {
      "cell_type": "code",
      "metadata": {
        "colab": {
          "base_uri": "https://localhost:8080/"
        },
        "id": "v07OpgpBPwE6",
        "outputId": "523af466-9c6f-4f8a-ba76-526859eba24b"
      },
      "source": [
        "# 222\n",
        "def print_score(score_list):\n",
        "  print(sum(score_list)/len(score_list))\n",
        "print_score([1,2,3])"
      ],
      "execution_count": 55,
      "outputs": [
        {
          "output_type": "stream",
          "name": "stdout",
          "text": [
            "2.0\n"
          ]
        }
      ]
    },
    {
      "cell_type": "code",
      "metadata": {
        "colab": {
          "base_uri": "https://localhost:8080/"
        },
        "id": "Eb4tx3FVSHUZ",
        "outputId": "895c9d53-4905-4c18-8c20-0695deac4d17"
      },
      "source": [
        "# 223\n",
        "def print_even(jjak):\n",
        "  for i in jjak :\n",
        "    if i % 2 == 0:\n",
        "      print(i)\n",
        "print_even([1,3,2,10,2,11,15])"
      ],
      "execution_count": 60,
      "outputs": [
        {
          "output_type": "stream",
          "name": "stdout",
          "text": [
            "2\n",
            "10\n",
            "2\n"
          ]
        }
      ]
    },
    {
      "cell_type": "code",
      "metadata": {
        "colab": {
          "base_uri": "https://localhost:8080/"
        },
        "id": "uIr6dbE4Sw3J",
        "outputId": "37787a61-fc7a-4c7f-958b-ed4cb9864f97"
      },
      "source": [
        "# 224\n",
        "def print_keys(dic):\n",
        "  print(list(dic.keys()))\n",
        "print_keys({\"이름\":\"김말똥\", \"나이\":30, \"성별\":0})"
      ],
      "execution_count": 62,
      "outputs": [
        {
          "output_type": "stream",
          "name": "stdout",
          "text": [
            "['이름', '나이', '성별']\n"
          ]
        }
      ]
    },
    {
      "cell_type": "code",
      "metadata": {
        "colab": {
          "base_uri": "https://localhost:8080/"
        },
        "id": "loqyOQkLTg7l",
        "outputId": "be19d993-7335-49b8-82f2-6d086adc47bc"
      },
      "source": [
        "# 225\n",
        "my_dict = {\"10/26\" : [100, 130, 100, 100],\n",
        "           \"10/27\" : [10, 12, 10, 11]}\n",
        "def print_value_by_key(my_dict,key) :\n",
        "  print(my_dict[key])\n",
        "\n",
        "print_value_by_key(my_dict,'10/26')"
      ],
      "execution_count": 66,
      "outputs": [
        {
          "output_type": "stream",
          "name": "stdout",
          "text": [
            "[100, 130, 100, 100]\n"
          ]
        }
      ]
    },
    {
      "cell_type": "code",
      "metadata": {
        "id": "MaWY22djVfAt"
      },
      "source": [
        "# 226\n",
        "def print_5xn(line):\n",
        "    chunk_num = int(len(line) / 5)\n",
        "    for x in range(chunk_num + 1) :\n",
        "        print(line[x * 5: x * 5 + 5])\n",
        "\n",
        "\n"
      ],
      "execution_count": 71,
      "outputs": []
    },
    {
      "cell_type": "code",
      "metadata": {
        "id": "d5eb1UDUX1H-"
      },
      "source": [
        "# 227\n",
        "def print_mxn(line, num):\n",
        "    chunk_num = int(len(line) / num)\n",
        "    for x in range(chunk_num + 1) :\n",
        "        print(line[x * num: x * num + num])"
      ],
      "execution_count": 72,
      "outputs": []
    },
    {
      "cell_type": "code",
      "metadata": {
        "colab": {
          "base_uri": "https://localhost:8080/"
        },
        "id": "KF9Gk2qTbp9I",
        "outputId": "aae40c4e-5929-41a4-9984-ead9cfc73153"
      },
      "source": [
        "# 228\n",
        "def calc_monthly_salary(annual_salary):\n",
        "  pay = annual_salary/12\n",
        "  return pay\n",
        "\n",
        "calc_monthly_salary(1200000)\n"
      ],
      "execution_count": 74,
      "outputs": [
        {
          "output_type": "execute_result",
          "data": {
            "text/plain": [
              "100000.0"
            ]
          },
          "metadata": {},
          "execution_count": 74
        }
      ]
    },
    {
      "cell_type": "code",
      "metadata": {
        "colab": {
          "base_uri": "https://localhost:8080/"
        },
        "id": "zpVesqYld0As",
        "outputId": "b3e5df2f-1511-4efe-d190-25308690f64c"
      },
      "source": [
        "# 229\n",
        "def my_print(a,b):\n",
        "  print('왼쪽: ',a)\n",
        "  print('오른쪽: ',b)\n",
        "\n",
        "my_print(a=100, b=200)"
      ],
      "execution_count": 75,
      "outputs": [
        {
          "output_type": "stream",
          "name": "stdout",
          "text": [
            "왼쪽:  100\n",
            "오른쪽:  200\n"
          ]
        }
      ]
    },
    {
      "cell_type": "code",
      "metadata": {
        "colab": {
          "base_uri": "https://localhost:8080/"
        },
        "id": "JL6O5pspeF0j",
        "outputId": "37a1029c-8575-477f-95a6-236ae5066972"
      },
      "source": [
        "# 230\n",
        "def my_print(a,b):\n",
        "  print('왼쪽:',a)\n",
        "  print('오른쪽:',b)\n",
        "my_print(b=100, a=200)"
      ],
      "execution_count": 77,
      "outputs": [
        {
          "output_type": "stream",
          "name": "stdout",
          "text": [
            "왼쪽: 200\n",
            "오른쪽: 100\n"
          ]
        }
      ]
    },
    {
      "cell_type": "code",
      "metadata": {
        "id": "irCP6sqMegjN"
      },
      "source": [
        ""
      ],
      "execution_count": null,
      "outputs": []
    }
  ]
}