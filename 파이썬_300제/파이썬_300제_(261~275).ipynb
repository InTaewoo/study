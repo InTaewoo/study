{
  "nbformat": 4,
  "nbformat_minor": 0,
  "metadata": {
    "colab": {
      "name": "파이썬_300제_(261~300).ipynb",
      "provenance": [],
      "collapsed_sections": [],
      "authorship_tag": "ABX9TyPkuNNsDFEP73YBkm8hLuxw",
      "include_colab_link": true
    },
    "kernelspec": {
      "name": "python3",
      "display_name": "Python 3"
    },
    "language_info": {
      "name": "python"
    }
  },
  "cells": [
    {
      "cell_type": "markdown",
      "metadata": {
        "id": "view-in-github",
        "colab_type": "text"
      },
      "source": [
        "<a href=\"https://colab.research.google.com/github/InTaewoo/study/blob/main/%ED%8C%8C%EC%9D%B4%EC%8D%AC_300%EC%A0%9C/%ED%8C%8C%EC%9D%B4%EC%8D%AC_300%EC%A0%9C_(261~275).ipynb\" target=\"_parent\"><img src=\"https://colab.research.google.com/assets/colab-badge.svg\" alt=\"Open In Colab\"/></a>"
      ]
    },
    {
      "cell_type": "code",
      "metadata": {
        "id": "EGCucijtNZx4"
      },
      "source": [
        "# 261\n",
        "class Stock :\n",
        "  pass\n",
        "\n"
      ],
      "execution_count": 2,
      "outputs": []
    },
    {
      "cell_type": "code",
      "metadata": {
        "colab": {
          "base_uri": "https://localhost:8080/"
        },
        "id": "KAT3NT37NrGk",
        "outputId": "2c2b8848-f5b1-4258-bbb8-a40ca4fcd238"
      },
      "source": [
        "# 262\n",
        "class Stock :\n",
        "  def __init__(self,name,code):\n",
        "    self.name = name\n",
        "    self.code = code\n",
        "  \n",
        "samsung = Stock('삼성전자','005930')\n",
        "print(samsung.code)\n",
        "print(samsung.name)"
      ],
      "execution_count": 32,
      "outputs": [
        {
          "output_type": "stream",
          "name": "stdout",
          "text": [
            "005930\n",
            "삼성전자\n"
          ]
        }
      ]
    },
    {
      "cell_type": "code",
      "metadata": {
        "colab": {
          "base_uri": "https://localhost:8080/"
        },
        "id": "dAe6AmiPOVlk",
        "outputId": "6b4553b9-194c-4dd5-d1ab-ae6bf1acd25f"
      },
      "source": [
        "# 263\n",
        "class Stock :\n",
        "  def __init__(self,name,code):\n",
        "    self.name = name\n",
        "    self.code = code\n",
        "  \n",
        "  def set_name(self,name):\n",
        "    self.name = name\n",
        "  \n",
        "a = Stock(None,None)\n",
        "print(a.set_name('삼성전자'))\n",
        "\n"
      ],
      "execution_count": 10,
      "outputs": [
        {
          "output_type": "stream",
          "name": "stdout",
          "text": [
            "None\n"
          ]
        }
      ]
    },
    {
      "cell_type": "code",
      "metadata": {
        "colab": {
          "base_uri": "https://localhost:8080/"
        },
        "id": "bKSSroacPyyg",
        "outputId": "a0b6be60-e383-4697-862b-fe2f3206581a"
      },
      "source": [
        "# 264\n",
        "class Stock :\n",
        "  def __init__(self,name,code):\n",
        "    self.name = name\n",
        "    self.code = code\n",
        "\n",
        "  def set_name(self,name):\n",
        "    self.name = name\n",
        "\n",
        "  def set_code(self,code):\n",
        "    self.code = code\n",
        "\n",
        "a = Stock(None,None)\n",
        "print(a.set_code('005930'))"
      ],
      "execution_count": 15,
      "outputs": [
        {
          "output_type": "stream",
          "name": "stdout",
          "text": [
            "None\n"
          ]
        }
      ]
    },
    {
      "cell_type": "code",
      "metadata": {
        "colab": {
          "base_uri": "https://localhost:8080/"
        },
        "id": "Y1WqtJ31RE31",
        "outputId": "d521919e-efc2-4016-a725-d366435e4f12"
      },
      "source": [
        "# 265\n",
        "class Stock:\n",
        "  def __init__(self,name,code):\n",
        "    self.name = name\n",
        "    self.code = code\n",
        "\n",
        "  def set_name(self,code):\n",
        "    self.name = name\n",
        "\n",
        "  def set_code(self,code):\n",
        "    self.code = code\n",
        "\n",
        "  def get_name(self):\n",
        "    return self.name\n",
        "\n",
        "  def get_code(self):\n",
        "    return self.code\n",
        "\n",
        "samsung = Stock('삼성전자','005930')\n",
        "print(samasung.name)\n",
        "print(samasung.code)\n",
        "print(samsung.get_name())\n",
        "print(samsung.get_code())"
      ],
      "execution_count": 21,
      "outputs": [
        {
          "output_type": "stream",
          "name": "stdout",
          "text": [
            "삼성전자\n",
            "005930\n",
            "삼성전자\n",
            "005930\n"
          ]
        }
      ]
    },
    {
      "cell_type": "code",
      "metadata": {
        "id": "cjbrPErSSB6Z"
      },
      "source": [
        "# 266\n",
        "class Stock:\n",
        "  def __init__(self,name,code,per,pbr,배당수익률):\n",
        "    self.name = name\n",
        "    self.code = code\n",
        "    self.per = per\n",
        "    self.pbr = pbr\n",
        "    self.배당수익률 = 배당수익률\n",
        "\n",
        "  def set_name(self,code):\n",
        "    self.name = name\n",
        "\n",
        "  def set_code(self,code):\n",
        "    self.code = code\n",
        "\n",
        "  def get_name(self):\n",
        "    return self.name\n",
        "\n",
        "  def get_code(self):\n",
        "    return self.code"
      ],
      "execution_count": 22,
      "outputs": []
    },
    {
      "cell_type": "code",
      "metadata": {
        "colab": {
          "base_uri": "https://localhost:8080/"
        },
        "id": "P-KCUscHTXOG",
        "outputId": "de9ac6f8-0faf-4a52-e634-fd9d6814cb7f"
      },
      "source": [
        "# 267\n",
        "samsung = Stock('삼성전자','005930','15.79','1.33','2.83')\n",
        "print(samsung.pbr)"
      ],
      "execution_count": 23,
      "outputs": [
        {
          "output_type": "stream",
          "name": "stdout",
          "text": [
            "1.33\n"
          ]
        }
      ]
    },
    {
      "cell_type": "code",
      "metadata": {
        "id": "2iX0QwEMUCAj"
      },
      "source": [
        "# 268\n",
        "class Stock:\n",
        "  def __init__(self,name,code,per,pbr,dividend):\n",
        "    self.name = name\n",
        "    self.code = code\n",
        "    self.per = per\n",
        "    self.pbr = pbr\n",
        "    self.dividend = dividend\n",
        "\n",
        "  def set_name(self,code):\n",
        "    self.name = name\n",
        "\n",
        "  def set_code(self,code):\n",
        "    self.code = code\n",
        "\n",
        "  def get_name(self):\n",
        "    return self.name\n",
        "\n",
        "  def get_code(self):\n",
        "    return self.code\n",
        "\n",
        "  def set_per(self,per):\n",
        "    self.per = per\n",
        "\n",
        "  def set_pbr(self,pbr):\n",
        "    self.pbr = pbr\n",
        "\n",
        "  def set_dividend(self,dividend):\n",
        "    self.dividend = dividend"
      ],
      "execution_count": 53,
      "outputs": []
    },
    {
      "cell_type": "code",
      "metadata": {
        "colab": {
          "base_uri": "https://localhost:8080/"
        },
        "id": "FoXbE4E0Ug42",
        "outputId": "a790f483-b8b0-4736-f5c3-1190f158a3c2"
      },
      "source": [
        "# 269\n",
        "samsung = Stock('삼성전자','005930','15.79','1.33','2.83')\n",
        "samsung.set_per('12.75')\n",
        "print(samsung.per)\n"
      ],
      "execution_count": 47,
      "outputs": [
        {
          "output_type": "stream",
          "name": "stdout",
          "text": [
            "12.75\n"
          ]
        }
      ]
    },
    {
      "cell_type": "code",
      "metadata": {
        "colab": {
          "base_uri": "https://localhost:8080/"
        },
        "id": "JcTVkafMVNd6",
        "outputId": "8264d4f6-e277-43f3-e7f3-1f0345e061da"
      },
      "source": [
        "# 270\n",
        "samsung = Stock('삼성전자','005930','15.79','1.33','2.83')\n",
        "hyundai = Stock('현대차','005380','8.70','0.35','4.27')\n",
        "lg = Stock('LG전자','066570','317.34','0.69','1.37')\n",
        "\n",
        "list = []\n",
        "list.append(samasung)\n",
        "list.append(hyundai)\n",
        "list.append(lg)\n",
        "\n",
        "for i in list:\n",
        "  print(i.code, i.name)\n",
        "\n"
      ],
      "execution_count": 55,
      "outputs": [
        {
          "output_type": "stream",
          "name": "stdout",
          "text": [
            "005930 삼성전자\n",
            "005380 현대차\n",
            "066570 LG전자\n"
          ]
        }
      ]
    },
    {
      "cell_type": "code",
      "metadata": {
        "colab": {
          "base_uri": "https://localhost:8080/"
        },
        "id": "boeMSZMZV1ws",
        "outputId": "ba50b976-5df4-4e94-fe44-2d3e75493305"
      },
      "source": [
        "# 271\n",
        "import random\n",
        "\n",
        "class Account :\n",
        "  def __init__(self,name,money):\n",
        "    self.name = name\n",
        "    self.money = money\n",
        "    self.bank = 'SC은행'\n",
        "\n",
        "    num1 = random.randint(0,999)\n",
        "    num2 = random.randint(0,99)\n",
        "    num3 = random.randint(0,999999)\n",
        "\n",
        "    num1 = str(num1).zfill(3) # 1 -> 001\n",
        "    num2 = str(num2).zfill(2) # 1 -> 01\n",
        "    num3 = str(num3).zfill(6) # 1 -> 000001\n",
        "\n",
        "    self.account_number = num1+'-'+num2+'-'+num3\n",
        "\n",
        "kim = Account('김민수',100)\n",
        "print(kim.name)\n",
        "print(kim.money)\n",
        "print(kim.bank)\n",
        "print(kim.account_number)\n",
        "\n"
      ],
      "execution_count": 71,
      "outputs": [
        {
          "output_type": "stream",
          "name": "stdout",
          "text": [
            "김민수\n",
            "100\n",
            "SC은행\n",
            "466-44-475732\n"
          ]
        }
      ]
    },
    {
      "cell_type": "code",
      "metadata": {
        "colab": {
          "base_uri": "https://localhost:8080/"
        },
        "id": "zFg4eVN3eSvR",
        "outputId": "a762511e-a3f3-41ad-fece-e0f861123ffc"
      },
      "source": [
        "# 272\n",
        "\n",
        "import random\n",
        "\n",
        "class Account :\n",
        "\n",
        "  # class variable\n",
        "  account_count = 0\n",
        "  def __init__(self,name,money):\n",
        "    self.name = name\n",
        "    self.money = money\n",
        "    self.bank = 'SC은행'\n",
        "\n",
        "    num1 = random.randint(0,999)\n",
        "    num2 = random.randint(0,99)\n",
        "    num3 = random.randint(0,999999)\n",
        "\n",
        "    num1 = str(num1).zfill(3) # 1 -> 001\n",
        "    num2 = str(num2).zfill(2) # 1 -> 01\n",
        "    num3 = str(num3).zfill(6) # 1 -> 000001\n",
        "\n",
        "    self.account_number = num1+'-'+num2+'-'+num3\n",
        "\n",
        "    Account.account_count += 1\n",
        "\n",
        "kim = Account(\"김민수\", 100)\n",
        "print(Account.account_count)\n",
        "lee = Account(\"이민수\", 100)\n",
        "print(Account.account_count)\n"
      ],
      "execution_count": 74,
      "outputs": [
        {
          "output_type": "stream",
          "name": "stdout",
          "text": [
            "1\n",
            "2\n"
          ]
        }
      ]
    },
    {
      "cell_type": "code",
      "metadata": {
        "colab": {
          "base_uri": "https://localhost:8080/"
        },
        "id": "yOR6BNGVhJCZ",
        "outputId": "4c50def8-cdf5-434b-e2d1-8b1e569360f4"
      },
      "source": [
        "# 273\n",
        "\n",
        "import random\n",
        "\n",
        "class Account :\n",
        "\n",
        "  # class variable\n",
        "  account_count = 0\n",
        "  def __init__(self,name,money):\n",
        "    self.name = name\n",
        "    self.money = money\n",
        "    self.bank = 'SC은행'\n",
        "\n",
        "    num1 = random.randint(0,999)\n",
        "    num2 = random.randint(0,99)\n",
        "    num3 = random.randint(0,999999)\n",
        "\n",
        "    num1 = str(num1).zfill(3) # 1 -> 001\n",
        "    num2 = str(num2).zfill(2) # 1 -> 01\n",
        "    num3 = str(num3).zfill(6) # 1 -> 000001\n",
        "\n",
        "    self.account_number = num1+'-'+num2+'-'+num3\n",
        "\n",
        "    Account.account_count += 1\n",
        "\n",
        "  def get_account_num(cls) :\n",
        "    print(cls.account_count)\n",
        "\n",
        "kim = Account(\"김민수\", 100)\n",
        "lee = Account(\"이민수\", 100)\n",
        "kim.get_account_num()\n",
        "\n"
      ],
      "execution_count": 75,
      "outputs": [
        {
          "output_type": "stream",
          "name": "stdout",
          "text": [
            "2\n"
          ]
        }
      ]
    },
    {
      "cell_type": "code",
      "metadata": {
        "id": "0gSsAHBph5qy"
      },
      "source": [
        "# 274\n",
        "\n",
        "import random\n",
        "\n",
        "class Account :\n",
        "\n",
        "  # class variable\n",
        "  account_count = 0\n",
        "  def __init__(self,name,money):\n",
        "    self.name = name\n",
        "    self.money = money\n",
        "    self.bank = 'SC은행'\n",
        "\n",
        "    num1 = random.randint(0,999)\n",
        "    num2 = random.randint(0,99)\n",
        "    num3 = random.randint(0,999999)\n",
        "\n",
        "    num1 = str(num1).zfill(3) # 1 -> 001\n",
        "    num2 = str(num2).zfill(2) # 1 -> 01\n",
        "    num3 = str(num3).zfill(6) # 1 -> 000001\n",
        "\n",
        "    self.account_number = num1+'-'+num2+'-'+num3\n",
        "\n",
        "    Account.account_count += 1\n",
        "\n",
        "  def get_account_num(cls) :\n",
        "    print(cls.account_count)\n",
        "\n",
        "  def deposit(self,amount) :\n",
        "    if amount >= 1:\n",
        "      self.money += amount\n",
        "\n",
        "  "
      ],
      "execution_count": 76,
      "outputs": []
    },
    {
      "cell_type": "code",
      "metadata": {
        "colab": {
          "base_uri": "https://localhost:8080/"
        },
        "id": "WD0qWEqvkUY7",
        "outputId": "41251e57-77b5-4cc6-b683-991407933bbc"
      },
      "source": [
        "# 275\n",
        "\n",
        "import random\n",
        "\n",
        "class Account :\n",
        "\n",
        "  # class variable\n",
        "  account_count = 0\n",
        "  def __init__(self,name,money):\n",
        "    self.name = name\n",
        "    self.money = money\n",
        "    self.bank = 'SC은행'\n",
        "\n",
        "    num1 = random.randint(0,999)\n",
        "    num2 = random.randint(0,99)\n",
        "    num3 = random.randint(0,999999)\n",
        "\n",
        "    num1 = str(num1).zfill(3) # 1 -> 001\n",
        "    num2 = str(num2).zfill(2) # 1 -> 01\n",
        "    num3 = str(num3).zfill(6) # 1 -> 000001\n",
        "\n",
        "    self.account_number = num1+'-'+num2+'-'+num3\n",
        "\n",
        "    Account.account_count += 1\n",
        "\n",
        "  def get_account_num(cls) :\n",
        "    print(cls.account_count)\n",
        "\n",
        "  def deposit(self,amount) :\n",
        "    if amount >= 1:\n",
        "      self.money += amount\n",
        "\n",
        "  def withdraw(self,amount):\n",
        "    if self.money > amount :\n",
        "      self.money -= amount\n",
        "\n",
        "k = Account(\"kim\", 100)\n",
        "k.deposit(100)\n",
        "k.withdraw(90)\n",
        "print(k.money)\n",
        "\n",
        "  \n"
      ],
      "execution_count": 78,
      "outputs": [
        {
          "output_type": "stream",
          "name": "stdout",
          "text": [
            "110\n"
          ]
        }
      ]
    },
    {
      "cell_type": "code",
      "metadata": {
        "id": "iNCdYZdXlfVR"
      },
      "source": [
        ""
      ],
      "execution_count": null,
      "outputs": []
    }
  ]
}