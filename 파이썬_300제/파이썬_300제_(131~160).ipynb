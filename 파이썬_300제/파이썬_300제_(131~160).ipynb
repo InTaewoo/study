{
  "nbformat": 4,
  "nbformat_minor": 0,
  "metadata": {
    "colab": {
      "name": "파이썬_300제_(131~160).ipynb",
      "provenance": [],
      "authorship_tag": "ABX9TyPvdzoYoopUf/gcDlb+kqKa",
      "include_colab_link": true
    },
    "kernelspec": {
      "name": "python3",
      "display_name": "Python 3"
    },
    "language_info": {
      "name": "python"
    }
  },
  "cells": [
    {
      "cell_type": "markdown",
      "metadata": {
        "id": "view-in-github",
        "colab_type": "text"
      },
      "source": [
        "<a href=\"https://colab.research.google.com/github/InTaewoo/study/blob/main/%ED%8C%8C%EC%9D%B4%EC%8D%AC_300%EC%A0%9C/%ED%8C%8C%EC%9D%B4%EC%8D%AC_300%EC%A0%9C_(131~160).ipynb\" target=\"_parent\"><img src=\"https://colab.research.google.com/assets/colab-badge.svg\" alt=\"Open In Colab\"/></a>"
      ]
    },
    {
      "cell_type": "code",
      "metadata": {
        "colab": {
          "base_uri": "https://localhost:8080/"
        },
        "id": "RMDDykp98VEk",
        "outputId": "ae4843ae-e9e6-458f-8c76-e2be7647881d"
      },
      "source": [
        "# 131\n",
        "과일 = [\"사과\", \"귤\", \"수박\"]\n",
        "for 변수 in 과일:\n",
        "    print(변수)"
      ],
      "execution_count": 1,
      "outputs": [
        {
          "output_type": "stream",
          "name": "stdout",
          "text": [
            "사과\n",
            "귤\n",
            "수박\n"
          ]
        }
      ]
    },
    {
      "cell_type": "code",
      "metadata": {
        "colab": {
          "base_uri": "https://localhost:8080/"
        },
        "id": "LpaGX7CZ8aT8",
        "outputId": "250554f8-b2b5-48f3-eea7-01e1367471b6"
      },
      "source": [
        "# 132\n",
        "과일 = [\"사과\", \"귤\", \"수박\"]\n",
        "for 변수 in 과일:\n",
        "  print(\"#####\")"
      ],
      "execution_count": 2,
      "outputs": [
        {
          "output_type": "stream",
          "name": "stdout",
          "text": [
            "#####\n",
            "#####\n",
            "#####\n"
          ]
        }
      ]
    },
    {
      "cell_type": "code",
      "metadata": {
        "colab": {
          "base_uri": "https://localhost:8080/"
        },
        "id": "XzaXleVt8f-w",
        "outputId": "83abb5a1-f964-45c9-b10d-3e3af411d23d"
      },
      "source": [
        "# 133\n",
        "for i in ['A','B','C']:\n",
        "  print(i,end=' ')"
      ],
      "execution_count": 6,
      "outputs": [
        {
          "output_type": "stream",
          "name": "stdout",
          "text": [
            "A B C "
          ]
        }
      ]
    },
    {
      "cell_type": "code",
      "metadata": {
        "colab": {
          "base_uri": "https://localhost:8080/"
        },
        "id": "TgG5x9gM8l1S",
        "outputId": "b549436f-0806-42e0-cce7-2fbdcfef3a19"
      },
      "source": [
        "# 134\n",
        "for i in ['A','B','C']:\n",
        "  print('출력 : {0}'.format(i))\n",
        "  print(f'출력 : {i}')"
      ],
      "execution_count": 11,
      "outputs": [
        {
          "output_type": "stream",
          "name": "stdout",
          "text": [
            "출력 : A\n",
            "출력 : A\n",
            "출력 : B\n",
            "출력 : B\n",
            "출력 : C\n",
            "출력 : C\n"
          ]
        }
      ]
    },
    {
      "cell_type": "code",
      "metadata": {
        "colab": {
          "base_uri": "https://localhost:8080/"
        },
        "id": "A_b6vkfU80wf",
        "outputId": "5562afd8-256e-4d08-da0e-b9248895928b"
      },
      "source": [
        "# 135\n",
        "for i in [\"A\", \"B\", \"C\"]:\n",
        "  b = i.lower()\n",
        "  print(f'변환:{b}')"
      ],
      "execution_count": 13,
      "outputs": [
        {
          "output_type": "stream",
          "name": "stdout",
          "text": [
            "변환:a\n",
            "변환:b\n",
            "변환:c\n"
          ]
        }
      ]
    },
    {
      "cell_type": "code",
      "metadata": {
        "colab": {
          "base_uri": "https://localhost:8080/"
        },
        "id": "HORcXX8-9Ovw",
        "outputId": "4c47ce31-609e-46f6-a440-548eb00a71b5"
      },
      "source": [
        "# 136\n",
        "for i in [10,20,30]:\n",
        "  print(f'변수 = {i}')"
      ],
      "execution_count": 17,
      "outputs": [
        {
          "output_type": "stream",
          "name": "stdout",
          "text": [
            "변수 = 10\n",
            "변수 = 20\n",
            "변수 = 30\n"
          ]
        }
      ]
    },
    {
      "cell_type": "code",
      "metadata": {
        "colab": {
          "base_uri": "https://localhost:8080/"
        },
        "id": "5e--KjvX-A3y",
        "outputId": "0de46197-a10e-4869-f5d1-1847936ad388"
      },
      "source": [
        "# 137\n",
        "for i in [10,20,30]:\n",
        "  print(i)"
      ],
      "execution_count": 19,
      "outputs": [
        {
          "output_type": "stream",
          "name": "stdout",
          "text": [
            "10\n",
            "20\n",
            "30\n"
          ]
        }
      ]
    },
    {
      "cell_type": "code",
      "metadata": {
        "colab": {
          "base_uri": "https://localhost:8080/"
        },
        "id": "opqzY1DC9jr5",
        "outputId": "7dd8cc8f-6111-4b4b-9ea2-d4ec45d349ea"
      },
      "source": [
        "# 138\n",
        "for i in [10,20,30]:\n",
        "  print(i)\n",
        "  print('---------')"
      ],
      "execution_count": 18,
      "outputs": [
        {
          "output_type": "stream",
          "name": "stdout",
          "text": [
            "10\n",
            "---------\n",
            "20\n",
            "---------\n",
            "30\n",
            "---------\n"
          ]
        }
      ]
    },
    {
      "cell_type": "code",
      "metadata": {
        "colab": {
          "base_uri": "https://localhost:8080/"
        },
        "id": "7Izfm15b95_p",
        "outputId": "1c16d4ba-3e07-47e8-969a-b69446ed1dfc"
      },
      "source": [
        "# 139\n",
        "for i in ['++++',10,20,30]:\n",
        "  print(i)"
      ],
      "execution_count": 20,
      "outputs": [
        {
          "output_type": "stream",
          "name": "stdout",
          "text": [
            "++++\n",
            "10\n",
            "20\n",
            "30\n"
          ]
        }
      ]
    },
    {
      "cell_type": "code",
      "metadata": {
        "colab": {
          "base_uri": "https://localhost:8080/"
        },
        "id": "AA-6GzsI-RA9",
        "outputId": "8fc7be17-780f-4d57-8091-1c2abe10ecf3"
      },
      "source": [
        "# 140\n",
        "for i in range(4):\n",
        "  for i in ['------']:\n",
        "    print(i)"
      ],
      "execution_count": 23,
      "outputs": [
        {
          "output_type": "stream",
          "name": "stdout",
          "text": [
            "------\n",
            "------\n",
            "------\n",
            "------\n"
          ]
        }
      ]
    },
    {
      "cell_type": "code",
      "metadata": {
        "colab": {
          "base_uri": "https://localhost:8080/"
        },
        "id": "V2ZDnxhy-cOg",
        "outputId": "f5778513-d4ab-402f-9ac7-f002ba004015"
      },
      "source": [
        "# 141\n",
        "리스트 = [100, 200, 300]\n",
        "for i in 리스트 :\n",
        "  print(i + 10)"
      ],
      "execution_count": 27,
      "outputs": [
        {
          "output_type": "stream",
          "name": "stdout",
          "text": [
            "110\n",
            "210\n",
            "310\n"
          ]
        }
      ]
    },
    {
      "cell_type": "code",
      "metadata": {
        "colab": {
          "base_uri": "https://localhost:8080/"
        },
        "id": "O94gbmEE-ySb",
        "outputId": "8b4823a3-08dd-4050-d18b-d31452e78fbc"
      },
      "source": [
        "# 142\n",
        "리스트 = [\"김밥\", \"라면\", \"튀김\"]\n",
        "for i in 리스트 :\n",
        "  print(f'오늘의 메뉴: {i}')"
      ],
      "execution_count": 28,
      "outputs": [
        {
          "output_type": "stream",
          "name": "stdout",
          "text": [
            "오늘의 메뉴: 김밥\n",
            "오늘의 메뉴: 라면\n",
            "오늘의 메뉴: 튀김\n"
          ]
        }
      ]
    },
    {
      "cell_type": "code",
      "metadata": {
        "colab": {
          "base_uri": "https://localhost:8080/"
        },
        "id": "0I2pgzuu_BMY",
        "outputId": "c24e58c7-3ec5-4236-be83-3e9dc633d645"
      },
      "source": [
        "# 143\n",
        "리스트 = [\"SK하이닉스\", \"삼성전자\", \"LG전자\"]\n",
        "for i in 리스트 :\n",
        "  print(len(i))"
      ],
      "execution_count": 30,
      "outputs": [
        {
          "output_type": "stream",
          "name": "stdout",
          "text": [
            "6\n",
            "4\n",
            "4\n"
          ]
        }
      ]
    },
    {
      "cell_type": "code",
      "metadata": {
        "colab": {
          "base_uri": "https://localhost:8080/"
        },
        "id": "FFOYdvVb_NRi",
        "outputId": "99db0fa2-e161-4c23-c578-3ae29433021f"
      },
      "source": [
        "# 144\n",
        "리스트 = ['dog', 'cat', 'parrot']\n",
        "for i in 리스트 :\n",
        "  print(f'{i} {len(i)}')"
      ],
      "execution_count": 33,
      "outputs": [
        {
          "output_type": "stream",
          "name": "stdout",
          "text": [
            "dog 3\n",
            "cat 3\n",
            "parrot 6\n"
          ]
        }
      ]
    },
    {
      "cell_type": "code",
      "metadata": {
        "colab": {
          "base_uri": "https://localhost:8080/"
        },
        "id": "w_vdqI6B_aGQ",
        "outputId": "1de6f5ac-b57e-4072-ce28-d81355c80211"
      },
      "source": [
        "# 145\n",
        "리스트 = ['dog', 'cat', 'parrot']\n",
        "for i in 리스트 :\n",
        "  print(f'{i[0]}')"
      ],
      "execution_count": 34,
      "outputs": [
        {
          "output_type": "stream",
          "name": "stdout",
          "text": [
            "d\n",
            "c\n",
            "p\n"
          ]
        }
      ]
    },
    {
      "cell_type": "code",
      "metadata": {
        "colab": {
          "base_uri": "https://localhost:8080/"
        },
        "id": "Yuwn8fb6ACkZ",
        "outputId": "f60ccb58-39d2-4161-e5bd-663f9d6f44eb"
      },
      "source": [
        "# 146\n",
        "리스트 = [1, 2, 3]\n",
        "for i in 리스트 :\n",
        "  print(f'3 x {i}')"
      ],
      "execution_count": 35,
      "outputs": [
        {
          "output_type": "stream",
          "name": "stdout",
          "text": [
            "3 x 1\n",
            "3 x 2\n",
            "3 x 3\n"
          ]
        }
      ]
    },
    {
      "cell_type": "code",
      "metadata": {
        "colab": {
          "base_uri": "https://localhost:8080/"
        },
        "id": "4li8PpEWBYd3",
        "outputId": "673809ce-f5f5-426a-d9f9-fdb742eb99a9"
      },
      "source": [
        "# 147\n",
        "리스트 = [1, 2, 3]\n",
        "for i in 리스트 :\n",
        "  print(f'3 x {i} = {3*i}')"
      ],
      "execution_count": 36,
      "outputs": [
        {
          "output_type": "stream",
          "name": "stdout",
          "text": [
            "3 x 1 = 3\n",
            "3 x 2 = 6\n",
            "3 x 3 = 9\n"
          ]
        }
      ]
    },
    {
      "cell_type": "code",
      "metadata": {
        "colab": {
          "base_uri": "https://localhost:8080/"
        },
        "id": "RPr3tEc0BrHJ",
        "outputId": "0c5794ce-ecc4-48fd-b50e-8fc75cc1691a"
      },
      "source": [
        "# 148\n",
        "리스트 = [\"가\", \"나\", \"다\", \"라\"]\n",
        "for i in 리스트[1:] :\n",
        "  print(i)"
      ],
      "execution_count": 39,
      "outputs": [
        {
          "output_type": "stream",
          "name": "stdout",
          "text": [
            "나\n",
            "다\n",
            "라\n"
          ]
        }
      ]
    },
    {
      "cell_type": "code",
      "metadata": {
        "colab": {
          "base_uri": "https://localhost:8080/"
        },
        "id": "SVH_3yAMB2a1",
        "outputId": "e64a6c87-0470-478b-9d65-26180977126c"
      },
      "source": [
        "# 149\n",
        "리스트 = [\"가\", \"나\", \"다\", \"라\"]\n",
        "for i in 리스트[::2] :\n",
        "  print(i)"
      ],
      "execution_count": 43,
      "outputs": [
        {
          "output_type": "stream",
          "name": "stdout",
          "text": [
            "가\n",
            "다\n"
          ]
        }
      ]
    },
    {
      "cell_type": "code",
      "metadata": {
        "colab": {
          "base_uri": "https://localhost:8080/"
        },
        "id": "NPW0xC4lCOam",
        "outputId": "5d6244e1-0268-402e-d814-0efefd3d37c4"
      },
      "source": [
        "# 150\n",
        "리스트 = [\"가\", \"나\", \"다\", \"라\"]\n",
        "for i in 리스트[::-1] :\n",
        "  print(i)"
      ],
      "execution_count": 45,
      "outputs": [
        {
          "output_type": "stream",
          "name": "stdout",
          "text": [
            "라\n",
            "다\n",
            "나\n",
            "가\n"
          ]
        }
      ]
    },
    {
      "cell_type": "code",
      "metadata": {
        "colab": {
          "base_uri": "https://localhost:8080/"
        },
        "id": "0o_W_PnpC47x",
        "outputId": "6aee5c9b-8752-4e4a-f2cf-d5c425962c03"
      },
      "source": [
        "# 151\n",
        "리스트 = [3, -20, -3, 44]\n",
        "for i in 리스트 :\n",
        "  if i < 0 :\n",
        "    print(i)"
      ],
      "execution_count": 46,
      "outputs": [
        {
          "output_type": "stream",
          "name": "stdout",
          "text": [
            "-20\n",
            "-3\n"
          ]
        }
      ]
    },
    {
      "cell_type": "code",
      "metadata": {
        "colab": {
          "base_uri": "https://localhost:8080/"
        },
        "id": "57YTlVAfDFvX",
        "outputId": "d3dbf891-fe66-4505-aa17-c85993d4aa23"
      },
      "source": [
        "# 152\n",
        "리스트 = [3, 100, 23, 44]\n",
        "for i in 리스트 :\n",
        "  if i % 3 == 0:\n",
        "    print(i)"
      ],
      "execution_count": 47,
      "outputs": [
        {
          "output_type": "stream",
          "name": "stdout",
          "text": [
            "3\n"
          ]
        }
      ]
    },
    {
      "cell_type": "code",
      "metadata": {
        "colab": {
          "base_uri": "https://localhost:8080/"
        },
        "id": "kH_H5xrJDQBO",
        "outputId": "ddb5c552-6a84-4282-aba6-ac7d7a6b3d91"
      },
      "source": [
        "# 153\n",
        "리스트 = [13, 21, 12, 14, 30, 18]\n",
        "for i in 리스트 :\n",
        "  if i < 20 and i % 3 == 0 :\n",
        "    print(i)"
      ],
      "execution_count": 48,
      "outputs": [
        {
          "output_type": "stream",
          "name": "stdout",
          "text": [
            "12\n",
            "18\n"
          ]
        }
      ]
    },
    {
      "cell_type": "code",
      "metadata": {
        "colab": {
          "base_uri": "https://localhost:8080/"
        },
        "id": "1OnMEgu7DYJO",
        "outputId": "66f835bd-5711-4d33-a7e2-3ba93d265953"
      },
      "source": [
        "# 154\n",
        "리스트 = [\"I\", \"study\", \"python\", \"language\", \"!\"]\n",
        "for i in 리스트 :\n",
        "  if len(i) > 2 :\n",
        "    print(i)"
      ],
      "execution_count": 49,
      "outputs": [
        {
          "output_type": "stream",
          "name": "stdout",
          "text": [
            "study\n",
            "python\n",
            "language\n"
          ]
        }
      ]
    },
    {
      "cell_type": "code",
      "metadata": {
        "colab": {
          "base_uri": "https://localhost:8080/"
        },
        "id": "DxAV7S8iDpvK",
        "outputId": "57641a3f-1a76-4e0b-cdf4-508a0757f8f5"
      },
      "source": [
        "# 155\n",
        "리스트 = [\"A\", \"b\", \"c\", \"D\"]\n",
        "for i in 리스트 :\n",
        "  if i.isupper() :\n",
        "    print(i)"
      ],
      "execution_count": 51,
      "outputs": [
        {
          "output_type": "stream",
          "name": "stdout",
          "text": [
            "A\n",
            "D\n"
          ]
        }
      ]
    },
    {
      "cell_type": "code",
      "metadata": {
        "colab": {
          "base_uri": "https://localhost:8080/"
        },
        "id": "t-J4EYYFD2XH",
        "outputId": "316b9350-0bd1-46e9-fdb1-54b0809994e6"
      },
      "source": [
        "# 156\n",
        "리스트 = [\"A\", \"b\", \"c\", \"D\"]\n",
        "for i in 리스트 :\n",
        "  if i.islower():\n",
        "    print(i)"
      ],
      "execution_count": 52,
      "outputs": [
        {
          "output_type": "stream",
          "name": "stdout",
          "text": [
            "b\n",
            "c\n"
          ]
        }
      ]
    },
    {
      "cell_type": "code",
      "metadata": {
        "colab": {
          "base_uri": "https://localhost:8080/"
        },
        "id": "L6nGHZjXD-Rn",
        "outputId": "ad849dc9-3806-4b9b-83c5-29062c76bad3"
      },
      "source": [
        "# 157\n",
        "리스트 = ['dog', 'cat', 'parrot']\n",
        "for i in 리스트 :\n",
        "  print(i.capitalize())"
      ],
      "execution_count": 53,
      "outputs": [
        {
          "output_type": "stream",
          "name": "stdout",
          "text": [
            "Dog\n",
            "Cat\n",
            "Parrot\n"
          ]
        }
      ]
    },
    {
      "cell_type": "code",
      "metadata": {
        "colab": {
          "base_uri": "https://localhost:8080/"
        },
        "id": "Vq2I6pYVEH51",
        "outputId": "1bb81d75-e78a-47bc-c191-6d1c0787fb57"
      },
      "source": [
        "# 158\n",
        "리스트 = ['hello.py', 'ex01.py', 'intro.hwp']\n",
        "for i in 리스트 :\n",
        "  print(i.split('.')[0])"
      ],
      "execution_count": 54,
      "outputs": [
        {
          "output_type": "stream",
          "name": "stdout",
          "text": [
            "hello\n",
            "ex01\n",
            "intro\n"
          ]
        }
      ]
    },
    {
      "cell_type": "code",
      "metadata": {
        "colab": {
          "base_uri": "https://localhost:8080/"
        },
        "id": "E-r-fUW9EU_S",
        "outputId": "1acea044-69e8-4edf-d987-fb05c58c50c7"
      },
      "source": [
        "# 159\n",
        "리스트 = ['intra.h', 'intra.c', 'define.h', 'run.py']\n",
        "for i in 리스트 :\n",
        "  if i.split('.')[1] == 'h' :\n",
        "    print(i)"
      ],
      "execution_count": 58,
      "outputs": [
        {
          "output_type": "stream",
          "name": "stdout",
          "text": [
            "intra.h\n",
            "define.h\n"
          ]
        }
      ]
    },
    {
      "cell_type": "code",
      "metadata": {
        "colab": {
          "base_uri": "https://localhost:8080/"
        },
        "id": "sngUHsHMEmmO",
        "outputId": "eae4d631-78ba-42bb-8a2f-823973faa444"
      },
      "source": [
        "# 160\n",
        "리스트 = ['intra.h', 'intra.c', 'define.h', 'run.py']\n",
        "for i in 리스트 :\n",
        "  if i.split('.')[1] == 'h' or i.split('.')[1] =='c':\n",
        "    print(i)"
      ],
      "execution_count": 59,
      "outputs": [
        {
          "output_type": "stream",
          "name": "stdout",
          "text": [
            "intra.h\n",
            "intra.c\n",
            "define.h\n"
          ]
        }
      ]
    },
    {
      "cell_type": "code",
      "metadata": {
        "id": "IheO-tPGFETt"
      },
      "source": [
        ""
      ],
      "execution_count": null,
      "outputs": []
    }
  ]
}