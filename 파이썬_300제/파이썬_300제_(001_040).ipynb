{
  "nbformat": 4,
  "nbformat_minor": 0,
  "metadata": {
    "colab": {
      "name": "파이썬 300제 (001-040).ipynb",
      "provenance": [],
      "authorship_tag": "ABX9TyPiZTGj+YQLXsKJO71UCTZN",
      "include_colab_link": true
    },
    "kernelspec": {
      "name": "python3",
      "display_name": "Python 3"
    },
    "language_info": {
      "name": "python"
    }
  },
  "cells": [
    {
      "cell_type": "markdown",
      "metadata": {
        "id": "view-in-github",
        "colab_type": "text"
      },
      "source": [
        "<a href=\"https://colab.research.google.com/github/InTaewoo/study/blob/main/python/%ED%8C%8C%EC%9D%B4%EC%8D%AC_300%EC%A0%9C_(001_040).ipynb\" target=\"_parent\"><img src=\"https://colab.research.google.com/assets/colab-badge.svg\" alt=\"Open In Colab\"/></a>"
      ]
    },
    {
      "cell_type": "markdown",
      "metadata": {
        "id": "biNLfJ4hPpDK"
      },
      "source": [
        "# 초보자를 위한 파이썬 300제 \n",
        "https://wikidocs.net/book/922"
      ]
    },
    {
      "cell_type": "code",
      "metadata": {
        "id": "pe9Mfa6R_geI"
      },
      "source": [
        "# 001 \n",
        "print('Hello World')"
      ],
      "execution_count": null,
      "outputs": []
    },
    {
      "cell_type": "code",
      "metadata": {
        "colab": {
          "base_uri": "https://localhost:8080/"
        },
        "id": "OT_ssgEI_r2Y",
        "outputId": "0fc75431-22e6-4830-8539-0e7ac6f8d4d2"
      },
      "source": [
        "# 002\n",
        "print(\"'Mary's cosmetics\")"
      ],
      "execution_count": 1,
      "outputs": [
        {
          "output_type": "stream",
          "name": "stdout",
          "text": [
            "'Mary's cosmetics\n"
          ]
        }
      ]
    },
    {
      "cell_type": "code",
      "metadata": {
        "colab": {
          "base_uri": "https://localhost:8080/"
        },
        "id": "5G_CQ8gy_zKd",
        "outputId": "d89b484a-3ef4-4ce8-88e3-33341d5f5484"
      },
      "source": [
        "# 003\n",
        "print('신씨가 소리질렀다. \"도둑이야\"')"
      ],
      "execution_count": 4,
      "outputs": [
        {
          "output_type": "stream",
          "name": "stdout",
          "text": [
            "신씨가 소리질렀다. \"도둑이야\"\n"
          ]
        }
      ]
    },
    {
      "cell_type": "code",
      "metadata": {
        "colab": {
          "base_uri": "https://localhost:8080/"
        },
        "id": "l7JdqXht_8AA",
        "outputId": "98e3028a-a973-4bfa-bcb6-ffe848fbe866"
      },
      "source": [
        "# 004\n",
        "print('C:\\Windows')"
      ],
      "execution_count": 8,
      "outputs": [
        {
          "output_type": "stream",
          "name": "stdout",
          "text": [
            "C:\\Windows\n"
          ]
        }
      ]
    },
    {
      "cell_type": "code",
      "metadata": {
        "colab": {
          "base_uri": "https://localhost:8080/"
        },
        "id": "gMeXOxKMAGff",
        "outputId": "dba34776-89e4-4022-c4dd-0f96d26f5a37"
      },
      "source": [
        "# 005\n",
        "print('안녕하세요.\\n 만나서 \\t\\t 반갑습니다.')\n",
        "# \\n : 한줄 띄기\n",
        "# \\t : 가로로 4칸(tab)"
      ],
      "execution_count": 9,
      "outputs": [
        {
          "output_type": "stream",
          "name": "stdout",
          "text": [
            "안녕하세요.\n",
            " 만나서 \t\t 반갑습니다.\n"
          ]
        }
      ]
    },
    {
      "cell_type": "code",
      "metadata": {
        "colab": {
          "base_uri": "https://localhost:8080/"
        },
        "id": "WwJLMcVuAUv0",
        "outputId": "e7e2747c-cf64-4dd8-a499-e2b70741ec18"
      },
      "source": [
        "# 006\n",
        "print(\"오늘은\",\"일요일\")"
      ],
      "execution_count": 10,
      "outputs": [
        {
          "output_type": "stream",
          "name": "stdout",
          "text": [
            "오늘은 일요일\n"
          ]
        }
      ]
    },
    {
      "cell_type": "code",
      "metadata": {
        "colab": {
          "base_uri": "https://localhost:8080/"
        },
        "id": "KLIKvJICAjUu",
        "outputId": "8e94ae72-acf3-4637-8537-4d18e68c2b55"
      },
      "source": [
        "# 007\n",
        "print('naver'+';''kakao'+';'+'samsung')"
      ],
      "execution_count": 14,
      "outputs": [
        {
          "output_type": "stream",
          "name": "stdout",
          "text": [
            "naver;kakao;samsung\n"
          ]
        }
      ]
    },
    {
      "cell_type": "code",
      "metadata": {
        "colab": {
          "base_uri": "https://localhost:8080/"
        },
        "id": "XYH08JI_AssF",
        "outputId": "f7354de0-b750-40ce-8ae9-439afe77775f"
      },
      "source": [
        "# 008\n",
        "print('naver','kakao','sk','samsung',sep='/')"
      ],
      "execution_count": 16,
      "outputs": [
        {
          "output_type": "stream",
          "name": "stdout",
          "text": [
            "naver/kakao/sk/samsung\n"
          ]
        }
      ]
    },
    {
      "cell_type": "code",
      "metadata": {
        "colab": {
          "base_uri": "https://localhost:8080/"
        },
        "id": "XIci3SfoBART",
        "outputId": "76ccc3e9-9bdd-49e4-adea-bca2280254f9"
      },
      "source": [
        "# 009\n",
        "print('first', end=''); print('second')"
      ],
      "execution_count": 20,
      "outputs": [
        {
          "output_type": "stream",
          "name": "stdout",
          "text": [
            "firstsecond\n"
          ]
        }
      ]
    },
    {
      "cell_type": "code",
      "metadata": {
        "colab": {
          "base_uri": "https://localhost:8080/"
        },
        "id": "luNxXkwPBM1i",
        "outputId": "7ce6e1fd-d77f-4288-d27c-1c64d54c6386"
      },
      "source": [
        "# 010\n",
        "print(5/3)"
      ],
      "execution_count": 21,
      "outputs": [
        {
          "output_type": "stream",
          "name": "stdout",
          "text": [
            "1.6666666666666667\n"
          ]
        }
      ]
    },
    {
      "cell_type": "code",
      "metadata": {
        "colab": {
          "base_uri": "https://localhost:8080/"
        },
        "id": "MqLiF4_hBcwv",
        "outputId": "d308105d-9752-4d94-f7b4-c3c9fc164c44"
      },
      "source": [
        "# 011\n",
        "삼성전자 = 50000\n",
        "총평가금액 = 삼성전자 * 10\n",
        "print(총평가금액)"
      ],
      "execution_count": 29,
      "outputs": [
        {
          "output_type": "stream",
          "name": "stdout",
          "text": [
            "500000\n"
          ]
        }
      ]
    },
    {
      "cell_type": "code",
      "metadata": {
        "id": "-S3Vrx3CBqpe"
      },
      "source": [
        "# 012\n",
        "시가총액 = '298조'\n",
        "현재가 = '50,000원'\n",
        "PER = 15.79"
      ],
      "execution_count": 30,
      "outputs": []
    },
    {
      "cell_type": "code",
      "metadata": {
        "colab": {
          "base_uri": "https://localhost:8080/"
        },
        "id": "ohvvednyCIng",
        "outputId": "1d5c2566-493f-4520-92bb-7f10ce8c6e20"
      },
      "source": [
        "# 013\n",
        "s = 'hello'\n",
        "t = 'python'\n",
        "print(s+'!',t) "
      ],
      "execution_count": 31,
      "outputs": [
        {
          "output_type": "stream",
          "name": "stdout",
          "text": [
            "hello! python\n"
          ]
        }
      ]
    },
    {
      "cell_type": "code",
      "metadata": {
        "colab": {
          "base_uri": "https://localhost:8080/"
        },
        "id": "PeUs8ubYCUfa",
        "outputId": "6f41c886-f981-4854-cfd2-c123c7e9abe8"
      },
      "source": [
        "#014\n",
        "print(2+2*3)"
      ],
      "execution_count": 32,
      "outputs": [
        {
          "output_type": "stream",
          "name": "stdout",
          "text": [
            "8\n"
          ]
        }
      ]
    },
    {
      "cell_type": "code",
      "metadata": {
        "colab": {
          "base_uri": "https://localhost:8080/"
        },
        "id": "PU9zM-gQCZ1b",
        "outputId": "5da7f267-7f0f-41ee-81f1-17eaa9759bf3"
      },
      "source": [
        "# 015\n",
        "a = 128\n",
        "print(type(a))\n",
        "\n",
        "a ='132'\n",
        "type(a)"
      ],
      "execution_count": 34,
      "outputs": [
        {
          "output_type": "stream",
          "name": "stdout",
          "text": [
            "<class 'int'>\n"
          ]
        },
        {
          "output_type": "execute_result",
          "data": {
            "text/plain": [
              "str"
            ]
          },
          "metadata": {},
          "execution_count": 34
        }
      ]
    },
    {
      "cell_type": "code",
      "metadata": {
        "colab": {
          "base_uri": "https://localhost:8080/"
        },
        "id": "nJ2EOPnmCd6S",
        "outputId": "986ddbea-c2cb-494e-9fa4-72a4674d7c8b"
      },
      "source": [
        "# 016\n",
        "num_str = '720'\n",
        "num_int = int(num_str)\n",
        "num_int\n",
        "type(num_int)"
      ],
      "execution_count": 38,
      "outputs": [
        {
          "output_type": "execute_result",
          "data": {
            "text/plain": [
              "int"
            ]
          },
          "metadata": {},
          "execution_count": 38
        }
      ]
    },
    {
      "cell_type": "code",
      "metadata": {
        "colab": {
          "base_uri": "https://localhost:8080/"
        },
        "id": "Uu45QuSdCthG",
        "outputId": "570329cf-d84f-4d58-bcf4-b7d5deb65e92"
      },
      "source": [
        "# 017\n",
        "num = 100\n",
        "str_num = str(num)\n",
        "type(str_num)"
      ],
      "execution_count": 39,
      "outputs": [
        {
          "output_type": "execute_result",
          "data": {
            "text/plain": [
              "str"
            ]
          },
          "metadata": {},
          "execution_count": 39
        }
      ]
    },
    {
      "cell_type": "code",
      "metadata": {
        "colab": {
          "base_uri": "https://localhost:8080/"
        },
        "id": "QTxnkxkPDDLy",
        "outputId": "0fd48b89-6203-4b56-eb8e-9c7e9e9b4c6c"
      },
      "source": [
        "# 018\n",
        "flo_num = float(15.79)\n",
        "type(flo_num)"
      ],
      "execution_count": 41,
      "outputs": [
        {
          "output_type": "execute_result",
          "data": {
            "text/plain": [
              "float"
            ]
          },
          "metadata": {},
          "execution_count": 41
        }
      ]
    },
    {
      "cell_type": "code",
      "metadata": {
        "colab": {
          "base_uri": "https://localhost:8080/"
        },
        "id": "4h1IhOSdDJlR",
        "outputId": "0f9d55b8-b455-4de3-eb66-ad9997ee6051"
      },
      "source": [
        "# 019\n",
        "year = \"2020\"\n",
        "int_year = int(year)\n",
        "print(int_year-2,int_year-1,int_year)"
      ],
      "execution_count": 43,
      "outputs": [
        {
          "output_type": "stream",
          "name": "stdout",
          "text": [
            "2018 2019 2020\n"
          ]
        }
      ]
    },
    {
      "cell_type": "code",
      "metadata": {
        "colab": {
          "base_uri": "https://localhost:8080/"
        },
        "id": "V_APlxu8DYWL",
        "outputId": "e79d8bbc-651a-46ae-e642-7ef23e79a4e6"
      },
      "source": [
        "# 020\n",
        "cost = 48584\n",
        "print(cost * 36)"
      ],
      "execution_count": 44,
      "outputs": [
        {
          "output_type": "stream",
          "name": "stdout",
          "text": [
            "1749024\n"
          ]
        }
      ]
    },
    {
      "cell_type": "code",
      "metadata": {
        "colab": {
          "base_uri": "https://localhost:8080/"
        },
        "id": "sHWYaDRvDp0x",
        "outputId": "5bd2b767-daea-4610-f924-72e0964af998"
      },
      "source": [
        "# 021\n",
        "letters = 'python'\n",
        "print(letters[0],letters[1])"
      ],
      "execution_count": 46,
      "outputs": [
        {
          "output_type": "stream",
          "name": "stdout",
          "text": [
            "p y\n"
          ]
        }
      ]
    },
    {
      "cell_type": "code",
      "metadata": {
        "colab": {
          "base_uri": "https://localhost:8080/"
        },
        "id": "_U_ZfzYuD6CV",
        "outputId": "f5cfae6d-3e49-4bd5-90b7-a4bf81f95c48"
      },
      "source": [
        "# 022 \n",
        "license_plate = \"24가 2210\"\n",
        "print(license_plate[-4:])"
      ],
      "execution_count": 49,
      "outputs": [
        {
          "output_type": "stream",
          "name": "stdout",
          "text": [
            "2210\n"
          ]
        }
      ]
    },
    {
      "cell_type": "code",
      "metadata": {
        "colab": {
          "base_uri": "https://localhost:8080/"
        },
        "id": "GJOgiM7_EJrX",
        "outputId": "38f7d4ca-3273-4bcb-ac82-ecbbdccea599"
      },
      "source": [
        "# 023\n",
        "string = '홀짝홀짝홀짝'\n",
        "print(string[0] *3)"
      ],
      "execution_count": 50,
      "outputs": [
        {
          "output_type": "stream",
          "name": "stdout",
          "text": [
            "홀홀홀\n"
          ]
        }
      ]
    },
    {
      "cell_type": "code",
      "metadata": {
        "colab": {
          "base_uri": "https://localhost:8080/",
          "height": 35
        },
        "id": "wli_MN-4EYli",
        "outputId": "d3cf39da-9e3f-4cec-c5e2-dd90dc47a45c"
      },
      "source": [
        "# 024\n",
        "string = 'PYTHON'\n",
        "string[::-1]"
      ],
      "execution_count": 56,
      "outputs": [
        {
          "output_type": "execute_result",
          "data": {
            "application/vnd.google.colaboratory.intrinsic+json": {
              "type": "string"
            },
            "text/plain": [
              "'NOHTYP'"
            ]
          },
          "metadata": {},
          "execution_count": 56
        }
      ]
    },
    {
      "cell_type": "code",
      "metadata": {
        "colab": {
          "base_uri": "https://localhost:8080/",
          "height": 35
        },
        "id": "4mOd8-7KEkJF",
        "outputId": "ac7ff88a-c9f6-4fc1-98ff-663efdd6f32a"
      },
      "source": [
        "# 025\n",
        "phone_number = '010-1111-2222'\n",
        "phone_number.replace('-',' ')"
      ],
      "execution_count": 58,
      "outputs": [
        {
          "output_type": "execute_result",
          "data": {
            "application/vnd.google.colaboratory.intrinsic+json": {
              "type": "string"
            },
            "text/plain": [
              "'010 1111 2222'"
            ]
          },
          "metadata": {},
          "execution_count": 58
        }
      ]
    },
    {
      "cell_type": "code",
      "metadata": {
        "colab": {
          "base_uri": "https://localhost:8080/",
          "height": 35
        },
        "id": "pxxAO9N1FEmQ",
        "outputId": "b4c7dcb2-f9f7-44d7-b13c-6b0d6268ebf7"
      },
      "source": [
        "# 026\n",
        "phone_number.replace('-','')"
      ],
      "execution_count": 59,
      "outputs": [
        {
          "output_type": "execute_result",
          "data": {
            "application/vnd.google.colaboratory.intrinsic+json": {
              "type": "string"
            },
            "text/plain": [
              "'01011112222'"
            ]
          },
          "metadata": {},
          "execution_count": 59
        }
      ]
    },
    {
      "cell_type": "code",
      "metadata": {
        "colab": {
          "base_uri": "https://localhost:8080/",
          "height": 35
        },
        "id": "rPdvuF3bFPhD",
        "outputId": "b9aab253-354f-4bd9-aa79-fa8f54a27464"
      },
      "source": [
        "# 027\n",
        "url = \"http://sharebook.kr\"\n",
        "url.split('.')[1]"
      ],
      "execution_count": 62,
      "outputs": [
        {
          "output_type": "execute_result",
          "data": {
            "application/vnd.google.colaboratory.intrinsic+json": {
              "type": "string"
            },
            "text/plain": [
              "'kr'"
            ]
          },
          "metadata": {},
          "execution_count": 62
        }
      ]
    },
    {
      "cell_type": "code",
      "metadata": {
        "colab": {
          "base_uri": "https://localhost:8080/",
          "height": 35
        },
        "id": "fxEz_dszFXi5",
        "outputId": "f2f0affa-ad9c-462f-8ab3-142142899e7b"
      },
      "source": [
        "# 028\n",
        "string = 'abcdfe2a354a32a'\n",
        "string.replace('a','A')"
      ],
      "execution_count": 63,
      "outputs": [
        {
          "output_type": "execute_result",
          "data": {
            "application/vnd.google.colaboratory.intrinsic+json": {
              "type": "string"
            },
            "text/plain": [
              "'Abcdfe2A354A32A'"
            ]
          },
          "metadata": {},
          "execution_count": 63
        }
      ]
    },
    {
      "cell_type": "code",
      "metadata": {
        "colab": {
          "base_uri": "https://localhost:8080/"
        },
        "id": "mmb88eYGFr5V",
        "outputId": "694d532c-8322-4c2b-9ab6-6f85224ceb3d"
      },
      "source": [
        "# 030\n",
        "string = 'abcd'\n",
        "string.replace('b','B')\n",
        "print(string)"
      ],
      "execution_count": 64,
      "outputs": [
        {
          "output_type": "stream",
          "name": "stdout",
          "text": [
            "abcd\n"
          ]
        }
      ]
    },
    {
      "cell_type": "code",
      "metadata": {
        "colab": {
          "base_uri": "https://localhost:8080/"
        },
        "id": "-53ozsrEF0g1",
        "outputId": "8276236d-a6d4-47ed-fe45-9ea2003bf48d"
      },
      "source": [
        "# 031\n",
        "a = '3'\n",
        "b = '4'\n",
        "print(a+b)"
      ],
      "execution_count": 65,
      "outputs": [
        {
          "output_type": "stream",
          "name": "stdout",
          "text": [
            "34\n"
          ]
        }
      ]
    },
    {
      "cell_type": "code",
      "metadata": {
        "colab": {
          "base_uri": "https://localhost:8080/"
        },
        "id": "MaThFqhPG36l",
        "outputId": "b4b02b0c-b27c-44c1-b0a6-9c204f8a22cc"
      },
      "source": [
        "# 032\n",
        "print('Hi' * 3)"
      ],
      "execution_count": 66,
      "outputs": [
        {
          "output_type": "stream",
          "name": "stdout",
          "text": [
            "HiHiHi\n"
          ]
        }
      ]
    },
    {
      "cell_type": "code",
      "metadata": {
        "colab": {
          "base_uri": "https://localhost:8080/"
        },
        "id": "Ck0u5Z_RG8F-",
        "outputId": "a3a78c45-22ca-4f57-df6c-3b5f7359c530"
      },
      "source": [
        "# 033\n",
        "print('-' * 80)"
      ],
      "execution_count": 67,
      "outputs": [
        {
          "output_type": "stream",
          "name": "stdout",
          "text": [
            "--------------------------------------------------------------------------------\n"
          ]
        }
      ]
    },
    {
      "cell_type": "code",
      "metadata": {
        "colab": {
          "base_uri": "https://localhost:8080/"
        },
        "id": "QAXVxNz4G_VF",
        "outputId": "112e6938-ef1e-4461-8e70-19fa41c45c05"
      },
      "source": [
        "# 034\n",
        "t1 = 'python'\n",
        "t2 = 'java'\n",
        "print((t1+' '+t2+' ')*4)"
      ],
      "execution_count": 75,
      "outputs": [
        {
          "output_type": "stream",
          "name": "stdout",
          "text": [
            "python java python java python java python java \n"
          ]
        }
      ]
    },
    {
      "cell_type": "code",
      "metadata": {
        "colab": {
          "base_uri": "https://localhost:8080/"
        },
        "id": "GOZu0SWXHMAI",
        "outputId": "f1ecbe43-498a-4345-9548-1d3915057bf9"
      },
      "source": [
        "# 035\n",
        "name1 = '김민수'\n",
        "age1 = 10\n",
        "name2 = '이철희'\n",
        "age2 = 13\n",
        "print('이름 : {0} 나이: {1}\\n이름 : {2} 나이: {3}'.format(name1,age1,name2,age2))"
      ],
      "execution_count": 93,
      "outputs": [
        {
          "output_type": "stream",
          "name": "stdout",
          "text": [
            "이름 : 김민수 나이: 10\n",
            "이름 : 이철희 나이: 13\n"
          ]
        }
      ]
    },
    {
      "cell_type": "code",
      "metadata": {
        "colab": {
          "base_uri": "https://localhost:8080/"
        },
        "id": "GQvi1bR8H0iN",
        "outputId": "d970b31b-ca74-48c9-cf01-37c9b56d0ce6"
      },
      "source": [
        "# 036\n",
        "name1 = '김민수'\n",
        "age1 = 10\n",
        "name2 = '이철희'\n",
        "age2 = 13\n",
        "print('이름 : {0} 나이: {1}\\n이름 : {2} 나이: {3}'.format(name1,age1,name2,age2))"
      ],
      "execution_count": 94,
      "outputs": [
        {
          "output_type": "stream",
          "name": "stdout",
          "text": [
            "이름 : 김민수 나이: 10\n",
            "이름 : 이철희 나이: 13\n"
          ]
        }
      ]
    },
    {
      "cell_type": "code",
      "metadata": {
        "colab": {
          "base_uri": "https://localhost:8080/"
        },
        "id": "MPUHq28eJdjm",
        "outputId": "500db843-2f9a-488e-f4be-b75292a4132d"
      },
      "source": [
        "# 037\n",
        "print(f\"이름 : {name1} 나이 : {age1}\\n이름 : {name2} 나이 : {age2}\")"
      ],
      "execution_count": 96,
      "outputs": [
        {
          "output_type": "stream",
          "name": "stdout",
          "text": [
            "이름 : 김민수 나이 : 10\n",
            "이름 : 이철희 나이 : 13\n"
          ]
        }
      ]
    },
    {
      "cell_type": "code",
      "metadata": {
        "colab": {
          "base_uri": "https://localhost:8080/"
        },
        "id": "ez36hRSwJ3HP",
        "outputId": "ad1d919d-ede4-4ce4-8341-f945bbda5152"
      },
      "source": [
        "# 038\n",
        "상장주식수 = '5,969,782,550'\n",
        "print(int(상장주식수.replace(',','')))"
      ],
      "execution_count": 98,
      "outputs": [
        {
          "output_type": "stream",
          "name": "stdout",
          "text": [
            "5969782550\n"
          ]
        }
      ]
    },
    {
      "cell_type": "code",
      "metadata": {
        "colab": {
          "base_uri": "https://localhost:8080/"
        },
        "id": "GGIiU0flKCvI",
        "outputId": "2eee2939-ee5e-4155-e94f-bc07cdefc7d6"
      },
      "source": [
        "# 039\n",
        "분기 = '2020/03(E) (IFRS연결)'\n",
        "print(분기[0:7])"
      ],
      "execution_count": 101,
      "outputs": [
        {
          "output_type": "stream",
          "name": "stdout",
          "text": [
            "2020/03\n"
          ]
        }
      ]
    },
    {
      "cell_type": "code",
      "metadata": {
        "colab": {
          "base_uri": "https://localhost:8080/",
          "height": 35
        },
        "id": "6YwuvzsaKijM",
        "outputId": "a2e417ea-85f6-4925-abe5-bb5c5c4aa127"
      },
      "source": [
        "# 040\n",
        "data = \"      삼성전자      \"\n",
        "data.strip()"
      ],
      "execution_count": 102,
      "outputs": [
        {
          "output_type": "execute_result",
          "data": {
            "application/vnd.google.colaboratory.intrinsic+json": {
              "type": "string"
            },
            "text/plain": [
              "'삼성전자'"
            ]
          },
          "metadata": {},
          "execution_count": 102
        }
      ]
    },
    {
      "cell_type": "code",
      "metadata": {
        "id": "LHPMxNQYKp7C"
      },
      "source": [
        ""
      ],
      "execution_count": null,
      "outputs": []
    }
  ]
}
