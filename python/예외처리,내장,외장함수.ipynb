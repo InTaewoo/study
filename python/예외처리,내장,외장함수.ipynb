{
  "nbformat": 4,
  "nbformat_minor": 0,
  "metadata": {
    "colab": {
      "name": "예외처리,내장,외장함수.ipynb",
      "provenance": [],
      "collapsed_sections": [],
      "authorship_tag": "ABX9TyNXaIistm+wKi6SiSP75yXe",
      "include_colab_link": true
    },
    "kernelspec": {
      "name": "python3",
      "display_name": "Python 3"
    },
    "language_info": {
      "name": "python"
    }
  },
  "cells": [
    {
      "cell_type": "markdown",
      "metadata": {
        "id": "view-in-github",
        "colab_type": "text"
      },
      "source": [
        "<a href=\"https://colab.research.google.com/github/InTaewoo/study/blob/main/%EC%98%88%EC%99%B8%EC%B2%98%EB%A6%AC%2C%EB%82%B4%EC%9E%A5%2C%EC%99%B8%EC%9E%A5%ED%95%A8%EC%88%98.ipynb\" target=\"_parent\"><img src=\"https://colab.research.google.com/assets/colab-badge.svg\" alt=\"Open In Colab\"/></a>"
      ]
    },
    {
      "cell_type": "code",
      "metadata": {
        "colab": {
          "base_uri": "https://localhost:8080/"
        },
        "id": "yNLQeGx1ibRu",
        "outputId": "84403fbb-93d1-4880-b49e-84aa4035b11e"
      },
      "source": [
        "#try : 오류가 발생할 수 있는 구문\n",
        "#except Exception as e : #오류발생\n",
        "#else: 오류발생x\n",
        "#finally: 무조건 마지막에 실행\n",
        "try:\n",
        "  4 / 0\n",
        "except ZeroDivisionError as e:\n",
        "  print(e)"
      ],
      "execution_count": 2,
      "outputs": [
        {
          "output_type": "stream",
          "text": [
            "division by zero\n"
          ],
          "name": "stdout"
        }
      ]
    },
    {
      "cell_type": "code",
      "metadata": {
        "colab": {
          "base_uri": "https://localhost:8080/"
        },
        "id": "H_yhO5DSi9FA",
        "outputId": "e7299901-9cbb-4804-fe67-781899acf9ae"
      },
      "source": [
        "f= open('foo.txt','w')\n",
        "try:\n",
        "  #무언가를 수행한다.\n",
        "  data=f.read()\n",
        "  print(data)\n",
        "except Exception as e:\n",
        "  print(e)\n",
        "finally:\n",
        "  f.close()"
      ],
      "execution_count": 6,
      "outputs": [
        {
          "output_type": "stream",
          "text": [
            "not readable\n"
          ],
          "name": "stdout"
        }
      ]
    },
    {
      "cell_type": "code",
      "metadata": {
        "id": "CTcprsxkj1Os"
      },
      "source": [
        "#오류 회피하기\n",
        "try:\n",
        "  f=open('나없는파일','r')\n",
        "except FileNotFoundError:\n",
        "  pass #오류 발생했을때 지나감"
      ],
      "execution_count": 8,
      "outputs": []
    },
    {
      "cell_type": "code",
      "metadata": {
        "id": "EfMU0j0YkmAg"
      },
      "source": [
        "#내장함수\n",
        "#print(),type(),abs()"
      ],
      "execution_count": 9,
      "outputs": []
    },
    {
      "cell_type": "code",
      "metadata": {
        "colab": {
          "base_uri": "https://localhost:8080/",
          "height": 134
        },
        "id": "uARFTXVellaQ",
        "outputId": "0962402d-3a1d-43ee-f20c-ef797a2d07c0"
      },
      "source": [
        "def positive(x):\n",
        "   return x>0\n",
        "  a=list(filter(positive,[1,-3,2,0,-5,-6]))\n",
        "  print(a)"
      ],
      "execution_count": 13,
      "outputs": [
        {
          "output_type": "error",
          "ename": "IndentationError",
          "evalue": "ignored",
          "traceback": [
            "\u001b[0;36m  File \u001b[0;32m\"<ipython-input-13-a1a0ba0316ce>\"\u001b[0;36m, line \u001b[0;32m3\u001b[0m\n\u001b[0;31m    a=list(filter(positive,[1,-3,2,0,-5,-6]))\u001b[0m\n\u001b[0m                                             ^\u001b[0m\n\u001b[0;31mIndentationError\u001b[0m\u001b[0;31m:\u001b[0m unindent does not match any outer indentation level\n"
          ]
        }
      ]
    },
    {
      "cell_type": "code",
      "metadata": {
        "colab": {
          "base_uri": "https://localhost:8080/",
          "height": 134
        },
        "id": "I6WRZ3vVlGih",
        "outputId": "7ae77a9a-2782-426e-d10e-1b46c4e834e7"
      },
      "source": [
        "def gugu(n):\n",
        "  result=[]\n",
        "  i=1\n",
        "  while i < 10:\n",
        "    result.append(n*1)\n",
        "    i=i+1\n",
        "  return result\n",
        " print(gugu(2))"
      ],
      "execution_count": 18,
      "outputs": [
        {
          "output_type": "error",
          "ename": "IndentationError",
          "evalue": "ignored",
          "traceback": [
            "\u001b[0;36m  File \u001b[0;32m\"<ipython-input-18-766ccc2d2250>\"\u001b[0;36m, line \u001b[0;32m8\u001b[0m\n\u001b[0;31m    print(gugu(2))\u001b[0m\n\u001b[0m                  ^\u001b[0m\n\u001b[0;31mIndentationError\u001b[0m\u001b[0;31m:\u001b[0m unindent does not match any outer indentation level\n"
          ]
        }
      ]
    },
    {
      "cell_type": "code",
      "metadata": {
        "colab": {
          "base_uri": "https://localhost:8080/"
        },
        "id": "af_ArvZapF5V",
        "outputId": "4a862ef6-edc9-4714-f823-d327561a1c92"
      },
      "source": [
        "result=0\n",
        "for n in range(1,1000):\n",
        "  if n % 3==0 or n%5==0:\n",
        "    result+=n\n",
        "print(result)"
      ],
      "execution_count": 27,
      "outputs": [
        {
          "output_type": "stream",
          "text": [
            "233168\n"
          ],
          "name": "stdout"
        }
      ]
    },
    {
      "cell_type": "code",
      "metadata": {
        "colab": {
          "base_uri": "https://localhost:8080/"
        },
        "id": "1IPOTU8bp7gA",
        "outputId": "e28dc8b9-ac49-4581-e3aa-125e4b8ad784"
      },
      "source": [
        " def gettotalpage(m,n):\n",
        "   if m % n ==0:\n",
        "     return m // \n",
        "   return m//n+1\n",
        " print(gettotalpage(5,10))"
      ],
      "execution_count": 28,
      "outputs": [
        {
          "output_type": "stream",
          "text": [
            "1\n"
          ],
          "name": "stdout"
        }
      ]
    },
    {
      "cell_type": "code",
      "metadata": {
        "id": "BzJOdlvKsZQa"
      },
      "source": [
        ""
      ],
      "execution_count": null,
      "outputs": []
    }
  ]
}
