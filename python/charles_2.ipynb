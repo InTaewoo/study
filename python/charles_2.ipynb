{
  "nbformat": 4,
  "nbformat_minor": 0,
  "metadata": {
    "colab": {
      "name": "charles_2.ipynb",
      "provenance": [],
      "authorship_tag": "ABX9TyO5xWhGxEZrXgA/pYPTZzl3",
      "include_colab_link": true
    },
    "kernelspec": {
      "name": "python3",
      "display_name": "Python 3"
    },
    "language_info": {
      "name": "python"
    }
  },
  "cells": [
    {
      "cell_type": "markdown",
      "metadata": {
        "id": "view-in-github",
        "colab_type": "text"
      },
      "source": [
        "<a href=\"https://colab.research.google.com/github/InTaewoo/study/blob/main/charles_2.ipynb\" target=\"_parent\"><img src=\"https://colab.research.google.com/assets/colab-badge.svg\" alt=\"Open In Colab\"/></a>"
      ]
    },
    {
      "cell_type": "code",
      "metadata": {
        "colab": {
          "base_uri": "https://localhost:8080/"
        },
        "id": "ybhjSeJjFoth",
        "outputId": "6c84d0b8-ff92-42f6-d374-4f0e55d3ee82"
      },
      "source": [
        "x=0\n",
        "if x < 2 :\n",
        "  print('small')\n",
        "elif x < 10:\n",
        "  print('Medium')\n",
        "else : \n",
        "  print('Large')\n",
        "print('All done')"
      ],
      "execution_count": 1,
      "outputs": [
        {
          "output_type": "stream",
          "text": [
            "small\n",
            "All done\n"
          ],
          "name": "stdout"
        }
      ]
    },
    {
      "cell_type": "code",
      "metadata": {
        "colab": {
          "base_uri": "https://localhost:8080/"
        },
        "id": "CdfmZDHxGEkw",
        "outputId": "c445ccb7-316f-4176-88c1-1acc0f1bf8d4"
      },
      "source": [
        "# try except문 오류를 내지않고 실행하게함\n",
        "astr='hello bob'\n",
        "try:\n",
        "  istr=int(astr)\n",
        "except:\n",
        "  istr=-1\n",
        "print('First',istr)"
      ],
      "execution_count": 3,
      "outputs": [
        {
          "output_type": "stream",
          "text": [
            "First -1\n"
          ],
          "name": "stdout"
        }
      ]
    },
    {
      "cell_type": "code",
      "metadata": {
        "colab": {
          "base_uri": "https://localhost:8080/"
        },
        "id": "wsC_rJF3H3Yq",
        "outputId": "708af0ee-f8aa-4832-d293-1ffb41505777"
      },
      "source": [
        "rawstr=input('Enter a number:')\n",
        "try:\n",
        "  ival=int(rawstr)\n",
        "except:\n",
        "  ival=-1\n",
        "if ival>0:\n",
        "  print('Nice work')\n",
        "else:\n",
        "  print('Not a number')\n"
      ],
      "execution_count": 6,
      "outputs": [
        {
          "output_type": "stream",
          "text": [
            "Enter a number:num\n",
            "Not a number\n"
          ],
          "name": "stdout"
        }
      ]
    },
    {
      "cell_type": "code",
      "metadata": {
        "id": "8-GfElCmJOzt"
      },
      "source": [
        ""
      ],
      "execution_count": null,
      "outputs": []
    }
  ]
}
