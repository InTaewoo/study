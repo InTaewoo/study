{
  "nbformat": 4,
  "nbformat_minor": 0,
  "metadata": {
    "colab": {
      "name": "파이썬 기초1.ipynb",
      "provenance": [],
      "authorship_tag": "ABX9TyNFuIAgSjLvUBBYubobfqC0",
      "include_colab_link": true
    },
    "kernelspec": {
      "name": "python3",
      "display_name": "Python 3"
    },
    "language_info": {
      "name": "python"
    }
  },
  "cells": [
    {
      "cell_type": "markdown",
      "metadata": {
        "id": "view-in-github",
        "colab_type": "text"
      },
      "source": [
        "<a href=\"https://colab.research.google.com/github/InTaewoo/study/blob/main/python/%ED%8C%8C%EC%9D%B4%EC%8D%AC_%EA%B8%B0%EC%B4%881.ipynb\" target=\"_parent\"><img src=\"https://colab.research.google.com/assets/colab-badge.svg\" alt=\"Open In Colab\"/></a>"
      ]
    },
    {
      "cell_type": "code",
      "metadata": {
        "colab": {
          "base_uri": "https://localhost:8080/"
        },
        "id": "OPYZfEm6YnlI",
        "outputId": "85bc59e3-15ba-456d-8f00-983c48d0c643"
      },
      "source": [
        "for i in range(1,11,2):\n",
        "  print(i)"
      ],
      "execution_count": 5,
      "outputs": [
        {
          "output_type": "stream",
          "name": "stdout",
          "text": [
            "1\n",
            "3\n",
            "5\n",
            "7\n",
            "9\n"
          ]
        }
      ]
    },
    {
      "cell_type": "code",
      "metadata": {
        "colab": {
          "base_uri": "https://localhost:8080/"
        },
        "id": "HwTOPpnKYsyd",
        "outputId": "d4ce6e99-47e3-4352-c06a-04366cdcd8fd"
      },
      "source": [
        "for i in range(10,1,-1):\n",
        "  print(i)"
      ],
      "execution_count": 4,
      "outputs": [
        {
          "output_type": "stream",
          "name": "stdout",
          "text": [
            "10\n",
            "9\n",
            "8\n",
            "7\n",
            "6\n",
            "5\n",
            "4\n",
            "3\n",
            "2\n"
          ]
        }
      ]
    },
    {
      "cell_type": "code",
      "metadata": {
        "colab": {
          "base_uri": "https://localhost:8080/"
        },
        "id": "jEfrXuC_Y5BT",
        "outputId": "ba2cc080-89c3-4488-fd95-36c1fb9a7874"
      },
      "source": [
        "condition = False\n",
        "if condition:\n",
        "  print('T')\n",
        "else :\n",
        "  print('F')"
      ],
      "execution_count": 6,
      "outputs": [
        {
          "output_type": "stream",
          "name": "stdout",
          "text": [
            "F\n"
          ]
        }
      ]
    },
    {
      "cell_type": "code",
      "metadata": {
        "colab": {
          "base_uri": "https://localhost:8080/"
        },
        "id": "6oZwSgg8ZC-o",
        "outputId": "418e072e-add0-44ce-9b14-2e0d2efb163c"
      },
      "source": [
        "name = input('이름 : ')\n",
        "print('안녕, ', name)\n",
        "print('안녕', name, '!')\n",
        "print('안녕', name ,'!', sep='   ')\n"
      ],
      "execution_count": 23,
      "outputs": [
        {
          "output_type": "stream",
          "name": "stdout",
          "text": [
            "이름 : 태우\n",
            "안녕,  태우\n",
            "안녕 태우 !\n",
            "안녕   태우   !\n"
          ]
        }
      ]
    },
    {
      "cell_type": "code",
      "metadata": {
        "colab": {
          "base_uri": "https://localhost:8080/"
        },
        "id": "cKyI5PlJZLWB",
        "outputId": "c75478fd-87a6-4570-bb2e-e04de0bbafa1"
      },
      "source": [
        "print('{0}야 {1}니'.format('태우','뭐하'))"
      ],
      "execution_count": 17,
      "outputs": [
        {
          "output_type": "stream",
          "name": "stdout",
          "text": [
            "태우야 뭐하니\n"
          ]
        }
      ]
    },
    {
      "cell_type": "code",
      "metadata": {
        "colab": {
          "base_uri": "https://localhost:8080/"
        },
        "id": "boImaT14aFuJ",
        "outputId": "07365124-8784-42ce-c8bb-ad2ec2c3bc68"
      },
      "source": [
        "multiline = 'Life is too short\\nYou need python'\n",
        "print(multiline)"
      ],
      "execution_count": 21,
      "outputs": [
        {
          "output_type": "stream",
          "name": "stdout",
          "text": [
            "Life is too short\n",
            "You need python\n"
          ]
        }
      ]
    },
    {
      "cell_type": "code",
      "metadata": {
        "colab": {
          "base_uri": "https://localhost:8080/",
          "height": 35
        },
        "id": "5Rsh8dbwbnNc",
        "outputId": "42870687-1dcb-431c-beaf-becd34b2ab33"
      },
      "source": [
        "head = 'python'\n",
        "tail = 'is fun'\n",
        "head + tail"
      ],
      "execution_count": 25,
      "outputs": [
        {
          "output_type": "execute_result",
          "data": {
            "application/vnd.google.colaboratory.intrinsic+json": {
              "type": "string"
            },
            "text/plain": [
              "'pythonis fun'"
            ]
          },
          "metadata": {},
          "execution_count": 25
        }
      ]
    },
    {
      "cell_type": "code",
      "metadata": {
        "id": "JndQWUS9bx5L"
      },
      "source": [
        "a = 'Life is too short, You need Python'"
      ],
      "execution_count": 26,
      "outputs": []
    },
    {
      "cell_type": "code",
      "metadata": {
        "colab": {
          "base_uri": "https://localhost:8080/",
          "height": 35
        },
        "id": "tHdPk41_cYzC",
        "outputId": "15556678-d04a-44be-d136-5debb41bfc8f"
      },
      "source": [
        "a[0] + a[1] + a[2] + a[3]\n",
        "a[0:4]\n",
        "a[19:-7]"
      ],
      "execution_count": 33,
      "outputs": [
        {
          "output_type": "execute_result",
          "data": {
            "application/vnd.google.colaboratory.intrinsic+json": {
              "type": "string"
            },
            "text/plain": [
              "'You need'"
            ]
          },
          "metadata": {},
          "execution_count": 33
        }
      ]
    },
    {
      "cell_type": "code",
      "metadata": {
        "colab": {
          "base_uri": "https://localhost:8080/",
          "height": 35
        },
        "id": "Fztpt07IcZU2",
        "outputId": "f35fbe74-8c95-4b84-cb8c-182f583298af"
      },
      "source": [
        "number = 10\n",
        "day = 'three'\n",
        "\"i ate {0} apples so i was sick for {1}days\".format(number,day)"
      ],
      "execution_count": 34,
      "outputs": [
        {
          "output_type": "execute_result",
          "data": {
            "application/vnd.google.colaboratory.intrinsic+json": {
              "type": "string"
            },
            "text/plain": [
              "'i ate 10 apples so i was sick for threedays'"
            ]
          },
          "metadata": {},
          "execution_count": 34
        }
      ]
    },
    {
      "cell_type": "code",
      "metadata": {
        "colab": {
          "base_uri": "https://localhost:8080/"
        },
        "id": "WSBoHmkDdSKy",
        "outputId": "932bbc20-f2a8-4934-977a-f61629dbeb34"
      },
      "source": [
        "a='hobby'\n",
        "a.count('b')"
      ],
      "execution_count": 36,
      "outputs": [
        {
          "output_type": "execute_result",
          "data": {
            "text/plain": [
              "2"
            ]
          },
          "metadata": {},
          "execution_count": 36
        }
      ]
    },
    {
      "cell_type": "code",
      "metadata": {
        "colab": {
          "base_uri": "https://localhost:8080/"
        },
        "id": "2XIkEDjMd54Q",
        "outputId": "b17e4e3c-7b42-4890-c783-22101be21e2b"
      },
      "source": [
        "a='python is best choice'\n",
        "a.find('b')"
      ],
      "execution_count": 37,
      "outputs": [
        {
          "output_type": "execute_result",
          "data": {
            "text/plain": [
              "10"
            ]
          },
          "metadata": {},
          "execution_count": 37
        }
      ]
    },
    {
      "cell_type": "code",
      "metadata": {
        "colab": {
          "base_uri": "https://localhost:8080/",
          "height": 35
        },
        "id": "c-waWA2feB4p",
        "outputId": "d958f5bf-56a0-4bc0-a8f8-bcb07d4cc39f"
      },
      "source": [
        "a='d'\n",
        "a.join('abcd')"
      ],
      "execution_count": 40,
      "outputs": [
        {
          "output_type": "execute_result",
          "data": {
            "application/vnd.google.colaboratory.intrinsic+json": {
              "type": "string"
            },
            "text/plain": [
              "'adbdcdd'"
            ]
          },
          "metadata": {},
          "execution_count": 40
        }
      ]
    },
    {
      "cell_type": "code",
      "metadata": {
        "colab": {
          "base_uri": "https://localhost:8080/",
          "height": 35
        },
        "id": "tz6gGGKaeKdn",
        "outputId": "d6a64421-d3ac-465f-a527-365c3023b756"
      },
      "source": [
        "a = 'hi'\n",
        "a.upper()"
      ],
      "execution_count": 41,
      "outputs": [
        {
          "output_type": "execute_result",
          "data": {
            "application/vnd.google.colaboratory.intrinsic+json": {
              "type": "string"
            },
            "text/plain": [
              "'HI'"
            ]
          },
          "metadata": {},
          "execution_count": 41
        }
      ]
    },
    {
      "cell_type": "code",
      "metadata": {
        "colab": {
          "base_uri": "https://localhost:8080/",
          "height": 35
        },
        "id": "yWMfxJAdegHw",
        "outputId": "0778e0d9-4383-44a1-c365-541fd3815be6"
      },
      "source": [
        "y = 3.42134234\n",
        "x= 3.15233\n",
        "'{0:.4f},{1:.3f}'.format(y,x)"
      ],
      "execution_count": 48,
      "outputs": [
        {
          "output_type": "execute_result",
          "data": {
            "application/vnd.google.colaboratory.intrinsic+json": {
              "type": "string"
            },
            "text/plain": [
              "'3.4213,3.152'"
            ]
          },
          "metadata": {},
          "execution_count": 48
        }
      ]
    },
    {
      "cell_type": "code",
      "metadata": {
        "colab": {
          "base_uri": "https://localhost:8080/"
        },
        "id": "5fP_B91Keo1U",
        "outputId": "f1aba613-a8ff-4a00-a875-fa274a9d1cd0"
      },
      "source": [
        "a=[1,2,3]\n",
        "a.append(4)\n",
        "a"
      ],
      "execution_count": 50,
      "outputs": [
        {
          "output_type": "execute_result",
          "data": {
            "text/plain": [
              "[1, 2, 3, 4]"
            ]
          },
          "metadata": {},
          "execution_count": 50
        }
      ]
    },
    {
      "cell_type": "code",
      "metadata": {
        "colab": {
          "base_uri": "https://localhost:8080/"
        },
        "id": "k63D-RDsfUeq",
        "outputId": "84bcffb9-c5a0-402c-9339-68601b2a9de0"
      },
      "source": [
        "a=[1,4,3,2]\n",
        "a.sort()\n",
        "a"
      ],
      "execution_count": 52,
      "outputs": [
        {
          "output_type": "execute_result",
          "data": {
            "text/plain": [
              "[1, 2, 3, 4]"
            ]
          },
          "metadata": {},
          "execution_count": 52
        }
      ]
    },
    {
      "cell_type": "code",
      "metadata": {
        "colab": {
          "base_uri": "https://localhost:8080/"
        },
        "id": "I2jDCJH5facS",
        "outputId": "8817eefc-016e-403b-fee6-9efa32a80d1d"
      },
      "source": [
        "a=['a','c','b']\n",
        "a.reverse()\n",
        "a"
      ],
      "execution_count": 53,
      "outputs": [
        {
          "output_type": "execute_result",
          "data": {
            "text/plain": [
              "['b', 'c', 'a']"
            ]
          },
          "metadata": {},
          "execution_count": 53
        }
      ]
    },
    {
      "cell_type": "code",
      "metadata": {
        "colab": {
          "base_uri": "https://localhost:8080/"
        },
        "id": "L-CHeiJIfih5",
        "outputId": "a6c07911-600e-401a-d7cc-65cbbe6e2683"
      },
      "source": [
        "# 0위치에 5 삽입\n",
        "a=[1,2,3]\n",
        "a.insert(0,5)\n",
        "a"
      ],
      "execution_count": 55,
      "outputs": [
        {
          "output_type": "execute_result",
          "data": {
            "text/plain": [
              "[5, 1, 2, 3]"
            ]
          },
          "metadata": {},
          "execution_count": 55
        }
      ]
    },
    {
      "cell_type": "code",
      "metadata": {
        "colab": {
          "base_uri": "https://localhost:8080/"
        },
        "id": "y5kA85S7fqjc",
        "outputId": "1a12e962-0021-4014-df3d-e9bb1d3243e7"
      },
      "source": [
        "a.insert(3,199)\n",
        "a"
      ],
      "execution_count": 56,
      "outputs": [
        {
          "output_type": "execute_result",
          "data": {
            "text/plain": [
              "[5, 1, 2, 199, 3]"
            ]
          },
          "metadata": {},
          "execution_count": 56
        }
      ]
    },
    {
      "cell_type": "code",
      "metadata": {
        "colab": {
          "base_uri": "https://localhost:8080/"
        },
        "id": "aYeZhgrtfyNj",
        "outputId": "15bed271-d2c2-4a6d-980a-b952a411b466"
      },
      "source": [
        "a=[1,2,3,1]\n",
        "a.count(1)"
      ],
      "execution_count": 57,
      "outputs": [
        {
          "output_type": "execute_result",
          "data": {
            "text/plain": [
              "2"
            ]
          },
          "metadata": {},
          "execution_count": 57
        }
      ]
    },
    {
      "cell_type": "code",
      "metadata": {
        "colab": {
          "base_uri": "https://localhost:8080/"
        },
        "id": "xC4niTxXf-kf",
        "outputId": "50319678-68ef-4735-d454-2178d9808692"
      },
      "source": [
        "a={'name':'pey', 'phone':'0119993323','birth':'1118'}\n",
        "a.keys()"
      ],
      "execution_count": 58,
      "outputs": [
        {
          "output_type": "execute_result",
          "data": {
            "text/plain": [
              "dict_keys(['name', 'phone', 'birth'])"
            ]
          },
          "metadata": {},
          "execution_count": 58
        }
      ]
    },
    {
      "cell_type": "code",
      "metadata": {
        "colab": {
          "base_uri": "https://localhost:8080/"
        },
        "id": "y_Py8FTKgr0I",
        "outputId": "77bfebf7-5e94-400b-e48a-ff9a2da78243"
      },
      "source": [
        "for k in a.keys():\n",
        "  print(k)"
      ],
      "execution_count": 60,
      "outputs": [
        {
          "output_type": "stream",
          "name": "stdout",
          "text": [
            "name\n",
            "phone\n",
            "birth\n"
          ]
        }
      ]
    },
    {
      "cell_type": "code",
      "metadata": {
        "colab": {
          "base_uri": "https://localhost:8080/"
        },
        "id": "nDMJFkNvgxyT",
        "outputId": "9e71c7b6-dbd7-4358-9d82-0fd2c1dc0f3f"
      },
      "source": [
        "list(a.keys())"
      ],
      "execution_count": 62,
      "outputs": [
        {
          "output_type": "execute_result",
          "data": {
            "text/plain": [
              "['name', 'phone', 'birth']"
            ]
          },
          "metadata": {},
          "execution_count": 62
        }
      ]
    },
    {
      "cell_type": "code",
      "metadata": {
        "colab": {
          "base_uri": "https://localhost:8080/"
        },
        "id": "MUh7HgRUg2kG",
        "outputId": "6f5f7964-7ff4-449d-cfd4-d23ec084baa0"
      },
      "source": [
        "a.values()"
      ],
      "execution_count": 64,
      "outputs": [
        {
          "output_type": "execute_result",
          "data": {
            "text/plain": [
              "dict_values(['pey', '0119993323', '1118'])"
            ]
          },
          "metadata": {},
          "execution_count": 64
        }
      ]
    },
    {
      "cell_type": "code",
      "metadata": {
        "colab": {
          "base_uri": "https://localhost:8080/"
        },
        "id": "dHobnypCg8jB",
        "outputId": "c2fc9cc0-d3f8-4472-e989-ae223b673087"
      },
      "source": [
        "list(a.values())"
      ],
      "execution_count": 65,
      "outputs": [
        {
          "output_type": "execute_result",
          "data": {
            "text/plain": [
              "['pey', '0119993323', '1118']"
            ]
          },
          "metadata": {},
          "execution_count": 65
        }
      ]
    },
    {
      "cell_type": "code",
      "metadata": {
        "colab": {
          "base_uri": "https://localhost:8080/"
        },
        "id": "FVjXq3ZVhBFV",
        "outputId": "80a8e322-35ad-460f-e415-25e05cab6418"
      },
      "source": [
        "a.items()"
      ],
      "execution_count": 66,
      "outputs": [
        {
          "output_type": "execute_result",
          "data": {
            "text/plain": [
              "dict_items([('name', 'pey'), ('phone', '0119993323'), ('birth', '1118')])"
            ]
          },
          "metadata": {},
          "execution_count": 66
        }
      ]
    },
    {
      "cell_type": "code",
      "metadata": {
        "colab": {
          "base_uri": "https://localhost:8080/",
          "height": 35
        },
        "id": "Xz-U-40vhDPP",
        "outputId": "41f8df83-48f0-4349-9a8c-0ec399389fe7"
      },
      "source": [
        "list(a.items())[0][1]"
      ],
      "execution_count": 69,
      "outputs": [
        {
          "output_type": "execute_result",
          "data": {
            "application/vnd.google.colaboratory.intrinsic+json": {
              "type": "string"
            },
            "text/plain": [
              "'pey'"
            ]
          },
          "metadata": {},
          "execution_count": 69
        }
      ]
    },
    {
      "cell_type": "code",
      "metadata": {
        "id": "sniQEaQ7hFWN"
      },
      "source": [
        "pin = '881120-1068234'"
      ],
      "execution_count": 70,
      "outputs": []
    },
    {
      "cell_type": "code",
      "metadata": {
        "colab": {
          "base_uri": "https://localhost:8080/",
          "height": 35
        },
        "id": "DMbfH-5XhhZm",
        "outputId": "e81a6049-e36d-4068-c0d8-f2d5d320fef1"
      },
      "source": [
        "pin[0:6]"
      ],
      "execution_count": 72,
      "outputs": [
        {
          "output_type": "execute_result",
          "data": {
            "application/vnd.google.colaboratory.intrinsic+json": {
              "type": "string"
            },
            "text/plain": [
              "'881120'"
            ]
          },
          "metadata": {},
          "execution_count": 72
        }
      ]
    },
    {
      "cell_type": "code",
      "metadata": {
        "colab": {
          "base_uri": "https://localhost:8080/",
          "height": 35
        },
        "id": "_8_3fAqEhlTr",
        "outputId": "3e0c11b4-c8c1-4293-a19c-3bf4719258ff"
      },
      "source": [
        "pin[7:]"
      ],
      "execution_count": 76,
      "outputs": [
        {
          "output_type": "execute_result",
          "data": {
            "application/vnd.google.colaboratory.intrinsic+json": {
              "type": "string"
            },
            "text/plain": [
              "'1068234'"
            ]
          },
          "metadata": {},
          "execution_count": 76
        }
      ]
    },
    {
      "cell_type": "code",
      "metadata": {
        "colab": {
          "base_uri": "https://localhost:8080/"
        },
        "id": "7UUJFBukhrOX",
        "outputId": "4b173177-3e53-4ccc-d97d-e65a67805298"
      },
      "source": [
        "a=[1,3,5,4,2]\n",
        "a.sort(reverse=True)\n",
        "a"
      ],
      "execution_count": 79,
      "outputs": [
        {
          "output_type": "execute_result",
          "data": {
            "text/plain": [
              "[5, 4, 3, 2, 1]"
            ]
          },
          "metadata": {},
          "execution_count": 79
        }
      ]
    },
    {
      "cell_type": "code",
      "metadata": {
        "colab": {
          "base_uri": "https://localhost:8080/",
          "height": 35
        },
        "id": "xSp4CXh3h4p9",
        "outputId": "71076b50-abe0-4fec-fc84-46ca6ad3ffa2"
      },
      "source": [
        "\n",
        "a=['life','is','too','short']\n",
        "' '.join(a)\n"
      ],
      "execution_count": 84,
      "outputs": [
        {
          "output_type": "execute_result",
          "data": {
            "application/vnd.google.colaboratory.intrinsic+json": {
              "type": "string"
            },
            "text/plain": [
              "'life is too short'"
            ]
          },
          "metadata": {},
          "execution_count": 84
        }
      ]
    },
    {
      "cell_type": "code",
      "metadata": {
        "colab": {
          "base_uri": "https://localhost:8080/"
        },
        "id": "7Yv8av7oiCuN",
        "outputId": "ee7c6504-d412-4132-a58f-e696db8090c4"
      },
      "source": [
        "print(a,sep='')"
      ],
      "execution_count": 88,
      "outputs": [
        {
          "output_type": "stream",
          "name": "stdout",
          "text": [
            "['life', 'is', 'too', 'short']\n"
          ]
        }
      ]
    },
    {
      "cell_type": "code",
      "metadata": {
        "colab": {
          "base_uri": "https://localhost:8080/"
        },
        "id": "IUU1wdkaiizt",
        "outputId": "45e303c6-72d7-4bba-8fa6-6ee5b309a8b1"
      },
      "source": [
        "treehit = 0\n",
        "while treehit<10:\n",
        "  treehit += 1\n",
        "  print('나무를 {0}번 찍었습니다'.format(treehit))\n",
        "  if treehit==10:\n",
        "    print('나무 넘어갑니다')"
      ],
      "execution_count": 93,
      "outputs": [
        {
          "output_type": "stream",
          "name": "stdout",
          "text": [
            "나무를 1번 찍었습니다\n",
            "나무를 2번 찍었습니다\n",
            "나무를 3번 찍었습니다\n",
            "나무를 4번 찍었습니다\n",
            "나무를 5번 찍었습니다\n",
            "나무를 6번 찍었습니다\n",
            "나무를 7번 찍었습니다\n",
            "나무를 8번 찍었습니다\n",
            "나무를 9번 찍었습니다\n",
            "나무를 10번 찍었습니다\n",
            "나무 넘어갑니다\n"
          ]
        }
      ]
    },
    {
      "cell_type": "code",
      "metadata": {
        "colab": {
          "base_uri": "https://localhost:8080/"
        },
        "id": "fP6LIny4jPZR",
        "outputId": "6c4555b6-3679-45f8-c5ee-80d759f951dd"
      },
      "source": [
        "coffee = 10\n",
        "money = 300\n",
        "while money:\n",
        "  print('돈을 받았으니 커피를 줍니다')\n",
        "  coffee -= 1\n",
        "  print('커피 남은 개수는 {0}개 입니다'.format(coffee))\n",
        "  if coffee == 0:\n",
        "    break"
      ],
      "execution_count": 95,
      "outputs": [
        {
          "output_type": "stream",
          "name": "stdout",
          "text": [
            "돈을 받았으니 커피를 줍니다\n",
            "커피 남은 개수는 9개 입니다\n",
            "돈을 받았으니 커피를 줍니다\n",
            "커피 남은 개수는 8개 입니다\n",
            "돈을 받았으니 커피를 줍니다\n",
            "커피 남은 개수는 7개 입니다\n",
            "돈을 받았으니 커피를 줍니다\n",
            "커피 남은 개수는 6개 입니다\n",
            "돈을 받았으니 커피를 줍니다\n",
            "커피 남은 개수는 5개 입니다\n",
            "돈을 받았으니 커피를 줍니다\n",
            "커피 남은 개수는 4개 입니다\n",
            "돈을 받았으니 커피를 줍니다\n",
            "커피 남은 개수는 3개 입니다\n",
            "돈을 받았으니 커피를 줍니다\n",
            "커피 남은 개수는 2개 입니다\n",
            "돈을 받았으니 커피를 줍니다\n",
            "커피 남은 개수는 1개 입니다\n",
            "돈을 받았으니 커피를 줍니다\n",
            "커피 남은 개수는 0개 입니다\n"
          ]
        }
      ]
    },
    {
      "cell_type": "code",
      "metadata": {
        "colab": {
          "base_uri": "https://localhost:8080/"
        },
        "id": "Da7Re5Xtj1_R",
        "outputId": "b6acfb73-a7f6-453b-b2e9-87ae10e3812b"
      },
      "source": [
        "# coffee.py\n",
        "coffee = 10\n",
        "while True :\n",
        "  money = int(input('돈을 넣어주세요'))\n",
        "  if money == 300 :\n",
        "    print('커피를 줍니다')\n",
        "    coffee -= 1\n",
        "  elif money > 300:\n",
        "    print('거스름돈{0}을 주고 커피를 줍니다'.format(money-300))\n",
        "    coffee -= 1\n",
        "  else :\n",
        "    print('돈을 다시 돌려주고 커피는 주지않음')\n",
        "  if coffee == 0:\n",
        "    print('커피가 더 떨어졌습니다')\n",
        "    break"
      ],
      "execution_count": 100,
      "outputs": [
        {
          "output_type": "stream",
          "name": "stdout",
          "text": [
            "돈을 넣어주세요500\n",
            "거스름돈200을 주고 커피를 줍니다\n",
            "돈을 넣어주세요3000\n",
            "거스름돈2700을 주고 커피를 줍니다\n",
            "돈을 넣어주세요1\n",
            "돈을 다시 돌려주고 커피는 주지않음\n",
            "돈을 넣어주세요300\n",
            "커피를 줍니다\n",
            "돈을 넣어주세요300\n",
            "커피를 줍니다\n",
            "돈을 넣어주세요300\n",
            "커피를 줍니다\n",
            "돈을 넣어주세요300\n",
            "커피를 줍니다\n",
            "돈을 넣어주세요300\n",
            "커피를 줍니다\n",
            "돈을 넣어주세요300\n",
            "커피를 줍니다\n",
            "돈을 넣어주세요300\n",
            "커피를 줍니다\n",
            "돈을 넣어주세요300\n",
            "커피를 줍니다\n",
            "커피가 더 떨어졌습니다\n"
          ]
        }
      ]
    },
    {
      "cell_type": "code",
      "metadata": {
        "colab": {
          "base_uri": "https://localhost:8080/"
        },
        "id": "RQruUYxxkyZf",
        "outputId": "ec25d300-d4cf-42d3-8ab9-fa6077e15aa3"
      },
      "source": [
        "a= 100\n",
        "if 90 >= a and a <= 100:\n",
        "  print('A')\n",
        "elif 80 >= a and a < 90 :\n",
        "  print('B')\n",
        "elif a >= 70 and a <80 :\n",
        "  print('C')\n",
        "elif a >=60 and a <70 :\n",
        "  print('D')\n",
        "else :\n",
        "  print('F')"
      ],
      "execution_count": 102,
      "outputs": [
        {
          "output_type": "stream",
          "name": "stdout",
          "text": [
            "F\n"
          ]
        }
      ]
    },
    {
      "cell_type": "code",
      "metadata": {
        "colab": {
          "base_uri": "https://localhost:8080/",
          "height": 245
        },
        "id": "ASyacnV9m5un",
        "outputId": "a354b333-64d7-47ec-b8c4-ce39e0f44010"
      },
      "source": [
        "import sys  # sys모듈 읽어들이기\n",
        "\n",
        "t = int(sys.stdin.readline())\n",
        "\n",
        "for _ in range(t):\n",
        "    a,b = map(int, sys.stdin.readline().split())\n",
        "    print(a+b)"
      ],
      "execution_count": 182,
      "outputs": [
        {
          "output_type": "error",
          "ename": "ValueError",
          "evalue": "ignored",
          "traceback": [
            "\u001b[0;31m---------------------------------------------------------------------------\u001b[0m",
            "\u001b[0;31mValueError\u001b[0m                                Traceback (most recent call last)",
            "\u001b[0;32m<ipython-input-182-689be227caec>\u001b[0m in \u001b[0;36m<module>\u001b[0;34m()\u001b[0m\n\u001b[1;32m      1\u001b[0m \u001b[0;32mimport\u001b[0m \u001b[0msys\u001b[0m  \u001b[0;31m# sys모듈 읽어들이기\u001b[0m\u001b[0;34m\u001b[0m\u001b[0;34m\u001b[0m\u001b[0m\n\u001b[1;32m      2\u001b[0m \u001b[0;34m\u001b[0m\u001b[0m\n\u001b[0;32m----> 3\u001b[0;31m \u001b[0mt\u001b[0m \u001b[0;34m=\u001b[0m \u001b[0mint\u001b[0m\u001b[0;34m(\u001b[0m\u001b[0msys\u001b[0m\u001b[0;34m.\u001b[0m\u001b[0mstdin\u001b[0m\u001b[0;34m.\u001b[0m\u001b[0mreadline\u001b[0m\u001b[0;34m(\u001b[0m\u001b[0;34m)\u001b[0m\u001b[0;34m)\u001b[0m\u001b[0;34m\u001b[0m\u001b[0;34m\u001b[0m\u001b[0m\n\u001b[0m\u001b[1;32m      4\u001b[0m \u001b[0;34m\u001b[0m\u001b[0m\n\u001b[1;32m      5\u001b[0m \u001b[0;32mfor\u001b[0m \u001b[0m_\u001b[0m \u001b[0;32min\u001b[0m \u001b[0mrange\u001b[0m\u001b[0;34m(\u001b[0m\u001b[0mt\u001b[0m\u001b[0;34m)\u001b[0m\u001b[0;34m:\u001b[0m\u001b[0;34m\u001b[0m\u001b[0;34m\u001b[0m\u001b[0m\n",
            "\u001b[0;31mValueError\u001b[0m: invalid literal for int() with base 10: ''"
          ]
        }
      ]
    },
    {
      "cell_type": "code",
      "metadata": {
        "colab": {
          "base_uri": "https://localhost:8080/",
          "height": 173
        },
        "id": "zyjzgZk5pFGa",
        "outputId": "f71b0b0d-d1a0-4724-b955-d765219ed9b3"
      },
      "source": [
        "t = int(sys.stdin.readline())"
      ],
      "execution_count": 104,
      "outputs": [
        {
          "output_type": "error",
          "ename": "ValueError",
          "evalue": "ignored",
          "traceback": [
            "\u001b[0;31m---------------------------------------------------------------------------\u001b[0m",
            "\u001b[0;31mValueError\u001b[0m                                Traceback (most recent call last)",
            "\u001b[0;32m<ipython-input-104-5208535455b8>\u001b[0m in \u001b[0;36m<module>\u001b[0;34m()\u001b[0m\n\u001b[0;32m----> 1\u001b[0;31m \u001b[0mt\u001b[0m \u001b[0;34m=\u001b[0m \u001b[0mint\u001b[0m\u001b[0;34m(\u001b[0m\u001b[0msys\u001b[0m\u001b[0;34m.\u001b[0m\u001b[0mstdin\u001b[0m\u001b[0;34m.\u001b[0m\u001b[0mreadline\u001b[0m\u001b[0;34m(\u001b[0m\u001b[0;34m)\u001b[0m\u001b[0;34m)\u001b[0m\u001b[0;34m\u001b[0m\u001b[0;34m\u001b[0m\u001b[0m\n\u001b[0m",
            "\u001b[0;31mValueError\u001b[0m: invalid literal for int() with base 10: ''"
          ]
        }
      ]
    }
  ]
}