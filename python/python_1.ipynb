{
  "nbformat": 4,
  "nbformat_minor": 0,
  "metadata": {
    "colab": {
      "name": "python_1.ipynb",
      "provenance": [],
      "authorship_tag": "ABX9TyNDoesomp7vLRek21yOafzF",
      "include_colab_link": true
    },
    "kernelspec": {
      "name": "python3",
      "display_name": "Python 3"
    },
    "language_info": {
      "name": "python"
    }
  },
  "cells": [
    {
      "cell_type": "markdown",
      "metadata": {
        "id": "view-in-github",
        "colab_type": "text"
      },
      "source": [
        "<a href=\"https://colab.research.google.com/github/InTaewoo/study/blob/main/python_1.ipynb\" target=\"_parent\"><img src=\"https://colab.research.google.com/assets/colab-badge.svg\" alt=\"Open In Colab\"/></a>"
      ]
    },
    {
      "cell_type": "code",
      "metadata": {
        "colab": {
          "base_uri": "https://localhost:8080/"
        },
        "id": "fMpn9PomfQ25",
        "outputId": "775a4296-03ba-45b2-8bc7-5d5e4afb459c"
      },
      "source": [
        "x=10\n",
        "while x >5:\n",
        "  print(x)\n",
        "  x=x-1"
      ],
      "execution_count": 1,
      "outputs": [
        {
          "output_type": "stream",
          "text": [
            "10\n",
            "9\n",
            "8\n",
            "7\n",
            "6\n"
          ],
          "name": "stdout"
        }
      ]
    },
    {
      "cell_type": "code",
      "metadata": {
        "colab": {
          "base_uri": "https://localhost:8080/"
        },
        "id": "BoHu9UlugOpk",
        "outputId": "19379720-f4bb-4ed0-b4ad-7eba08033f25"
      },
      "source": [
        "sval='123'\n",
        "type(sval)"
      ],
      "execution_count": 2,
      "outputs": [
        {
          "output_type": "execute_result",
          "data": {
            "text/plain": [
              "str"
            ]
          },
          "metadata": {
            "tags": []
          },
          "execution_count": 2
        }
      ]
    },
    {
      "cell_type": "code",
      "metadata": {
        "id": "bzA5APgdu3w0"
      },
      "source": [
        "ival=int(sval)"
      ],
      "execution_count": 3,
      "outputs": []
    },
    {
      "cell_type": "code",
      "metadata": {
        "colab": {
          "base_uri": "https://localhost:8080/"
        },
        "id": "2qPc9SNBu9zl",
        "outputId": "a62d2316-899b-4169-d409-ea943ea15a38"
      },
      "source": [
        "type(ival)"
      ],
      "execution_count": 4,
      "outputs": [
        {
          "output_type": "execute_result",
          "data": {
            "text/plain": [
              "int"
            ]
          },
          "metadata": {
            "tags": []
          },
          "execution_count": 4
        }
      ]
    },
    {
      "cell_type": "code",
      "metadata": {
        "colab": {
          "base_uri": "https://localhost:8080/"
        },
        "id": "Qb5fv_tzu_lD",
        "outputId": "a492a30d-0738-4259-b5c7-b86034fa17c0"
      },
      "source": [
        "print(ival+10)"
      ],
      "execution_count": 5,
      "outputs": [
        {
          "output_type": "stream",
          "text": [
            "133\n"
          ],
          "name": "stdout"
        }
      ]
    },
    {
      "cell_type": "code",
      "metadata": {
        "colab": {
          "base_uri": "https://localhost:8080/"
        },
        "id": "9Sdk1SNLvDdz",
        "outputId": "df54e123-ad1d-483a-fcdd-73318019288b"
      },
      "source": [
        "nam=input('Who are you')\n",
        "print('welcome',nam)"
      ],
      "execution_count": 6,
      "outputs": [
        {
          "output_type": "stream",
          "text": [
            "Who are youHi\n",
            "welcome Hi\n"
          ],
          "name": "stdout"
        }
      ]
    },
    {
      "cell_type": "code",
      "metadata": {
        "colab": {
          "base_uri": "https://localhost:8080/"
        },
        "id": "sWVaMm0wvTmb",
        "outputId": "17144756-a548-453c-902a-d5f64fe4c7a2"
      },
      "source": [
        "inp=input('Europ floor?')\n",
        "usf=int(inp)+1\n",
        "print('Us floor',usf)"
      ],
      "execution_count": 7,
      "outputs": [
        {
          "output_type": "stream",
          "text": [
            "Europ floor?0\n",
            "Us floor 1\n"
          ],
          "name": "stdout"
        }
      ]
    },
    {
      "cell_type": "code",
      "metadata": {
        "colab": {
          "base_uri": "https://localhost:8080/"
        },
        "id": "HkHShN-FwG7t",
        "outputId": "72309fad-aa5c-4bfd-b25b-143eb83c1d7e"
      },
      "source": [
        "x=5\n",
        "if x <10:\n",
        "  print('smaller')\n",
        "if x > 20:\n",
        "  print('Bigger')\n",
        "print('Finis')"
      ],
      "execution_count": 8,
      "outputs": [
        {
          "output_type": "stream",
          "text": [
            "smaller\n",
            "Finis\n"
          ],
          "name": "stdout"
        }
      ]
    },
    {
      "cell_type": "code",
      "metadata": {
        "id": "Em2q5LHXxaXO"
      },
      "source": [
        ""
      ],
      "execution_count": null,
      "outputs": []
    }
  ]
}
