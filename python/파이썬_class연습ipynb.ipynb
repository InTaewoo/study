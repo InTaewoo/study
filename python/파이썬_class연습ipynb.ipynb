{
  "nbformat": 4,
  "nbformat_minor": 0,
  "metadata": {
    "colab": {
      "name": "파이썬 class연습ipynb",
      "provenance": [],
      "authorship_tag": "ABX9TyMef3Od1JcCydO3aHnALuMS",
      "include_colab_link": true
    },
    "kernelspec": {
      "name": "python3",
      "display_name": "Python 3"
    },
    "language_info": {
      "name": "python"
    }
  },
  "cells": [
    {
      "cell_type": "markdown",
      "metadata": {
        "id": "view-in-github",
        "colab_type": "text"
      },
      "source": [
        "<a href=\"https://colab.research.google.com/github/InTaewoo/study/blob/main/python/%ED%8C%8C%EC%9D%B4%EC%8D%AC_class%EC%97%B0%EC%8A%B5ipynb.ipynb\" target=\"_parent\"><img src=\"https://colab.research.google.com/assets/colab-badge.svg\" alt=\"Open In Colab\"/></a>"
      ]
    },
    {
      "cell_type": "code",
      "metadata": {
        "colab": {
          "base_uri": "https://localhost:8080/"
        },
        "id": "tdvIu5_7235p",
        "outputId": "a312ad99-aae4-48f7-c2ca-11ffdb597bcd"
      },
      "source": [
        "[x**2 for x in range(10)]"
      ],
      "execution_count": null,
      "outputs": [
        {
          "output_type": "execute_result",
          "data": {
            "text/plain": [
              "[0, 1, 4, 9, 16, 25, 36, 49, 64, 81]"
            ]
          },
          "metadata": {},
          "execution_count": 1
        }
      ]
    },
    {
      "cell_type": "code",
      "metadata": {
        "colab": {
          "base_uri": "https://localhost:8080/"
        },
        "id": "EnOTY1Vd3_LC",
        "outputId": "c51a91d0-e9e0-4cc6-9461-4598744e2e43"
      },
      "source": [
        "who = ['소방서','경찰서']\n",
        "number = [119,112]\n",
        "for w,n in zip(who,number) :\n",
        "  print(f'{w}는 {n} 입니다')"
      ],
      "execution_count": null,
      "outputs": [
        {
          "output_type": "stream",
          "name": "stdout",
          "text": [
            "소방서는 119 입니다\n",
            "경찰서는 112 입니다\n"
          ]
        }
      ]
    },
    {
      "cell_type": "code",
      "metadata": {
        "colab": {
          "base_uri": "https://localhost:8080/"
        },
        "id": "JPBaiRc54b_g",
        "outputId": "1dc44c5c-5be2-405b-ad48-c7a77193831a"
      },
      "source": [
        "for i,w in enumerate(who) :\n",
        "  print(f'{i}번째 주소는 {w} 입니다')"
      ],
      "execution_count": null,
      "outputs": [
        {
          "output_type": "stream",
          "name": "stdout",
          "text": [
            "0번째 주소는 소방서 입니다\n",
            "1번째 주소는 경찰서 입니다\n"
          ]
        }
      ]
    },
    {
      "cell_type": "code",
      "metadata": {
        "colab": {
          "base_uri": "https://localhost:8080/"
        },
        "id": "2gK-goiS5GVT",
        "outputId": "c5252e64-45cc-4555-ba53-5a4355001df0"
      },
      "source": [
        "sum = 0\n",
        "for i in range(1,11):\n",
        "  sum += 1**2\n",
        "\n",
        "print(sum)"
      ],
      "execution_count": null,
      "outputs": [
        {
          "output_type": "stream",
          "name": "stdout",
          "text": [
            "10\n"
          ]
        }
      ]
    },
    {
      "cell_type": "code",
      "metadata": {
        "colab": {
          "base_uri": "https://localhost:8080/"
        },
        "id": "H3734c4z5ZYM",
        "outputId": "d4905aea-eacd-44fe-92c3-a5866dcd6644"
      },
      "source": [
        "import numpy as np\n",
        "\n",
        "# 4x3 matrix\n",
        "np.arange(12).reshape(3,4)\n",
        "\n",
        "a = np.arange(12)\n",
        "a.shape = (4,3)\n",
        "a"
      ],
      "execution_count": null,
      "outputs": [
        {
          "output_type": "execute_result",
          "data": {
            "text/plain": [
              "array([[ 0,  1,  2],\n",
              "       [ 3,  4,  5],\n",
              "       [ 6,  7,  8],\n",
              "       [ 9, 10, 11]])"
            ]
          },
          "metadata": {},
          "execution_count": 10
        }
      ]
    },
    {
      "cell_type": "code",
      "metadata": {
        "colab": {
          "base_uri": "https://localhost:8080/"
        },
        "id": "JCCM2A7I68FA",
        "outputId": "2b7320c6-2514-4f7a-aed1-95363b31f2ba"
      },
      "source": [
        "temp = []\n",
        "a_lst = []\n",
        "for i in range(12):\n",
        "  temp.append(i)\n",
        "  if i % 3 == 2:\n",
        "    a_lst.append(temp)\n",
        "    temp = []\n",
        "print(a_lst)"
      ],
      "execution_count": null,
      "outputs": [
        {
          "output_type": "stream",
          "name": "stdout",
          "text": [
            "[[0, 1, 2], [3, 4, 5], [6, 7, 8], [9, 10, 11]]\n"
          ]
        }
      ]
    },
    {
      "cell_type": "code",
      "metadata": {
        "colab": {
          "base_uri": "https://localhost:8080/"
        },
        "id": "w_1Ox5RB7biB",
        "outputId": "b7e41e7a-8317-45b1-c61b-7c892c27cb18"
      },
      "source": [
        "a = np.array(a_lst)\n",
        "a.shape"
      ],
      "execution_count": null,
      "outputs": [
        {
          "output_type": "execute_result",
          "data": {
            "text/plain": [
              "(4, 3)"
            ]
          },
          "metadata": {},
          "execution_count": 15
        }
      ]
    },
    {
      "cell_type": "code",
      "metadata": {
        "colab": {
          "base_uri": "https://localhost:8080/"
        },
        "id": "W2K_cB4C7vAv",
        "outputId": "f7e6b81d-682d-4b83-a824-077dcc5188dc"
      },
      "source": [
        "import random\n",
        "\n",
        "np.random.rand(10)\n",
        "np.random.rand(4,3)\n",
        "np.random.randn(4)\n"
      ],
      "execution_count": null,
      "outputs": [
        {
          "output_type": "execute_result",
          "data": {
            "text/plain": [
              "array([-1.03437201,  0.20018784,  0.52018992, -0.18804542])"
            ]
          },
          "metadata": {},
          "execution_count": 22
        }
      ]
    },
    {
      "cell_type": "code",
      "metadata": {
        "colab": {
          "base_uri": "https://localhost:8080/",
          "height": 35
        },
        "id": "Ca3G6zp576Z_",
        "outputId": "cca9b5ea-140b-405a-a6de-753fae0da613"
      },
      "source": [
        "# OTP 개발\n",
        "''.join(np.random.choice(list('0123456789'),6))"
      ],
      "execution_count": null,
      "outputs": [
        {
          "output_type": "execute_result",
          "data": {
            "application/vnd.google.colaboratory.intrinsic+json": {
              "type": "string"
            },
            "text/plain": [
              "'109896'"
            ]
          },
          "metadata": {},
          "execution_count": 25
        }
      ]
    },
    {
      "cell_type": "code",
      "metadata": {
        "colab": {
          "base_uri": "https://localhost:8080/",
          "height": 35
        },
        "id": "w4UKZBiD8r20",
        "outputId": "4102984a-30f8-46c2-dc39-9755c9baec24"
      },
      "source": [
        "''.join(np.random.choice(list('abcdefghijklmnopqrstuvwxyz0123456789'),6)).upper()"
      ],
      "execution_count": null,
      "outputs": [
        {
          "output_type": "execute_result",
          "data": {
            "application/vnd.google.colaboratory.intrinsic+json": {
              "type": "string"
            },
            "text/plain": [
              "'SJFSC9'"
            ]
          },
          "metadata": {},
          "execution_count": 36
        }
      ]
    },
    {
      "cell_type": "code",
      "metadata": {
        "colab": {
          "base_uri": "https://localhost:8080/"
        },
        "id": "q0-Mhaee9EH3",
        "outputId": "2f214624-c584-49b7-82f9-579e22347a8e"
      },
      "source": [
        "a = np.arange(12).reshape(4,3)\n",
        "b = np.array(range(12,0,-1)).reshape(4,3)\n",
        "a-b"
      ],
      "execution_count": null,
      "outputs": [
        {
          "output_type": "execute_result",
          "data": {
            "text/plain": [
              "array([[-12, -10,  -8],\n",
              "       [ -6,  -4,  -2],\n",
              "       [  0,   2,   4],\n",
              "       [  6,   8,  10]])"
            ]
          },
          "metadata": {},
          "execution_count": 44
        }
      ]
    },
    {
      "cell_type": "code",
      "metadata": {
        "colab": {
          "base_uri": "https://localhost:8080/"
        },
        "id": "cFe_1aME90gs",
        "outputId": "efe6e007-af52-4d6c-b16c-6a0642961b03"
      },
      "source": [
        "result = 0\n",
        "def adder(num):\n",
        "  global result\n",
        "  result += num\n",
        "  return result\n",
        "\n",
        "print(adder(10))\n",
        "print(adder(11))"
      ],
      "execution_count": null,
      "outputs": [
        {
          "output_type": "stream",
          "name": "stdout",
          "text": [
            "10\n",
            "21\n"
          ]
        }
      ]
    },
    {
      "cell_type": "code",
      "metadata": {
        "colab": {
          "base_uri": "https://localhost:8080/"
        },
        "id": "ZDC2Jm1EDsrl",
        "outputId": "a3f9ce2a-a939-4acf-db9b-cb4d1a33a329"
      },
      "source": [
        "class Calculator:\n",
        "  def __init__(self):\n",
        "    self.result = 0\n",
        "\n",
        "  def adder(self,num):\n",
        "    self.result += num\n",
        "    return self.result\n",
        "\n",
        "cal1 = Calculator()\n",
        "cal2 = Calculator()\n",
        "print(cal1.adder(3))\n",
        "print(cal1.adder(4))\n",
        "print(cal2.adder(3))\n",
        "print(cal2.adder(7))\n"
      ],
      "execution_count": null,
      "outputs": [
        {
          "output_type": "stream",
          "name": "stdout",
          "text": [
            "3\n",
            "7\n",
            "3\n",
            "10\n"
          ]
        }
      ]
    },
    {
      "cell_type": "code",
      "metadata": {
        "colab": {
          "base_uri": "https://localhost:8080/"
        },
        "id": "V5MV0anNEW4f",
        "outputId": "a069ee7b-6ddb-43a7-8eda-b6afc8e3598d"
      },
      "source": [
        "class Service :\n",
        "  secret = '영구는 배꼽이 두개다'\n",
        "  def sum(self,a,b):\n",
        "    result = a+b\n",
        "    print(f'{a}+{b}={result}입니다')\n",
        "\n",
        "pey = Service()\n",
        "pey.sum(142,1)"
      ],
      "execution_count": null,
      "outputs": [
        {
          "output_type": "stream",
          "name": "stdout",
          "text": [
            "142+1=143입니다\n"
          ]
        }
      ]
    },
    {
      "cell_type": "code",
      "metadata": {
        "id": "agyjIBCgI9GG"
      },
      "source": [
        "class Service:\n",
        "  secrete = '영구는 배꼽이 두개'\n",
        "\n",
        "  def set_name(self,name):\n",
        "    self.name = name\n",
        "\n",
        "  def sum(self,a,b):\n",
        "    result = a+b\n",
        "    print(f'{self.name}님 {a}+{b}={result}입니다')\n",
        "\n",
        " \n",
        "\n"
      ],
      "execution_count": null,
      "outputs": []
    },
    {
      "cell_type": "code",
      "metadata": {
        "id": "ob0sVNr9J5Af"
      },
      "source": [
        "a = Service()\n",
        "a.set_name('홍길동')\n"
      ],
      "execution_count": null,
      "outputs": []
    },
    {
      "cell_type": "code",
      "metadata": {
        "colab": {
          "base_uri": "https://localhost:8080/"
        },
        "id": "evA71tHLKAjP",
        "outputId": "cd5fb0ff-bab6-4d5d-ed98-a3fb30705e35"
      },
      "source": [
        "a.sum(1,1)"
      ],
      "execution_count": null,
      "outputs": [
        {
          "output_type": "stream",
          "name": "stdout",
          "text": [
            "홍길동님 1+1=2입니다\n"
          ]
        }
      ]
    },
    {
      "cell_type": "code",
      "metadata": {
        "id": "x6TT-Tn0LNfc"
      },
      "source": [
        ""
      ],
      "execution_count": null,
      "outputs": []
    }
  ]
}